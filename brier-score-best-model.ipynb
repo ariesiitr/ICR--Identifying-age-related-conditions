{
 "cells": [
  {
   "cell_type": "code",
   "execution_count": 1,
   "id": "818bcde0",
   "metadata": {
    "_cell_guid": "b1076dfc-b9ad-4769-8c92-a6c4dae69d19",
    "_uuid": "8f2839f25d086af736a60e9eeb907d3b93b6e0e5",
    "execution": {
     "iopub.execute_input": "2023-07-13T13:45:24.395364Z",
     "iopub.status.busy": "2023-07-13T13:45:24.394391Z",
     "iopub.status.idle": "2023-07-13T13:45:24.409139Z",
     "shell.execute_reply": "2023-07-13T13:45:24.407944Z"
    },
    "papermill": {
     "duration": 0.027839,
     "end_time": "2023-07-13T13:45:24.411726",
     "exception": false,
     "start_time": "2023-07-13T13:45:24.383887",
     "status": "completed"
    },
    "tags": []
   },
   "outputs": [],
   "source": [
    "import pandas as pd\n",
    "import numpy as np"
   ]
  },
  {
   "cell_type": "code",
   "execution_count": 2,
   "id": "83cc0b89",
   "metadata": {
    "execution": {
     "iopub.execute_input": "2023-07-13T13:45:24.430088Z",
     "iopub.status.busy": "2023-07-13T13:45:24.429670Z",
     "iopub.status.idle": "2023-07-13T13:45:24.487392Z",
     "shell.execute_reply": "2023-07-13T13:45:24.486401Z"
    },
    "papermill": {
     "duration": 0.070005,
     "end_time": "2023-07-13T13:45:24.490087",
     "exception": false,
     "start_time": "2023-07-13T13:45:24.420082",
     "status": "completed"
    },
    "tags": []
   },
   "outputs": [],
   "source": [
    "data=pd.read_csv(\"/kaggle/input/icr-identify-age-related-conditions/train.csv\")\n",
    "val=pd.read_csv(\"/kaggle/input/icr-identify-age-related-conditions/test.csv\")\n",
    "sub=pd.read_csv(\"/kaggle/input/icr-identify-age-related-conditions/sample_submission.csv\")"
   ]
  },
  {
   "cell_type": "code",
   "execution_count": 3,
   "id": "65e861bc",
   "metadata": {
    "execution": {
     "iopub.execute_input": "2023-07-13T13:45:24.509047Z",
     "iopub.status.busy": "2023-07-13T13:45:24.508307Z",
     "iopub.status.idle": "2023-07-13T13:45:24.550118Z",
     "shell.execute_reply": "2023-07-13T13:45:24.548786Z"
    },
    "papermill": {
     "duration": 0.054671,
     "end_time": "2023-07-13T13:45:24.553256",
     "exception": false,
     "start_time": "2023-07-13T13:45:24.498585",
     "status": "completed"
    },
    "tags": []
   },
   "outputs": [
    {
     "name": "stderr",
     "output_type": "stream",
     "text": [
      "/tmp/ipykernel_20/495656529.py:1: FutureWarning: The default value of numeric_only in DataFrame.median is deprecated. In a future version, it will default to False. In addition, specifying 'numeric_only=None' is deprecated. Select only valid columns or specify the value of numeric_only to silence this warning.\n",
      "  data=data.fillna(data.median())\n"
     ]
    }
   ],
   "source": [
    "data=data.fillna(data.median())"
   ]
  },
  {
   "cell_type": "code",
   "execution_count": 4,
   "id": "82949a9e",
   "metadata": {
    "_kg_hide-output": true,
    "execution": {
     "iopub.execute_input": "2023-07-13T13:45:24.571502Z",
     "iopub.status.busy": "2023-07-13T13:45:24.571085Z",
     "iopub.status.idle": "2023-07-13T13:45:25.880497Z",
     "shell.execute_reply": "2023-07-13T13:45:25.879088Z"
    },
    "papermill": {
     "duration": 1.321937,
     "end_time": "2023-07-13T13:45:25.883495",
     "exception": false,
     "start_time": "2023-07-13T13:45:24.561558",
     "status": "completed"
    },
    "tags": []
   },
   "outputs": [
    {
     "name": "stderr",
     "output_type": "stream",
     "text": [
      "/opt/conda/lib/python3.10/site-packages/scipy/__init__.py:146: UserWarning: A NumPy version >=1.16.5 and <1.23.0 is required for this version of SciPy (detected version 1.23.5\n",
      "  warnings.warn(f\"A NumPy version >={np_minversion} and <{np_maxversion}\"\n"
     ]
    }
   ],
   "source": [
    "from sklearn.preprocessing import LabelEncoder\n",
    "\n",
    "data['EJ'] = LabelEncoder().fit_transform(data['EJ'])\n",
    "data=data.drop(['Id'], axis=1)\n"
   ]
  },
  {
   "cell_type": "code",
   "execution_count": 5,
   "id": "aea3fda4",
   "metadata": {
    "execution": {
     "iopub.execute_input": "2023-07-13T13:45:25.904191Z",
     "iopub.status.busy": "2023-07-13T13:45:25.903072Z",
     "iopub.status.idle": "2023-07-13T13:45:25.912252Z",
     "shell.execute_reply": "2023-07-13T13:45:25.911005Z"
    },
    "papermill": {
     "duration": 0.02316,
     "end_time": "2023-07-13T13:45:25.914977",
     "exception": false,
     "start_time": "2023-07-13T13:45:25.891817",
     "status": "completed"
    },
    "tags": []
   },
   "outputs": [],
   "source": [
    "val['EJ'] = LabelEncoder().fit_transform(val['EJ'])\n",
    "val=val.drop(['Id'], axis=1)"
   ]
  },
  {
   "cell_type": "code",
   "execution_count": 6,
   "id": "b144e1db",
   "metadata": {
    "execution": {
     "iopub.execute_input": "2023-07-13T13:45:25.933403Z",
     "iopub.status.busy": "2023-07-13T13:45:25.933011Z",
     "iopub.status.idle": "2023-07-13T13:45:25.940911Z",
     "shell.execute_reply": "2023-07-13T13:45:25.940036Z"
    },
    "papermill": {
     "duration": 0.020129,
     "end_time": "2023-07-13T13:45:25.943352",
     "exception": false,
     "start_time": "2023-07-13T13:45:25.923223",
     "status": "completed"
    },
    "tags": []
   },
   "outputs": [],
   "source": [
    "x=data.drop([\"Class\"], axis=1)\n",
    "y=data[\"Class\"]"
   ]
  },
  {
   "cell_type": "code",
   "execution_count": 7,
   "id": "2b6b7864",
   "metadata": {
    "execution": {
     "iopub.execute_input": "2023-07-13T13:45:25.962403Z",
     "iopub.status.busy": "2023-07-13T13:45:25.961687Z",
     "iopub.status.idle": "2023-07-13T13:45:26.086152Z",
     "shell.execute_reply": "2023-07-13T13:45:26.084851Z"
    },
    "papermill": {
     "duration": 0.137389,
     "end_time": "2023-07-13T13:45:26.089400",
     "exception": false,
     "start_time": "2023-07-13T13:45:25.952011",
     "status": "completed"
    },
    "tags": []
   },
   "outputs": [],
   "source": [
    "from sklearn.model_selection import train_test_split\n",
    "\n",
    "#x_train, x_test, y_train, y_test = train_test_split(x,y,test_size=0.2, random_state=42)"
   ]
  },
  {
   "cell_type": "code",
   "execution_count": 8,
   "id": "82e82fb3",
   "metadata": {
    "execution": {
     "iopub.execute_input": "2023-07-13T13:45:26.108313Z",
     "iopub.status.busy": "2023-07-13T13:45:26.107926Z",
     "iopub.status.idle": "2023-07-13T13:45:26.336768Z",
     "shell.execute_reply": "2023-07-13T13:45:26.335812Z"
    },
    "papermill": {
     "duration": 0.242012,
     "end_time": "2023-07-13T13:45:26.339781",
     "exception": false,
     "start_time": "2023-07-13T13:45:26.097769",
     "status": "completed"
    },
    "tags": []
   },
   "outputs": [],
   "source": [
    "import xgboost as xgb\n",
    "dtrain = xgb.DMatrix(x, label=y)\n",
    "#dtest = xgb.DMatrix(x_test, label=y_test)"
   ]
  },
  {
   "cell_type": "code",
   "execution_count": 9,
   "id": "1cfcb0de",
   "metadata": {
    "execution": {
     "iopub.execute_input": "2023-07-13T13:45:26.360495Z",
     "iopub.status.busy": "2023-07-13T13:45:26.360020Z",
     "iopub.status.idle": "2023-07-13T13:45:26.365549Z",
     "shell.execute_reply": "2023-07-13T13:45:26.364312Z"
    },
    "papermill": {
     "duration": 0.017758,
     "end_time": "2023-07-13T13:45:26.367959",
     "exception": false,
     "start_time": "2023-07-13T13:45:26.350201",
     "status": "completed"
    },
    "tags": []
   },
   "outputs": [],
   "source": [
    "#making brier scorer\n",
    "from sklearn.metrics import make_scorer, brier_score_loss\n",
    "\n",
    "brier_scorer = make_scorer(brier_score_loss, greater_is_better=False)"
   ]
  },
  {
   "cell_type": "code",
   "execution_count": 10,
   "id": "fc57c75e",
   "metadata": {
    "execution": {
     "iopub.execute_input": "2023-07-13T13:45:26.386871Z",
     "iopub.status.busy": "2023-07-13T13:45:26.386039Z",
     "iopub.status.idle": "2023-07-13T13:45:26.391576Z",
     "shell.execute_reply": "2023-07-13T13:45:26.390728Z"
    },
    "papermill": {
     "duration": 0.018034,
     "end_time": "2023-07-13T13:45:26.394239",
     "exception": false,
     "start_time": "2023-07-13T13:45:26.376205",
     "status": "completed"
    },
    "tags": []
   },
   "outputs": [],
   "source": [
    "params = {\n",
    "    'objective': 'binary:logistic',\n",
    "'colsample_bytree': 0.3,\n",
    " 'gamma': 0.1,\n",
    " 'learning_rate': 0.3,\n",
    " 'max_depth': 5}"
   ]
  },
  {
   "cell_type": "code",
   "execution_count": 11,
   "id": "4cf3a219",
   "metadata": {
    "execution": {
     "iopub.execute_input": "2023-07-13T13:45:26.413433Z",
     "iopub.status.busy": "2023-07-13T13:45:26.412537Z",
     "iopub.status.idle": "2023-07-13T13:45:26.505311Z",
     "shell.execute_reply": "2023-07-13T13:45:26.504236Z"
    },
    "papermill": {
     "duration": 0.106092,
     "end_time": "2023-07-13T13:45:26.508402",
     "exception": false,
     "start_time": "2023-07-13T13:45:26.402310",
     "status": "completed"
    },
    "tags": []
   },
   "outputs": [],
   "source": [
    "model = xgb.train(params, dtrain, 50)"
   ]
  },
  {
   "cell_type": "code",
   "execution_count": 12,
   "id": "35759e76",
   "metadata": {
    "execution": {
     "iopub.execute_input": "2023-07-13T13:45:26.529310Z",
     "iopub.status.busy": "2023-07-13T13:45:26.528889Z",
     "iopub.status.idle": "2023-07-13T13:45:26.533922Z",
     "shell.execute_reply": "2023-07-13T13:45:26.532727Z"
    },
    "papermill": {
     "duration": 0.017654,
     "end_time": "2023-07-13T13:45:26.536483",
     "exception": false,
     "start_time": "2023-07-13T13:45:26.518829",
     "status": "completed"
    },
    "tags": []
   },
   "outputs": [],
   "source": [
    "#y_pred = model.predict(dtest)"
   ]
  },
  {
   "cell_type": "code",
   "execution_count": 13,
   "id": "e1551068",
   "metadata": {
    "execution": {
     "iopub.execute_input": "2023-07-13T13:45:26.555979Z",
     "iopub.status.busy": "2023-07-13T13:45:26.555554Z",
     "iopub.status.idle": "2023-07-13T13:45:26.559825Z",
     "shell.execute_reply": "2023-07-13T13:45:26.558679Z"
    },
    "papermill": {
     "duration": 0.017197,
     "end_time": "2023-07-13T13:45:26.562266",
     "exception": false,
     "start_time": "2023-07-13T13:45:26.545069",
     "status": "completed"
    },
    "tags": []
   },
   "outputs": [],
   "source": [
    "#brier_score = brier_score_loss(y_test, y_pred)\n",
    "#print(\"Brier score:\", brier_score)\n"
   ]
  },
  {
   "cell_type": "code",
   "execution_count": 14,
   "id": "bd64867c",
   "metadata": {
    "execution": {
     "iopub.execute_input": "2023-07-13T13:45:26.581367Z",
     "iopub.status.busy": "2023-07-13T13:45:26.580221Z",
     "iopub.status.idle": "2023-07-13T13:45:26.585512Z",
     "shell.execute_reply": "2023-07-13T13:45:26.584713Z"
    },
    "papermill": {
     "duration": 0.017396,
     "end_time": "2023-07-13T13:45:26.587893",
     "exception": false,
     "start_time": "2023-07-13T13:45:26.570497",
     "status": "completed"
    },
    "tags": []
   },
   "outputs": [],
   "source": [
    "#from sklearn.metrics import accuracy_score\n",
    "\n",
    "# Convert probabilities to binary predictions\n",
    "\n",
    "\n",
    "#y_pred_binary = [1 if p >= 0.5 else 0 for p in y_pred]\n",
    "#\n",
    "#accuracy = accuracy_score(y_test, y_pred_binary)\n",
    "#print(\"Accuracy: %.2f%%\" % (accuracy * 100.0))"
   ]
  },
  {
   "cell_type": "code",
   "execution_count": 15,
   "id": "5dcefc97",
   "metadata": {
    "execution": {
     "iopub.execute_input": "2023-07-13T13:45:26.606593Z",
     "iopub.status.busy": "2023-07-13T13:45:26.605789Z",
     "iopub.status.idle": "2023-07-13T13:45:26.611398Z",
     "shell.execute_reply": "2023-07-13T13:45:26.610548Z"
    },
    "papermill": {
     "duration": 0.017786,
     "end_time": "2023-07-13T13:45:26.613822",
     "exception": false,
     "start_time": "2023-07-13T13:45:26.596036",
     "status": "completed"
    },
    "tags": []
   },
   "outputs": [],
   "source": [
    "#from sklearn.metrics import confusion_matrix\n",
    "\n",
    "# Assuming you have the true labels for the test set stored in `y_true`\n",
    "# and the predicted labels in `y_pred`\n",
    "#confusion = confusion_matrix(y_test, y_pred_binary)\n",
    "\n",
    "# Extracting true negatives (TN), false positives (FP),\n",
    "# false negatives (FN), and true positives (TP)\n",
    "#TN = confusion[0, 0]\n",
    "#FP = confusion[0, 1]\n",
    "#FN = confusion[1, 0]\n",
    "#TP = confusion[1, 1]\n",
    "\n",
    "# Calculating false negative rate and false positive rate\n",
    "#false_negative_rate = FN / float(FN + TP)\n",
    "#false_positive_rate = FP / float(FP + TN)\n",
    "\n",
    "# Print or use the false negative rate and false positive rate as needed\n",
    "#print(\"False Negative Rate:\", false_negative_rate)\n",
    "#print(\"False Positive Rate:\", false_positive_rate)"
   ]
  },
  {
   "cell_type": "code",
   "execution_count": 16,
   "id": "9c4d85ff",
   "metadata": {
    "execution": {
     "iopub.execute_input": "2023-07-13T13:45:26.632516Z",
     "iopub.status.busy": "2023-07-13T13:45:26.631738Z",
     "iopub.status.idle": "2023-07-13T13:45:26.641630Z",
     "shell.execute_reply": "2023-07-13T13:45:26.640729Z"
    },
    "papermill": {
     "duration": 0.022541,
     "end_time": "2023-07-13T13:45:26.644507",
     "exception": false,
     "start_time": "2023-07-13T13:45:26.621966",
     "status": "completed"
    },
    "tags": []
   },
   "outputs": [],
   "source": [
    "label= val.shape[0]\n",
    "dval = xgb.DMatrix(val, np.zeros(label))"
   ]
  },
  {
   "cell_type": "code",
   "execution_count": 17,
   "id": "33ebae45",
   "metadata": {
    "execution": {
     "iopub.execute_input": "2023-07-13T13:45:26.665197Z",
     "iopub.status.busy": "2023-07-13T13:45:26.664784Z",
     "iopub.status.idle": "2023-07-13T13:45:26.675970Z",
     "shell.execute_reply": "2023-07-13T13:45:26.674895Z"
    },
    "papermill": {
     "duration": 0.023953,
     "end_time": "2023-07-13T13:45:26.678729",
     "exception": false,
     "start_time": "2023-07-13T13:45:26.654776",
     "status": "completed"
    },
    "tags": []
   },
   "outputs": [],
   "source": [
    "pred=model.predict(dval)\n"
   ]
  },
  {
   "cell_type": "code",
   "execution_count": 18,
   "id": "74b4d184",
   "metadata": {
    "execution": {
     "iopub.execute_input": "2023-07-13T13:45:26.698151Z",
     "iopub.status.busy": "2023-07-13T13:45:26.697761Z",
     "iopub.status.idle": "2023-07-13T13:45:26.706426Z",
     "shell.execute_reply": "2023-07-13T13:45:26.705261Z"
    },
    "papermill": {
     "duration": 0.020814,
     "end_time": "2023-07-13T13:45:26.709164",
     "exception": false,
     "start_time": "2023-07-13T13:45:26.688350",
     "status": "completed"
    },
    "tags": []
   },
   "outputs": [
    {
     "data": {
      "text/plain": [
       "(5, 1)"
      ]
     },
     "execution_count": 18,
     "metadata": {},
     "output_type": "execute_result"
    }
   ],
   "source": [
    "pred=pred.astype(float)\n",
    "pred.resize(label,1)\n",
    "pred.shape"
   ]
  },
  {
   "cell_type": "code",
   "execution_count": 19,
   "id": "ed36a9a2",
   "metadata": {
    "execution": {
     "iopub.execute_input": "2023-07-13T13:45:26.729382Z",
     "iopub.status.busy": "2023-07-13T13:45:26.728997Z",
     "iopub.status.idle": "2023-07-13T13:45:26.736258Z",
     "shell.execute_reply": "2023-07-13T13:45:26.734694Z"
    },
    "papermill": {
     "duration": 0.020519,
     "end_time": "2023-07-13T13:45:26.738933",
     "exception": false,
     "start_time": "2023-07-13T13:45:26.718414",
     "status": "completed"
    },
    "tags": []
   },
   "outputs": [],
   "source": [
    "sub[['class_1']]=pred\n",
    "sub[['class_0']]= 1-pred"
   ]
  },
  {
   "cell_type": "code",
   "execution_count": 20,
   "id": "870e854b",
   "metadata": {
    "execution": {
     "iopub.execute_input": "2023-07-13T13:45:26.757834Z",
     "iopub.status.busy": "2023-07-13T13:45:26.756909Z",
     "iopub.status.idle": "2023-07-13T13:45:26.766182Z",
     "shell.execute_reply": "2023-07-13T13:45:26.764960Z"
    },
    "papermill": {
     "duration": 0.021483,
     "end_time": "2023-07-13T13:45:26.768879",
     "exception": false,
     "start_time": "2023-07-13T13:45:26.747396",
     "status": "completed"
    },
    "tags": []
   },
   "outputs": [],
   "source": [
    "sub.to_csv(\"submission.csv\", index=False)"
   ]
  },
  {
   "cell_type": "code",
   "execution_count": 21,
   "id": "afeb20a8",
   "metadata": {
    "execution": {
     "iopub.execute_input": "2023-07-13T13:45:26.787073Z",
     "iopub.status.busy": "2023-07-13T13:45:26.786680Z",
     "iopub.status.idle": "2023-07-13T13:45:26.803311Z",
     "shell.execute_reply": "2023-07-13T13:45:26.802149Z"
    },
    "papermill": {
     "duration": 0.028683,
     "end_time": "2023-07-13T13:45:26.805830",
     "exception": false,
     "start_time": "2023-07-13T13:45:26.777147",
     "status": "completed"
    },
    "tags": []
   },
   "outputs": [
    {
     "data": {
      "text/html": [
       "<div>\n",
       "<style scoped>\n",
       "    .dataframe tbody tr th:only-of-type {\n",
       "        vertical-align: middle;\n",
       "    }\n",
       "\n",
       "    .dataframe tbody tr th {\n",
       "        vertical-align: top;\n",
       "    }\n",
       "\n",
       "    .dataframe thead th {\n",
       "        text-align: right;\n",
       "    }\n",
       "</style>\n",
       "<table border=\"1\" class=\"dataframe\">\n",
       "  <thead>\n",
       "    <tr style=\"text-align: right;\">\n",
       "      <th></th>\n",
       "      <th>Id</th>\n",
       "      <th>class_0</th>\n",
       "      <th>class_1</th>\n",
       "    </tr>\n",
       "  </thead>\n",
       "  <tbody>\n",
       "    <tr>\n",
       "      <th>0</th>\n",
       "      <td>00eed32682bb</td>\n",
       "      <td>0.911551</td>\n",
       "      <td>0.088449</td>\n",
       "    </tr>\n",
       "    <tr>\n",
       "      <th>1</th>\n",
       "      <td>010ebe33f668</td>\n",
       "      <td>0.911551</td>\n",
       "      <td>0.088449</td>\n",
       "    </tr>\n",
       "    <tr>\n",
       "      <th>2</th>\n",
       "      <td>02fa521e1838</td>\n",
       "      <td>0.911551</td>\n",
       "      <td>0.088449</td>\n",
       "    </tr>\n",
       "    <tr>\n",
       "      <th>3</th>\n",
       "      <td>040e15f562a2</td>\n",
       "      <td>0.911551</td>\n",
       "      <td>0.088449</td>\n",
       "    </tr>\n",
       "    <tr>\n",
       "      <th>4</th>\n",
       "      <td>046e85c7cc7f</td>\n",
       "      <td>0.911551</td>\n",
       "      <td>0.088449</td>\n",
       "    </tr>\n",
       "  </tbody>\n",
       "</table>\n",
       "</div>"
      ],
      "text/plain": [
       "             Id   class_0   class_1\n",
       "0  00eed32682bb  0.911551  0.088449\n",
       "1  010ebe33f668  0.911551  0.088449\n",
       "2  02fa521e1838  0.911551  0.088449\n",
       "3  040e15f562a2  0.911551  0.088449\n",
       "4  046e85c7cc7f  0.911551  0.088449"
      ]
     },
     "execution_count": 21,
     "metadata": {},
     "output_type": "execute_result"
    }
   ],
   "source": [
    "sub\n"
   ]
  },
  {
   "cell_type": "code",
   "execution_count": null,
   "id": "543382b4",
   "metadata": {
    "papermill": {
     "duration": 0.0087,
     "end_time": "2023-07-13T13:45:26.823261",
     "exception": false,
     "start_time": "2023-07-13T13:45:26.814561",
     "status": "completed"
    },
    "tags": []
   },
   "outputs": [],
   "source": [
    "\n"
   ]
  },
  {
   "cell_type": "code",
   "execution_count": null,
   "id": "a69ac521",
   "metadata": {
    "papermill": {
     "duration": 0.008203,
     "end_time": "2023-07-13T13:45:26.840779",
     "exception": false,
     "start_time": "2023-07-13T13:45:26.832576",
     "status": "completed"
    },
    "tags": []
   },
   "outputs": [],
   "source": []
  },
  {
   "cell_type": "code",
   "execution_count": null,
   "id": "b8fe1f0d",
   "metadata": {
    "papermill": {
     "duration": 0.008184,
     "end_time": "2023-07-13T13:45:26.857486",
     "exception": false,
     "start_time": "2023-07-13T13:45:26.849302",
     "status": "completed"
    },
    "tags": []
   },
   "outputs": [],
   "source": []
  }
 ],
 "metadata": {
  "kernelspec": {
   "display_name": "Python 3",
   "language": "python",
   "name": "python3"
  },
  "language_info": {
   "codemirror_mode": {
    "name": "ipython",
    "version": 3
   },
   "file_extension": ".py",
   "mimetype": "text/x-python",
   "name": "python",
   "nbconvert_exporter": "python",
   "pygments_lexer": "ipython3",
   "version": "3.10.12"
  },
  "papermill": {
   "default_parameters": {},
   "duration": 16.235496,
   "end_time": "2023-07-13T13:45:27.888760",
   "environment_variables": {},
   "exception": null,
   "input_path": "__notebook__.ipynb",
   "output_path": "__notebook__.ipynb",
   "parameters": {},
   "start_time": "2023-07-13T13:45:11.653264",
   "version": "2.4.0"
  }
 },
 "nbformat": 4,
 "nbformat_minor": 5
}
