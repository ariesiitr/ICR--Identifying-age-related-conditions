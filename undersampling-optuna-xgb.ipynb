{
 "cells": [
  {
   "cell_type": "code",
   "execution_count": 1,
   "id": "3cbc1ffa",
   "metadata": {
    "_cell_guid": "b1076dfc-b9ad-4769-8c92-a6c4dae69d19",
    "_uuid": "8f2839f25d086af736a60e9eeb907d3b93b6e0e5",
    "execution": {
     "iopub.execute_input": "2023-07-29T09:48:58.705478Z",
     "iopub.status.busy": "2023-07-29T09:48:58.704766Z",
     "iopub.status.idle": "2023-07-29T09:48:58.716313Z",
     "shell.execute_reply": "2023-07-29T09:48:58.715207Z"
    },
    "papermill": {
     "duration": 0.029565,
     "end_time": "2023-07-29T09:48:58.718881",
     "exception": false,
     "start_time": "2023-07-29T09:48:58.689316",
     "status": "completed"
    },
    "tags": []
   },
   "outputs": [],
   "source": [
    "import pandas as pd\n",
    "import numpy as np"
   ]
  },
  {
   "cell_type": "code",
   "execution_count": 2,
   "id": "70944a28",
   "metadata": {
    "execution": {
     "iopub.execute_input": "2023-07-29T09:48:58.743536Z",
     "iopub.status.busy": "2023-07-29T09:48:58.742772Z",
     "iopub.status.idle": "2023-07-29T09:48:58.798515Z",
     "shell.execute_reply": "2023-07-29T09:48:58.797493Z"
    },
    "papermill": {
     "duration": 0.070834,
     "end_time": "2023-07-29T09:48:58.801118",
     "exception": false,
     "start_time": "2023-07-29T09:48:58.730284",
     "status": "completed"
    },
    "tags": []
   },
   "outputs": [],
   "source": [
    "df=pd.read_csv(\"/kaggle/input/icr-identify-age-related-conditions/train.csv\")\n",
    "val=pd.read_csv(\"/kaggle/input/icr-identify-age-related-conditions/test.csv\")\n",
    "sub=pd.read_csv(\"/kaggle/input/icr-identify-age-related-conditions/sample_submission.csv\")"
   ]
  },
  {
   "cell_type": "code",
   "execution_count": 3,
   "id": "edca1192",
   "metadata": {
    "execution": {
     "iopub.execute_input": "2023-07-29T09:48:58.826208Z",
     "iopub.status.busy": "2023-07-29T09:48:58.825436Z",
     "iopub.status.idle": "2023-07-29T09:48:58.829572Z",
     "shell.execute_reply": "2023-07-29T09:48:58.828718Z"
    },
    "papermill": {
     "duration": 0.019401,
     "end_time": "2023-07-29T09:48:58.831718",
     "exception": false,
     "start_time": "2023-07-29T09:48:58.812317",
     "status": "completed"
    },
    "tags": []
   },
   "outputs": [],
   "source": [
    "#zero, one =np.bincount(df['Class'])"
   ]
  },
  {
   "cell_type": "code",
   "execution_count": 4,
   "id": "f0d8882c",
   "metadata": {
    "execution": {
     "iopub.execute_input": "2023-07-29T09:48:58.855980Z",
     "iopub.status.busy": "2023-07-29T09:48:58.855282Z",
     "iopub.status.idle": "2023-07-29T09:48:58.859447Z",
     "shell.execute_reply": "2023-07-29T09:48:58.858346Z"
    },
    "papermill": {
     "duration": 0.018716,
     "end_time": "2023-07-29T09:48:58.861623",
     "exception": false,
     "start_time": "2023-07-29T09:48:58.842907",
     "status": "completed"
    },
    "tags": []
   },
   "outputs": [],
   "source": [
    "#zero_df=df.loc[df['Class']==0]\n",
    "#one_df=df.loc[df['Class']==1]"
   ]
  },
  {
   "cell_type": "code",
   "execution_count": 5,
   "id": "bf201dd3",
   "metadata": {
    "execution": {
     "iopub.execute_input": "2023-07-29T09:48:58.885689Z",
     "iopub.status.busy": "2023-07-29T09:48:58.885008Z",
     "iopub.status.idle": "2023-07-29T09:48:58.889180Z",
     "shell.execute_reply": "2023-07-29T09:48:58.888107Z"
    },
    "papermill": {
     "duration": 0.018981,
     "end_time": "2023-07-29T09:48:58.891605",
     "exception": false,
     "start_time": "2023-07-29T09:48:58.872624",
     "status": "completed"
    },
    "tags": []
   },
   "outputs": [],
   "source": [
    "#zero_df=zero_df.dropna()\n",
    "#zero_df.shape"
   ]
  },
  {
   "cell_type": "code",
   "execution_count": 6,
   "id": "4fe6e20d",
   "metadata": {
    "execution": {
     "iopub.execute_input": "2023-07-29T09:48:58.916206Z",
     "iopub.status.busy": "2023-07-29T09:48:58.915081Z",
     "iopub.status.idle": "2023-07-29T09:48:58.919405Z",
     "shell.execute_reply": "2023-07-29T09:48:58.918579Z"
    },
    "papermill": {
     "duration": 0.018777,
     "end_time": "2023-07-29T09:48:58.921671",
     "exception": false,
     "start_time": "2023-07-29T09:48:58.902894",
     "status": "completed"
    },
    "tags": []
   },
   "outputs": [],
   "source": [
    "#one_df=one_df.fillna(df.median())\n",
    "#zero_df=zero_df.fillna(df.median())"
   ]
  },
  {
   "cell_type": "code",
   "execution_count": 7,
   "id": "47217db5",
   "metadata": {
    "execution": {
     "iopub.execute_input": "2023-07-29T09:48:58.946469Z",
     "iopub.status.busy": "2023-07-29T09:48:58.945422Z",
     "iopub.status.idle": "2023-07-29T09:48:58.950766Z",
     "shell.execute_reply": "2023-07-29T09:48:58.949513Z"
    },
    "papermill": {
     "duration": 0.02034,
     "end_time": "2023-07-29T09:48:58.953402",
     "exception": false,
     "start_time": "2023-07-29T09:48:58.933062",
     "status": "completed"
    },
    "tags": []
   },
   "outputs": [],
   "source": [
    "#zero_df=zero_df.drop(zero_df.sample(106).index)#"
   ]
  },
  {
   "cell_type": "code",
   "execution_count": 8,
   "id": "35cd2bbd",
   "metadata": {
    "execution": {
     "iopub.execute_input": "2023-07-29T09:48:58.978697Z",
     "iopub.status.busy": "2023-07-29T09:48:58.978268Z",
     "iopub.status.idle": "2023-07-29T09:48:58.983739Z",
     "shell.execute_reply": "2023-07-29T09:48:58.982331Z"
    },
    "papermill": {
     "duration": 0.020735,
     "end_time": "2023-07-29T09:48:58.986553",
     "exception": false,
     "start_time": "2023-07-29T09:48:58.965818",
     "status": "completed"
    },
    "tags": []
   },
   "outputs": [],
   "source": [
    "#zero_df.shape"
   ]
  },
  {
   "cell_type": "code",
   "execution_count": 9,
   "id": "c4c5fbcf",
   "metadata": {
    "execution": {
     "iopub.execute_input": "2023-07-29T09:48:59.011239Z",
     "iopub.status.busy": "2023-07-29T09:48:59.010815Z",
     "iopub.status.idle": "2023-07-29T09:48:59.016042Z",
     "shell.execute_reply": "2023-07-29T09:48:59.014863Z"
    },
    "papermill": {
     "duration": 0.020994,
     "end_time": "2023-07-29T09:48:59.018791",
     "exception": false,
     "start_time": "2023-07-29T09:48:58.997797",
     "status": "completed"
    },
    "tags": []
   },
   "outputs": [],
   "source": [
    "#data=pd.concat([one_df,zero_df])"
   ]
  },
  {
   "cell_type": "code",
   "execution_count": 10,
   "id": "d5f9eb0e",
   "metadata": {
    "execution": {
     "iopub.execute_input": "2023-07-29T09:48:59.043053Z",
     "iopub.status.busy": "2023-07-29T09:48:59.042536Z",
     "iopub.status.idle": "2023-07-29T09:48:59.088022Z",
     "shell.execute_reply": "2023-07-29T09:48:59.086813Z"
    },
    "papermill": {
     "duration": 0.0607,
     "end_time": "2023-07-29T09:48:59.090683",
     "exception": false,
     "start_time": "2023-07-29T09:48:59.029983",
     "status": "completed"
    },
    "tags": []
   },
   "outputs": [
    {
     "name": "stderr",
     "output_type": "stream",
     "text": [
      "/tmp/ipykernel_20/4115765143.py:4: FutureWarning: The default value of numeric_only in DataFrame.median is deprecated. In a future version, it will default to False. In addition, specifying 'numeric_only=None' is deprecated. Select only valid columns or specify the value of numeric_only to silence this warning.\n",
      "  data=data.fillna(data.median())\n"
     ]
    }
   ],
   "source": [
    "#data=data.sample(frac=1,random_state=42)\n",
    "#data = data.reset_index(drop=True)\n",
    "data=df\n",
    "data=data.fillna(data.median())"
   ]
  },
  {
   "cell_type": "code",
   "execution_count": 11,
   "id": "515b1b50",
   "metadata": {
    "execution": {
     "iopub.execute_input": "2023-07-29T09:48:59.114923Z",
     "iopub.status.busy": "2023-07-29T09:48:59.114498Z",
     "iopub.status.idle": "2023-07-29T09:49:00.472593Z",
     "shell.execute_reply": "2023-07-29T09:49:00.471155Z"
    },
    "papermill": {
     "duration": 1.373499,
     "end_time": "2023-07-29T09:49:00.475565",
     "exception": false,
     "start_time": "2023-07-29T09:48:59.102066",
     "status": "completed"
    },
    "tags": []
   },
   "outputs": [
    {
     "name": "stderr",
     "output_type": "stream",
     "text": [
      "/opt/conda/lib/python3.10/site-packages/scipy/__init__.py:146: UserWarning: A NumPy version >=1.16.5 and <1.23.0 is required for this version of SciPy (detected version 1.23.5\n",
      "  warnings.warn(f\"A NumPy version >={np_minversion} and <{np_maxversion}\"\n"
     ]
    }
   ],
   "source": [
    "from sklearn.preprocessing import LabelEncoder\n",
    "\n",
    "data['EJ'] = LabelEncoder().fit_transform(data['EJ'])\n",
    "data=data.drop(['Id'], axis=1)"
   ]
  },
  {
   "cell_type": "code",
   "execution_count": 12,
   "id": "f96ca6ac",
   "metadata": {
    "execution": {
     "iopub.execute_input": "2023-07-29T09:49:00.500493Z",
     "iopub.status.busy": "2023-07-29T09:49:00.500062Z",
     "iopub.status.idle": "2023-07-29T09:49:00.510169Z",
     "shell.execute_reply": "2023-07-29T09:49:00.508920Z"
    },
    "papermill": {
     "duration": 0.025656,
     "end_time": "2023-07-29T09:49:00.512668",
     "exception": false,
     "start_time": "2023-07-29T09:49:00.487012",
     "status": "completed"
    },
    "tags": []
   },
   "outputs": [],
   "source": [
    "val['EJ'] = LabelEncoder().fit_transform(val['EJ'])\n",
    "val=val.drop(['Id'], axis=1)"
   ]
  },
  {
   "cell_type": "code",
   "execution_count": 13,
   "id": "a275287d",
   "metadata": {
    "execution": {
     "iopub.execute_input": "2023-07-29T09:49:00.537314Z",
     "iopub.status.busy": "2023-07-29T09:49:00.536870Z",
     "iopub.status.idle": "2023-07-29T09:49:00.546284Z",
     "shell.execute_reply": "2023-07-29T09:49:00.544950Z"
    },
    "papermill": {
     "duration": 0.024696,
     "end_time": "2023-07-29T09:49:00.548852",
     "exception": false,
     "start_time": "2023-07-29T09:49:00.524156",
     "status": "completed"
    },
    "tags": []
   },
   "outputs": [],
   "source": [
    "X=data.drop([\"Class\"], axis=1)\n",
    "y=data[\"Class\"]"
   ]
  },
  {
   "cell_type": "code",
   "execution_count": 14,
   "id": "39b350ac",
   "metadata": {
    "execution": {
     "iopub.execute_input": "2023-07-29T09:49:00.573787Z",
     "iopub.status.busy": "2023-07-29T09:49:00.572949Z",
     "iopub.status.idle": "2023-07-29T09:49:00.583152Z",
     "shell.execute_reply": "2023-07-29T09:49:00.581856Z"
    },
    "papermill": {
     "duration": 0.02568,
     "end_time": "2023-07-29T09:49:00.585860",
     "exception": false,
     "start_time": "2023-07-29T09:49:00.560180",
     "status": "completed"
    },
    "tags": []
   },
   "outputs": [],
   "source": [
    "def competition_log_loss(y_true, y_pred):\n",
    "    # y_true: correct labels 0, 1\n",
    "    # y_pred: predicted probabilities of class=1\n",
    "    #y_pred = y_pred.T[1]\n",
    "    N_0 = np.sum(1 - y_true)\n",
    "    N_1 = np.sum(y_true)\n",
    "    w_0 = (N_0 + N_1) / N_0\n",
    "    w_1 = (N_0 + N_1) / N_1\n",
    "    # Calculate the predicted probabilities for each class\n",
    "    p_1 = np.clip(y_pred, 1e-15, 1 - 1e-15)\n",
    "    p_0 = 1 - p_1\n",
    "    # Calculate the average log loss for each class\n",
    "    sum_0 = -np.sum((1 - y_true) * np.log(p_0))\n",
    "    sum_1 = -np.sum(y_true * np.log(p_1))\n",
    "    to_output = ((w_0 / N_0) * sum_0 + (w_1 / N_1) * sum_1) / (w_0 + w_1)\n",
    "\n",
    "    return to_output"
   ]
  },
  {
   "cell_type": "code",
   "execution_count": 15,
   "id": "80b32fe7",
   "metadata": {
    "_kg_hide-output": true,
    "execution": {
     "iopub.execute_input": "2023-07-29T09:49:00.612479Z",
     "iopub.status.busy": "2023-07-29T09:49:00.611424Z",
     "iopub.status.idle": "2023-07-29T10:00:19.958162Z",
     "shell.execute_reply": "2023-07-29T10:00:19.957106Z"
    },
    "papermill": {
     "duration": 679.363624,
     "end_time": "2023-07-29T10:00:19.960845",
     "exception": false,
     "start_time": "2023-07-29T09:49:00.597221",
     "status": "completed"
    },
    "scrolled": true,
    "tags": []
   },
   "outputs": [
    {
     "name": "stderr",
     "output_type": "stream",
     "text": [
      "[I 2023-07-29 09:49:01,708] A new study created in memory with name: no-name-fbf150a6-6b8a-4645-bb7f-bde151c8531f\n",
      "/tmp/ipykernel_20/1395528414.py:21: FutureWarning: suggest_loguniform has been deprecated in v3.0.0. This feature will be removed in v6.0.0. See https://github.com/optuna/optuna/releases/tag/v3.0.0. Use suggest_float(..., log=True) instead.\n",
      "  'learning_rate': trial.suggest_loguniform('learning_rate', 0.001, 1.0),\n",
      "/tmp/ipykernel_20/1395528414.py:22: FutureWarning: suggest_uniform has been deprecated in v3.0.0. This feature will be removed in v6.0.0. See https://github.com/optuna/optuna/releases/tag/v3.0.0. Use suggest_float instead.\n",
      "  'subsample': trial.suggest_uniform('subsample', 0.5, 1.0),\n",
      "/tmp/ipykernel_20/1395528414.py:23: FutureWarning: suggest_uniform has been deprecated in v3.0.0. This feature will be removed in v6.0.0. See https://github.com/optuna/optuna/releases/tag/v3.0.0. Use suggest_float instead.\n",
      "  'colsample_bytree': trial.suggest_uniform('colsample_bytree', 0.5, 1.0),\n",
      "/tmp/ipykernel_20/1395528414.py:24: FutureWarning: suggest_loguniform has been deprecated in v3.0.0. This feature will be removed in v6.0.0. See https://github.com/optuna/optuna/releases/tag/v3.0.0. Use suggest_float(..., log=True) instead.\n",
      "  'gamma': trial.suggest_loguniform('gamma', 0.001, 0.2),\n",
      "[I 2023-07-29 09:49:05,150] Trial 0 finished with value: 0.6143401127819764 and parameters: {'n_estimators': 300, 'max_depth': 3, 'learning_rate': 0.018727285568146634, 'subsample': 0.9534477040954017, 'colsample_bytree': 0.7764365226757265, 'gamma': 0.0016288883082960467}. Best is trial 0 with value: 0.6143401127819764.\n",
      "/tmp/ipykernel_20/1395528414.py:21: FutureWarning: suggest_loguniform has been deprecated in v3.0.0. This feature will be removed in v6.0.0. See https://github.com/optuna/optuna/releases/tag/v3.0.0. Use suggest_float(..., log=True) instead.\n",
      "  'learning_rate': trial.suggest_loguniform('learning_rate', 0.001, 1.0),\n",
      "/tmp/ipykernel_20/1395528414.py:22: FutureWarning: suggest_uniform has been deprecated in v3.0.0. This feature will be removed in v6.0.0. See https://github.com/optuna/optuna/releases/tag/v3.0.0. Use suggest_float instead.\n",
      "  'subsample': trial.suggest_uniform('subsample', 0.5, 1.0),\n",
      "/tmp/ipykernel_20/1395528414.py:23: FutureWarning: suggest_uniform has been deprecated in v3.0.0. This feature will be removed in v6.0.0. See https://github.com/optuna/optuna/releases/tag/v3.0.0. Use suggest_float instead.\n",
      "  'colsample_bytree': trial.suggest_uniform('colsample_bytree', 0.5, 1.0),\n",
      "/tmp/ipykernel_20/1395528414.py:24: FutureWarning: suggest_loguniform has been deprecated in v3.0.0. This feature will be removed in v6.0.0. See https://github.com/optuna/optuna/releases/tag/v3.0.0. Use suggest_float(..., log=True) instead.\n",
      "  'gamma': trial.suggest_loguniform('gamma', 0.001, 0.2),\n",
      "[I 2023-07-29 09:49:08,916] Trial 1 finished with value: 0.7739168415110399 and parameters: {'n_estimators': 1000, 'max_depth': 9, 'learning_rate': 0.22843155148595265, 'subsample': 0.7657871852113006, 'colsample_bytree': 0.588444234285572, 'gamma': 0.002401104175118892}. Best is trial 0 with value: 0.6143401127819764.\n",
      "/tmp/ipykernel_20/1395528414.py:21: FutureWarning: suggest_loguniform has been deprecated in v3.0.0. This feature will be removed in v6.0.0. See https://github.com/optuna/optuna/releases/tag/v3.0.0. Use suggest_float(..., log=True) instead.\n",
      "  'learning_rate': trial.suggest_loguniform('learning_rate', 0.001, 1.0),\n",
      "/tmp/ipykernel_20/1395528414.py:22: FutureWarning: suggest_uniform has been deprecated in v3.0.0. This feature will be removed in v6.0.0. See https://github.com/optuna/optuna/releases/tag/v3.0.0. Use suggest_float instead.\n",
      "  'subsample': trial.suggest_uniform('subsample', 0.5, 1.0),\n",
      "/tmp/ipykernel_20/1395528414.py:23: FutureWarning: suggest_uniform has been deprecated in v3.0.0. This feature will be removed in v6.0.0. See https://github.com/optuna/optuna/releases/tag/v3.0.0. Use suggest_float instead.\n",
      "  'colsample_bytree': trial.suggest_uniform('colsample_bytree', 0.5, 1.0),\n",
      "/tmp/ipykernel_20/1395528414.py:24: FutureWarning: suggest_loguniform has been deprecated in v3.0.0. This feature will be removed in v6.0.0. See https://github.com/optuna/optuna/releases/tag/v3.0.0. Use suggest_float(..., log=True) instead.\n",
      "  'gamma': trial.suggest_loguniform('gamma', 0.001, 0.2),\n",
      "[I 2023-07-29 09:49:14,911] Trial 2 finished with value: 0.6381018212407163 and parameters: {'n_estimators': 850, 'max_depth': 8, 'learning_rate': 0.02467265028101286, 'subsample': 0.6795530763308132, 'colsample_bytree': 0.7805954196042297, 'gamma': 0.1408088338862255}. Best is trial 0 with value: 0.6143401127819764.\n",
      "/tmp/ipykernel_20/1395528414.py:21: FutureWarning: suggest_loguniform has been deprecated in v3.0.0. This feature will be removed in v6.0.0. See https://github.com/optuna/optuna/releases/tag/v3.0.0. Use suggest_float(..., log=True) instead.\n",
      "  'learning_rate': trial.suggest_loguniform('learning_rate', 0.001, 1.0),\n",
      "/tmp/ipykernel_20/1395528414.py:22: FutureWarning: suggest_uniform has been deprecated in v3.0.0. This feature will be removed in v6.0.0. See https://github.com/optuna/optuna/releases/tag/v3.0.0. Use suggest_float instead.\n",
      "  'subsample': trial.suggest_uniform('subsample', 0.5, 1.0),\n",
      "/tmp/ipykernel_20/1395528414.py:23: FutureWarning: suggest_uniform has been deprecated in v3.0.0. This feature will be removed in v6.0.0. See https://github.com/optuna/optuna/releases/tag/v3.0.0. Use suggest_float instead.\n",
      "  'colsample_bytree': trial.suggest_uniform('colsample_bytree', 0.5, 1.0),\n",
      "/tmp/ipykernel_20/1395528414.py:24: FutureWarning: suggest_loguniform has been deprecated in v3.0.0. This feature will be removed in v6.0.0. See https://github.com/optuna/optuna/releases/tag/v3.0.0. Use suggest_float(..., log=True) instead.\n",
      "  'gamma': trial.suggest_loguniform('gamma', 0.001, 0.2),\n",
      "[I 2023-07-29 09:49:18,281] Trial 3 finished with value: 0.6752732787039607 and parameters: {'n_estimators': 400, 'max_depth': 10, 'learning_rate': 0.0431341473347069, 'subsample': 0.9902449263488687, 'colsample_bytree': 0.6959564966282978, 'gamma': 0.10835718730745104}. Best is trial 0 with value: 0.6143401127819764.\n",
      "/tmp/ipykernel_20/1395528414.py:21: FutureWarning: suggest_loguniform has been deprecated in v3.0.0. This feature will be removed in v6.0.0. See https://github.com/optuna/optuna/releases/tag/v3.0.0. Use suggest_float(..., log=True) instead.\n",
      "  'learning_rate': trial.suggest_loguniform('learning_rate', 0.001, 1.0),\n",
      "/tmp/ipykernel_20/1395528414.py:22: FutureWarning: suggest_uniform has been deprecated in v3.0.0. This feature will be removed in v6.0.0. See https://github.com/optuna/optuna/releases/tag/v3.0.0. Use suggest_float instead.\n",
      "  'subsample': trial.suggest_uniform('subsample', 0.5, 1.0),\n",
      "/tmp/ipykernel_20/1395528414.py:23: FutureWarning: suggest_uniform has been deprecated in v3.0.0. This feature will be removed in v6.0.0. See https://github.com/optuna/optuna/releases/tag/v3.0.0. Use suggest_float instead.\n",
      "  'colsample_bytree': trial.suggest_uniform('colsample_bytree', 0.5, 1.0),\n",
      "/tmp/ipykernel_20/1395528414.py:24: FutureWarning: suggest_loguniform has been deprecated in v3.0.0. This feature will be removed in v6.0.0. See https://github.com/optuna/optuna/releases/tag/v3.0.0. Use suggest_float(..., log=True) instead.\n",
      "  'gamma': trial.suggest_loguniform('gamma', 0.001, 0.2),\n",
      "[I 2023-07-29 09:49:19,070] Trial 4 finished with value: 0.7092909742633193 and parameters: {'n_estimators': 100, 'max_depth': 5, 'learning_rate': 0.2482158371928409, 'subsample': 0.6939424307778723, 'colsample_bytree': 0.9897064855697042, 'gamma': 0.03524641047688153}. Best is trial 0 with value: 0.6143401127819764.\n",
      "/tmp/ipykernel_20/1395528414.py:21: FutureWarning: suggest_loguniform has been deprecated in v3.0.0. This feature will be removed in v6.0.0. See https://github.com/optuna/optuna/releases/tag/v3.0.0. Use suggest_float(..., log=True) instead.\n",
      "  'learning_rate': trial.suggest_loguniform('learning_rate', 0.001, 1.0),\n",
      "/tmp/ipykernel_20/1395528414.py:22: FutureWarning: suggest_uniform has been deprecated in v3.0.0. This feature will be removed in v6.0.0. See https://github.com/optuna/optuna/releases/tag/v3.0.0. Use suggest_float instead.\n",
      "  'subsample': trial.suggest_uniform('subsample', 0.5, 1.0),\n",
      "/tmp/ipykernel_20/1395528414.py:23: FutureWarning: suggest_uniform has been deprecated in v3.0.0. This feature will be removed in v6.0.0. See https://github.com/optuna/optuna/releases/tag/v3.0.0. Use suggest_float instead.\n",
      "  'colsample_bytree': trial.suggest_uniform('colsample_bytree', 0.5, 1.0),\n",
      "/tmp/ipykernel_20/1395528414.py:24: FutureWarning: suggest_loguniform has been deprecated in v3.0.0. This feature will be removed in v6.0.0. See https://github.com/optuna/optuna/releases/tag/v3.0.0. Use suggest_float(..., log=True) instead.\n",
      "  'gamma': trial.suggest_loguniform('gamma', 0.001, 0.2),\n",
      "[I 2023-07-29 09:49:19,567] Trial 5 finished with value: 0.6626174847902807 and parameters: {'n_estimators': 50, 'max_depth': 5, 'learning_rate': 0.2347357943275311, 'subsample': 0.601614600534077, 'colsample_bytree': 0.8779102091750906, 'gamma': 0.1409957084255926}. Best is trial 0 with value: 0.6143401127819764.\n",
      "/tmp/ipykernel_20/1395528414.py:21: FutureWarning: suggest_loguniform has been deprecated in v3.0.0. This feature will be removed in v6.0.0. See https://github.com/optuna/optuna/releases/tag/v3.0.0. Use suggest_float(..., log=True) instead.\n",
      "  'learning_rate': trial.suggest_loguniform('learning_rate', 0.001, 1.0),\n",
      "/tmp/ipykernel_20/1395528414.py:22: FutureWarning: suggest_uniform has been deprecated in v3.0.0. This feature will be removed in v6.0.0. See https://github.com/optuna/optuna/releases/tag/v3.0.0. Use suggest_float instead.\n",
      "  'subsample': trial.suggest_uniform('subsample', 0.5, 1.0),\n",
      "/tmp/ipykernel_20/1395528414.py:23: FutureWarning: suggest_uniform has been deprecated in v3.0.0. This feature will be removed in v6.0.0. See https://github.com/optuna/optuna/releases/tag/v3.0.0. Use suggest_float instead.\n",
      "  'colsample_bytree': trial.suggest_uniform('colsample_bytree', 0.5, 1.0),\n",
      "/tmp/ipykernel_20/1395528414.py:24: FutureWarning: suggest_loguniform has been deprecated in v3.0.0. This feature will be removed in v6.0.0. See https://github.com/optuna/optuna/releases/tag/v3.0.0. Use suggest_float(..., log=True) instead.\n",
      "  'gamma': trial.suggest_loguniform('gamma', 0.001, 0.2),\n",
      "[I 2023-07-29 09:49:21,700] Trial 6 finished with value: 0.7187030469187685 and parameters: {'n_estimators': 400, 'max_depth': 8, 'learning_rate': 0.23581339211558267, 'subsample': 0.9922471720136204, 'colsample_bytree': 0.5774991835647469, 'gamma': 0.12484459385159662}. Best is trial 0 with value: 0.6143401127819764.\n",
      "/tmp/ipykernel_20/1395528414.py:21: FutureWarning: suggest_loguniform has been deprecated in v3.0.0. This feature will be removed in v6.0.0. See https://github.com/optuna/optuna/releases/tag/v3.0.0. Use suggest_float(..., log=True) instead.\n",
      "  'learning_rate': trial.suggest_loguniform('learning_rate', 0.001, 1.0),\n",
      "/tmp/ipykernel_20/1395528414.py:22: FutureWarning: suggest_uniform has been deprecated in v3.0.0. This feature will be removed in v6.0.0. See https://github.com/optuna/optuna/releases/tag/v3.0.0. Use suggest_float instead.\n",
      "  'subsample': trial.suggest_uniform('subsample', 0.5, 1.0),\n",
      "/tmp/ipykernel_20/1395528414.py:23: FutureWarning: suggest_uniform has been deprecated in v3.0.0. This feature will be removed in v6.0.0. See https://github.com/optuna/optuna/releases/tag/v3.0.0. Use suggest_float instead.\n",
      "  'colsample_bytree': trial.suggest_uniform('colsample_bytree', 0.5, 1.0),\n",
      "/tmp/ipykernel_20/1395528414.py:24: FutureWarning: suggest_loguniform has been deprecated in v3.0.0. This feature will be removed in v6.0.0. See https://github.com/optuna/optuna/releases/tag/v3.0.0. Use suggest_float(..., log=True) instead.\n",
      "  'gamma': trial.suggest_loguniform('gamma', 0.001, 0.2),\n",
      "[I 2023-07-29 09:49:23,645] Trial 7 finished with value: 1.0338346133860843 and parameters: {'n_estimators': 450, 'max_depth': 6, 'learning_rate': 0.9309315622452287, 'subsample': 0.7097489545011224, 'colsample_bytree': 0.9700695879618921, 'gamma': 0.12044189633846941}. Best is trial 0 with value: 0.6143401127819764.\n",
      "/tmp/ipykernel_20/1395528414.py:21: FutureWarning: suggest_loguniform has been deprecated in v3.0.0. This feature will be removed in v6.0.0. See https://github.com/optuna/optuna/releases/tag/v3.0.0. Use suggest_float(..., log=True) instead.\n",
      "  'learning_rate': trial.suggest_loguniform('learning_rate', 0.001, 1.0),\n",
      "/tmp/ipykernel_20/1395528414.py:22: FutureWarning: suggest_uniform has been deprecated in v3.0.0. This feature will be removed in v6.0.0. See https://github.com/optuna/optuna/releases/tag/v3.0.0. Use suggest_float instead.\n",
      "  'subsample': trial.suggest_uniform('subsample', 0.5, 1.0),\n",
      "/tmp/ipykernel_20/1395528414.py:23: FutureWarning: suggest_uniform has been deprecated in v3.0.0. This feature will be removed in v6.0.0. See https://github.com/optuna/optuna/releases/tag/v3.0.0. Use suggest_float instead.\n",
      "  'colsample_bytree': trial.suggest_uniform('colsample_bytree', 0.5, 1.0),\n",
      "/tmp/ipykernel_20/1395528414.py:24: FutureWarning: suggest_loguniform has been deprecated in v3.0.0. This feature will be removed in v6.0.0. See https://github.com/optuna/optuna/releases/tag/v3.0.0. Use suggest_float(..., log=True) instead.\n",
      "  'gamma': trial.suggest_loguniform('gamma', 0.001, 0.2),\n",
      "[I 2023-07-29 09:49:24,159] Trial 8 finished with value: 0.6508906550701066 and parameters: {'n_estimators': 50, 'max_depth': 5, 'learning_rate': 0.01118448087102421, 'subsample': 0.6364072688115752, 'colsample_bytree': 0.609940925005397, 'gamma': 0.0011527522923005132}. Best is trial 0 with value: 0.6143401127819764.\n",
      "/tmp/ipykernel_20/1395528414.py:21: FutureWarning: suggest_loguniform has been deprecated in v3.0.0. This feature will be removed in v6.0.0. See https://github.com/optuna/optuna/releases/tag/v3.0.0. Use suggest_float(..., log=True) instead.\n",
      "  'learning_rate': trial.suggest_loguniform('learning_rate', 0.001, 1.0),\n",
      "/tmp/ipykernel_20/1395528414.py:22: FutureWarning: suggest_uniform has been deprecated in v3.0.0. This feature will be removed in v6.0.0. See https://github.com/optuna/optuna/releases/tag/v3.0.0. Use suggest_float instead.\n",
      "  'subsample': trial.suggest_uniform('subsample', 0.5, 1.0),\n",
      "/tmp/ipykernel_20/1395528414.py:23: FutureWarning: suggest_uniform has been deprecated in v3.0.0. This feature will be removed in v6.0.0. See https://github.com/optuna/optuna/releases/tag/v3.0.0. Use suggest_float instead.\n",
      "  'colsample_bytree': trial.suggest_uniform('colsample_bytree', 0.5, 1.0),\n",
      "/tmp/ipykernel_20/1395528414.py:24: FutureWarning: suggest_loguniform has been deprecated in v3.0.0. This feature will be removed in v6.0.0. See https://github.com/optuna/optuna/releases/tag/v3.0.0. Use suggest_float(..., log=True) instead.\n",
      "  'gamma': trial.suggest_loguniform('gamma', 0.001, 0.2),\n",
      "[I 2023-07-29 09:49:27,594] Trial 9 finished with value: 0.7086297193639479 and parameters: {'n_estimators': 800, 'max_depth': 5, 'learning_rate': 0.17758348528645684, 'subsample': 0.5988554897344057, 'colsample_bytree': 0.5893512236684164, 'gamma': 0.09949958299599662}. Best is trial 0 with value: 0.6143401127819764.\n",
      "/tmp/ipykernel_20/1395528414.py:21: FutureWarning: suggest_loguniform has been deprecated in v3.0.0. This feature will be removed in v6.0.0. See https://github.com/optuna/optuna/releases/tag/v3.0.0. Use suggest_float(..., log=True) instead.\n",
      "  'learning_rate': trial.suggest_loguniform('learning_rate', 0.001, 1.0),\n",
      "/tmp/ipykernel_20/1395528414.py:22: FutureWarning: suggest_uniform has been deprecated in v3.0.0. This feature will be removed in v6.0.0. See https://github.com/optuna/optuna/releases/tag/v3.0.0. Use suggest_float instead.\n",
      "  'subsample': trial.suggest_uniform('subsample', 0.5, 1.0),\n",
      "/tmp/ipykernel_20/1395528414.py:23: FutureWarning: suggest_uniform has been deprecated in v3.0.0. This feature will be removed in v6.0.0. See https://github.com/optuna/optuna/releases/tag/v3.0.0. Use suggest_float instead.\n",
      "  'colsample_bytree': trial.suggest_uniform('colsample_bytree', 0.5, 1.0),\n",
      "/tmp/ipykernel_20/1395528414.py:24: FutureWarning: suggest_loguniform has been deprecated in v3.0.0. This feature will be removed in v6.0.0. See https://github.com/optuna/optuna/releases/tag/v3.0.0. Use suggest_float(..., log=True) instead.\n",
      "  'gamma': trial.suggest_loguniform('gamma', 0.001, 0.2),\n",
      "[I 2023-07-29 09:49:29,509] Trial 10 finished with value: 0.6632935591556082 and parameters: {'n_estimators': 250, 'max_depth': 3, 'learning_rate': 0.0015324096879023139, 'subsample': 0.8775629773435315, 'colsample_bytree': 0.7732677193234412, 'gamma': 0.0059411372365243366}. Best is trial 0 with value: 0.6143401127819764.\n",
      "/tmp/ipykernel_20/1395528414.py:21: FutureWarning: suggest_loguniform has been deprecated in v3.0.0. This feature will be removed in v6.0.0. See https://github.com/optuna/optuna/releases/tag/v3.0.0. Use suggest_float(..., log=True) instead.\n",
      "  'learning_rate': trial.suggest_loguniform('learning_rate', 0.001, 1.0),\n",
      "/tmp/ipykernel_20/1395528414.py:22: FutureWarning: suggest_uniform has been deprecated in v3.0.0. This feature will be removed in v6.0.0. See https://github.com/optuna/optuna/releases/tag/v3.0.0. Use suggest_float instead.\n",
      "  'subsample': trial.suggest_uniform('subsample', 0.5, 1.0),\n",
      "/tmp/ipykernel_20/1395528414.py:23: FutureWarning: suggest_uniform has been deprecated in v3.0.0. This feature will be removed in v6.0.0. See https://github.com/optuna/optuna/releases/tag/v3.0.0. Use suggest_float instead.\n",
      "  'colsample_bytree': trial.suggest_uniform('colsample_bytree', 0.5, 1.0),\n",
      "/tmp/ipykernel_20/1395528414.py:24: FutureWarning: suggest_loguniform has been deprecated in v3.0.0. This feature will be removed in v6.0.0. See https://github.com/optuna/optuna/releases/tag/v3.0.0. Use suggest_float(..., log=True) instead.\n",
      "  'gamma': trial.suggest_loguniform('gamma', 0.001, 0.2),\n",
      "[I 2023-07-29 09:49:34,948] Trial 11 finished with value: 0.6221197030306227 and parameters: {'n_estimators': 700, 'max_depth': 3, 'learning_rate': 0.014769301073724012, 'subsample': 0.5163711340333488, 'colsample_bytree': 0.7787307243317839, 'gamma': 0.014989037316714728}. Best is trial 0 with value: 0.6143401127819764.\n",
      "/tmp/ipykernel_20/1395528414.py:21: FutureWarning: suggest_loguniform has been deprecated in v3.0.0. This feature will be removed in v6.0.0. See https://github.com/optuna/optuna/releases/tag/v3.0.0. Use suggest_float(..., log=True) instead.\n",
      "  'learning_rate': trial.suggest_loguniform('learning_rate', 0.001, 1.0),\n",
      "/tmp/ipykernel_20/1395528414.py:22: FutureWarning: suggest_uniform has been deprecated in v3.0.0. This feature will be removed in v6.0.0. See https://github.com/optuna/optuna/releases/tag/v3.0.0. Use suggest_float instead.\n",
      "  'subsample': trial.suggest_uniform('subsample', 0.5, 1.0),\n",
      "/tmp/ipykernel_20/1395528414.py:23: FutureWarning: suggest_uniform has been deprecated in v3.0.0. This feature will be removed in v6.0.0. See https://github.com/optuna/optuna/releases/tag/v3.0.0. Use suggest_float instead.\n",
      "  'colsample_bytree': trial.suggest_uniform('colsample_bytree', 0.5, 1.0),\n",
      "/tmp/ipykernel_20/1395528414.py:24: FutureWarning: suggest_loguniform has been deprecated in v3.0.0. This feature will be removed in v6.0.0. See https://github.com/optuna/optuna/releases/tag/v3.0.0. Use suggest_float(..., log=True) instead.\n",
      "  'gamma': trial.suggest_loguniform('gamma', 0.001, 0.2),\n",
      "[I 2023-07-29 09:49:39,131] Trial 12 finished with value: 0.6515195567030769 and parameters: {'n_estimators': 650, 'max_depth': 3, 'learning_rate': 0.006751407092719001, 'subsample': 0.5427715795822132, 'colsample_bytree': 0.7054148401566038, 'gamma': 0.015146389176475216}. Best is trial 0 with value: 0.6143401127819764.\n",
      "/tmp/ipykernel_20/1395528414.py:21: FutureWarning: suggest_loguniform has been deprecated in v3.0.0. This feature will be removed in v6.0.0. See https://github.com/optuna/optuna/releases/tag/v3.0.0. Use suggest_float(..., log=True) instead.\n",
      "  'learning_rate': trial.suggest_loguniform('learning_rate', 0.001, 1.0),\n",
      "/tmp/ipykernel_20/1395528414.py:22: FutureWarning: suggest_uniform has been deprecated in v3.0.0. This feature will be removed in v6.0.0. See https://github.com/optuna/optuna/releases/tag/v3.0.0. Use suggest_float instead.\n",
      "  'subsample': trial.suggest_uniform('subsample', 0.5, 1.0),\n",
      "/tmp/ipykernel_20/1395528414.py:23: FutureWarning: suggest_uniform has been deprecated in v3.0.0. This feature will be removed in v6.0.0. See https://github.com/optuna/optuna/releases/tag/v3.0.0. Use suggest_float instead.\n",
      "  'colsample_bytree': trial.suggest_uniform('colsample_bytree', 0.5, 1.0),\n",
      "/tmp/ipykernel_20/1395528414.py:24: FutureWarning: suggest_loguniform has been deprecated in v3.0.0. This feature will be removed in v6.0.0. See https://github.com/optuna/optuna/releases/tag/v3.0.0. Use suggest_float(..., log=True) instead.\n",
      "  'gamma': trial.suggest_loguniform('gamma', 0.001, 0.2),\n",
      "[I 2023-07-29 09:49:43,089] Trial 13 finished with value: 0.6567826046853809 and parameters: {'n_estimators': 600, 'max_depth': 3, 'learning_rate': 0.004591612407010379, 'subsample': 0.5006258219636045, 'colsample_bytree': 0.8419570276794508, 'gamma': 0.006478546229968716}. Best is trial 0 with value: 0.6143401127819764.\n",
      "/tmp/ipykernel_20/1395528414.py:21: FutureWarning: suggest_loguniform has been deprecated in v3.0.0. This feature will be removed in v6.0.0. See https://github.com/optuna/optuna/releases/tag/v3.0.0. Use suggest_float(..., log=True) instead.\n",
      "  'learning_rate': trial.suggest_loguniform('learning_rate', 0.001, 1.0),\n",
      "/tmp/ipykernel_20/1395528414.py:22: FutureWarning: suggest_uniform has been deprecated in v3.0.0. This feature will be removed in v6.0.0. See https://github.com/optuna/optuna/releases/tag/v3.0.0. Use suggest_float instead.\n",
      "  'subsample': trial.suggest_uniform('subsample', 0.5, 1.0),\n",
      "/tmp/ipykernel_20/1395528414.py:23: FutureWarning: suggest_uniform has been deprecated in v3.0.0. This feature will be removed in v6.0.0. See https://github.com/optuna/optuna/releases/tag/v3.0.0. Use suggest_float instead.\n",
      "  'colsample_bytree': trial.suggest_uniform('colsample_bytree', 0.5, 1.0),\n",
      "/tmp/ipykernel_20/1395528414.py:24: FutureWarning: suggest_loguniform has been deprecated in v3.0.0. This feature will be removed in v6.0.0. See https://github.com/optuna/optuna/releases/tag/v3.0.0. Use suggest_float(..., log=True) instead.\n",
      "  'gamma': trial.suggest_loguniform('gamma', 0.001, 0.2),\n",
      "[I 2023-07-29 09:49:45,082] Trial 14 finished with value: 0.6251473180015413 and parameters: {'n_estimators': 250, 'max_depth': 4, 'learning_rate': 0.037671558680709226, 'subsample': 0.7965987064240491, 'colsample_bytree': 0.7016313035515287, 'gamma': 0.020966154755322184}. Best is trial 0 with value: 0.6143401127819764.\n",
      "/tmp/ipykernel_20/1395528414.py:21: FutureWarning: suggest_loguniform has been deprecated in v3.0.0. This feature will be removed in v6.0.0. See https://github.com/optuna/optuna/releases/tag/v3.0.0. Use suggest_float(..., log=True) instead.\n",
      "  'learning_rate': trial.suggest_loguniform('learning_rate', 0.001, 1.0),\n",
      "/tmp/ipykernel_20/1395528414.py:22: FutureWarning: suggest_uniform has been deprecated in v3.0.0. This feature will be removed in v6.0.0. See https://github.com/optuna/optuna/releases/tag/v3.0.0. Use suggest_float instead.\n",
      "  'subsample': trial.suggest_uniform('subsample', 0.5, 1.0),\n",
      "/tmp/ipykernel_20/1395528414.py:23: FutureWarning: suggest_uniform has been deprecated in v3.0.0. This feature will be removed in v6.0.0. See https://github.com/optuna/optuna/releases/tag/v3.0.0. Use suggest_float instead.\n",
      "  'colsample_bytree': trial.suggest_uniform('colsample_bytree', 0.5, 1.0),\n",
      "/tmp/ipykernel_20/1395528414.py:24: FutureWarning: suggest_loguniform has been deprecated in v3.0.0. This feature will be removed in v6.0.0. See https://github.com/optuna/optuna/releases/tag/v3.0.0. Use suggest_float(..., log=True) instead.\n",
      "  'gamma': trial.suggest_loguniform('gamma', 0.001, 0.2),\n",
      "[I 2023-07-29 09:49:49,953] Trial 15 finished with value: 0.6235390751664956 and parameters: {'n_estimators': 700, 'max_depth': 4, 'learning_rate': 0.013225656628388422, 'subsample': 0.8494090924435804, 'colsample_bytree': 0.5069298126196716, 'gamma': 0.006500855011839097}. Best is trial 0 with value: 0.6143401127819764.\n",
      "/tmp/ipykernel_20/1395528414.py:21: FutureWarning: suggest_loguniform has been deprecated in v3.0.0. This feature will be removed in v6.0.0. See https://github.com/optuna/optuna/releases/tag/v3.0.0. Use suggest_float(..., log=True) instead.\n",
      "  'learning_rate': trial.suggest_loguniform('learning_rate', 0.001, 1.0),\n",
      "/tmp/ipykernel_20/1395528414.py:22: FutureWarning: suggest_uniform has been deprecated in v3.0.0. This feature will be removed in v6.0.0. See https://github.com/optuna/optuna/releases/tag/v3.0.0. Use suggest_float instead.\n",
      "  'subsample': trial.suggest_uniform('subsample', 0.5, 1.0),\n",
      "/tmp/ipykernel_20/1395528414.py:23: FutureWarning: suggest_uniform has been deprecated in v3.0.0. This feature will be removed in v6.0.0. See https://github.com/optuna/optuna/releases/tag/v3.0.0. Use suggest_float instead.\n",
      "  'colsample_bytree': trial.suggest_uniform('colsample_bytree', 0.5, 1.0),\n",
      "/tmp/ipykernel_20/1395528414.py:24: FutureWarning: suggest_loguniform has been deprecated in v3.0.0. This feature will be removed in v6.0.0. See https://github.com/optuna/optuna/releases/tag/v3.0.0. Use suggest_float(..., log=True) instead.\n",
      "  'gamma': trial.suggest_loguniform('gamma', 0.001, 0.2),\n",
      "[I 2023-07-29 09:49:53,490] Trial 16 finished with value: 0.6017346662467536 and parameters: {'n_estimators': 250, 'max_depth': 7, 'learning_rate': 0.002852626681597767, 'subsample': 0.9190522519912572, 'colsample_bytree': 0.8555242289229193, 'gamma': 0.001073001843823991}. Best is trial 16 with value: 0.6017346662467536.\n",
      "/tmp/ipykernel_20/1395528414.py:21: FutureWarning: suggest_loguniform has been deprecated in v3.0.0. This feature will be removed in v6.0.0. See https://github.com/optuna/optuna/releases/tag/v3.0.0. Use suggest_float(..., log=True) instead.\n",
      "  'learning_rate': trial.suggest_loguniform('learning_rate', 0.001, 1.0),\n",
      "/tmp/ipykernel_20/1395528414.py:22: FutureWarning: suggest_uniform has been deprecated in v3.0.0. This feature will be removed in v6.0.0. See https://github.com/optuna/optuna/releases/tag/v3.0.0. Use suggest_float instead.\n",
      "  'subsample': trial.suggest_uniform('subsample', 0.5, 1.0),\n",
      "/tmp/ipykernel_20/1395528414.py:23: FutureWarning: suggest_uniform has been deprecated in v3.0.0. This feature will be removed in v6.0.0. See https://github.com/optuna/optuna/releases/tag/v3.0.0. Use suggest_float instead.\n",
      "  'colsample_bytree': trial.suggest_uniform('colsample_bytree', 0.5, 1.0),\n",
      "/tmp/ipykernel_20/1395528414.py:24: FutureWarning: suggest_loguniform has been deprecated in v3.0.0. This feature will be removed in v6.0.0. See https://github.com/optuna/optuna/releases/tag/v3.0.0. Use suggest_float(..., log=True) instead.\n",
      "  'gamma': trial.suggest_loguniform('gamma', 0.001, 0.2),\n",
      "[I 2023-07-29 09:49:57,176] Trial 17 finished with value: 0.6225276196882306 and parameters: {'n_estimators': 250, 'max_depth': 7, 'learning_rate': 0.00175424588413979, 'subsample': 0.9166464136686958, 'colsample_bytree': 0.8664738154546833, 'gamma': 0.0010068153222518147}. Best is trial 16 with value: 0.6017346662467536.\n",
      "/tmp/ipykernel_20/1395528414.py:21: FutureWarning: suggest_loguniform has been deprecated in v3.0.0. This feature will be removed in v6.0.0. See https://github.com/optuna/optuna/releases/tag/v3.0.0. Use suggest_float(..., log=True) instead.\n",
      "  'learning_rate': trial.suggest_loguniform('learning_rate', 0.001, 1.0),\n",
      "/tmp/ipykernel_20/1395528414.py:22: FutureWarning: suggest_uniform has been deprecated in v3.0.0. This feature will be removed in v6.0.0. See https://github.com/optuna/optuna/releases/tag/v3.0.0. Use suggest_float instead.\n",
      "  'subsample': trial.suggest_uniform('subsample', 0.5, 1.0),\n",
      "/tmp/ipykernel_20/1395528414.py:23: FutureWarning: suggest_uniform has been deprecated in v3.0.0. This feature will be removed in v6.0.0. See https://github.com/optuna/optuna/releases/tag/v3.0.0. Use suggest_float instead.\n",
      "  'colsample_bytree': trial.suggest_uniform('colsample_bytree', 0.5, 1.0),\n",
      "/tmp/ipykernel_20/1395528414.py:24: FutureWarning: suggest_loguniform has been deprecated in v3.0.0. This feature will be removed in v6.0.0. See https://github.com/optuna/optuna/releases/tag/v3.0.0. Use suggest_float(..., log=True) instead.\n",
      "  'gamma': trial.suggest_loguniform('gamma', 0.001, 0.2),\n",
      "[I 2023-07-29 09:50:00,157] Trial 18 finished with value: 0.6515615812316181 and parameters: {'n_estimators': 200, 'max_depth': 7, 'learning_rate': 0.0010476694545909933, 'subsample': 0.90042790328365, 'colsample_bytree': 0.9158931983102667, 'gamma': 0.002052507916275646}. Best is trial 16 with value: 0.6017346662467536.\n",
      "/tmp/ipykernel_20/1395528414.py:21: FutureWarning: suggest_loguniform has been deprecated in v3.0.0. This feature will be removed in v6.0.0. See https://github.com/optuna/optuna/releases/tag/v3.0.0. Use suggest_float(..., log=True) instead.\n",
      "  'learning_rate': trial.suggest_loguniform('learning_rate', 0.001, 1.0),\n",
      "/tmp/ipykernel_20/1395528414.py:22: FutureWarning: suggest_uniform has been deprecated in v3.0.0. This feature will be removed in v6.0.0. See https://github.com/optuna/optuna/releases/tag/v3.0.0. Use suggest_float instead.\n",
      "  'subsample': trial.suggest_uniform('subsample', 0.5, 1.0),\n",
      "/tmp/ipykernel_20/1395528414.py:23: FutureWarning: suggest_uniform has been deprecated in v3.0.0. This feature will be removed in v6.0.0. See https://github.com/optuna/optuna/releases/tag/v3.0.0. Use suggest_float instead.\n",
      "  'colsample_bytree': trial.suggest_uniform('colsample_bytree', 0.5, 1.0),\n",
      "/tmp/ipykernel_20/1395528414.py:24: FutureWarning: suggest_loguniform has been deprecated in v3.0.0. This feature will be removed in v6.0.0. See https://github.com/optuna/optuna/releases/tag/v3.0.0. Use suggest_float(..., log=True) instead.\n",
      "  'gamma': trial.suggest_loguniform('gamma', 0.001, 0.2),\n",
      "[I 2023-07-29 09:50:08,482] Trial 19 finished with value: 0.5838094648530529 and parameters: {'n_estimators': 500, 'max_depth': 6, 'learning_rate': 0.0034757765743639534, 'subsample': 0.9506138080693839, 'colsample_bytree': 0.8263112424669838, 'gamma': 0.0024749563423863545}. Best is trial 19 with value: 0.5838094648530529.\n",
      "/tmp/ipykernel_20/1395528414.py:21: FutureWarning: suggest_loguniform has been deprecated in v3.0.0. This feature will be removed in v6.0.0. See https://github.com/optuna/optuna/releases/tag/v3.0.0. Use suggest_float(..., log=True) instead.\n",
      "  'learning_rate': trial.suggest_loguniform('learning_rate', 0.001, 1.0),\n",
      "/tmp/ipykernel_20/1395528414.py:22: FutureWarning: suggest_uniform has been deprecated in v3.0.0. This feature will be removed in v6.0.0. See https://github.com/optuna/optuna/releases/tag/v3.0.0. Use suggest_float instead.\n",
      "  'subsample': trial.suggest_uniform('subsample', 0.5, 1.0),\n",
      "/tmp/ipykernel_20/1395528414.py:23: FutureWarning: suggest_uniform has been deprecated in v3.0.0. This feature will be removed in v6.0.0. See https://github.com/optuna/optuna/releases/tag/v3.0.0. Use suggest_float instead.\n",
      "  'colsample_bytree': trial.suggest_uniform('colsample_bytree', 0.5, 1.0),\n",
      "/tmp/ipykernel_20/1395528414.py:24: FutureWarning: suggest_loguniform has been deprecated in v3.0.0. This feature will be removed in v6.0.0. See https://github.com/optuna/optuna/releases/tag/v3.0.0. Use suggest_float(..., log=True) instead.\n",
      "  'gamma': trial.suggest_loguniform('gamma', 0.001, 0.2),\n",
      "[I 2023-07-29 09:50:15,297] Trial 20 finished with value: 0.5979004206579346 and parameters: {'n_estimators': 550, 'max_depth': 6, 'learning_rate': 0.002463952272986074, 'subsample': 0.8208485580743392, 'colsample_bytree': 0.830333051888329, 'gamma': 0.0035974940164709506}. Best is trial 19 with value: 0.5838094648530529.\n",
      "/tmp/ipykernel_20/1395528414.py:21: FutureWarning: suggest_loguniform has been deprecated in v3.0.0. This feature will be removed in v6.0.0. See https://github.com/optuna/optuna/releases/tag/v3.0.0. Use suggest_float(..., log=True) instead.\n",
      "  'learning_rate': trial.suggest_loguniform('learning_rate', 0.001, 1.0),\n",
      "/tmp/ipykernel_20/1395528414.py:22: FutureWarning: suggest_uniform has been deprecated in v3.0.0. This feature will be removed in v6.0.0. See https://github.com/optuna/optuna/releases/tag/v3.0.0. Use suggest_float instead.\n",
      "  'subsample': trial.suggest_uniform('subsample', 0.5, 1.0),\n",
      "/tmp/ipykernel_20/1395528414.py:23: FutureWarning: suggest_uniform has been deprecated in v3.0.0. This feature will be removed in v6.0.0. See https://github.com/optuna/optuna/releases/tag/v3.0.0. Use suggest_float instead.\n",
      "  'colsample_bytree': trial.suggest_uniform('colsample_bytree', 0.5, 1.0),\n",
      "/tmp/ipykernel_20/1395528414.py:24: FutureWarning: suggest_loguniform has been deprecated in v3.0.0. This feature will be removed in v6.0.0. See https://github.com/optuna/optuna/releases/tag/v3.0.0. Use suggest_float(..., log=True) instead.\n",
      "  'gamma': trial.suggest_loguniform('gamma', 0.001, 0.2),\n",
      "[I 2023-07-29 09:50:21,541] Trial 21 finished with value: 0.5933946881343669 and parameters: {'n_estimators': 500, 'max_depth': 6, 'learning_rate': 0.0032831626316608027, 'subsample': 0.8376556608902034, 'colsample_bytree': 0.8463573980045562, 'gamma': 0.0027897233086314113}. Best is trial 19 with value: 0.5838094648530529.\n",
      "/tmp/ipykernel_20/1395528414.py:21: FutureWarning: suggest_loguniform has been deprecated in v3.0.0. This feature will be removed in v6.0.0. See https://github.com/optuna/optuna/releases/tag/v3.0.0. Use suggest_float(..., log=True) instead.\n",
      "  'learning_rate': trial.suggest_loguniform('learning_rate', 0.001, 1.0),\n",
      "/tmp/ipykernel_20/1395528414.py:22: FutureWarning: suggest_uniform has been deprecated in v3.0.0. This feature will be removed in v6.0.0. See https://github.com/optuna/optuna/releases/tag/v3.0.0. Use suggest_float instead.\n",
      "  'subsample': trial.suggest_uniform('subsample', 0.5, 1.0),\n",
      "/tmp/ipykernel_20/1395528414.py:23: FutureWarning: suggest_uniform has been deprecated in v3.0.0. This feature will be removed in v6.0.0. See https://github.com/optuna/optuna/releases/tag/v3.0.0. Use suggest_float instead.\n",
      "  'colsample_bytree': trial.suggest_uniform('colsample_bytree', 0.5, 1.0),\n",
      "/tmp/ipykernel_20/1395528414.py:24: FutureWarning: suggest_loguniform has been deprecated in v3.0.0. This feature will be removed in v6.0.0. See https://github.com/optuna/optuna/releases/tag/v3.0.0. Use suggest_float(..., log=True) instead.\n",
      "  'gamma': trial.suggest_loguniform('gamma', 0.001, 0.2),\n",
      "[I 2023-07-29 09:50:27,766] Trial 22 finished with value: 0.5957728944928697 and parameters: {'n_estimators': 500, 'max_depth': 6, 'learning_rate': 0.003427861930273485, 'subsample': 0.841053901946198, 'colsample_bytree': 0.8171099146422238, 'gamma': 0.003173471795742844}. Best is trial 19 with value: 0.5838094648530529.\n",
      "/tmp/ipykernel_20/1395528414.py:21: FutureWarning: suggest_loguniform has been deprecated in v3.0.0. This feature will be removed in v6.0.0. See https://github.com/optuna/optuna/releases/tag/v3.0.0. Use suggest_float(..., log=True) instead.\n",
      "  'learning_rate': trial.suggest_loguniform('learning_rate', 0.001, 1.0),\n",
      "/tmp/ipykernel_20/1395528414.py:22: FutureWarning: suggest_uniform has been deprecated in v3.0.0. This feature will be removed in v6.0.0. See https://github.com/optuna/optuna/releases/tag/v3.0.0. Use suggest_float instead.\n",
      "  'subsample': trial.suggest_uniform('subsample', 0.5, 1.0),\n",
      "/tmp/ipykernel_20/1395528414.py:23: FutureWarning: suggest_uniform has been deprecated in v3.0.0. This feature will be removed in v6.0.0. See https://github.com/optuna/optuna/releases/tag/v3.0.0. Use suggest_float instead.\n",
      "  'colsample_bytree': trial.suggest_uniform('colsample_bytree', 0.5, 1.0),\n",
      "/tmp/ipykernel_20/1395528414.py:24: FutureWarning: suggest_loguniform has been deprecated in v3.0.0. This feature will be removed in v6.0.0. See https://github.com/optuna/optuna/releases/tag/v3.0.0. Use suggest_float(..., log=True) instead.\n",
      "  'gamma': trial.suggest_loguniform('gamma', 0.001, 0.2),\n",
      "[I 2023-07-29 09:50:34,238] Trial 23 finished with value: 0.5977135132568858 and parameters: {'n_estimators': 500, 'max_depth': 6, 'learning_rate': 0.004528081958759245, 'subsample': 0.8511465968216094, 'colsample_bytree': 0.9226618465424966, 'gamma': 0.003180165377264633}. Best is trial 19 with value: 0.5838094648530529.\n",
      "/tmp/ipykernel_20/1395528414.py:21: FutureWarning: suggest_loguniform has been deprecated in v3.0.0. This feature will be removed in v6.0.0. See https://github.com/optuna/optuna/releases/tag/v3.0.0. Use suggest_float(..., log=True) instead.\n",
      "  'learning_rate': trial.suggest_loguniform('learning_rate', 0.001, 1.0),\n",
      "/tmp/ipykernel_20/1395528414.py:22: FutureWarning: suggest_uniform has been deprecated in v3.0.0. This feature will be removed in v6.0.0. See https://github.com/optuna/optuna/releases/tag/v3.0.0. Use suggest_float instead.\n",
      "  'subsample': trial.suggest_uniform('subsample', 0.5, 1.0),\n",
      "/tmp/ipykernel_20/1395528414.py:23: FutureWarning: suggest_uniform has been deprecated in v3.0.0. This feature will be removed in v6.0.0. See https://github.com/optuna/optuna/releases/tag/v3.0.0. Use suggest_float instead.\n",
      "  'colsample_bytree': trial.suggest_uniform('colsample_bytree', 0.5, 1.0),\n",
      "/tmp/ipykernel_20/1395528414.py:24: FutureWarning: suggest_loguniform has been deprecated in v3.0.0. This feature will be removed in v6.0.0. See https://github.com/optuna/optuna/releases/tag/v3.0.0. Use suggest_float(..., log=True) instead.\n",
      "  'gamma': trial.suggest_loguniform('gamma', 0.001, 0.2),\n",
      "[I 2023-07-29 09:50:41,675] Trial 24 finished with value: 0.6062591503793149 and parameters: {'n_estimators': 500, 'max_depth': 8, 'learning_rate': 0.006425305820002205, 'subsample': 0.8029027313605371, 'colsample_bytree': 0.8204490649390188, 'gamma': 0.0043188141606022344}. Best is trial 19 with value: 0.5838094648530529.\n",
      "/tmp/ipykernel_20/1395528414.py:21: FutureWarning: suggest_loguniform has been deprecated in v3.0.0. This feature will be removed in v6.0.0. See https://github.com/optuna/optuna/releases/tag/v3.0.0. Use suggest_float(..., log=True) instead.\n",
      "  'learning_rate': trial.suggest_loguniform('learning_rate', 0.001, 1.0),\n",
      "/tmp/ipykernel_20/1395528414.py:22: FutureWarning: suggest_uniform has been deprecated in v3.0.0. This feature will be removed in v6.0.0. See https://github.com/optuna/optuna/releases/tag/v3.0.0. Use suggest_float instead.\n",
      "  'subsample': trial.suggest_uniform('subsample', 0.5, 1.0),\n",
      "/tmp/ipykernel_20/1395528414.py:23: FutureWarning: suggest_uniform has been deprecated in v3.0.0. This feature will be removed in v6.0.0. See https://github.com/optuna/optuna/releases/tag/v3.0.0. Use suggest_float instead.\n",
      "  'colsample_bytree': trial.suggest_uniform('colsample_bytree', 0.5, 1.0),\n",
      "/tmp/ipykernel_20/1395528414.py:24: FutureWarning: suggest_loguniform has been deprecated in v3.0.0. This feature will be removed in v6.0.0. See https://github.com/optuna/optuna/releases/tag/v3.0.0. Use suggest_float(..., log=True) instead.\n",
      "  'gamma': trial.suggest_loguniform('gamma', 0.001, 0.2),\n",
      "[I 2023-07-29 09:50:46,363] Trial 25 finished with value: 0.6373720940191434 and parameters: {'n_estimators': 350, 'max_depth': 6, 'learning_rate': 0.001028261122952974, 'subsample': 0.858441711497856, 'colsample_bytree': 0.906873809735062, 'gamma': 0.0018924770737748912}. Best is trial 19 with value: 0.5838094648530529.\n",
      "/tmp/ipykernel_20/1395528414.py:21: FutureWarning: suggest_loguniform has been deprecated in v3.0.0. This feature will be removed in v6.0.0. See https://github.com/optuna/optuna/releases/tag/v3.0.0. Use suggest_float(..., log=True) instead.\n",
      "  'learning_rate': trial.suggest_loguniform('learning_rate', 0.001, 1.0),\n",
      "/tmp/ipykernel_20/1395528414.py:22: FutureWarning: suggest_uniform has been deprecated in v3.0.0. This feature will be removed in v6.0.0. See https://github.com/optuna/optuna/releases/tag/v3.0.0. Use suggest_float instead.\n",
      "  'subsample': trial.suggest_uniform('subsample', 0.5, 1.0),\n",
      "/tmp/ipykernel_20/1395528414.py:23: FutureWarning: suggest_uniform has been deprecated in v3.0.0. This feature will be removed in v6.0.0. See https://github.com/optuna/optuna/releases/tag/v3.0.0. Use suggest_float instead.\n",
      "  'colsample_bytree': trial.suggest_uniform('colsample_bytree', 0.5, 1.0),\n",
      "/tmp/ipykernel_20/1395528414.py:24: FutureWarning: suggest_loguniform has been deprecated in v3.0.0. This feature will be removed in v6.0.0. See https://github.com/optuna/optuna/releases/tag/v3.0.0. Use suggest_float(..., log=True) instead.\n",
      "  'gamma': trial.suggest_loguniform('gamma', 0.001, 0.2),\n",
      "[I 2023-07-29 09:50:54,565] Trial 26 finished with value: 0.5813357555164361 and parameters: {'n_estimators': 600, 'max_depth': 7, 'learning_rate': 0.0027870734804041975, 'subsample': 0.947075921075081, 'colsample_bytree': 0.8109731970896233, 'gamma': 0.0026482005206325955}. Best is trial 26 with value: 0.5813357555164361.\n",
      "/tmp/ipykernel_20/1395528414.py:21: FutureWarning: suggest_loguniform has been deprecated in v3.0.0. This feature will be removed in v6.0.0. See https://github.com/optuna/optuna/releases/tag/v3.0.0. Use suggest_float(..., log=True) instead.\n",
      "  'learning_rate': trial.suggest_loguniform('learning_rate', 0.001, 1.0),\n",
      "/tmp/ipykernel_20/1395528414.py:22: FutureWarning: suggest_uniform has been deprecated in v3.0.0. This feature will be removed in v6.0.0. See https://github.com/optuna/optuna/releases/tag/v3.0.0. Use suggest_float instead.\n",
      "  'subsample': trial.suggest_uniform('subsample', 0.5, 1.0),\n",
      "/tmp/ipykernel_20/1395528414.py:23: FutureWarning: suggest_uniform has been deprecated in v3.0.0. This feature will be removed in v6.0.0. See https://github.com/optuna/optuna/releases/tag/v3.0.0. Use suggest_float instead.\n",
      "  'colsample_bytree': trial.suggest_uniform('colsample_bytree', 0.5, 1.0),\n",
      "/tmp/ipykernel_20/1395528414.py:24: FutureWarning: suggest_loguniform has been deprecated in v3.0.0. This feature will be removed in v6.0.0. See https://github.com/optuna/optuna/releases/tag/v3.0.0. Use suggest_float(..., log=True) instead.\n",
      "  'gamma': trial.suggest_loguniform('gamma', 0.001, 0.2),\n",
      "[I 2023-07-29 09:51:05,059] Trial 27 finished with value: 0.5869986119636674 and parameters: {'n_estimators': 800, 'max_depth': 7, 'learning_rate': 0.0020991497005790945, 'subsample': 0.9409031864626489, 'colsample_bytree': 0.7388562642499381, 'gamma': 0.008642189543664167}. Best is trial 26 with value: 0.5813357555164361.\n",
      "/tmp/ipykernel_20/1395528414.py:21: FutureWarning: suggest_loguniform has been deprecated in v3.0.0. This feature will be removed in v6.0.0. See https://github.com/optuna/optuna/releases/tag/v3.0.0. Use suggest_float(..., log=True) instead.\n",
      "  'learning_rate': trial.suggest_loguniform('learning_rate', 0.001, 1.0),\n",
      "/tmp/ipykernel_20/1395528414.py:22: FutureWarning: suggest_uniform has been deprecated in v3.0.0. This feature will be removed in v6.0.0. See https://github.com/optuna/optuna/releases/tag/v3.0.0. Use suggest_float instead.\n",
      "  'subsample': trial.suggest_uniform('subsample', 0.5, 1.0),\n",
      "/tmp/ipykernel_20/1395528414.py:23: FutureWarning: suggest_uniform has been deprecated in v3.0.0. This feature will be removed in v6.0.0. See https://github.com/optuna/optuna/releases/tag/v3.0.0. Use suggest_float instead.\n",
      "  'colsample_bytree': trial.suggest_uniform('colsample_bytree', 0.5, 1.0),\n",
      "/tmp/ipykernel_20/1395528414.py:24: FutureWarning: suggest_loguniform has been deprecated in v3.0.0. This feature will be removed in v6.0.0. See https://github.com/optuna/optuna/releases/tag/v3.0.0. Use suggest_float(..., log=True) instead.\n",
      "  'gamma': trial.suggest_loguniform('gamma', 0.001, 0.2),\n",
      "[I 2023-07-29 09:51:18,469] Trial 28 finished with value: 0.5849371354974384 and parameters: {'n_estimators': 850, 'max_depth': 9, 'learning_rate': 0.001884249305614927, 'subsample': 0.9514164383863156, 'colsample_bytree': 0.7341605919087788, 'gamma': 0.004816769002026422}. Best is trial 26 with value: 0.5813357555164361.\n",
      "/tmp/ipykernel_20/1395528414.py:21: FutureWarning: suggest_loguniform has been deprecated in v3.0.0. This feature will be removed in v6.0.0. See https://github.com/optuna/optuna/releases/tag/v3.0.0. Use suggest_float(..., log=True) instead.\n",
      "  'learning_rate': trial.suggest_loguniform('learning_rate', 0.001, 1.0),\n",
      "/tmp/ipykernel_20/1395528414.py:22: FutureWarning: suggest_uniform has been deprecated in v3.0.0. This feature will be removed in v6.0.0. See https://github.com/optuna/optuna/releases/tag/v3.0.0. Use suggest_float instead.\n",
      "  'subsample': trial.suggest_uniform('subsample', 0.5, 1.0),\n",
      "/tmp/ipykernel_20/1395528414.py:23: FutureWarning: suggest_uniform has been deprecated in v3.0.0. This feature will be removed in v6.0.0. See https://github.com/optuna/optuna/releases/tag/v3.0.0. Use suggest_float instead.\n",
      "  'colsample_bytree': trial.suggest_uniform('colsample_bytree', 0.5, 1.0),\n",
      "/tmp/ipykernel_20/1395528414.py:24: FutureWarning: suggest_loguniform has been deprecated in v3.0.0. This feature will be removed in v6.0.0. See https://github.com/optuna/optuna/releases/tag/v3.0.0. Use suggest_float(..., log=True) instead.\n",
      "  'gamma': trial.suggest_loguniform('gamma', 0.001, 0.2),\n",
      "[I 2023-07-29 09:51:32,977] Trial 29 finished with value: 0.5848989969208678 and parameters: {'n_estimators': 1000, 'max_depth': 10, 'learning_rate': 0.0017307039925248064, 'subsample': 0.9581336397811342, 'colsample_bytree': 0.7477117133030768, 'gamma': 0.0016336323624792537}. Best is trial 26 with value: 0.5813357555164361.\n",
      "/tmp/ipykernel_20/1395528414.py:21: FutureWarning: suggest_loguniform has been deprecated in v3.0.0. This feature will be removed in v6.0.0. See https://github.com/optuna/optuna/releases/tag/v3.0.0. Use suggest_float(..., log=True) instead.\n",
      "  'learning_rate': trial.suggest_loguniform('learning_rate', 0.001, 1.0),\n",
      "/tmp/ipykernel_20/1395528414.py:22: FutureWarning: suggest_uniform has been deprecated in v3.0.0. This feature will be removed in v6.0.0. See https://github.com/optuna/optuna/releases/tag/v3.0.0. Use suggest_float instead.\n",
      "  'subsample': trial.suggest_uniform('subsample', 0.5, 1.0),\n",
      "/tmp/ipykernel_20/1395528414.py:23: FutureWarning: suggest_uniform has been deprecated in v3.0.0. This feature will be removed in v6.0.0. See https://github.com/optuna/optuna/releases/tag/v3.0.0. Use suggest_float instead.\n",
      "  'colsample_bytree': trial.suggest_uniform('colsample_bytree', 0.5, 1.0),\n",
      "/tmp/ipykernel_20/1395528414.py:24: FutureWarning: suggest_loguniform has been deprecated in v3.0.0. This feature will be removed in v6.0.0. See https://github.com/optuna/optuna/releases/tag/v3.0.0. Use suggest_float(..., log=True) instead.\n",
      "  'gamma': trial.suggest_loguniform('gamma', 0.001, 0.2),\n",
      "[I 2023-07-29 09:51:44,575] Trial 30 finished with value: 0.6465962541299481 and parameters: {'n_estimators': 950, 'max_depth': 10, 'learning_rate': 0.008574501277018578, 'subsample': 0.9643464794428797, 'colsample_bytree': 0.8074575758519756, 'gamma': 0.0015100014744899855}. Best is trial 26 with value: 0.5813357555164361.\n",
      "/tmp/ipykernel_20/1395528414.py:21: FutureWarning: suggest_loguniform has been deprecated in v3.0.0. This feature will be removed in v6.0.0. See https://github.com/optuna/optuna/releases/tag/v3.0.0. Use suggest_float(..., log=True) instead.\n",
      "  'learning_rate': trial.suggest_loguniform('learning_rate', 0.001, 1.0),\n",
      "/tmp/ipykernel_20/1395528414.py:22: FutureWarning: suggest_uniform has been deprecated in v3.0.0. This feature will be removed in v6.0.0. See https://github.com/optuna/optuna/releases/tag/v3.0.0. Use suggest_float instead.\n",
      "  'subsample': trial.suggest_uniform('subsample', 0.5, 1.0),\n",
      "/tmp/ipykernel_20/1395528414.py:23: FutureWarning: suggest_uniform has been deprecated in v3.0.0. This feature will be removed in v6.0.0. See https://github.com/optuna/optuna/releases/tag/v3.0.0. Use suggest_float instead.\n",
      "  'colsample_bytree': trial.suggest_uniform('colsample_bytree', 0.5, 1.0),\n",
      "/tmp/ipykernel_20/1395528414.py:24: FutureWarning: suggest_loguniform has been deprecated in v3.0.0. This feature will be removed in v6.0.0. See https://github.com/optuna/optuna/releases/tag/v3.0.0. Use suggest_float(..., log=True) instead.\n",
      "  'gamma': trial.suggest_loguniform('gamma', 0.001, 0.2),\n",
      "[I 2023-07-29 09:51:57,742] Trial 31 finished with value: 0.583864777687909 and parameters: {'n_estimators': 900, 'max_depth': 9, 'learning_rate': 0.0016227261092594718, 'subsample': 0.9597815611928804, 'colsample_bytree': 0.7346081303324928, 'gamma': 0.0019382781123657303}. Best is trial 26 with value: 0.5813357555164361.\n",
      "/tmp/ipykernel_20/1395528414.py:21: FutureWarning: suggest_loguniform has been deprecated in v3.0.0. This feature will be removed in v6.0.0. See https://github.com/optuna/optuna/releases/tag/v3.0.0. Use suggest_float(..., log=True) instead.\n",
      "  'learning_rate': trial.suggest_loguniform('learning_rate', 0.001, 1.0),\n",
      "/tmp/ipykernel_20/1395528414.py:22: FutureWarning: suggest_uniform has been deprecated in v3.0.0. This feature will be removed in v6.0.0. See https://github.com/optuna/optuna/releases/tag/v3.0.0. Use suggest_float instead.\n",
      "  'subsample': trial.suggest_uniform('subsample', 0.5, 1.0),\n",
      "/tmp/ipykernel_20/1395528414.py:23: FutureWarning: suggest_uniform has been deprecated in v3.0.0. This feature will be removed in v6.0.0. See https://github.com/optuna/optuna/releases/tag/v3.0.0. Use suggest_float instead.\n",
      "  'colsample_bytree': trial.suggest_uniform('colsample_bytree', 0.5, 1.0),\n",
      "/tmp/ipykernel_20/1395528414.py:24: FutureWarning: suggest_loguniform has been deprecated in v3.0.0. This feature will be removed in v6.0.0. See https://github.com/optuna/optuna/releases/tag/v3.0.0. Use suggest_float(..., log=True) instead.\n",
      "  'gamma': trial.suggest_loguniform('gamma', 0.001, 0.2),\n",
      "[I 2023-07-29 09:52:12,909] Trial 32 finished with value: 0.5855442796769722 and parameters: {'n_estimators': 950, 'max_depth': 9, 'learning_rate': 0.0014250233450651458, 'subsample': 0.8932923820848258, 'colsample_bytree': 0.7962008085052124, 'gamma': 0.0016232780433181944}. Best is trial 26 with value: 0.5813357555164361.\n",
      "/tmp/ipykernel_20/1395528414.py:21: FutureWarning: suggest_loguniform has been deprecated in v3.0.0. This feature will be removed in v6.0.0. See https://github.com/optuna/optuna/releases/tag/v3.0.0. Use suggest_float(..., log=True) instead.\n",
      "  'learning_rate': trial.suggest_loguniform('learning_rate', 0.001, 1.0),\n",
      "/tmp/ipykernel_20/1395528414.py:22: FutureWarning: suggest_uniform has been deprecated in v3.0.0. This feature will be removed in v6.0.0. See https://github.com/optuna/optuna/releases/tag/v3.0.0. Use suggest_float instead.\n",
      "  'subsample': trial.suggest_uniform('subsample', 0.5, 1.0),\n",
      "/tmp/ipykernel_20/1395528414.py:23: FutureWarning: suggest_uniform has been deprecated in v3.0.0. This feature will be removed in v6.0.0. See https://github.com/optuna/optuna/releases/tag/v3.0.0. Use suggest_float instead.\n",
      "  'colsample_bytree': trial.suggest_uniform('colsample_bytree', 0.5, 1.0),\n",
      "/tmp/ipykernel_20/1395528414.py:24: FutureWarning: suggest_loguniform has been deprecated in v3.0.0. This feature will be removed in v6.0.0. See https://github.com/optuna/optuna/releases/tag/v3.0.0. Use suggest_float(..., log=True) instead.\n",
      "  'gamma': trial.suggest_loguniform('gamma', 0.001, 0.2),\n",
      "[I 2023-07-29 09:52:26,301] Trial 33 finished with value: 0.5957529584642277 and parameters: {'n_estimators': 950, 'max_depth': 10, 'learning_rate': 0.0026627368400576937, 'subsample': 0.9659092717517481, 'colsample_bytree': 0.7598420831839963, 'gamma': 0.002377945545759036}. Best is trial 26 with value: 0.5813357555164361.\n",
      "/tmp/ipykernel_20/1395528414.py:21: FutureWarning: suggest_loguniform has been deprecated in v3.0.0. This feature will be removed in v6.0.0. See https://github.com/optuna/optuna/releases/tag/v3.0.0. Use suggest_float(..., log=True) instead.\n",
      "  'learning_rate': trial.suggest_loguniform('learning_rate', 0.001, 1.0),\n",
      "/tmp/ipykernel_20/1395528414.py:22: FutureWarning: suggest_uniform has been deprecated in v3.0.0. This feature will be removed in v6.0.0. See https://github.com/optuna/optuna/releases/tag/v3.0.0. Use suggest_float instead.\n",
      "  'subsample': trial.suggest_uniform('subsample', 0.5, 1.0),\n",
      "/tmp/ipykernel_20/1395528414.py:23: FutureWarning: suggest_uniform has been deprecated in v3.0.0. This feature will be removed in v6.0.0. See https://github.com/optuna/optuna/releases/tag/v3.0.0. Use suggest_float instead.\n",
      "  'colsample_bytree': trial.suggest_uniform('colsample_bytree', 0.5, 1.0),\n",
      "/tmp/ipykernel_20/1395528414.py:24: FutureWarning: suggest_loguniform has been deprecated in v3.0.0. This feature will be removed in v6.0.0. See https://github.com/optuna/optuna/releases/tag/v3.0.0. Use suggest_float(..., log=True) instead.\n",
      "  'gamma': trial.suggest_loguniform('gamma', 0.001, 0.2),\n",
      "[I 2023-07-29 09:52:38,409] Trial 34 finished with value: 0.6309964475953823 and parameters: {'n_estimators': 1000, 'max_depth': 9, 'learning_rate': 0.005208861875303567, 'subsample': 0.9333595204690133, 'colsample_bytree': 0.793893191311807, 'gamma': 0.001496201359860779}. Best is trial 26 with value: 0.5813357555164361.\n",
      "/tmp/ipykernel_20/1395528414.py:21: FutureWarning: suggest_loguniform has been deprecated in v3.0.0. This feature will be removed in v6.0.0. See https://github.com/optuna/optuna/releases/tag/v3.0.0. Use suggest_float(..., log=True) instead.\n",
      "  'learning_rate': trial.suggest_loguniform('learning_rate', 0.001, 1.0),\n",
      "/tmp/ipykernel_20/1395528414.py:22: FutureWarning: suggest_uniform has been deprecated in v3.0.0. This feature will be removed in v6.0.0. See https://github.com/optuna/optuna/releases/tag/v3.0.0. Use suggest_float instead.\n",
      "  'subsample': trial.suggest_uniform('subsample', 0.5, 1.0),\n",
      "/tmp/ipykernel_20/1395528414.py:23: FutureWarning: suggest_uniform has been deprecated in v3.0.0. This feature will be removed in v6.0.0. See https://github.com/optuna/optuna/releases/tag/v3.0.0. Use suggest_float instead.\n",
      "  'colsample_bytree': trial.suggest_uniform('colsample_bytree', 0.5, 1.0),\n",
      "/tmp/ipykernel_20/1395528414.py:24: FutureWarning: suggest_loguniform has been deprecated in v3.0.0. This feature will be removed in v6.0.0. See https://github.com/optuna/optuna/releases/tag/v3.0.0. Use suggest_float(..., log=True) instead.\n",
      "  'gamma': trial.suggest_loguniform('gamma', 0.001, 0.2),\n",
      "[I 2023-07-29 09:52:50,679] Trial 35 finished with value: 0.6035762200361509 and parameters: {'n_estimators': 850, 'max_depth': 8, 'learning_rate': 0.003705989297885299, 'subsample': 0.9933661399292006, 'colsample_bytree': 0.7461058677646966, 'gamma': 0.002135097561936814}. Best is trial 26 with value: 0.5813357555164361.\n",
      "/tmp/ipykernel_20/1395528414.py:21: FutureWarning: suggest_loguniform has been deprecated in v3.0.0. This feature will be removed in v6.0.0. See https://github.com/optuna/optuna/releases/tag/v3.0.0. Use suggest_float(..., log=True) instead.\n",
      "  'learning_rate': trial.suggest_loguniform('learning_rate', 0.001, 1.0),\n",
      "/tmp/ipykernel_20/1395528414.py:22: FutureWarning: suggest_uniform has been deprecated in v3.0.0. This feature will be removed in v6.0.0. See https://github.com/optuna/optuna/releases/tag/v3.0.0. Use suggest_float instead.\n",
      "  'subsample': trial.suggest_uniform('subsample', 0.5, 1.0),\n",
      "/tmp/ipykernel_20/1395528414.py:23: FutureWarning: suggest_uniform has been deprecated in v3.0.0. This feature will be removed in v6.0.0. See https://github.com/optuna/optuna/releases/tag/v3.0.0. Use suggest_float instead.\n",
      "  'colsample_bytree': trial.suggest_uniform('colsample_bytree', 0.5, 1.0),\n",
      "/tmp/ipykernel_20/1395528414.py:24: FutureWarning: suggest_loguniform has been deprecated in v3.0.0. This feature will be removed in v6.0.0. See https://github.com/optuna/optuna/releases/tag/v3.0.0. Use suggest_float(..., log=True) instead.\n",
      "  'gamma': trial.suggest_loguniform('gamma', 0.001, 0.2),\n",
      "[I 2023-07-29 09:53:01,378] Trial 36 finished with value: 0.5950746315428694 and parameters: {'n_estimators': 750, 'max_depth': 10, 'learning_rate': 0.001373000294966433, 'subsample': 0.9672944478103006, 'colsample_bytree': 0.6754955186080358, 'gamma': 0.0024899935208429307}. Best is trial 26 with value: 0.5813357555164361.\n",
      "/tmp/ipykernel_20/1395528414.py:21: FutureWarning: suggest_loguniform has been deprecated in v3.0.0. This feature will be removed in v6.0.0. See https://github.com/optuna/optuna/releases/tag/v3.0.0. Use suggest_float(..., log=True) instead.\n",
      "  'learning_rate': trial.suggest_loguniform('learning_rate', 0.001, 1.0),\n",
      "/tmp/ipykernel_20/1395528414.py:22: FutureWarning: suggest_uniform has been deprecated in v3.0.0. This feature will be removed in v6.0.0. See https://github.com/optuna/optuna/releases/tag/v3.0.0. Use suggest_float instead.\n",
      "  'subsample': trial.suggest_uniform('subsample', 0.5, 1.0),\n",
      "/tmp/ipykernel_20/1395528414.py:23: FutureWarning: suggest_uniform has been deprecated in v3.0.0. This feature will be removed in v6.0.0. See https://github.com/optuna/optuna/releases/tag/v3.0.0. Use suggest_float instead.\n",
      "  'colsample_bytree': trial.suggest_uniform('colsample_bytree', 0.5, 1.0),\n",
      "/tmp/ipykernel_20/1395528414.py:24: FutureWarning: suggest_loguniform has been deprecated in v3.0.0. This feature will be removed in v6.0.0. See https://github.com/optuna/optuna/releases/tag/v3.0.0. Use suggest_float(..., log=True) instead.\n",
      "  'gamma': trial.suggest_loguniform('gamma', 0.001, 0.2),\n",
      "[I 2023-07-29 09:53:14,827] Trial 37 finished with value: 0.5899153767553775 and parameters: {'n_estimators': 900, 'max_depth': 8, 'learning_rate': 0.00233804039277699, 'subsample': 0.8925370947002134, 'colsample_bytree': 0.782550260695651, 'gamma': 0.001416110323150627}. Best is trial 26 with value: 0.5813357555164361.\n",
      "/tmp/ipykernel_20/1395528414.py:21: FutureWarning: suggest_loguniform has been deprecated in v3.0.0. This feature will be removed in v6.0.0. See https://github.com/optuna/optuna/releases/tag/v3.0.0. Use suggest_float(..., log=True) instead.\n",
      "  'learning_rate': trial.suggest_loguniform('learning_rate', 0.001, 1.0),\n",
      "/tmp/ipykernel_20/1395528414.py:22: FutureWarning: suggest_uniform has been deprecated in v3.0.0. This feature will be removed in v6.0.0. See https://github.com/optuna/optuna/releases/tag/v3.0.0. Use suggest_float instead.\n",
      "  'subsample': trial.suggest_uniform('subsample', 0.5, 1.0),\n",
      "/tmp/ipykernel_20/1395528414.py:23: FutureWarning: suggest_uniform has been deprecated in v3.0.0. This feature will be removed in v6.0.0. See https://github.com/optuna/optuna/releases/tag/v3.0.0. Use suggest_float instead.\n",
      "  'colsample_bytree': trial.suggest_uniform('colsample_bytree', 0.5, 1.0),\n",
      "/tmp/ipykernel_20/1395528414.py:24: FutureWarning: suggest_loguniform has been deprecated in v3.0.0. This feature will be removed in v6.0.0. See https://github.com/optuna/optuna/releases/tag/v3.0.0. Use suggest_float(..., log=True) instead.\n",
      "  'gamma': trial.suggest_loguniform('gamma', 0.001, 0.2),\n",
      "[I 2023-07-29 09:53:23,686] Trial 38 finished with value: 0.6051115867746706 and parameters: {'n_estimators': 600, 'max_depth': 9, 'learning_rate': 0.0010692678157052965, 'subsample': 0.996442233120723, 'colsample_bytree': 0.730061804955973, 'gamma': 0.0037539749271705987}. Best is trial 26 with value: 0.5813357555164361.\n",
      "/tmp/ipykernel_20/1395528414.py:21: FutureWarning: suggest_loguniform has been deprecated in v3.0.0. This feature will be removed in v6.0.0. See https://github.com/optuna/optuna/releases/tag/v3.0.0. Use suggest_float(..., log=True) instead.\n",
      "  'learning_rate': trial.suggest_loguniform('learning_rate', 0.001, 1.0),\n",
      "/tmp/ipykernel_20/1395528414.py:22: FutureWarning: suggest_uniform has been deprecated in v3.0.0. This feature will be removed in v6.0.0. See https://github.com/optuna/optuna/releases/tag/v3.0.0. Use suggest_float instead.\n",
      "  'subsample': trial.suggest_uniform('subsample', 0.5, 1.0),\n",
      "/tmp/ipykernel_20/1395528414.py:23: FutureWarning: suggest_uniform has been deprecated in v3.0.0. This feature will be removed in v6.0.0. See https://github.com/optuna/optuna/releases/tag/v3.0.0. Use suggest_float instead.\n",
      "  'colsample_bytree': trial.suggest_uniform('colsample_bytree', 0.5, 1.0),\n",
      "/tmp/ipykernel_20/1395528414.py:24: FutureWarning: suggest_loguniform has been deprecated in v3.0.0. This feature will be removed in v6.0.0. See https://github.com/optuna/optuna/releases/tag/v3.0.0. Use suggest_float(..., log=True) instead.\n",
      "  'gamma': trial.suggest_loguniform('gamma', 0.001, 0.2),\n",
      "[I 2023-07-29 09:53:29,085] Trial 39 finished with value: 0.6070042880211127 and parameters: {'n_estimators': 400, 'max_depth': 10, 'learning_rate': 0.008137530279535456, 'subsample': 0.9127366213433229, 'colsample_bytree': 0.7559126333675444, 'gamma': 0.0027989915112336013}. Best is trial 26 with value: 0.5813357555164361.\n",
      "/tmp/ipykernel_20/1395528414.py:21: FutureWarning: suggest_loguniform has been deprecated in v3.0.0. This feature will be removed in v6.0.0. See https://github.com/optuna/optuna/releases/tag/v3.0.0. Use suggest_float(..., log=True) instead.\n",
      "  'learning_rate': trial.suggest_loguniform('learning_rate', 0.001, 1.0),\n",
      "/tmp/ipykernel_20/1395528414.py:22: FutureWarning: suggest_uniform has been deprecated in v3.0.0. This feature will be removed in v6.0.0. See https://github.com/optuna/optuna/releases/tag/v3.0.0. Use suggest_float instead.\n",
      "  'subsample': trial.suggest_uniform('subsample', 0.5, 1.0),\n",
      "/tmp/ipykernel_20/1395528414.py:23: FutureWarning: suggest_uniform has been deprecated in v3.0.0. This feature will be removed in v6.0.0. See https://github.com/optuna/optuna/releases/tag/v3.0.0. Use suggest_float instead.\n",
      "  'colsample_bytree': trial.suggest_uniform('colsample_bytree', 0.5, 1.0),\n",
      "/tmp/ipykernel_20/1395528414.py:24: FutureWarning: suggest_loguniform has been deprecated in v3.0.0. This feature will be removed in v6.0.0. See https://github.com/optuna/optuna/releases/tag/v3.0.0. Use suggest_float(..., log=True) instead.\n",
      "  'gamma': trial.suggest_loguniform('gamma', 0.001, 0.2),\n",
      "[I 2023-07-29 09:53:37,007] Trial 40 finished with value: 0.6529133941106535 and parameters: {'n_estimators': 1000, 'max_depth': 9, 'learning_rate': 0.020810173738760995, 'subsample': 0.9380487530519483, 'colsample_bytree': 0.8161348169967508, 'gamma': 0.0018529976469536511}. Best is trial 26 with value: 0.5813357555164361.\n",
      "/tmp/ipykernel_20/1395528414.py:21: FutureWarning: suggest_loguniform has been deprecated in v3.0.0. This feature will be removed in v6.0.0. See https://github.com/optuna/optuna/releases/tag/v3.0.0. Use suggest_float(..., log=True) instead.\n",
      "  'learning_rate': trial.suggest_loguniform('learning_rate', 0.001, 1.0),\n",
      "/tmp/ipykernel_20/1395528414.py:22: FutureWarning: suggest_uniform has been deprecated in v3.0.0. This feature will be removed in v6.0.0. See https://github.com/optuna/optuna/releases/tag/v3.0.0. Use suggest_float instead.\n",
      "  'subsample': trial.suggest_uniform('subsample', 0.5, 1.0),\n",
      "/tmp/ipykernel_20/1395528414.py:23: FutureWarning: suggest_uniform has been deprecated in v3.0.0. This feature will be removed in v6.0.0. See https://github.com/optuna/optuna/releases/tag/v3.0.0. Use suggest_float instead.\n",
      "  'colsample_bytree': trial.suggest_uniform('colsample_bytree', 0.5, 1.0),\n",
      "/tmp/ipykernel_20/1395528414.py:24: FutureWarning: suggest_loguniform has been deprecated in v3.0.0. This feature will be removed in v6.0.0. See https://github.com/optuna/optuna/releases/tag/v3.0.0. Use suggest_float(..., log=True) instead.\n",
      "  'gamma': trial.suggest_loguniform('gamma', 0.001, 0.2),\n",
      "[I 2023-07-29 09:53:50,069] Trial 41 finished with value: 0.5859064941732743 and parameters: {'n_estimators': 850, 'max_depth': 9, 'learning_rate': 0.001872950649071192, 'subsample': 0.948762400366021, 'colsample_bytree': 0.7257291077280119, 'gamma': 0.004455120560772288}. Best is trial 26 with value: 0.5813357555164361.\n",
      "/tmp/ipykernel_20/1395528414.py:21: FutureWarning: suggest_loguniform has been deprecated in v3.0.0. This feature will be removed in v6.0.0. See https://github.com/optuna/optuna/releases/tag/v3.0.0. Use suggest_float(..., log=True) instead.\n",
      "  'learning_rate': trial.suggest_loguniform('learning_rate', 0.001, 1.0),\n",
      "/tmp/ipykernel_20/1395528414.py:22: FutureWarning: suggest_uniform has been deprecated in v3.0.0. This feature will be removed in v6.0.0. See https://github.com/optuna/optuna/releases/tag/v3.0.0. Use suggest_float instead.\n",
      "  'subsample': trial.suggest_uniform('subsample', 0.5, 1.0),\n",
      "/tmp/ipykernel_20/1395528414.py:23: FutureWarning: suggest_uniform has been deprecated in v3.0.0. This feature will be removed in v6.0.0. See https://github.com/optuna/optuna/releases/tag/v3.0.0. Use suggest_float instead.\n",
      "  'colsample_bytree': trial.suggest_uniform('colsample_bytree', 0.5, 1.0),\n",
      "/tmp/ipykernel_20/1395528414.py:24: FutureWarning: suggest_loguniform has been deprecated in v3.0.0. This feature will be removed in v6.0.0. See https://github.com/optuna/optuna/releases/tag/v3.0.0. Use suggest_float(..., log=True) instead.\n",
      "  'gamma': trial.suggest_loguniform('gamma', 0.001, 0.2),\n",
      "[I 2023-07-29 09:54:02,968] Trial 42 finished with value: 0.5875089816468515 and parameters: {'n_estimators': 900, 'max_depth': 10, 'learning_rate': 0.0016512455503405, 'subsample': 0.970808231170417, 'colsample_bytree': 0.6787621845658318, 'gamma': 0.0024016124030389057}. Best is trial 26 with value: 0.5813357555164361.\n",
      "/tmp/ipykernel_20/1395528414.py:21: FutureWarning: suggest_loguniform has been deprecated in v3.0.0. This feature will be removed in v6.0.0. See https://github.com/optuna/optuna/releases/tag/v3.0.0. Use suggest_float(..., log=True) instead.\n",
      "  'learning_rate': trial.suggest_loguniform('learning_rate', 0.001, 1.0),\n",
      "/tmp/ipykernel_20/1395528414.py:22: FutureWarning: suggest_uniform has been deprecated in v3.0.0. This feature will be removed in v6.0.0. See https://github.com/optuna/optuna/releases/tag/v3.0.0. Use suggest_float instead.\n",
      "  'subsample': trial.suggest_uniform('subsample', 0.5, 1.0),\n",
      "/tmp/ipykernel_20/1395528414.py:23: FutureWarning: suggest_uniform has been deprecated in v3.0.0. This feature will be removed in v6.0.0. See https://github.com/optuna/optuna/releases/tag/v3.0.0. Use suggest_float instead.\n",
      "  'colsample_bytree': trial.suggest_uniform('colsample_bytree', 0.5, 1.0),\n",
      "/tmp/ipykernel_20/1395528414.py:24: FutureWarning: suggest_loguniform has been deprecated in v3.0.0. This feature will be removed in v6.0.0. See https://github.com/optuna/optuna/releases/tag/v3.0.0. Use suggest_float(..., log=True) instead.\n",
      "  'gamma': trial.suggest_loguniform('gamma', 0.001, 0.2),\n",
      "[I 2023-07-29 09:54:14,668] Trial 43 finished with value: 0.5850841971155945 and parameters: {'n_estimators': 800, 'max_depth': 9, 'learning_rate': 0.0025360124080561017, 'subsample': 0.9480435539280081, 'colsample_bytree': 0.7707798519837118, 'gamma': 0.0012963469887064076}. Best is trial 26 with value: 0.5813357555164361.\n",
      "/tmp/ipykernel_20/1395528414.py:21: FutureWarning: suggest_loguniform has been deprecated in v3.0.0. This feature will be removed in v6.0.0. See https://github.com/optuna/optuna/releases/tag/v3.0.0. Use suggest_float(..., log=True) instead.\n",
      "  'learning_rate': trial.suggest_loguniform('learning_rate', 0.001, 1.0),\n",
      "/tmp/ipykernel_20/1395528414.py:22: FutureWarning: suggest_uniform has been deprecated in v3.0.0. This feature will be removed in v6.0.0. See https://github.com/optuna/optuna/releases/tag/v3.0.0. Use suggest_float instead.\n",
      "  'subsample': trial.suggest_uniform('subsample', 0.5, 1.0),\n",
      "/tmp/ipykernel_20/1395528414.py:23: FutureWarning: suggest_uniform has been deprecated in v3.0.0. This feature will be removed in v6.0.0. See https://github.com/optuna/optuna/releases/tag/v3.0.0. Use suggest_float instead.\n",
      "  'colsample_bytree': trial.suggest_uniform('colsample_bytree', 0.5, 1.0),\n",
      "/tmp/ipykernel_20/1395528414.py:24: FutureWarning: suggest_loguniform has been deprecated in v3.0.0. This feature will be removed in v6.0.0. See https://github.com/optuna/optuna/releases/tag/v3.0.0. Use suggest_float(..., log=True) instead.\n",
      "  'gamma': trial.suggest_loguniform('gamma', 0.001, 0.2),\n",
      "[I 2023-07-29 09:54:27,788] Trial 44 finished with value: 0.6080179260574284 and parameters: {'n_estimators': 900, 'max_depth': 8, 'learning_rate': 0.00400920823880583, 'subsample': 0.9794646298873595, 'colsample_bytree': 0.793875417487838, 'gamma': 0.0017772041278787717}. Best is trial 26 with value: 0.5813357555164361.\n",
      "/tmp/ipykernel_20/1395528414.py:21: FutureWarning: suggest_loguniform has been deprecated in v3.0.0. This feature will be removed in v6.0.0. See https://github.com/optuna/optuna/releases/tag/v3.0.0. Use suggest_float(..., log=True) instead.\n",
      "  'learning_rate': trial.suggest_loguniform('learning_rate', 0.001, 1.0),\n",
      "/tmp/ipykernel_20/1395528414.py:22: FutureWarning: suggest_uniform has been deprecated in v3.0.0. This feature will be removed in v6.0.0. See https://github.com/optuna/optuna/releases/tag/v3.0.0. Use suggest_float instead.\n",
      "  'subsample': trial.suggest_uniform('subsample', 0.5, 1.0),\n",
      "/tmp/ipykernel_20/1395528414.py:23: FutureWarning: suggest_uniform has been deprecated in v3.0.0. This feature will be removed in v6.0.0. See https://github.com/optuna/optuna/releases/tag/v3.0.0. Use suggest_float instead.\n",
      "  'colsample_bytree': trial.suggest_uniform('colsample_bytree', 0.5, 1.0),\n",
      "/tmp/ipykernel_20/1395528414.py:24: FutureWarning: suggest_loguniform has been deprecated in v3.0.0. This feature will be removed in v6.0.0. See https://github.com/optuna/optuna/releases/tag/v3.0.0. Use suggest_float(..., log=True) instead.\n",
      "  'gamma': trial.suggest_loguniform('gamma', 0.001, 0.2),\n",
      "[I 2023-07-29 09:54:38,161] Trial 45 finished with value: 0.5934617725037461 and parameters: {'n_estimators': 750, 'max_depth': 10, 'learning_rate': 0.002103436331386261, 'subsample': 0.8803330732882225, 'colsample_bytree': 0.720524157574442, 'gamma': 0.0013318977725526428}. Best is trial 26 with value: 0.5813357555164361.\n",
      "/tmp/ipykernel_20/1395528414.py:21: FutureWarning: suggest_loguniform has been deprecated in v3.0.0. This feature will be removed in v6.0.0. See https://github.com/optuna/optuna/releases/tag/v3.0.0. Use suggest_float(..., log=True) instead.\n",
      "  'learning_rate': trial.suggest_loguniform('learning_rate', 0.001, 1.0),\n",
      "/tmp/ipykernel_20/1395528414.py:22: FutureWarning: suggest_uniform has been deprecated in v3.0.0. This feature will be removed in v6.0.0. See https://github.com/optuna/optuna/releases/tag/v3.0.0. Use suggest_float instead.\n",
      "  'subsample': trial.suggest_uniform('subsample', 0.5, 1.0),\n",
      "/tmp/ipykernel_20/1395528414.py:23: FutureWarning: suggest_uniform has been deprecated in v3.0.0. This feature will be removed in v6.0.0. See https://github.com/optuna/optuna/releases/tag/v3.0.0. Use suggest_float instead.\n",
      "  'colsample_bytree': trial.suggest_uniform('colsample_bytree', 0.5, 1.0),\n",
      "/tmp/ipykernel_20/1395528414.py:24: FutureWarning: suggest_loguniform has been deprecated in v3.0.0. This feature will be removed in v6.0.0. See https://github.com/optuna/optuna/releases/tag/v3.0.0. Use suggest_float(..., log=True) instead.\n",
      "  'gamma': trial.suggest_loguniform('gamma', 0.001, 0.2),\n",
      "[I 2023-07-29 09:54:46,644] Trial 46 finished with value: 0.5992734947169639 and parameters: {'n_estimators': 600, 'max_depth': 8, 'learning_rate': 0.0013447321833611385, 'subsample': 0.9351613685121369, 'colsample_bytree': 0.7496947842607489, 'gamma': 0.005056054390318568}. Best is trial 26 with value: 0.5813357555164361.\n",
      "/tmp/ipykernel_20/1395528414.py:21: FutureWarning: suggest_loguniform has been deprecated in v3.0.0. This feature will be removed in v6.0.0. See https://github.com/optuna/optuna/releases/tag/v3.0.0. Use suggest_float(..., log=True) instead.\n",
      "  'learning_rate': trial.suggest_loguniform('learning_rate', 0.001, 1.0),\n",
      "/tmp/ipykernel_20/1395528414.py:22: FutureWarning: suggest_uniform has been deprecated in v3.0.0. This feature will be removed in v6.0.0. See https://github.com/optuna/optuna/releases/tag/v3.0.0. Use suggest_float instead.\n",
      "  'subsample': trial.suggest_uniform('subsample', 0.5, 1.0),\n",
      "/tmp/ipykernel_20/1395528414.py:23: FutureWarning: suggest_uniform has been deprecated in v3.0.0. This feature will be removed in v6.0.0. See https://github.com/optuna/optuna/releases/tag/v3.0.0. Use suggest_float instead.\n",
      "  'colsample_bytree': trial.suggest_uniform('colsample_bytree', 0.5, 1.0),\n",
      "/tmp/ipykernel_20/1395528414.py:24: FutureWarning: suggest_loguniform has been deprecated in v3.0.0. This feature will be removed in v6.0.0. See https://github.com/optuna/optuna/releases/tag/v3.0.0. Use suggest_float(..., log=True) instead.\n",
      "  'gamma': trial.suggest_loguniform('gamma', 0.001, 0.2),\n",
      "[I 2023-07-29 09:54:54,264] Trial 47 finished with value: 0.6071194260463161 and parameters: {'n_estimators': 650, 'max_depth': 5, 'learning_rate': 0.005676488015886442, 'subsample': 0.9978164750905538, 'colsample_bytree': 0.6700359324932744, 'gamma': 0.003208324731468656}. Best is trial 26 with value: 0.5813357555164361.\n",
      "/tmp/ipykernel_20/1395528414.py:21: FutureWarning: suggest_loguniform has been deprecated in v3.0.0. This feature will be removed in v6.0.0. See https://github.com/optuna/optuna/releases/tag/v3.0.0. Use suggest_float(..., log=True) instead.\n",
      "  'learning_rate': trial.suggest_loguniform('learning_rate', 0.001, 1.0),\n",
      "/tmp/ipykernel_20/1395528414.py:22: FutureWarning: suggest_uniform has been deprecated in v3.0.0. This feature will be removed in v6.0.0. See https://github.com/optuna/optuna/releases/tag/v3.0.0. Use suggest_float instead.\n",
      "  'subsample': trial.suggest_uniform('subsample', 0.5, 1.0),\n",
      "/tmp/ipykernel_20/1395528414.py:23: FutureWarning: suggest_uniform has been deprecated in v3.0.0. This feature will be removed in v6.0.0. See https://github.com/optuna/optuna/releases/tag/v3.0.0. Use suggest_float instead.\n",
      "  'colsample_bytree': trial.suggest_uniform('colsample_bytree', 0.5, 1.0),\n",
      "/tmp/ipykernel_20/1395528414.py:24: FutureWarning: suggest_loguniform has been deprecated in v3.0.0. This feature will be removed in v6.0.0. See https://github.com/optuna/optuna/releases/tag/v3.0.0. Use suggest_float(..., log=True) instead.\n",
      "  'gamma': trial.suggest_loguniform('gamma', 0.001, 0.2),\n",
      "[I 2023-07-29 09:55:04,780] Trial 48 finished with value: 0.6091896436458907 and parameters: {'n_estimators': 850, 'max_depth': 7, 'learning_rate': 0.004109568666460435, 'subsample': 0.9136328909330143, 'colsample_bytree': 0.7700236520374252, 'gamma': 0.002108397543408512}. Best is trial 26 with value: 0.5813357555164361.\n",
      "/tmp/ipykernel_20/1395528414.py:21: FutureWarning: suggest_loguniform has been deprecated in v3.0.0. This feature will be removed in v6.0.0. See https://github.com/optuna/optuna/releases/tag/v3.0.0. Use suggest_float(..., log=True) instead.\n",
      "  'learning_rate': trial.suggest_loguniform('learning_rate', 0.001, 1.0),\n",
      "/tmp/ipykernel_20/1395528414.py:22: FutureWarning: suggest_uniform has been deprecated in v3.0.0. This feature will be removed in v6.0.0. See https://github.com/optuna/optuna/releases/tag/v3.0.0. Use suggest_float instead.\n",
      "  'subsample': trial.suggest_uniform('subsample', 0.5, 1.0),\n",
      "/tmp/ipykernel_20/1395528414.py:23: FutureWarning: suggest_uniform has been deprecated in v3.0.0. This feature will be removed in v6.0.0. See https://github.com/optuna/optuna/releases/tag/v3.0.0. Use suggest_float instead.\n",
      "  'colsample_bytree': trial.suggest_uniform('colsample_bytree', 0.5, 1.0),\n",
      "/tmp/ipykernel_20/1395528414.py:24: FutureWarning: suggest_loguniform has been deprecated in v3.0.0. This feature will be removed in v6.0.0. See https://github.com/optuna/optuna/releases/tag/v3.0.0. Use suggest_float(..., log=True) instead.\n",
      "  'gamma': trial.suggest_loguniform('gamma', 0.001, 0.2),\n",
      "[I 2023-07-29 09:55:19,728] Trial 49 finished with value: 0.6067807560910523 and parameters: {'n_estimators': 1000, 'max_depth': 9, 'learning_rate': 0.0031514300008647256, 'subsample': 0.8720107726574077, 'colsample_bytree': 0.8309942018388992, 'gamma': 0.0011632012113504198}. Best is trial 26 with value: 0.5813357555164361.\n",
      "/tmp/ipykernel_20/1395528414.py:21: FutureWarning: suggest_loguniform has been deprecated in v3.0.0. This feature will be removed in v6.0.0. See https://github.com/optuna/optuna/releases/tag/v3.0.0. Use suggest_float(..., log=True) instead.\n",
      "  'learning_rate': trial.suggest_loguniform('learning_rate', 0.001, 1.0),\n",
      "/tmp/ipykernel_20/1395528414.py:22: FutureWarning: suggest_uniform has been deprecated in v3.0.0. This feature will be removed in v6.0.0. See https://github.com/optuna/optuna/releases/tag/v3.0.0. Use suggest_float instead.\n",
      "  'subsample': trial.suggest_uniform('subsample', 0.5, 1.0),\n",
      "/tmp/ipykernel_20/1395528414.py:23: FutureWarning: suggest_uniform has been deprecated in v3.0.0. This feature will be removed in v6.0.0. See https://github.com/optuna/optuna/releases/tag/v3.0.0. Use suggest_float instead.\n",
      "  'colsample_bytree': trial.suggest_uniform('colsample_bytree', 0.5, 1.0),\n",
      "/tmp/ipykernel_20/1395528414.py:24: FutureWarning: suggest_loguniform has been deprecated in v3.0.0. This feature will be removed in v6.0.0. See https://github.com/optuna/optuna/releases/tag/v3.0.0. Use suggest_float(..., log=True) instead.\n",
      "  'gamma': trial.suggest_loguniform('gamma', 0.001, 0.2),\n",
      "[I 2023-07-29 09:55:24,490] Trial 50 finished with value: 0.6062462448722167 and parameters: {'n_estimators': 450, 'max_depth': 5, 'learning_rate': 0.001939890190988217, 'subsample': 0.9595574065957755, 'colsample_bytree': 0.7101746592363491, 'gamma': 0.0025901257903915547}. Best is trial 26 with value: 0.5813357555164361.\n",
      "/tmp/ipykernel_20/1395528414.py:21: FutureWarning: suggest_loguniform has been deprecated in v3.0.0. This feature will be removed in v6.0.0. See https://github.com/optuna/optuna/releases/tag/v3.0.0. Use suggest_float(..., log=True) instead.\n",
      "  'learning_rate': trial.suggest_loguniform('learning_rate', 0.001, 1.0),\n",
      "/tmp/ipykernel_20/1395528414.py:22: FutureWarning: suggest_uniform has been deprecated in v3.0.0. This feature will be removed in v6.0.0. See https://github.com/optuna/optuna/releases/tag/v3.0.0. Use suggest_float instead.\n",
      "  'subsample': trial.suggest_uniform('subsample', 0.5, 1.0),\n",
      "/tmp/ipykernel_20/1395528414.py:23: FutureWarning: suggest_uniform has been deprecated in v3.0.0. This feature will be removed in v6.0.0. See https://github.com/optuna/optuna/releases/tag/v3.0.0. Use suggest_float instead.\n",
      "  'colsample_bytree': trial.suggest_uniform('colsample_bytree', 0.5, 1.0),\n",
      "/tmp/ipykernel_20/1395528414.py:24: FutureWarning: suggest_loguniform has been deprecated in v3.0.0. This feature will be removed in v6.0.0. See https://github.com/optuna/optuna/releases/tag/v3.0.0. Use suggest_float(..., log=True) instead.\n",
      "  'gamma': trial.suggest_loguniform('gamma', 0.001, 0.2),\n",
      "[I 2023-07-29 09:55:36,099] Trial 51 finished with value: 0.5860390616694163 and parameters: {'n_estimators': 800, 'max_depth': 9, 'learning_rate': 0.0026317800999163107, 'subsample': 0.950206455988849, 'colsample_bytree': 0.7718783958595535, 'gamma': 0.0012736765411126081}. Best is trial 26 with value: 0.5813357555164361.\n",
      "/tmp/ipykernel_20/1395528414.py:21: FutureWarning: suggest_loguniform has been deprecated in v3.0.0. This feature will be removed in v6.0.0. See https://github.com/optuna/optuna/releases/tag/v3.0.0. Use suggest_float(..., log=True) instead.\n",
      "  'learning_rate': trial.suggest_loguniform('learning_rate', 0.001, 1.0),\n",
      "/tmp/ipykernel_20/1395528414.py:22: FutureWarning: suggest_uniform has been deprecated in v3.0.0. This feature will be removed in v6.0.0. See https://github.com/optuna/optuna/releases/tag/v3.0.0. Use suggest_float instead.\n",
      "  'subsample': trial.suggest_uniform('subsample', 0.5, 1.0),\n",
      "/tmp/ipykernel_20/1395528414.py:23: FutureWarning: suggest_uniform has been deprecated in v3.0.0. This feature will be removed in v6.0.0. See https://github.com/optuna/optuna/releases/tag/v3.0.0. Use suggest_float instead.\n",
      "  'colsample_bytree': trial.suggest_uniform('colsample_bytree', 0.5, 1.0),\n",
      "/tmp/ipykernel_20/1395528414.py:24: FutureWarning: suggest_loguniform has been deprecated in v3.0.0. This feature will be removed in v6.0.0. See https://github.com/optuna/optuna/releases/tag/v3.0.0. Use suggest_float(..., log=True) instead.\n",
      "  'gamma': trial.suggest_loguniform('gamma', 0.001, 0.2),\n",
      "[I 2023-07-29 09:55:47,464] Trial 52 finished with value: 0.5855012414130956 and parameters: {'n_estimators': 750, 'max_depth': 9, 'learning_rate': 0.0014780129672225663, 'subsample': 0.9816462357772329, 'colsample_bytree': 0.7617244364293857, 'gamma': 0.0017054162160399918}. Best is trial 26 with value: 0.5813357555164361.\n",
      "/tmp/ipykernel_20/1395528414.py:21: FutureWarning: suggest_loguniform has been deprecated in v3.0.0. This feature will be removed in v6.0.0. See https://github.com/optuna/optuna/releases/tag/v3.0.0. Use suggest_float(..., log=True) instead.\n",
      "  'learning_rate': trial.suggest_loguniform('learning_rate', 0.001, 1.0),\n",
      "/tmp/ipykernel_20/1395528414.py:22: FutureWarning: suggest_uniform has been deprecated in v3.0.0. This feature will be removed in v6.0.0. See https://github.com/optuna/optuna/releases/tag/v3.0.0. Use suggest_float instead.\n",
      "  'subsample': trial.suggest_uniform('subsample', 0.5, 1.0),\n",
      "/tmp/ipykernel_20/1395528414.py:23: FutureWarning: suggest_uniform has been deprecated in v3.0.0. This feature will be removed in v6.0.0. See https://github.com/optuna/optuna/releases/tag/v3.0.0. Use suggest_float instead.\n",
      "  'colsample_bytree': trial.suggest_uniform('colsample_bytree', 0.5, 1.0),\n",
      "/tmp/ipykernel_20/1395528414.py:24: FutureWarning: suggest_loguniform has been deprecated in v3.0.0. This feature will be removed in v6.0.0. See https://github.com/optuna/optuna/releases/tag/v3.0.0. Use suggest_float(..., log=True) instead.\n",
      "  'gamma': trial.suggest_loguniform('gamma', 0.001, 0.2),\n",
      "[I 2023-07-29 09:55:58,527] Trial 53 finished with value: 0.5885305508609437 and parameters: {'n_estimators': 700, 'max_depth': 10, 'learning_rate': 0.0027774190232524175, 'subsample': 0.9258343809515421, 'colsample_bytree': 0.7356942685623765, 'gamma': 0.0010560001023349162}. Best is trial 26 with value: 0.5813357555164361.\n",
      "/tmp/ipykernel_20/1395528414.py:21: FutureWarning: suggest_loguniform has been deprecated in v3.0.0. This feature will be removed in v6.0.0. See https://github.com/optuna/optuna/releases/tag/v3.0.0. Use suggest_float(..., log=True) instead.\n",
      "  'learning_rate': trial.suggest_loguniform('learning_rate', 0.001, 1.0),\n",
      "/tmp/ipykernel_20/1395528414.py:22: FutureWarning: suggest_uniform has been deprecated in v3.0.0. This feature will be removed in v6.0.0. See https://github.com/optuna/optuna/releases/tag/v3.0.0. Use suggest_float instead.\n",
      "  'subsample': trial.suggest_uniform('subsample', 0.5, 1.0),\n",
      "/tmp/ipykernel_20/1395528414.py:23: FutureWarning: suggest_uniform has been deprecated in v3.0.0. This feature will be removed in v6.0.0. See https://github.com/optuna/optuna/releases/tag/v3.0.0. Use suggest_float instead.\n",
      "  'colsample_bytree': trial.suggest_uniform('colsample_bytree', 0.5, 1.0),\n",
      "/tmp/ipykernel_20/1395528414.py:24: FutureWarning: suggest_loguniform has been deprecated in v3.0.0. This feature will be removed in v6.0.0. See https://github.com/optuna/optuna/releases/tag/v3.0.0. Use suggest_float(..., log=True) instead.\n",
      "  'gamma': trial.suggest_loguniform('gamma', 0.001, 0.2),\n",
      "[I 2023-07-29 09:56:11,992] Trial 54 finished with value: 0.5856325046831377 and parameters: {'n_estimators': 950, 'max_depth': 8, 'learning_rate': 0.0020185060969067736, 'subsample': 0.9518741880478111, 'colsample_bytree': 0.7832212914906257, 'gamma': 0.0014137314630476303}. Best is trial 26 with value: 0.5813357555164361.\n",
      "/tmp/ipykernel_20/1395528414.py:21: FutureWarning: suggest_loguniform has been deprecated in v3.0.0. This feature will be removed in v6.0.0. See https://github.com/optuna/optuna/releases/tag/v3.0.0. Use suggest_float(..., log=True) instead.\n",
      "  'learning_rate': trial.suggest_loguniform('learning_rate', 0.001, 1.0),\n",
      "/tmp/ipykernel_20/1395528414.py:22: FutureWarning: suggest_uniform has been deprecated in v3.0.0. This feature will be removed in v6.0.0. See https://github.com/optuna/optuna/releases/tag/v3.0.0. Use suggest_float instead.\n",
      "  'subsample': trial.suggest_uniform('subsample', 0.5, 1.0),\n",
      "/tmp/ipykernel_20/1395528414.py:23: FutureWarning: suggest_uniform has been deprecated in v3.0.0. This feature will be removed in v6.0.0. See https://github.com/optuna/optuna/releases/tag/v3.0.0. Use suggest_float instead.\n",
      "  'colsample_bytree': trial.suggest_uniform('colsample_bytree', 0.5, 1.0),\n",
      "/tmp/ipykernel_20/1395528414.py:24: FutureWarning: suggest_loguniform has been deprecated in v3.0.0. This feature will be removed in v6.0.0. See https://github.com/optuna/optuna/releases/tag/v3.0.0. Use suggest_float(..., log=True) instead.\n",
      "  'gamma': trial.suggest_loguniform('gamma', 0.001, 0.2),\n",
      "[I 2023-07-29 09:56:23,353] Trial 55 finished with value: 0.6207351454989476 and parameters: {'n_estimators': 800, 'max_depth': 9, 'learning_rate': 0.005074215105813875, 'subsample': 0.908170204027791, 'colsample_bytree': 0.8024803540297147, 'gamma': 0.002119030047005325}. Best is trial 26 with value: 0.5813357555164361.\n",
      "/tmp/ipykernel_20/1395528414.py:21: FutureWarning: suggest_loguniform has been deprecated in v3.0.0. This feature will be removed in v6.0.0. See https://github.com/optuna/optuna/releases/tag/v3.0.0. Use suggest_float(..., log=True) instead.\n",
      "  'learning_rate': trial.suggest_loguniform('learning_rate', 0.001, 1.0),\n",
      "/tmp/ipykernel_20/1395528414.py:22: FutureWarning: suggest_uniform has been deprecated in v3.0.0. This feature will be removed in v6.0.0. See https://github.com/optuna/optuna/releases/tag/v3.0.0. Use suggest_float instead.\n",
      "  'subsample': trial.suggest_uniform('subsample', 0.5, 1.0),\n",
      "/tmp/ipykernel_20/1395528414.py:23: FutureWarning: suggest_uniform has been deprecated in v3.0.0. This feature will be removed in v6.0.0. See https://github.com/optuna/optuna/releases/tag/v3.0.0. Use suggest_float instead.\n",
      "  'colsample_bytree': trial.suggest_uniform('colsample_bytree', 0.5, 1.0),\n",
      "/tmp/ipykernel_20/1395528414.py:24: FutureWarning: suggest_loguniform has been deprecated in v3.0.0. This feature will be removed in v6.0.0. See https://github.com/optuna/optuna/releases/tag/v3.0.0. Use suggest_float(..., log=True) instead.\n",
      "  'gamma': trial.suggest_loguniform('gamma', 0.001, 0.2),\n",
      "[I 2023-07-29 09:56:35,223] Trial 56 finished with value: 0.6010820317750212 and parameters: {'n_estimators': 900, 'max_depth': 7, 'learning_rate': 0.003360472555633556, 'subsample': 0.9270155888996342, 'colsample_bytree': 0.8354215003160425, 'gamma': 0.0017338705104593846}. Best is trial 26 with value: 0.5813357555164361.\n",
      "/tmp/ipykernel_20/1395528414.py:21: FutureWarning: suggest_loguniform has been deprecated in v3.0.0. This feature will be removed in v6.0.0. See https://github.com/optuna/optuna/releases/tag/v3.0.0. Use suggest_float(..., log=True) instead.\n",
      "  'learning_rate': trial.suggest_loguniform('learning_rate', 0.001, 1.0),\n",
      "/tmp/ipykernel_20/1395528414.py:22: FutureWarning: suggest_uniform has been deprecated in v3.0.0. This feature will be removed in v6.0.0. See https://github.com/optuna/optuna/releases/tag/v3.0.0. Use suggest_float instead.\n",
      "  'subsample': trial.suggest_uniform('subsample', 0.5, 1.0),\n",
      "/tmp/ipykernel_20/1395528414.py:23: FutureWarning: suggest_uniform has been deprecated in v3.0.0. This feature will be removed in v6.0.0. See https://github.com/optuna/optuna/releases/tag/v3.0.0. Use suggest_float instead.\n",
      "  'colsample_bytree': trial.suggest_uniform('colsample_bytree', 0.5, 1.0),\n",
      "/tmp/ipykernel_20/1395528414.py:24: FutureWarning: suggest_loguniform has been deprecated in v3.0.0. This feature will be removed in v6.0.0. See https://github.com/optuna/optuna/releases/tag/v3.0.0. Use suggest_float(..., log=True) instead.\n",
      "  'gamma': trial.suggest_loguniform('gamma', 0.001, 0.2),\n",
      "[I 2023-07-29 09:56:43,197] Trial 57 finished with value: 0.6115842296600132 and parameters: {'n_estimators': 550, 'max_depth': 10, 'learning_rate': 0.001133135088784537, 'subsample': 0.9784334263080846, 'colsample_bytree': 0.6935444203191097, 'gamma': 0.0010144700052260153}. Best is trial 26 with value: 0.5813357555164361.\n",
      "/tmp/ipykernel_20/1395528414.py:21: FutureWarning: suggest_loguniform has been deprecated in v3.0.0. This feature will be removed in v6.0.0. See https://github.com/optuna/optuna/releases/tag/v3.0.0. Use suggest_float(..., log=True) instead.\n",
      "  'learning_rate': trial.suggest_loguniform('learning_rate', 0.001, 1.0),\n",
      "/tmp/ipykernel_20/1395528414.py:22: FutureWarning: suggest_uniform has been deprecated in v3.0.0. This feature will be removed in v6.0.0. See https://github.com/optuna/optuna/releases/tag/v3.0.0. Use suggest_float instead.\n",
      "  'subsample': trial.suggest_uniform('subsample', 0.5, 1.0),\n",
      "/tmp/ipykernel_20/1395528414.py:23: FutureWarning: suggest_uniform has been deprecated in v3.0.0. This feature will be removed in v6.0.0. See https://github.com/optuna/optuna/releases/tag/v3.0.0. Use suggest_float instead.\n",
      "  'colsample_bytree': trial.suggest_uniform('colsample_bytree', 0.5, 1.0),\n",
      "/tmp/ipykernel_20/1395528414.py:24: FutureWarning: suggest_loguniform has been deprecated in v3.0.0. This feature will be removed in v6.0.0. See https://github.com/optuna/optuna/releases/tag/v3.0.0. Use suggest_float(..., log=True) instead.\n",
      "  'gamma': trial.suggest_loguniform('gamma', 0.001, 0.2),\n",
      "[I 2023-07-29 09:56:54,570] Trial 58 finished with value: 0.5780672619158757 and parameters: {'n_estimators': 650, 'max_depth': 9, 'learning_rate': 0.0022412428203935613, 'subsample': 0.949603366789809, 'colsample_bytree': 0.8589827518064738, 'gamma': 0.0028833854137006922}. Best is trial 58 with value: 0.5780672619158757.\n",
      "/tmp/ipykernel_20/1395528414.py:21: FutureWarning: suggest_loguniform has been deprecated in v3.0.0. This feature will be removed in v6.0.0. See https://github.com/optuna/optuna/releases/tag/v3.0.0. Use suggest_float(..., log=True) instead.\n",
      "  'learning_rate': trial.suggest_loguniform('learning_rate', 0.001, 1.0),\n",
      "/tmp/ipykernel_20/1395528414.py:22: FutureWarning: suggest_uniform has been deprecated in v3.0.0. This feature will be removed in v6.0.0. See https://github.com/optuna/optuna/releases/tag/v3.0.0. Use suggest_float instead.\n",
      "  'subsample': trial.suggest_uniform('subsample', 0.5, 1.0),\n",
      "/tmp/ipykernel_20/1395528414.py:23: FutureWarning: suggest_uniform has been deprecated in v3.0.0. This feature will be removed in v6.0.0. See https://github.com/optuna/optuna/releases/tag/v3.0.0. Use suggest_float instead.\n",
      "  'colsample_bytree': trial.suggest_uniform('colsample_bytree', 0.5, 1.0),\n",
      "/tmp/ipykernel_20/1395528414.py:24: FutureWarning: suggest_loguniform has been deprecated in v3.0.0. This feature will be removed in v6.0.0. See https://github.com/optuna/optuna/releases/tag/v3.0.0. Use suggest_float(..., log=True) instead.\n",
      "  'gamma': trial.suggest_loguniform('gamma', 0.001, 0.2),\n",
      "[I 2023-07-29 09:57:01,428] Trial 59 finished with value: 0.6006402595488052 and parameters: {'n_estimators': 450, 'max_depth': 8, 'learning_rate': 0.0016608474084570369, 'subsample': 0.8927558245969752, 'colsample_bytree': 0.8632572440919892, 'gamma': 0.0037783407492017152}. Best is trial 58 with value: 0.5780672619158757.\n",
      "/tmp/ipykernel_20/1395528414.py:21: FutureWarning: suggest_loguniform has been deprecated in v3.0.0. This feature will be removed in v6.0.0. See https://github.com/optuna/optuna/releases/tag/v3.0.0. Use suggest_float(..., log=True) instead.\n",
      "  'learning_rate': trial.suggest_loguniform('learning_rate', 0.001, 1.0),\n",
      "/tmp/ipykernel_20/1395528414.py:22: FutureWarning: suggest_uniform has been deprecated in v3.0.0. This feature will be removed in v6.0.0. See https://github.com/optuna/optuna/releases/tag/v3.0.0. Use suggest_float instead.\n",
      "  'subsample': trial.suggest_uniform('subsample', 0.5, 1.0),\n",
      "/tmp/ipykernel_20/1395528414.py:23: FutureWarning: suggest_uniform has been deprecated in v3.0.0. This feature will be removed in v6.0.0. See https://github.com/optuna/optuna/releases/tag/v3.0.0. Use suggest_float instead.\n",
      "  'colsample_bytree': trial.suggest_uniform('colsample_bytree', 0.5, 1.0),\n",
      "/tmp/ipykernel_20/1395528414.py:24: FutureWarning: suggest_loguniform has been deprecated in v3.0.0. This feature will be removed in v6.0.0. See https://github.com/optuna/optuna/releases/tag/v3.0.0. Use suggest_float(..., log=True) instead.\n",
      "  'gamma': trial.suggest_loguniform('gamma', 0.001, 0.2),\n",
      "[I 2023-07-29 09:57:10,059] Trial 60 finished with value: 0.5945490461603387 and parameters: {'n_estimators': 650, 'max_depth': 6, 'learning_rate': 0.0013016923162510552, 'subsample': 0.9262164375821367, 'colsample_bytree': 0.8798648488355179, 'gamma': 0.002970235465711905}. Best is trial 58 with value: 0.5780672619158757.\n",
      "/tmp/ipykernel_20/1395528414.py:21: FutureWarning: suggest_loguniform has been deprecated in v3.0.0. This feature will be removed in v6.0.0. See https://github.com/optuna/optuna/releases/tag/v3.0.0. Use suggest_float(..., log=True) instead.\n",
      "  'learning_rate': trial.suggest_loguniform('learning_rate', 0.001, 1.0),\n",
      "/tmp/ipykernel_20/1395528414.py:22: FutureWarning: suggest_uniform has been deprecated in v3.0.0. This feature will be removed in v6.0.0. See https://github.com/optuna/optuna/releases/tag/v3.0.0. Use suggest_float instead.\n",
      "  'subsample': trial.suggest_uniform('subsample', 0.5, 1.0),\n",
      "/tmp/ipykernel_20/1395528414.py:23: FutureWarning: suggest_uniform has been deprecated in v3.0.0. This feature will be removed in v6.0.0. See https://github.com/optuna/optuna/releases/tag/v3.0.0. Use suggest_float instead.\n",
      "  'colsample_bytree': trial.suggest_uniform('colsample_bytree', 0.5, 1.0),\n",
      "/tmp/ipykernel_20/1395528414.py:24: FutureWarning: suggest_loguniform has been deprecated in v3.0.0. This feature will be removed in v6.0.0. See https://github.com/optuna/optuna/releases/tag/v3.0.0. Use suggest_float(..., log=True) instead.\n",
      "  'gamma': trial.suggest_loguniform('gamma', 0.001, 0.2),\n",
      "[I 2023-07-29 09:57:18,809] Trial 61 finished with value: 0.5814088746251521 and parameters: {'n_estimators': 550, 'max_depth': 9, 'learning_rate': 0.002444766103276202, 'subsample': 0.9559354640915815, 'colsample_bytree': 0.8218866745838128, 'gamma': 0.0012870280869025888}. Best is trial 58 with value: 0.5780672619158757.\n",
      "/tmp/ipykernel_20/1395528414.py:21: FutureWarning: suggest_loguniform has been deprecated in v3.0.0. This feature will be removed in v6.0.0. See https://github.com/optuna/optuna/releases/tag/v3.0.0. Use suggest_float(..., log=True) instead.\n",
      "  'learning_rate': trial.suggest_loguniform('learning_rate', 0.001, 1.0),\n",
      "/tmp/ipykernel_20/1395528414.py:22: FutureWarning: suggest_uniform has been deprecated in v3.0.0. This feature will be removed in v6.0.0. See https://github.com/optuna/optuna/releases/tag/v3.0.0. Use suggest_float instead.\n",
      "  'subsample': trial.suggest_uniform('subsample', 0.5, 1.0),\n",
      "/tmp/ipykernel_20/1395528414.py:23: FutureWarning: suggest_uniform has been deprecated in v3.0.0. This feature will be removed in v6.0.0. See https://github.com/optuna/optuna/releases/tag/v3.0.0. Use suggest_float instead.\n",
      "  'colsample_bytree': trial.suggest_uniform('colsample_bytree', 0.5, 1.0),\n",
      "/tmp/ipykernel_20/1395528414.py:24: FutureWarning: suggest_loguniform has been deprecated in v3.0.0. This feature will be removed in v6.0.0. See https://github.com/optuna/optuna/releases/tag/v3.0.0. Use suggest_float(..., log=True) instead.\n",
      "  'gamma': trial.suggest_loguniform('gamma', 0.001, 0.2),\n",
      "[I 2023-07-29 09:57:25,415] Trial 62 finished with value: 0.6053355510403684 and parameters: {'n_estimators': 550, 'max_depth': 4, 'learning_rate': 0.0017629516969476836, 'subsample': 0.9771366635629722, 'colsample_bytree': 0.845201987221551, 'gamma': 0.0025447314888246667}. Best is trial 58 with value: 0.5780672619158757.\n",
      "/tmp/ipykernel_20/1395528414.py:21: FutureWarning: suggest_loguniform has been deprecated in v3.0.0. This feature will be removed in v6.0.0. See https://github.com/optuna/optuna/releases/tag/v3.0.0. Use suggest_float(..., log=True) instead.\n",
      "  'learning_rate': trial.suggest_loguniform('learning_rate', 0.001, 1.0),\n",
      "/tmp/ipykernel_20/1395528414.py:22: FutureWarning: suggest_uniform has been deprecated in v3.0.0. This feature will be removed in v6.0.0. See https://github.com/optuna/optuna/releases/tag/v3.0.0. Use suggest_float instead.\n",
      "  'subsample': trial.suggest_uniform('subsample', 0.5, 1.0),\n",
      "/tmp/ipykernel_20/1395528414.py:23: FutureWarning: suggest_uniform has been deprecated in v3.0.0. This feature will be removed in v6.0.0. See https://github.com/optuna/optuna/releases/tag/v3.0.0. Use suggest_float instead.\n",
      "  'colsample_bytree': trial.suggest_uniform('colsample_bytree', 0.5, 1.0),\n",
      "/tmp/ipykernel_20/1395528414.py:24: FutureWarning: suggest_loguniform has been deprecated in v3.0.0. This feature will be removed in v6.0.0. See https://github.com/optuna/optuna/releases/tag/v3.0.0. Use suggest_float(..., log=True) instead.\n",
      "  'gamma': trial.suggest_loguniform('gamma', 0.001, 0.2),\n",
      "[I 2023-07-29 09:57:31,682] Trial 63 finished with value: 0.5820738137521438 and parameters: {'n_estimators': 400, 'max_depth': 9, 'learning_rate': 0.0031575046882364502, 'subsample': 0.9548793017046822, 'colsample_bytree': 0.826439576571744, 'gamma': 0.002101734745697964}. Best is trial 58 with value: 0.5780672619158757.\n",
      "/tmp/ipykernel_20/1395528414.py:21: FutureWarning: suggest_loguniform has been deprecated in v3.0.0. This feature will be removed in v6.0.0. See https://github.com/optuna/optuna/releases/tag/v3.0.0. Use suggest_float(..., log=True) instead.\n",
      "  'learning_rate': trial.suggest_loguniform('learning_rate', 0.001, 1.0),\n",
      "/tmp/ipykernel_20/1395528414.py:22: FutureWarning: suggest_uniform has been deprecated in v3.0.0. This feature will be removed in v6.0.0. See https://github.com/optuna/optuna/releases/tag/v3.0.0. Use suggest_float instead.\n",
      "  'subsample': trial.suggest_uniform('subsample', 0.5, 1.0),\n",
      "/tmp/ipykernel_20/1395528414.py:23: FutureWarning: suggest_uniform has been deprecated in v3.0.0. This feature will be removed in v6.0.0. See https://github.com/optuna/optuna/releases/tag/v3.0.0. Use suggest_float instead.\n",
      "  'colsample_bytree': trial.suggest_uniform('colsample_bytree', 0.5, 1.0),\n",
      "/tmp/ipykernel_20/1395528414.py:24: FutureWarning: suggest_loguniform has been deprecated in v3.0.0. This feature will be removed in v6.0.0. See https://github.com/optuna/optuna/releases/tag/v3.0.0. Use suggest_float(..., log=True) instead.\n",
      "  'gamma': trial.suggest_loguniform('gamma', 0.001, 0.2),\n",
      "[I 2023-07-29 09:57:37,398] Trial 64 finished with value: 0.5817484869824779 and parameters: {'n_estimators': 350, 'max_depth': 9, 'learning_rate': 0.003506211122276567, 'subsample': 0.9976090293280457, 'colsample_bytree': 0.8222602109635853, 'gamma': 0.0021003289220092296}. Best is trial 58 with value: 0.5780672619158757.\n",
      "/tmp/ipykernel_20/1395528414.py:21: FutureWarning: suggest_loguniform has been deprecated in v3.0.0. This feature will be removed in v6.0.0. See https://github.com/optuna/optuna/releases/tag/v3.0.0. Use suggest_float(..., log=True) instead.\n",
      "  'learning_rate': trial.suggest_loguniform('learning_rate', 0.001, 1.0),\n",
      "/tmp/ipykernel_20/1395528414.py:22: FutureWarning: suggest_uniform has been deprecated in v3.0.0. This feature will be removed in v6.0.0. See https://github.com/optuna/optuna/releases/tag/v3.0.0. Use suggest_float instead.\n",
      "  'subsample': trial.suggest_uniform('subsample', 0.5, 1.0),\n",
      "/tmp/ipykernel_20/1395528414.py:23: FutureWarning: suggest_uniform has been deprecated in v3.0.0. This feature will be removed in v6.0.0. See https://github.com/optuna/optuna/releases/tag/v3.0.0. Use suggest_float instead.\n",
      "  'colsample_bytree': trial.suggest_uniform('colsample_bytree', 0.5, 1.0),\n",
      "/tmp/ipykernel_20/1395528414.py:24: FutureWarning: suggest_loguniform has been deprecated in v3.0.0. This feature will be removed in v6.0.0. See https://github.com/optuna/optuna/releases/tag/v3.0.0. Use suggest_float(..., log=True) instead.\n",
      "  'gamma': trial.suggest_loguniform('gamma', 0.001, 0.2),\n",
      "[I 2023-07-29 09:57:43,471] Trial 65 finished with value: 0.5789354724859035 and parameters: {'n_estimators': 400, 'max_depth': 8, 'learning_rate': 0.003629814570529109, 'subsample': 0.9893213484233936, 'colsample_bytree': 0.8204851866755553, 'gamma': 0.002021329946708083}. Best is trial 58 with value: 0.5780672619158757.\n",
      "/tmp/ipykernel_20/1395528414.py:21: FutureWarning: suggest_loguniform has been deprecated in v3.0.0. This feature will be removed in v6.0.0. See https://github.com/optuna/optuna/releases/tag/v3.0.0. Use suggest_float(..., log=True) instead.\n",
      "  'learning_rate': trial.suggest_loguniform('learning_rate', 0.001, 1.0),\n",
      "/tmp/ipykernel_20/1395528414.py:22: FutureWarning: suggest_uniform has been deprecated in v3.0.0. This feature will be removed in v6.0.0. See https://github.com/optuna/optuna/releases/tag/v3.0.0. Use suggest_float instead.\n",
      "  'subsample': trial.suggest_uniform('subsample', 0.5, 1.0),\n",
      "/tmp/ipykernel_20/1395528414.py:23: FutureWarning: suggest_uniform has been deprecated in v3.0.0. This feature will be removed in v6.0.0. See https://github.com/optuna/optuna/releases/tag/v3.0.0. Use suggest_float instead.\n",
      "  'colsample_bytree': trial.suggest_uniform('colsample_bytree', 0.5, 1.0),\n",
      "/tmp/ipykernel_20/1395528414.py:24: FutureWarning: suggest_loguniform has been deprecated in v3.0.0. This feature will be removed in v6.0.0. See https://github.com/optuna/optuna/releases/tag/v3.0.0. Use suggest_float(..., log=True) instead.\n",
      "  'gamma': trial.suggest_loguniform('gamma', 0.001, 0.2),\n",
      "[I 2023-07-29 09:57:49,038] Trial 66 finished with value: 0.5818674103763058 and parameters: {'n_estimators': 350, 'max_depth': 8, 'learning_rate': 0.004093150580057975, 'subsample': 0.9979640419476368, 'colsample_bytree': 0.8562700596543665, 'gamma': 0.0030374479633410133}. Best is trial 58 with value: 0.5780672619158757.\n",
      "/tmp/ipykernel_20/1395528414.py:21: FutureWarning: suggest_loguniform has been deprecated in v3.0.0. This feature will be removed in v6.0.0. See https://github.com/optuna/optuna/releases/tag/v3.0.0. Use suggest_float(..., log=True) instead.\n",
      "  'learning_rate': trial.suggest_loguniform('learning_rate', 0.001, 1.0),\n",
      "/tmp/ipykernel_20/1395528414.py:22: FutureWarning: suggest_uniform has been deprecated in v3.0.0. This feature will be removed in v6.0.0. See https://github.com/optuna/optuna/releases/tag/v3.0.0. Use suggest_float instead.\n",
      "  'subsample': trial.suggest_uniform('subsample', 0.5, 1.0),\n",
      "/tmp/ipykernel_20/1395528414.py:23: FutureWarning: suggest_uniform has been deprecated in v3.0.0. This feature will be removed in v6.0.0. See https://github.com/optuna/optuna/releases/tag/v3.0.0. Use suggest_float instead.\n",
      "  'colsample_bytree': trial.suggest_uniform('colsample_bytree', 0.5, 1.0),\n",
      "/tmp/ipykernel_20/1395528414.py:24: FutureWarning: suggest_loguniform has been deprecated in v3.0.0. This feature will be removed in v6.0.0. See https://github.com/optuna/optuna/releases/tag/v3.0.0. Use suggest_float(..., log=True) instead.\n",
      "  'gamma': trial.suggest_loguniform('gamma', 0.001, 0.2),\n",
      "[I 2023-07-29 09:57:53,803] Trial 67 finished with value: 0.5802144179158253 and parameters: {'n_estimators': 300, 'max_depth': 8, 'learning_rate': 0.004599186751491332, 'subsample': 0.9989890130887014, 'colsample_bytree': 0.8553393755743673, 'gamma': 0.003390076916309191}. Best is trial 58 with value: 0.5780672619158757.\n",
      "/tmp/ipykernel_20/1395528414.py:21: FutureWarning: suggest_loguniform has been deprecated in v3.0.0. This feature will be removed in v6.0.0. See https://github.com/optuna/optuna/releases/tag/v3.0.0. Use suggest_float(..., log=True) instead.\n",
      "  'learning_rate': trial.suggest_loguniform('learning_rate', 0.001, 1.0),\n",
      "/tmp/ipykernel_20/1395528414.py:22: FutureWarning: suggest_uniform has been deprecated in v3.0.0. This feature will be removed in v6.0.0. See https://github.com/optuna/optuna/releases/tag/v3.0.0. Use suggest_float instead.\n",
      "  'subsample': trial.suggest_uniform('subsample', 0.5, 1.0),\n",
      "/tmp/ipykernel_20/1395528414.py:23: FutureWarning: suggest_uniform has been deprecated in v3.0.0. This feature will be removed in v6.0.0. See https://github.com/optuna/optuna/releases/tag/v3.0.0. Use suggest_float instead.\n",
      "  'colsample_bytree': trial.suggest_uniform('colsample_bytree', 0.5, 1.0),\n",
      "/tmp/ipykernel_20/1395528414.py:24: FutureWarning: suggest_loguniform has been deprecated in v3.0.0. This feature will be removed in v6.0.0. See https://github.com/optuna/optuna/releases/tag/v3.0.0. Use suggest_float(..., log=True) instead.\n",
      "  'gamma': trial.suggest_loguniform('gamma', 0.001, 0.2),\n",
      "[I 2023-07-29 09:57:59,794] Trial 68 finished with value: 0.578163302703662 and parameters: {'n_estimators': 300, 'max_depth': 8, 'learning_rate': 0.004471622176548298, 'subsample': 0.9893509879673338, 'colsample_bytree': 0.8534578249790588, 'gamma': 0.003465790720441902}. Best is trial 58 with value: 0.5780672619158757.\n",
      "/tmp/ipykernel_20/1395528414.py:21: FutureWarning: suggest_loguniform has been deprecated in v3.0.0. This feature will be removed in v6.0.0. See https://github.com/optuna/optuna/releases/tag/v3.0.0. Use suggest_float(..., log=True) instead.\n",
      "  'learning_rate': trial.suggest_loguniform('learning_rate', 0.001, 1.0),\n",
      "/tmp/ipykernel_20/1395528414.py:22: FutureWarning: suggest_uniform has been deprecated in v3.0.0. This feature will be removed in v6.0.0. See https://github.com/optuna/optuna/releases/tag/v3.0.0. Use suggest_float instead.\n",
      "  'subsample': trial.suggest_uniform('subsample', 0.5, 1.0),\n",
      "/tmp/ipykernel_20/1395528414.py:23: FutureWarning: suggest_uniform has been deprecated in v3.0.0. This feature will be removed in v6.0.0. See https://github.com/optuna/optuna/releases/tag/v3.0.0. Use suggest_float instead.\n",
      "  'colsample_bytree': trial.suggest_uniform('colsample_bytree', 0.5, 1.0),\n",
      "/tmp/ipykernel_20/1395528414.py:24: FutureWarning: suggest_loguniform has been deprecated in v3.0.0. This feature will be removed in v6.0.0. See https://github.com/optuna/optuna/releases/tag/v3.0.0. Use suggest_float(..., log=True) instead.\n",
      "  'gamma': trial.suggest_loguniform('gamma', 0.001, 0.2),\n",
      "[I 2023-07-29 09:58:02,917] Trial 69 finished with value: 0.5808059160727143 and parameters: {'n_estimators': 200, 'max_depth': 7, 'learning_rate': 0.006416304391291086, 'subsample': 0.9844671660802327, 'colsample_bytree': 0.8767796664996466, 'gamma': 0.0035236245204288267}. Best is trial 58 with value: 0.5780672619158757.\n",
      "/tmp/ipykernel_20/1395528414.py:21: FutureWarning: suggest_loguniform has been deprecated in v3.0.0. This feature will be removed in v6.0.0. See https://github.com/optuna/optuna/releases/tag/v3.0.0. Use suggest_float(..., log=True) instead.\n",
      "  'learning_rate': trial.suggest_loguniform('learning_rate', 0.001, 1.0),\n",
      "/tmp/ipykernel_20/1395528414.py:22: FutureWarning: suggest_uniform has been deprecated in v3.0.0. This feature will be removed in v6.0.0. See https://github.com/optuna/optuna/releases/tag/v3.0.0. Use suggest_float instead.\n",
      "  'subsample': trial.suggest_uniform('subsample', 0.5, 1.0),\n",
      "/tmp/ipykernel_20/1395528414.py:23: FutureWarning: suggest_uniform has been deprecated in v3.0.0. This feature will be removed in v6.0.0. See https://github.com/optuna/optuna/releases/tag/v3.0.0. Use suggest_float instead.\n",
      "  'colsample_bytree': trial.suggest_uniform('colsample_bytree', 0.5, 1.0),\n",
      "/tmp/ipykernel_20/1395528414.py:24: FutureWarning: suggest_loguniform has been deprecated in v3.0.0. This feature will be removed in v6.0.0. See https://github.com/optuna/optuna/releases/tag/v3.0.0. Use suggest_float(..., log=True) instead.\n",
      "  'gamma': trial.suggest_loguniform('gamma', 0.001, 0.2),\n",
      "[I 2023-07-29 09:58:05,355] Trial 70 finished with value: 0.582974039650869 and parameters: {'n_estimators': 150, 'max_depth': 7, 'learning_rate': 0.007586228196662362, 'subsample': 0.9784999491744574, 'colsample_bytree': 0.8780744137088619, 'gamma': 0.00357857917688752}. Best is trial 58 with value: 0.5780672619158757.\n",
      "/tmp/ipykernel_20/1395528414.py:21: FutureWarning: suggest_loguniform has been deprecated in v3.0.0. This feature will be removed in v6.0.0. See https://github.com/optuna/optuna/releases/tag/v3.0.0. Use suggest_float(..., log=True) instead.\n",
      "  'learning_rate': trial.suggest_loguniform('learning_rate', 0.001, 1.0),\n",
      "/tmp/ipykernel_20/1395528414.py:22: FutureWarning: suggest_uniform has been deprecated in v3.0.0. This feature will be removed in v6.0.0. See https://github.com/optuna/optuna/releases/tag/v3.0.0. Use suggest_float instead.\n",
      "  'subsample': trial.suggest_uniform('subsample', 0.5, 1.0),\n",
      "/tmp/ipykernel_20/1395528414.py:23: FutureWarning: suggest_uniform has been deprecated in v3.0.0. This feature will be removed in v6.0.0. See https://github.com/optuna/optuna/releases/tag/v3.0.0. Use suggest_float instead.\n",
      "  'colsample_bytree': trial.suggest_uniform('colsample_bytree', 0.5, 1.0),\n",
      "/tmp/ipykernel_20/1395528414.py:24: FutureWarning: suggest_loguniform has been deprecated in v3.0.0. This feature will be removed in v6.0.0. See https://github.com/optuna/optuna/releases/tag/v3.0.0. Use suggest_float(..., log=True) instead.\n",
      "  'gamma': trial.suggest_loguniform('gamma', 0.001, 0.2),\n",
      "[I 2023-07-29 09:58:08,758] Trial 71 finished with value: 0.578337361170915 and parameters: {'n_estimators': 200, 'max_depth': 8, 'learning_rate': 0.0060408868079415414, 'subsample': 0.9855958542590184, 'colsample_bytree': 0.890362310632689, 'gamma': 0.00539790837088931}. Best is trial 58 with value: 0.5780672619158757.\n",
      "/tmp/ipykernel_20/1395528414.py:21: FutureWarning: suggest_loguniform has been deprecated in v3.0.0. This feature will be removed in v6.0.0. See https://github.com/optuna/optuna/releases/tag/v3.0.0. Use suggest_float(..., log=True) instead.\n",
      "  'learning_rate': trial.suggest_loguniform('learning_rate', 0.001, 1.0),\n",
      "/tmp/ipykernel_20/1395528414.py:22: FutureWarning: suggest_uniform has been deprecated in v3.0.0. This feature will be removed in v6.0.0. See https://github.com/optuna/optuna/releases/tag/v3.0.0. Use suggest_float instead.\n",
      "  'subsample': trial.suggest_uniform('subsample', 0.5, 1.0),\n",
      "/tmp/ipykernel_20/1395528414.py:23: FutureWarning: suggest_uniform has been deprecated in v3.0.0. This feature will be removed in v6.0.0. See https://github.com/optuna/optuna/releases/tag/v3.0.0. Use suggest_float instead.\n",
      "  'colsample_bytree': trial.suggest_uniform('colsample_bytree', 0.5, 1.0),\n",
      "/tmp/ipykernel_20/1395528414.py:24: FutureWarning: suggest_loguniform has been deprecated in v3.0.0. This feature will be removed in v6.0.0. See https://github.com/optuna/optuna/releases/tag/v3.0.0. Use suggest_float(..., log=True) instead.\n",
      "  'gamma': trial.suggest_loguniform('gamma', 0.001, 0.2),\n",
      "[I 2023-07-29 09:58:12,045] Trial 72 finished with value: 0.5804518432084559 and parameters: {'n_estimators': 200, 'max_depth': 8, 'learning_rate': 0.005857822852268496, 'subsample': 0.9800960887006894, 'colsample_bytree': 0.8694361790664507, 'gamma': 0.005956790135929439}. Best is trial 58 with value: 0.5780672619158757.\n",
      "/tmp/ipykernel_20/1395528414.py:21: FutureWarning: suggest_loguniform has been deprecated in v3.0.0. This feature will be removed in v6.0.0. See https://github.com/optuna/optuna/releases/tag/v3.0.0. Use suggest_float(..., log=True) instead.\n",
      "  'learning_rate': trial.suggest_loguniform('learning_rate', 0.001, 1.0),\n",
      "/tmp/ipykernel_20/1395528414.py:22: FutureWarning: suggest_uniform has been deprecated in v3.0.0. This feature will be removed in v6.0.0. See https://github.com/optuna/optuna/releases/tag/v3.0.0. Use suggest_float instead.\n",
      "  'subsample': trial.suggest_uniform('subsample', 0.5, 1.0),\n",
      "/tmp/ipykernel_20/1395528414.py:23: FutureWarning: suggest_uniform has been deprecated in v3.0.0. This feature will be removed in v6.0.0. See https://github.com/optuna/optuna/releases/tag/v3.0.0. Use suggest_float instead.\n",
      "  'colsample_bytree': trial.suggest_uniform('colsample_bytree', 0.5, 1.0),\n",
      "/tmp/ipykernel_20/1395528414.py:24: FutureWarning: suggest_loguniform has been deprecated in v3.0.0. This feature will be removed in v6.0.0. See https://github.com/optuna/optuna/releases/tag/v3.0.0. Use suggest_float(..., log=True) instead.\n",
      "  'gamma': trial.suggest_loguniform('gamma', 0.001, 0.2),\n",
      "[I 2023-07-29 09:58:15,511] Trial 73 finished with value: 0.5815570178710061 and parameters: {'n_estimators': 200, 'max_depth': 8, 'learning_rate': 0.005907796782869507, 'subsample': 0.9817086687497438, 'colsample_bytree': 0.890617578844407, 'gamma': 0.00563923644168761}. Best is trial 58 with value: 0.5780672619158757.\n",
      "/tmp/ipykernel_20/1395528414.py:21: FutureWarning: suggest_loguniform has been deprecated in v3.0.0. This feature will be removed in v6.0.0. See https://github.com/optuna/optuna/releases/tag/v3.0.0. Use suggest_float(..., log=True) instead.\n",
      "  'learning_rate': trial.suggest_loguniform('learning_rate', 0.001, 1.0),\n",
      "/tmp/ipykernel_20/1395528414.py:22: FutureWarning: suggest_uniform has been deprecated in v3.0.0. This feature will be removed in v6.0.0. See https://github.com/optuna/optuna/releases/tag/v3.0.0. Use suggest_float instead.\n",
      "  'subsample': trial.suggest_uniform('subsample', 0.5, 1.0),\n",
      "/tmp/ipykernel_20/1395528414.py:23: FutureWarning: suggest_uniform has been deprecated in v3.0.0. This feature will be removed in v6.0.0. See https://github.com/optuna/optuna/releases/tag/v3.0.0. Use suggest_float instead.\n",
      "  'colsample_bytree': trial.suggest_uniform('colsample_bytree', 0.5, 1.0),\n",
      "/tmp/ipykernel_20/1395528414.py:24: FutureWarning: suggest_loguniform has been deprecated in v3.0.0. This feature will be removed in v6.0.0. See https://github.com/optuna/optuna/releases/tag/v3.0.0. Use suggest_float(..., log=True) instead.\n",
      "  'gamma': trial.suggest_loguniform('gamma', 0.001, 0.2),\n",
      "[I 2023-07-29 09:58:19,758] Trial 74 finished with value: 0.6042546896690267 and parameters: {'n_estimators': 300, 'max_depth': 7, 'learning_rate': 0.010522196559695888, 'subsample': 0.9910385949074467, 'colsample_bytree': 0.8496163164512434, 'gamma': 0.004079535890265623}. Best is trial 58 with value: 0.5780672619158757.\n",
      "/tmp/ipykernel_20/1395528414.py:21: FutureWarning: suggest_loguniform has been deprecated in v3.0.0. This feature will be removed in v6.0.0. See https://github.com/optuna/optuna/releases/tag/v3.0.0. Use suggest_float(..., log=True) instead.\n",
      "  'learning_rate': trial.suggest_loguniform('learning_rate', 0.001, 1.0),\n",
      "/tmp/ipykernel_20/1395528414.py:22: FutureWarning: suggest_uniform has been deprecated in v3.0.0. This feature will be removed in v6.0.0. See https://github.com/optuna/optuna/releases/tag/v3.0.0. Use suggest_float instead.\n",
      "  'subsample': trial.suggest_uniform('subsample', 0.5, 1.0),\n",
      "/tmp/ipykernel_20/1395528414.py:23: FutureWarning: suggest_uniform has been deprecated in v3.0.0. This feature will be removed in v6.0.0. See https://github.com/optuna/optuna/releases/tag/v3.0.0. Use suggest_float instead.\n",
      "  'colsample_bytree': trial.suggest_uniform('colsample_bytree', 0.5, 1.0),\n",
      "/tmp/ipykernel_20/1395528414.py:24: FutureWarning: suggest_loguniform has been deprecated in v3.0.0. This feature will be removed in v6.0.0. See https://github.com/optuna/optuna/releases/tag/v3.0.0. Use suggest_float(..., log=True) instead.\n",
      "  'gamma': trial.suggest_loguniform('gamma', 0.001, 0.2),\n",
      "[I 2023-07-29 09:58:21,527] Trial 75 finished with value: 0.5978512925197856 and parameters: {'n_estimators': 100, 'max_depth': 8, 'learning_rate': 0.006785770209845022, 'subsample': 0.9750268178627628, 'colsample_bytree': 0.9015444547933278, 'gamma': 0.007401375088824522}. Best is trial 58 with value: 0.5780672619158757.\n",
      "/tmp/ipykernel_20/1395528414.py:21: FutureWarning: suggest_loguniform has been deprecated in v3.0.0. This feature will be removed in v6.0.0. See https://github.com/optuna/optuna/releases/tag/v3.0.0. Use suggest_float(..., log=True) instead.\n",
      "  'learning_rate': trial.suggest_loguniform('learning_rate', 0.001, 1.0),\n",
      "/tmp/ipykernel_20/1395528414.py:22: FutureWarning: suggest_uniform has been deprecated in v3.0.0. This feature will be removed in v6.0.0. See https://github.com/optuna/optuna/releases/tag/v3.0.0. Use suggest_float instead.\n",
      "  'subsample': trial.suggest_uniform('subsample', 0.5, 1.0),\n",
      "/tmp/ipykernel_20/1395528414.py:23: FutureWarning: suggest_uniform has been deprecated in v3.0.0. This feature will be removed in v6.0.0. See https://github.com/optuna/optuna/releases/tag/v3.0.0. Use suggest_float instead.\n",
      "  'colsample_bytree': trial.suggest_uniform('colsample_bytree', 0.5, 1.0),\n",
      "/tmp/ipykernel_20/1395528414.py:24: FutureWarning: suggest_loguniform has been deprecated in v3.0.0. This feature will be removed in v6.0.0. See https://github.com/optuna/optuna/releases/tag/v3.0.0. Use suggest_float(..., log=True) instead.\n",
      "  'gamma': trial.suggest_loguniform('gamma', 0.001, 0.2),\n",
      "[I 2023-07-29 09:58:24,625] Trial 76 finished with value: 0.5879188203011194 and parameters: {'n_estimators': 200, 'max_depth': 7, 'learning_rate': 0.0047862405719855, 'subsample': 0.9996934864390006, 'colsample_bytree': 0.8697197959148206, 'gamma': 0.004860584157185496}. Best is trial 58 with value: 0.5780672619158757.\n",
      "/tmp/ipykernel_20/1395528414.py:21: FutureWarning: suggest_loguniform has been deprecated in v3.0.0. This feature will be removed in v6.0.0. See https://github.com/optuna/optuna/releases/tag/v3.0.0. Use suggest_float(..., log=True) instead.\n",
      "  'learning_rate': trial.suggest_loguniform('learning_rate', 0.001, 1.0),\n",
      "/tmp/ipykernel_20/1395528414.py:22: FutureWarning: suggest_uniform has been deprecated in v3.0.0. This feature will be removed in v6.0.0. See https://github.com/optuna/optuna/releases/tag/v3.0.0. Use suggest_float instead.\n",
      "  'subsample': trial.suggest_uniform('subsample', 0.5, 1.0),\n",
      "/tmp/ipykernel_20/1395528414.py:23: FutureWarning: suggest_uniform has been deprecated in v3.0.0. This feature will be removed in v6.0.0. See https://github.com/optuna/optuna/releases/tag/v3.0.0. Use suggest_float instead.\n",
      "  'colsample_bytree': trial.suggest_uniform('colsample_bytree', 0.5, 1.0),\n",
      "/tmp/ipykernel_20/1395528414.py:24: FutureWarning: suggest_loguniform has been deprecated in v3.0.0. This feature will be removed in v6.0.0. See https://github.com/optuna/optuna/releases/tag/v3.0.0. Use suggest_float(..., log=True) instead.\n",
      "  'gamma': trial.suggest_loguniform('gamma', 0.001, 0.2),\n",
      "[I 2023-07-29 09:58:30,392] Trial 77 finished with value: 0.5928707683279575 and parameters: {'n_estimators': 300, 'max_depth': 8, 'learning_rate': 0.009180345693860349, 'subsample': 0.9666287306168013, 'colsample_bytree': 0.9196932553726571, 'gamma': 0.0034448706571680843}. Best is trial 58 with value: 0.5780672619158757.\n",
      "/tmp/ipykernel_20/1395528414.py:21: FutureWarning: suggest_loguniform has been deprecated in v3.0.0. This feature will be removed in v6.0.0. See https://github.com/optuna/optuna/releases/tag/v3.0.0. Use suggest_float(..., log=True) instead.\n",
      "  'learning_rate': trial.suggest_loguniform('learning_rate', 0.001, 1.0),\n",
      "/tmp/ipykernel_20/1395528414.py:22: FutureWarning: suggest_uniform has been deprecated in v3.0.0. This feature will be removed in v6.0.0. See https://github.com/optuna/optuna/releases/tag/v3.0.0. Use suggest_float instead.\n",
      "  'subsample': trial.suggest_uniform('subsample', 0.5, 1.0),\n",
      "/tmp/ipykernel_20/1395528414.py:23: FutureWarning: suggest_uniform has been deprecated in v3.0.0. This feature will be removed in v6.0.0. See https://github.com/optuna/optuna/releases/tag/v3.0.0. Use suggest_float instead.\n",
      "  'colsample_bytree': trial.suggest_uniform('colsample_bytree', 0.5, 1.0),\n",
      "/tmp/ipykernel_20/1395528414.py:24: FutureWarning: suggest_loguniform has been deprecated in v3.0.0. This feature will be removed in v6.0.0. See https://github.com/optuna/optuna/releases/tag/v3.0.0. Use suggest_float(..., log=True) instead.\n",
      "  'gamma': trial.suggest_loguniform('gamma', 0.001, 0.2),\n",
      "[I 2023-07-29 09:58:34,037] Trial 78 finished with value: 0.5820984247407596 and parameters: {'n_estimators': 250, 'max_depth': 7, 'learning_rate': 0.006552329187748377, 'subsample': 0.9351032397306773, 'colsample_bytree': 0.8578084998909198, 'gamma': 0.004208258642789368}. Best is trial 58 with value: 0.5780672619158757.\n",
      "/tmp/ipykernel_20/1395528414.py:21: FutureWarning: suggest_loguniform has been deprecated in v3.0.0. This feature will be removed in v6.0.0. See https://github.com/optuna/optuna/releases/tag/v3.0.0. Use suggest_float(..., log=True) instead.\n",
      "  'learning_rate': trial.suggest_loguniform('learning_rate', 0.001, 1.0),\n",
      "/tmp/ipykernel_20/1395528414.py:22: FutureWarning: suggest_uniform has been deprecated in v3.0.0. This feature will be removed in v6.0.0. See https://github.com/optuna/optuna/releases/tag/v3.0.0. Use suggest_float instead.\n",
      "  'subsample': trial.suggest_uniform('subsample', 0.5, 1.0),\n",
      "/tmp/ipykernel_20/1395528414.py:23: FutureWarning: suggest_uniform has been deprecated in v3.0.0. This feature will be removed in v6.0.0. See https://github.com/optuna/optuna/releases/tag/v3.0.0. Use suggest_float instead.\n",
      "  'colsample_bytree': trial.suggest_uniform('colsample_bytree', 0.5, 1.0),\n",
      "/tmp/ipykernel_20/1395528414.py:24: FutureWarning: suggest_loguniform has been deprecated in v3.0.0. This feature will be removed in v6.0.0. See https://github.com/optuna/optuna/releases/tag/v3.0.0. Use suggest_float(..., log=True) instead.\n",
      "  'gamma': trial.suggest_loguniform('gamma', 0.001, 0.2),\n",
      "[I 2023-07-29 09:58:36,580] Trial 79 finished with value: 0.5835221515939626 and parameters: {'n_estimators': 150, 'max_depth': 8, 'learning_rate': 0.012266168203981671, 'subsample': 0.984971729795895, 'colsample_bytree': 0.8894770149323233, 'gamma': 0.005661391117436975}. Best is trial 58 with value: 0.5780672619158757.\n",
      "/tmp/ipykernel_20/1395528414.py:21: FutureWarning: suggest_loguniform has been deprecated in v3.0.0. This feature will be removed in v6.0.0. See https://github.com/optuna/optuna/releases/tag/v3.0.0. Use suggest_float(..., log=True) instead.\n",
      "  'learning_rate': trial.suggest_loguniform('learning_rate', 0.001, 1.0),\n",
      "/tmp/ipykernel_20/1395528414.py:22: FutureWarning: suggest_uniform has been deprecated in v3.0.0. This feature will be removed in v6.0.0. See https://github.com/optuna/optuna/releases/tag/v3.0.0. Use suggest_float instead.\n",
      "  'subsample': trial.suggest_uniform('subsample', 0.5, 1.0),\n",
      "/tmp/ipykernel_20/1395528414.py:23: FutureWarning: suggest_uniform has been deprecated in v3.0.0. This feature will be removed in v6.0.0. See https://github.com/optuna/optuna/releases/tag/v3.0.0. Use suggest_float instead.\n",
      "  'colsample_bytree': trial.suggest_uniform('colsample_bytree', 0.5, 1.0),\n",
      "/tmp/ipykernel_20/1395528414.py:24: FutureWarning: suggest_loguniform has been deprecated in v3.0.0. This feature will be removed in v6.0.0. See https://github.com/optuna/optuna/releases/tag/v3.0.0. Use suggest_float(..., log=True) instead.\n",
      "  'gamma': trial.suggest_loguniform('gamma', 0.001, 0.2),\n",
      "[I 2023-07-29 09:58:39,166] Trial 80 finished with value: 0.594294010558029 and parameters: {'n_estimators': 150, 'max_depth': 8, 'learning_rate': 0.004833577024845182, 'subsample': 0.9657604339298935, 'colsample_bytree': 0.9361452197046454, 'gamma': 0.002781957283915169}. Best is trial 58 with value: 0.5780672619158757.\n",
      "/tmp/ipykernel_20/1395528414.py:21: FutureWarning: suggest_loguniform has been deprecated in v3.0.0. This feature will be removed in v6.0.0. See https://github.com/optuna/optuna/releases/tag/v3.0.0. Use suggest_float(..., log=True) instead.\n",
      "  'learning_rate': trial.suggest_loguniform('learning_rate', 0.001, 1.0),\n",
      "/tmp/ipykernel_20/1395528414.py:22: FutureWarning: suggest_uniform has been deprecated in v3.0.0. This feature will be removed in v6.0.0. See https://github.com/optuna/optuna/releases/tag/v3.0.0. Use suggest_float instead.\n",
      "  'subsample': trial.suggest_uniform('subsample', 0.5, 1.0),\n",
      "/tmp/ipykernel_20/1395528414.py:23: FutureWarning: suggest_uniform has been deprecated in v3.0.0. This feature will be removed in v6.0.0. See https://github.com/optuna/optuna/releases/tag/v3.0.0. Use suggest_float instead.\n",
      "  'colsample_bytree': trial.suggest_uniform('colsample_bytree', 0.5, 1.0),\n",
      "/tmp/ipykernel_20/1395528414.py:24: FutureWarning: suggest_loguniform has been deprecated in v3.0.0. This feature will be removed in v6.0.0. See https://github.com/optuna/optuna/releases/tag/v3.0.0. Use suggest_float(..., log=True) instead.\n",
      "  'gamma': trial.suggest_loguniform('gamma', 0.001, 0.2),\n",
      "[I 2023-07-29 09:58:43,959] Trial 81 finished with value: 0.579613232941649 and parameters: {'n_estimators': 300, 'max_depth': 8, 'learning_rate': 0.004206519406654151, 'subsample': 0.9872530401429909, 'colsample_bytree': 0.8697695426311898, 'gamma': 0.0034909267757340747}. Best is trial 58 with value: 0.5780672619158757.\n",
      "/tmp/ipykernel_20/1395528414.py:21: FutureWarning: suggest_loguniform has been deprecated in v3.0.0. This feature will be removed in v6.0.0. See https://github.com/optuna/optuna/releases/tag/v3.0.0. Use suggest_float(..., log=True) instead.\n",
      "  'learning_rate': trial.suggest_loguniform('learning_rate', 0.001, 1.0),\n",
      "/tmp/ipykernel_20/1395528414.py:22: FutureWarning: suggest_uniform has been deprecated in v3.0.0. This feature will be removed in v6.0.0. See https://github.com/optuna/optuna/releases/tag/v3.0.0. Use suggest_float instead.\n",
      "  'subsample': trial.suggest_uniform('subsample', 0.5, 1.0),\n",
      "/tmp/ipykernel_20/1395528414.py:23: FutureWarning: suggest_uniform has been deprecated in v3.0.0. This feature will be removed in v6.0.0. See https://github.com/optuna/optuna/releases/tag/v3.0.0. Use suggest_float instead.\n",
      "  'colsample_bytree': trial.suggest_uniform('colsample_bytree', 0.5, 1.0),\n",
      "/tmp/ipykernel_20/1395528414.py:24: FutureWarning: suggest_loguniform has been deprecated in v3.0.0. This feature will be removed in v6.0.0. See https://github.com/optuna/optuna/releases/tag/v3.0.0. Use suggest_float(..., log=True) instead.\n",
      "  'gamma': trial.suggest_loguniform('gamma', 0.001, 0.2),\n",
      "[I 2023-07-29 09:58:48,779] Trial 82 finished with value: 0.5787003531361997 and parameters: {'n_estimators': 300, 'max_depth': 8, 'learning_rate': 0.004288398340987964, 'subsample': 0.9866871149078009, 'colsample_bytree': 0.843922447477527, 'gamma': 0.0034801953455168622}. Best is trial 58 with value: 0.5780672619158757.\n",
      "/tmp/ipykernel_20/1395528414.py:21: FutureWarning: suggest_loguniform has been deprecated in v3.0.0. This feature will be removed in v6.0.0. See https://github.com/optuna/optuna/releases/tag/v3.0.0. Use suggest_float(..., log=True) instead.\n",
      "  'learning_rate': trial.suggest_loguniform('learning_rate', 0.001, 1.0),\n",
      "/tmp/ipykernel_20/1395528414.py:22: FutureWarning: suggest_uniform has been deprecated in v3.0.0. This feature will be removed in v6.0.0. See https://github.com/optuna/optuna/releases/tag/v3.0.0. Use suggest_float instead.\n",
      "  'subsample': trial.suggest_uniform('subsample', 0.5, 1.0),\n",
      "/tmp/ipykernel_20/1395528414.py:23: FutureWarning: suggest_uniform has been deprecated in v3.0.0. This feature will be removed in v6.0.0. See https://github.com/optuna/optuna/releases/tag/v3.0.0. Use suggest_float instead.\n",
      "  'colsample_bytree': trial.suggest_uniform('colsample_bytree', 0.5, 1.0),\n",
      "/tmp/ipykernel_20/1395528414.py:24: FutureWarning: suggest_loguniform has been deprecated in v3.0.0. This feature will be removed in v6.0.0. See https://github.com/optuna/optuna/releases/tag/v3.0.0. Use suggest_float(..., log=True) instead.\n",
      "  'gamma': trial.suggest_loguniform('gamma', 0.001, 0.2),\n",
      "[I 2023-07-29 09:58:53,404] Trial 83 finished with value: 0.5790286501279887 and parameters: {'n_estimators': 300, 'max_depth': 8, 'learning_rate': 0.005651933299247217, 'subsample': 0.9830566869974671, 'colsample_bytree': 0.840804124007017, 'gamma': 0.0034061171767226853}. Best is trial 58 with value: 0.5780672619158757.\n",
      "/tmp/ipykernel_20/1395528414.py:21: FutureWarning: suggest_loguniform has been deprecated in v3.0.0. This feature will be removed in v6.0.0. See https://github.com/optuna/optuna/releases/tag/v3.0.0. Use suggest_float(..., log=True) instead.\n",
      "  'learning_rate': trial.suggest_loguniform('learning_rate', 0.001, 1.0),\n",
      "/tmp/ipykernel_20/1395528414.py:22: FutureWarning: suggest_uniform has been deprecated in v3.0.0. This feature will be removed in v6.0.0. See https://github.com/optuna/optuna/releases/tag/v3.0.0. Use suggest_float instead.\n",
      "  'subsample': trial.suggest_uniform('subsample', 0.5, 1.0),\n",
      "/tmp/ipykernel_20/1395528414.py:23: FutureWarning: suggest_uniform has been deprecated in v3.0.0. This feature will be removed in v6.0.0. See https://github.com/optuna/optuna/releases/tag/v3.0.0. Use suggest_float instead.\n",
      "  'colsample_bytree': trial.suggest_uniform('colsample_bytree', 0.5, 1.0),\n",
      "/tmp/ipykernel_20/1395528414.py:24: FutureWarning: suggest_loguniform has been deprecated in v3.0.0. This feature will be removed in v6.0.0. See https://github.com/optuna/optuna/releases/tag/v3.0.0. Use suggest_float(..., log=True) instead.\n",
      "  'gamma': trial.suggest_loguniform('gamma', 0.001, 0.2),\n",
      "[I 2023-07-29 09:58:58,286] Trial 84 finished with value: 0.5797524930524942 and parameters: {'n_estimators': 300, 'max_depth': 8, 'learning_rate': 0.004168058729857806, 'subsample': 0.9848195948500783, 'colsample_bytree': 0.8458772841420836, 'gamma': 0.0042497398972823975}. Best is trial 58 with value: 0.5780672619158757.\n",
      "/tmp/ipykernel_20/1395528414.py:21: FutureWarning: suggest_loguniform has been deprecated in v3.0.0. This feature will be removed in v6.0.0. See https://github.com/optuna/optuna/releases/tag/v3.0.0. Use suggest_float(..., log=True) instead.\n",
      "  'learning_rate': trial.suggest_loguniform('learning_rate', 0.001, 1.0),\n",
      "/tmp/ipykernel_20/1395528414.py:22: FutureWarning: suggest_uniform has been deprecated in v3.0.0. This feature will be removed in v6.0.0. See https://github.com/optuna/optuna/releases/tag/v3.0.0. Use suggest_float instead.\n",
      "  'subsample': trial.suggest_uniform('subsample', 0.5, 1.0),\n",
      "/tmp/ipykernel_20/1395528414.py:23: FutureWarning: suggest_uniform has been deprecated in v3.0.0. This feature will be removed in v6.0.0. See https://github.com/optuna/optuna/releases/tag/v3.0.0. Use suggest_float instead.\n",
      "  'colsample_bytree': trial.suggest_uniform('colsample_bytree', 0.5, 1.0),\n",
      "/tmp/ipykernel_20/1395528414.py:24: FutureWarning: suggest_loguniform has been deprecated in v3.0.0. This feature will be removed in v6.0.0. See https://github.com/optuna/optuna/releases/tag/v3.0.0. Use suggest_float(..., log=True) instead.\n",
      "  'gamma': trial.suggest_loguniform('gamma', 0.001, 0.2),\n",
      "[I 2023-07-29 09:59:03,907] Trial 85 finished with value: 0.5798861171092315 and parameters: {'n_estimators': 300, 'max_depth': 8, 'learning_rate': 0.0042553211351089235, 'subsample': 0.9671022460818735, 'colsample_bytree': 0.8368648850017613, 'gamma': 0.004429020115121915}. Best is trial 58 with value: 0.5780672619158757.\n",
      "/tmp/ipykernel_20/1395528414.py:21: FutureWarning: suggest_loguniform has been deprecated in v3.0.0. This feature will be removed in v6.0.0. See https://github.com/optuna/optuna/releases/tag/v3.0.0. Use suggest_float(..., log=True) instead.\n",
      "  'learning_rate': trial.suggest_loguniform('learning_rate', 0.001, 1.0),\n",
      "/tmp/ipykernel_20/1395528414.py:22: FutureWarning: suggest_uniform has been deprecated in v3.0.0. This feature will be removed in v6.0.0. See https://github.com/optuna/optuna/releases/tag/v3.0.0. Use suggest_float instead.\n",
      "  'subsample': trial.suggest_uniform('subsample', 0.5, 1.0),\n",
      "/tmp/ipykernel_20/1395528414.py:23: FutureWarning: suggest_uniform has been deprecated in v3.0.0. This feature will be removed in v6.0.0. See https://github.com/optuna/optuna/releases/tag/v3.0.0. Use suggest_float instead.\n",
      "  'colsample_bytree': trial.suggest_uniform('colsample_bytree', 0.5, 1.0),\n",
      "/tmp/ipykernel_20/1395528414.py:24: FutureWarning: suggest_loguniform has been deprecated in v3.0.0. This feature will be removed in v6.0.0. See https://github.com/optuna/optuna/releases/tag/v3.0.0. Use suggest_float(..., log=True) instead.\n",
      "  'gamma': trial.suggest_loguniform('gamma', 0.001, 0.2),\n",
      "[I 2023-07-29 09:59:08,660] Trial 86 finished with value: 0.5812706444173525 and parameters: {'n_estimators': 300, 'max_depth': 8, 'learning_rate': 0.003919719000276796, 'subsample': 0.967785824250945, 'colsample_bytree': 0.8392039879488864, 'gamma': 0.004134303528965594}. Best is trial 58 with value: 0.5780672619158757.\n",
      "/tmp/ipykernel_20/1395528414.py:21: FutureWarning: suggest_loguniform has been deprecated in v3.0.0. This feature will be removed in v6.0.0. See https://github.com/optuna/optuna/releases/tag/v3.0.0. Use suggest_float(..., log=True) instead.\n",
      "  'learning_rate': trial.suggest_loguniform('learning_rate', 0.001, 1.0),\n",
      "/tmp/ipykernel_20/1395528414.py:22: FutureWarning: suggest_uniform has been deprecated in v3.0.0. This feature will be removed in v6.0.0. See https://github.com/optuna/optuna/releases/tag/v3.0.0. Use suggest_float instead.\n",
      "  'subsample': trial.suggest_uniform('subsample', 0.5, 1.0),\n",
      "/tmp/ipykernel_20/1395528414.py:23: FutureWarning: suggest_uniform has been deprecated in v3.0.0. This feature will be removed in v6.0.0. See https://github.com/optuna/optuna/releases/tag/v3.0.0. Use suggest_float instead.\n",
      "  'colsample_bytree': trial.suggest_uniform('colsample_bytree', 0.5, 1.0),\n",
      "/tmp/ipykernel_20/1395528414.py:24: FutureWarning: suggest_loguniform has been deprecated in v3.0.0. This feature will be removed in v6.0.0. See https://github.com/optuna/optuna/releases/tag/v3.0.0. Use suggest_float(..., log=True) instead.\n",
      "  'gamma': trial.suggest_loguniform('gamma', 0.001, 0.2),\n",
      "[I 2023-07-29 09:59:13,690] Trial 87 finished with value: 0.5950225225573009 and parameters: {'n_estimators': 350, 'max_depth': 8, 'learning_rate': 0.007408382134286848, 'subsample': 0.9412864808042933, 'colsample_bytree': 0.8434564304636769, 'gamma': 0.0048887018631611654}. Best is trial 58 with value: 0.5780672619158757.\n",
      "/tmp/ipykernel_20/1395528414.py:21: FutureWarning: suggest_loguniform has been deprecated in v3.0.0. This feature will be removed in v6.0.0. See https://github.com/optuna/optuna/releases/tag/v3.0.0. Use suggest_float(..., log=True) instead.\n",
      "  'learning_rate': trial.suggest_loguniform('learning_rate', 0.001, 1.0),\n",
      "/tmp/ipykernel_20/1395528414.py:22: FutureWarning: suggest_uniform has been deprecated in v3.0.0. This feature will be removed in v6.0.0. See https://github.com/optuna/optuna/releases/tag/v3.0.0. Use suggest_float instead.\n",
      "  'subsample': trial.suggest_uniform('subsample', 0.5, 1.0),\n",
      "/tmp/ipykernel_20/1395528414.py:23: FutureWarning: suggest_uniform has been deprecated in v3.0.0. This feature will be removed in v6.0.0. See https://github.com/optuna/optuna/releases/tag/v3.0.0. Use suggest_float instead.\n",
      "  'colsample_bytree': trial.suggest_uniform('colsample_bytree', 0.5, 1.0),\n",
      "/tmp/ipykernel_20/1395528414.py:24: FutureWarning: suggest_loguniform has been deprecated in v3.0.0. This feature will be removed in v6.0.0. See https://github.com/optuna/optuna/releases/tag/v3.0.0. Use suggest_float(..., log=True) instead.\n",
      "  'gamma': trial.suggest_loguniform('gamma', 0.001, 0.2),\n",
      "[I 2023-07-29 09:59:17,680] Trial 88 finished with value: 0.5765600463291045 and parameters: {'n_estimators': 250, 'max_depth': 8, 'learning_rate': 0.005369532425246009, 'subsample': 0.9874028482527533, 'colsample_bytree': 0.810137376733775, 'gamma': 0.0031465220096879437}. Best is trial 88 with value: 0.5765600463291045.\n",
      "/tmp/ipykernel_20/1395528414.py:21: FutureWarning: suggest_loguniform has been deprecated in v3.0.0. This feature will be removed in v6.0.0. See https://github.com/optuna/optuna/releases/tag/v3.0.0. Use suggest_float(..., log=True) instead.\n",
      "  'learning_rate': trial.suggest_loguniform('learning_rate', 0.001, 1.0),\n",
      "/tmp/ipykernel_20/1395528414.py:22: FutureWarning: suggest_uniform has been deprecated in v3.0.0. This feature will be removed in v6.0.0. See https://github.com/optuna/optuna/releases/tag/v3.0.0. Use suggest_float instead.\n",
      "  'subsample': trial.suggest_uniform('subsample', 0.5, 1.0),\n",
      "/tmp/ipykernel_20/1395528414.py:23: FutureWarning: suggest_uniform has been deprecated in v3.0.0. This feature will be removed in v6.0.0. See https://github.com/optuna/optuna/releases/tag/v3.0.0. Use suggest_float instead.\n",
      "  'colsample_bytree': trial.suggest_uniform('colsample_bytree', 0.5, 1.0),\n",
      "/tmp/ipykernel_20/1395528414.py:24: FutureWarning: suggest_loguniform has been deprecated in v3.0.0. This feature will be removed in v6.0.0. See https://github.com/optuna/optuna/releases/tag/v3.0.0. Use suggest_float(..., log=True) instead.\n",
      "  'gamma': trial.suggest_loguniform('gamma', 0.001, 0.2),\n",
      "[I 2023-07-29 09:59:21,521] Trial 89 finished with value: 0.5768845014484146 and parameters: {'n_estimators': 250, 'max_depth': 8, 'learning_rate': 0.005439852496491851, 'subsample': 0.987485589373064, 'colsample_bytree': 0.8092469286380343, 'gamma': 0.0029511610266162924}. Best is trial 88 with value: 0.5765600463291045.\n",
      "/tmp/ipykernel_20/1395528414.py:21: FutureWarning: suggest_loguniform has been deprecated in v3.0.0. This feature will be removed in v6.0.0. See https://github.com/optuna/optuna/releases/tag/v3.0.0. Use suggest_float(..., log=True) instead.\n",
      "  'learning_rate': trial.suggest_loguniform('learning_rate', 0.001, 1.0),\n",
      "/tmp/ipykernel_20/1395528414.py:22: FutureWarning: suggest_uniform has been deprecated in v3.0.0. This feature will be removed in v6.0.0. See https://github.com/optuna/optuna/releases/tag/v3.0.0. Use suggest_float instead.\n",
      "  'subsample': trial.suggest_uniform('subsample', 0.5, 1.0),\n",
      "/tmp/ipykernel_20/1395528414.py:23: FutureWarning: suggest_uniform has been deprecated in v3.0.0. This feature will be removed in v6.0.0. See https://github.com/optuna/optuna/releases/tag/v3.0.0. Use suggest_float instead.\n",
      "  'colsample_bytree': trial.suggest_uniform('colsample_bytree', 0.5, 1.0),\n",
      "/tmp/ipykernel_20/1395528414.py:24: FutureWarning: suggest_loguniform has been deprecated in v3.0.0. This feature will be removed in v6.0.0. See https://github.com/optuna/optuna/releases/tag/v3.0.0. Use suggest_float(..., log=True) instead.\n",
      "  'gamma': trial.suggest_loguniform('gamma', 0.001, 0.2),\n",
      "[I 2023-07-29 09:59:25,355] Trial 90 finished with value: 0.5803588913602409 and parameters: {'n_estimators': 250, 'max_depth': 8, 'learning_rate': 0.005672173880751729, 'subsample': 0.9397900455562405, 'colsample_bytree': 0.8143315327068235, 'gamma': 0.002907987279773035}. Best is trial 88 with value: 0.5765600463291045.\n",
      "/tmp/ipykernel_20/1395528414.py:21: FutureWarning: suggest_loguniform has been deprecated in v3.0.0. This feature will be removed in v6.0.0. See https://github.com/optuna/optuna/releases/tag/v3.0.0. Use suggest_float(..., log=True) instead.\n",
      "  'learning_rate': trial.suggest_loguniform('learning_rate', 0.001, 1.0),\n",
      "/tmp/ipykernel_20/1395528414.py:22: FutureWarning: suggest_uniform has been deprecated in v3.0.0. This feature will be removed in v6.0.0. See https://github.com/optuna/optuna/releases/tag/v3.0.0. Use suggest_float instead.\n",
      "  'subsample': trial.suggest_uniform('subsample', 0.5, 1.0),\n",
      "/tmp/ipykernel_20/1395528414.py:23: FutureWarning: suggest_uniform has been deprecated in v3.0.0. This feature will be removed in v6.0.0. See https://github.com/optuna/optuna/releases/tag/v3.0.0. Use suggest_float instead.\n",
      "  'colsample_bytree': trial.suggest_uniform('colsample_bytree', 0.5, 1.0),\n",
      "/tmp/ipykernel_20/1395528414.py:24: FutureWarning: suggest_loguniform has been deprecated in v3.0.0. This feature will be removed in v6.0.0. See https://github.com/optuna/optuna/releases/tag/v3.0.0. Use suggest_float(..., log=True) instead.\n",
      "  'gamma': trial.suggest_loguniform('gamma', 0.001, 0.2),\n",
      "[I 2023-07-29 09:59:29,068] Trial 91 finished with value: 0.5926245967816829 and parameters: {'n_estimators': 250, 'max_depth': 8, 'learning_rate': 0.009276839630799415, 'subsample': 0.9853789702750375, 'colsample_bytree': 0.8062854290672246, 'gamma': 0.0030949590829814633}. Best is trial 88 with value: 0.5765600463291045.\n",
      "/tmp/ipykernel_20/1395528414.py:21: FutureWarning: suggest_loguniform has been deprecated in v3.0.0. This feature will be removed in v6.0.0. See https://github.com/optuna/optuna/releases/tag/v3.0.0. Use suggest_float(..., log=True) instead.\n",
      "  'learning_rate': trial.suggest_loguniform('learning_rate', 0.001, 1.0),\n",
      "/tmp/ipykernel_20/1395528414.py:22: FutureWarning: suggest_uniform has been deprecated in v3.0.0. This feature will be removed in v6.0.0. See https://github.com/optuna/optuna/releases/tag/v3.0.0. Use suggest_float instead.\n",
      "  'subsample': trial.suggest_uniform('subsample', 0.5, 1.0),\n",
      "/tmp/ipykernel_20/1395528414.py:23: FutureWarning: suggest_uniform has been deprecated in v3.0.0. This feature will be removed in v6.0.0. See https://github.com/optuna/optuna/releases/tag/v3.0.0. Use suggest_float instead.\n",
      "  'colsample_bytree': trial.suggest_uniform('colsample_bytree', 0.5, 1.0),\n",
      "/tmp/ipykernel_20/1395528414.py:24: FutureWarning: suggest_loguniform has been deprecated in v3.0.0. This feature will be removed in v6.0.0. See https://github.com/optuna/optuna/releases/tag/v3.0.0. Use suggest_float(..., log=True) instead.\n",
      "  'gamma': trial.suggest_loguniform('gamma', 0.001, 0.2),\n",
      "[I 2023-07-29 09:59:36,527] Trial 92 finished with value: 0.578793444317728 and parameters: {'n_estimators': 400, 'max_depth': 8, 'learning_rate': 0.002947902471349305, 'subsample': 0.9901773127940176, 'colsample_bytree': 0.850346083863454, 'gamma': 0.0038409606773763243}. Best is trial 88 with value: 0.5765600463291045.\n",
      "/tmp/ipykernel_20/1395528414.py:21: FutureWarning: suggest_loguniform has been deprecated in v3.0.0. This feature will be removed in v6.0.0. See https://github.com/optuna/optuna/releases/tag/v3.0.0. Use suggest_float(..., log=True) instead.\n",
      "  'learning_rate': trial.suggest_loguniform('learning_rate', 0.001, 1.0),\n",
      "/tmp/ipykernel_20/1395528414.py:22: FutureWarning: suggest_uniform has been deprecated in v3.0.0. This feature will be removed in v6.0.0. See https://github.com/optuna/optuna/releases/tag/v3.0.0. Use suggest_float instead.\n",
      "  'subsample': trial.suggest_uniform('subsample', 0.5, 1.0),\n",
      "/tmp/ipykernel_20/1395528414.py:23: FutureWarning: suggest_uniform has been deprecated in v3.0.0. This feature will be removed in v6.0.0. See https://github.com/optuna/optuna/releases/tag/v3.0.0. Use suggest_float instead.\n",
      "  'colsample_bytree': trial.suggest_uniform('colsample_bytree', 0.5, 1.0),\n",
      "/tmp/ipykernel_20/1395528414.py:24: FutureWarning: suggest_loguniform has been deprecated in v3.0.0. This feature will be removed in v6.0.0. See https://github.com/optuna/optuna/releases/tag/v3.0.0. Use suggest_float(..., log=True) instead.\n",
      "  'gamma': trial.suggest_loguniform('gamma', 0.001, 0.2),\n",
      "[I 2023-07-29 09:59:43,586] Trial 93 finished with value: 0.5772604551756562 and parameters: {'n_estimators': 450, 'max_depth': 8, 'learning_rate': 0.003019302544284768, 'subsample': 0.9894505776187673, 'colsample_bytree': 0.8616288629980694, 'gamma': 0.0023521767169921385}. Best is trial 88 with value: 0.5765600463291045.\n",
      "/tmp/ipykernel_20/1395528414.py:21: FutureWarning: suggest_loguniform has been deprecated in v3.0.0. This feature will be removed in v6.0.0. See https://github.com/optuna/optuna/releases/tag/v3.0.0. Use suggest_float(..., log=True) instead.\n",
      "  'learning_rate': trial.suggest_loguniform('learning_rate', 0.001, 1.0),\n",
      "/tmp/ipykernel_20/1395528414.py:22: FutureWarning: suggest_uniform has been deprecated in v3.0.0. This feature will be removed in v6.0.0. See https://github.com/optuna/optuna/releases/tag/v3.0.0. Use suggest_float instead.\n",
      "  'subsample': trial.suggest_uniform('subsample', 0.5, 1.0),\n",
      "/tmp/ipykernel_20/1395528414.py:23: FutureWarning: suggest_uniform has been deprecated in v3.0.0. This feature will be removed in v6.0.0. See https://github.com/optuna/optuna/releases/tag/v3.0.0. Use suggest_float instead.\n",
      "  'colsample_bytree': trial.suggest_uniform('colsample_bytree', 0.5, 1.0),\n",
      "/tmp/ipykernel_20/1395528414.py:24: FutureWarning: suggest_loguniform has been deprecated in v3.0.0. This feature will be removed in v6.0.0. See https://github.com/optuna/optuna/releases/tag/v3.0.0. Use suggest_float(..., log=True) instead.\n",
      "  'gamma': trial.suggest_loguniform('gamma', 0.001, 0.2),\n",
      "[I 2023-07-29 09:59:49,458] Trial 94 finished with value: 0.5813944112619318 and parameters: {'n_estimators': 400, 'max_depth': 7, 'learning_rate': 0.0028261820318962474, 'subsample': 0.9693537723247244, 'colsample_bytree': 0.8330703074400546, 'gamma': 0.002384526091768228}. Best is trial 88 with value: 0.5765600463291045.\n",
      "/tmp/ipykernel_20/1395528414.py:21: FutureWarning: suggest_loguniform has been deprecated in v3.0.0. This feature will be removed in v6.0.0. See https://github.com/optuna/optuna/releases/tag/v3.0.0. Use suggest_float(..., log=True) instead.\n",
      "  'learning_rate': trial.suggest_loguniform('learning_rate', 0.001, 1.0),\n",
      "/tmp/ipykernel_20/1395528414.py:22: FutureWarning: suggest_uniform has been deprecated in v3.0.0. This feature will be removed in v6.0.0. See https://github.com/optuna/optuna/releases/tag/v3.0.0. Use suggest_float instead.\n",
      "  'subsample': trial.suggest_uniform('subsample', 0.5, 1.0),\n",
      "/tmp/ipykernel_20/1395528414.py:23: FutureWarning: suggest_uniform has been deprecated in v3.0.0. This feature will be removed in v6.0.0. See https://github.com/optuna/optuna/releases/tag/v3.0.0. Use suggest_float instead.\n",
      "  'colsample_bytree': trial.suggest_uniform('colsample_bytree', 0.5, 1.0),\n",
      "/tmp/ipykernel_20/1395528414.py:24: FutureWarning: suggest_loguniform has been deprecated in v3.0.0. This feature will be removed in v6.0.0. See https://github.com/optuna/optuna/releases/tag/v3.0.0. Use suggest_float(..., log=True) instead.\n",
      "  'gamma': trial.suggest_loguniform('gamma', 0.001, 0.2),\n",
      "[I 2023-07-29 09:59:56,539] Trial 95 finished with value: 0.5800229378399592 and parameters: {'n_estimators': 450, 'max_depth': 8, 'learning_rate': 0.003031960807228783, 'subsample': 0.9559640032841256, 'colsample_bytree': 0.8577754054935877, 'gamma': 0.0023586579202343155}. Best is trial 88 with value: 0.5765600463291045.\n",
      "/tmp/ipykernel_20/1395528414.py:21: FutureWarning: suggest_loguniform has been deprecated in v3.0.0. This feature will be removed in v6.0.0. See https://github.com/optuna/optuna/releases/tag/v3.0.0. Use suggest_float(..., log=True) instead.\n",
      "  'learning_rate': trial.suggest_loguniform('learning_rate', 0.001, 1.0),\n",
      "/tmp/ipykernel_20/1395528414.py:22: FutureWarning: suggest_uniform has been deprecated in v3.0.0. This feature will be removed in v6.0.0. See https://github.com/optuna/optuna/releases/tag/v3.0.0. Use suggest_float instead.\n",
      "  'subsample': trial.suggest_uniform('subsample', 0.5, 1.0),\n",
      "/tmp/ipykernel_20/1395528414.py:23: FutureWarning: suggest_uniform has been deprecated in v3.0.0. This feature will be removed in v6.0.0. See https://github.com/optuna/optuna/releases/tag/v3.0.0. Use suggest_float instead.\n",
      "  'colsample_bytree': trial.suggest_uniform('colsample_bytree', 0.5, 1.0),\n",
      "/tmp/ipykernel_20/1395528414.py:24: FutureWarning: suggest_loguniform has been deprecated in v3.0.0. This feature will be removed in v6.0.0. See https://github.com/optuna/optuna/releases/tag/v3.0.0. Use suggest_float(..., log=True) instead.\n",
      "  'gamma': trial.suggest_loguniform('gamma', 0.001, 0.2),\n",
      "[I 2023-07-29 10:00:03,336] Trial 96 finished with value: 0.5798768464152533 and parameters: {'n_estimators': 350, 'max_depth': 8, 'learning_rate': 0.0032951709898052816, 'subsample': 0.9906136896803857, 'colsample_bytree': 0.8250315498890592, 'gamma': 0.003866333034859687}. Best is trial 88 with value: 0.5765600463291045.\n",
      "/tmp/ipykernel_20/1395528414.py:21: FutureWarning: suggest_loguniform has been deprecated in v3.0.0. This feature will be removed in v6.0.0. See https://github.com/optuna/optuna/releases/tag/v3.0.0. Use suggest_float(..., log=True) instead.\n",
      "  'learning_rate': trial.suggest_loguniform('learning_rate', 0.001, 1.0),\n",
      "/tmp/ipykernel_20/1395528414.py:22: FutureWarning: suggest_uniform has been deprecated in v3.0.0. This feature will be removed in v6.0.0. See https://github.com/optuna/optuna/releases/tag/v3.0.0. Use suggest_float instead.\n",
      "  'subsample': trial.suggest_uniform('subsample', 0.5, 1.0),\n",
      "/tmp/ipykernel_20/1395528414.py:23: FutureWarning: suggest_uniform has been deprecated in v3.0.0. This feature will be removed in v6.0.0. See https://github.com/optuna/optuna/releases/tag/v3.0.0. Use suggest_float instead.\n",
      "  'colsample_bytree': trial.suggest_uniform('colsample_bytree', 0.5, 1.0),\n",
      "/tmp/ipykernel_20/1395528414.py:24: FutureWarning: suggest_loguniform has been deprecated in v3.0.0. This feature will be removed in v6.0.0. See https://github.com/optuna/optuna/releases/tag/v3.0.0. Use suggest_float(..., log=True) instead.\n",
      "  'gamma': trial.suggest_loguniform('gamma', 0.001, 0.2),\n",
      "[I 2023-07-29 10:00:10,162] Trial 97 finished with value: 0.5873381039324672 and parameters: {'n_estimators': 400, 'max_depth': 9, 'learning_rate': 0.0022367841590936865, 'subsample': 0.9742165729737426, 'colsample_bytree': 0.8099249935176964, 'gamma': 0.002791914358450296}. Best is trial 88 with value: 0.5765600463291045.\n",
      "/tmp/ipykernel_20/1395528414.py:21: FutureWarning: suggest_loguniform has been deprecated in v3.0.0. This feature will be removed in v6.0.0. See https://github.com/optuna/optuna/releases/tag/v3.0.0. Use suggest_float(..., log=True) instead.\n",
      "  'learning_rate': trial.suggest_loguniform('learning_rate', 0.001, 1.0),\n",
      "/tmp/ipykernel_20/1395528414.py:22: FutureWarning: suggest_uniform has been deprecated in v3.0.0. This feature will be removed in v6.0.0. See https://github.com/optuna/optuna/releases/tag/v3.0.0. Use suggest_float instead.\n",
      "  'subsample': trial.suggest_uniform('subsample', 0.5, 1.0),\n",
      "/tmp/ipykernel_20/1395528414.py:23: FutureWarning: suggest_uniform has been deprecated in v3.0.0. This feature will be removed in v6.0.0. See https://github.com/optuna/optuna/releases/tag/v3.0.0. Use suggest_float instead.\n",
      "  'colsample_bytree': trial.suggest_uniform('colsample_bytree', 0.5, 1.0),\n",
      "/tmp/ipykernel_20/1395528414.py:24: FutureWarning: suggest_loguniform has been deprecated in v3.0.0. This feature will be removed in v6.0.0. See https://github.com/optuna/optuna/releases/tag/v3.0.0. Use suggest_float(..., log=True) instead.\n",
      "  'gamma': trial.suggest_loguniform('gamma', 0.001, 0.2),\n",
      "[I 2023-07-29 10:00:14,169] Trial 98 finished with value: 0.5812106449721088 and parameters: {'n_estimators': 250, 'max_depth': 8, 'learning_rate': 0.004882694954867951, 'subsample': 0.9604161697078485, 'colsample_bytree': 0.7945358920950347, 'gamma': 0.0030749897528672865}. Best is trial 88 with value: 0.5765600463291045.\n",
      "/tmp/ipykernel_20/1395528414.py:21: FutureWarning: suggest_loguniform has been deprecated in v3.0.0. This feature will be removed in v6.0.0. See https://github.com/optuna/optuna/releases/tag/v3.0.0. Use suggest_float(..., log=True) instead.\n",
      "  'learning_rate': trial.suggest_loguniform('learning_rate', 0.001, 1.0),\n",
      "/tmp/ipykernel_20/1395528414.py:22: FutureWarning: suggest_uniform has been deprecated in v3.0.0. This feature will be removed in v6.0.0. See https://github.com/optuna/optuna/releases/tag/v3.0.0. Use suggest_float instead.\n",
      "  'subsample': trial.suggest_uniform('subsample', 0.5, 1.0),\n",
      "/tmp/ipykernel_20/1395528414.py:23: FutureWarning: suggest_uniform has been deprecated in v3.0.0. This feature will be removed in v6.0.0. See https://github.com/optuna/optuna/releases/tag/v3.0.0. Use suggest_float instead.\n",
      "  'colsample_bytree': trial.suggest_uniform('colsample_bytree', 0.5, 1.0),\n",
      "/tmp/ipykernel_20/1395528414.py:24: FutureWarning: suggest_loguniform has been deprecated in v3.0.0. This feature will be removed in v6.0.0. See https://github.com/optuna/optuna/releases/tag/v3.0.0. Use suggest_float(..., log=True) instead.\n",
      "  'gamma': trial.suggest_loguniform('gamma', 0.001, 0.2),\n",
      "[I 2023-07-29 10:00:19,948] Trial 99 finished with value: 0.5917900818299446 and parameters: {'n_estimators': 350, 'max_depth': 8, 'learning_rate': 0.0023771369174903235, 'subsample': 0.9456611248186317, 'colsample_bytree': 0.8346515532186751, 'gamma': 0.002294121460600118}. Best is trial 88 with value: 0.5765600463291045.\n"
     ]
    },
    {
     "data": {
      "text/plain": [
       "<optuna.study.study.Study at 0x7fadce096560>"
      ]
     },
     "metadata": {},
     "output_type": "display_data"
    },
    {
     "name": "stdout",
     "output_type": "stream",
     "text": [
      "Best trial: {'n_estimators': 250, 'max_depth': 8, 'learning_rate': 0.005369532425246009, 'subsample': 0.9874028482527533, 'colsample_bytree': 0.810137376733775, 'gamma': 0.0031465220096879437}\n",
      "Best brier: 0.5765600463291045\n"
     ]
    }
   ],
   "source": [
    "from IPython.display import display\n",
    "import optuna\n",
    "from xgboost import XGBClassifier\n",
    "from sklearn.model_selection import KFold\n",
    "from sklearn.model_selection import train_test_split\n",
    "from sklearn.metrics import roc_auc_score\n",
    "import xgboost as xgb\n",
    "from sklearn.model_selection import cross_val_score\n",
    "from sklearn.metrics import make_scorer\n",
    "from sklearn.model_selection import StratifiedKFold\n",
    "\n",
    "\n",
    "\n",
    "\n",
    "def obj_xgb(trial, X,y):\n",
    "    #x_train, x_valid, y_train, y_valid = train_test_split(x, y, test_size=0.15)\n",
    "\n",
    "    params = {\n",
    "        'n_estimators': trial.suggest_int('n_estimators', 50, 1000, step=50),\n",
    "        'max_depth': trial.suggest_int('max_depth', 3, 10),\n",
    "        'learning_rate': trial.suggest_loguniform('learning_rate', 0.001, 1.0),\n",
    "        'subsample': trial.suggest_uniform('subsample', 0.5, 1.0),\n",
    "        'colsample_bytree': trial.suggest_uniform('colsample_bytree', 0.5, 1.0),\n",
    "        'gamma': trial.suggest_loguniform('gamma', 0.001, 0.2),\n",
    "        'objective': 'binary:logistic', \n",
    "        'eval_metric': 'logloss', \n",
    "    }\n",
    "\n",
    "    custom_scorer = make_scorer(competition_log_loss, greater_is_better=False)\n",
    "    model = xgb.XGBClassifier(**params)\n",
    "    \n",
    "    cv = StratifiedKFold(n_splits=5, shuffle=True, random_state=1121218)\n",
    "    \n",
    "    cv_scores = np.empty(5)\n",
    "    for idx, (train_idx, test_idx) in enumerate(cv.split(X, y)):\n",
    "        X_train, X_test = X.iloc[train_idx], X.iloc[test_idx]\n",
    "        y_train, y_test = y[train_idx], y[test_idx]\n",
    "        model.fit(X_train,y_train)\n",
    "        preds = model.predict_proba(X_test)[:,1]\n",
    "        #scores = cross_val_score(model, x, y, cv=kf,scoring=custom_scorer)\n",
    "        cv_scores[idx] = competition_log_loss(y_test, preds)\n",
    " \n",
    "        avg=cv_scores.mean()\n",
    "\n",
    "    \n",
    "    #y_pred = model.predict_proba(x_valid)[:, 1]\n",
    "    \n",
    "\n",
    "    #roc_auc = roc_auc_score(y_valid, y_pred)\n",
    "    \n",
    "    return avg\n",
    "\n",
    "\n",
    "study = optuna.create_study(direction='minimize')\n",
    "study.optimize(lambda trial: obj_xgb(trial, X, y), n_trials=100)  # Pass X and y to the obj_xgb function\n",
    "\n",
    "\n",
    "display(study)\n",
    "\n",
    "print('Best trial:', study.best_trial.params)\n",
    "print('Best brier:', study.best_trial.value)"
   ]
  },
  {
   "cell_type": "code",
   "execution_count": null,
   "id": "94166d4e",
   "metadata": {
    "papermill": {
     "duration": 0.030953,
     "end_time": "2023-07-29T10:00:20.023284",
     "exception": false,
     "start_time": "2023-07-29T10:00:19.992331",
     "status": "completed"
    },
    "tags": []
   },
   "outputs": [],
   "source": []
  },
  {
   "cell_type": "code",
   "execution_count": 16,
   "id": "1fad1f59",
   "metadata": {
    "execution": {
     "iopub.execute_input": "2023-07-29T10:00:20.087508Z",
     "iopub.status.busy": "2023-07-29T10:00:20.087083Z",
     "iopub.status.idle": "2023-07-29T10:00:20.094243Z",
     "shell.execute_reply": "2023-07-29T10:00:20.093147Z"
    },
    "papermill": {
     "duration": 0.042257,
     "end_time": "2023-07-29T10:00:20.096774",
     "exception": false,
     "start_time": "2023-07-29T10:00:20.054517",
     "status": "completed"
    },
    "tags": []
   },
   "outputs": [
    {
     "name": "stdout",
     "output_type": "stream",
     "text": [
      "Best trial: {'n_estimators': 250, 'max_depth': 8, 'learning_rate': 0.005369532425246009, 'subsample': 0.9874028482527533, 'colsample_bytree': 0.810137376733775, 'gamma': 0.0031465220096879437}\n",
      "Best balanced_log_loss: 0.5765600463291045\n"
     ]
    }
   ],
   "source": [
    "print('Best trial:', study.best_trial.params)\n",
    "print('Best balanced_log_loss:', study.best_trial.value)"
   ]
  },
  {
   "cell_type": "code",
   "execution_count": 17,
   "id": "5a847607",
   "metadata": {
    "execution": {
     "iopub.execute_input": "2023-07-29T10:00:20.163494Z",
     "iopub.status.busy": "2023-07-29T10:00:20.162796Z",
     "iopub.status.idle": "2023-07-29T10:00:20.169514Z",
     "shell.execute_reply": "2023-07-29T10:00:20.168330Z"
    },
    "papermill": {
     "duration": 0.042897,
     "end_time": "2023-07-29T10:00:20.172141",
     "exception": false,
     "start_time": "2023-07-29T10:00:20.129244",
     "status": "completed"
    },
    "tags": []
   },
   "outputs": [],
   "source": [
    "from sklearn.model_selection import train_test_split\n",
    "\n",
    "x_train, x_test, y_train, y_test = train_test_split(X,y,test_size=0.15)"
   ]
  },
  {
   "cell_type": "code",
   "execution_count": 18,
   "id": "a065fbe2",
   "metadata": {
    "execution": {
     "iopub.execute_input": "2023-07-29T10:00:20.237827Z",
     "iopub.status.busy": "2023-07-29T10:00:20.237348Z",
     "iopub.status.idle": "2023-07-29T10:00:20.260882Z",
     "shell.execute_reply": "2023-07-29T10:00:20.253491Z"
    },
    "papermill": {
     "duration": 0.060846,
     "end_time": "2023-07-29T10:00:20.264620",
     "exception": false,
     "start_time": "2023-07-29T10:00:20.203774",
     "status": "completed"
    },
    "tags": []
   },
   "outputs": [],
   "source": [
    "import xgboost as xgb\n",
    "dtrain = xgb.DMatrix(x_train, label=y_train)\n",
    "dtest = xgb.DMatrix(x_test, label=y_test)"
   ]
  },
  {
   "cell_type": "code",
   "execution_count": 19,
   "id": "86a90f8e",
   "metadata": {
    "execution": {
     "iopub.execute_input": "2023-07-29T10:00:20.329134Z",
     "iopub.status.busy": "2023-07-29T10:00:20.328728Z",
     "iopub.status.idle": "2023-07-29T10:00:20.335081Z",
     "shell.execute_reply": "2023-07-29T10:00:20.333734Z"
    },
    "papermill": {
     "duration": 0.041502,
     "end_time": "2023-07-29T10:00:20.337595",
     "exception": false,
     "start_time": "2023-07-29T10:00:20.296093",
     "status": "completed"
    },
    "tags": []
   },
   "outputs": [],
   "source": [
    "params ={'n_estimators': 300, 'max_depth': 7, 'learning_rate': 0.11083666084808587, 'subsample': 0.6646998689138404, 'colsample_bytree': 0.9993276251354577, 'gamma': 0.09161209891211826}"
   ]
  },
  {
   "cell_type": "code",
   "execution_count": 20,
   "id": "cbfbdd1d",
   "metadata": {
    "execution": {
     "iopub.execute_input": "2023-07-29T10:00:20.403142Z",
     "iopub.status.busy": "2023-07-29T10:00:20.402696Z",
     "iopub.status.idle": "2023-07-29T10:00:21.502240Z",
     "shell.execute_reply": "2023-07-29T10:00:21.501285Z"
    },
    "papermill": {
     "duration": 1.134986,
     "end_time": "2023-07-29T10:00:21.505188",
     "exception": false,
     "start_time": "2023-07-29T10:00:20.370202",
     "status": "completed"
    },
    "tags": []
   },
   "outputs": [
    {
     "name": "stdout",
     "output_type": "stream",
     "text": [
      "[10:00:20] WARNING: ../src/learner.cc:767: \n",
      "Parameters: { \"n_estimators\" } are not used.\n",
      "\n"
     ]
    }
   ],
   "source": [
    "model = xgb.train(params, dtrain,300)"
   ]
  },
  {
   "cell_type": "code",
   "execution_count": 21,
   "id": "3fd2a44c",
   "metadata": {
    "execution": {
     "iopub.execute_input": "2023-07-29T10:00:21.573959Z",
     "iopub.status.busy": "2023-07-29T10:00:21.573543Z",
     "iopub.status.idle": "2023-07-29T10:00:21.584421Z",
     "shell.execute_reply": "2023-07-29T10:00:21.583416Z"
    },
    "papermill": {
     "duration": 0.047359,
     "end_time": "2023-07-29T10:00:21.587287",
     "exception": false,
     "start_time": "2023-07-29T10:00:21.539928",
     "status": "completed"
    },
    "tags": []
   },
   "outputs": [],
   "source": [
    "y_pred = model.predict(dtest)"
   ]
  },
  {
   "cell_type": "code",
   "execution_count": 22,
   "id": "65bac177",
   "metadata": {
    "execution": {
     "iopub.execute_input": "2023-07-29T10:00:21.654383Z",
     "iopub.status.busy": "2023-07-29T10:00:21.654007Z",
     "iopub.status.idle": "2023-07-29T10:00:21.662976Z",
     "shell.execute_reply": "2023-07-29T10:00:21.661713Z"
    },
    "papermill": {
     "duration": 0.046073,
     "end_time": "2023-07-29T10:00:21.665479",
     "exception": false,
     "start_time": "2023-07-29T10:00:21.619406",
     "status": "completed"
    },
    "tags": []
   },
   "outputs": [
    {
     "data": {
      "text/plain": [
       "array([ 8.59542098e-03,  6.81754854e-03, -4.35351245e-02,  6.88217521e-01,\n",
       "        4.37828042e-02, -1.95481256e-02,  6.50753915e-01,  8.01873952e-03,\n",
       "        3.06560454e-04,  8.07755347e-03, -2.37939674e-02, -1.10899741e-02,\n",
       "        1.20681316e-01, -2.46171355e-02,  1.54031618e-02,  2.67311811e-01,\n",
       "       -2.65595922e-03,  5.59714615e-01,  8.77616346e-01,  6.09713018e-01,\n",
       "        3.42464656e-01, -4.64696204e-03,  2.13008430e-02,  3.48172560e-02,\n",
       "       -1.00365141e-03,  8.84275198e-01,  7.88002431e-01, -2.26515718e-02,\n",
       "        6.43200651e-02, -3.94191071e-02,  8.04249942e-01, -2.62568099e-03,\n",
       "       -4.56307381e-02,  8.31700206e-01,  3.19912910e-01, -1.58393532e-02,\n",
       "        5.88206828e-01, -1.12155369e-02,  1.03400916e-01, -3.21311131e-02,\n",
       "       -8.98688193e-03,  8.53755057e-01,  7.22628608e-02,  8.53540182e-01,\n",
       "        8.08391161e-03,  3.38536724e-02,  9.76336747e-02, -1.09946644e-02,\n",
       "        9.50310886e-01, -2.37388778e-02, -1.09444195e-02, -2.14083567e-02,\n",
       "        9.27583054e-02,  1.16041854e-01, -4.17727642e-02,  1.11870684e-01,\n",
       "        2.87039220e-01, -3.05551067e-02,  2.41264075e-01,  5.77360809e-01,\n",
       "       -1.84390917e-02,  2.05594286e-01, -8.76677781e-03,  1.78712681e-02,\n",
       "        4.83591259e-02,  9.92145942e-05, -2.06808075e-02,  7.67354369e-02,\n",
       "        2.72110086e-02,  6.84070110e-01, -6.88705267e-03, -1.86133739e-02,\n",
       "       -2.32429747e-02, -1.17068859e-02,  5.56662440e-01,  6.56700209e-02,\n",
       "       -2.89448351e-02, -1.89436823e-02,  2.23188102e-02, -1.58285927e-02,\n",
       "        8.78257584e-03,  1.85361996e-01,  6.12914525e-02,  2.39813775e-01,\n",
       "        2.07208931e-01,  2.28807390e-01, -1.90503951e-02,  3.47507894e-01,\n",
       "       -1.51371984e-02,  3.61718714e-01,  3.70996930e-02, -9.80486075e-05,\n",
       "       -2.00611576e-02], dtype=float32)"
      ]
     },
     "execution_count": 22,
     "metadata": {},
     "output_type": "execute_result"
    }
   ],
   "source": [
    "y_pred"
   ]
  },
  {
   "cell_type": "code",
   "execution_count": 23,
   "id": "1c947d07",
   "metadata": {
    "execution": {
     "iopub.execute_input": "2023-07-29T10:00:21.731781Z",
     "iopub.status.busy": "2023-07-29T10:00:21.731382Z",
     "iopub.status.idle": "2023-07-29T10:00:21.740781Z",
     "shell.execute_reply": "2023-07-29T10:00:21.739422Z"
    },
    "papermill": {
     "duration": 0.044825,
     "end_time": "2023-07-29T10:00:21.743197",
     "exception": false,
     "start_time": "2023-07-29T10:00:21.698372",
     "status": "completed"
    },
    "tags": []
   },
   "outputs": [
    {
     "name": "stdout",
     "output_type": "stream",
     "text": [
      "Accuracy: 94.62%\n"
     ]
    }
   ],
   "source": [
    "from sklearn.metrics import accuracy_score\n",
    "\n",
    "# Convert probabilities to binary predictions\n",
    "\n",
    "\n",
    "y_pred_binary = [1 if p >= 0.5 else 0 for p in y_pred]\n",
    "\n",
    "accuracy = accuracy_score(y_test, y_pred_binary)\n",
    "print(\"Accuracy: %.2f%%\" % (accuracy * 100.0))"
   ]
  },
  {
   "cell_type": "code",
   "execution_count": 24,
   "id": "d1804c94",
   "metadata": {
    "execution": {
     "iopub.execute_input": "2023-07-29T10:00:21.809554Z",
     "iopub.status.busy": "2023-07-29T10:00:21.808852Z",
     "iopub.status.idle": "2023-07-29T10:00:21.821049Z",
     "shell.execute_reply": "2023-07-29T10:00:21.820053Z"
    },
    "papermill": {
     "duration": 0.048419,
     "end_time": "2023-07-29T10:00:21.823781",
     "exception": false,
     "start_time": "2023-07-29T10:00:21.775362",
     "status": "completed"
    },
    "tags": []
   },
   "outputs": [],
   "source": [
    "from sklearn.metrics import roc_auc_score\n",
    "\n",
    "auc_score = roc_auc_score(y_test, y_pred)"
   ]
  },
  {
   "cell_type": "code",
   "execution_count": 25,
   "id": "66959bb0",
   "metadata": {
    "execution": {
     "iopub.execute_input": "2023-07-29T10:00:21.889983Z",
     "iopub.status.busy": "2023-07-29T10:00:21.888871Z",
     "iopub.status.idle": "2023-07-29T10:00:21.896794Z",
     "shell.execute_reply": "2023-07-29T10:00:21.895559Z"
    },
    "papermill": {
     "duration": 0.043706,
     "end_time": "2023-07-29T10:00:21.899180",
     "exception": false,
     "start_time": "2023-07-29T10:00:21.855474",
     "status": "completed"
    },
    "tags": []
   },
   "outputs": [
    {
     "data": {
      "text/plain": [
       "0.9295665634674922"
      ]
     },
     "execution_count": 25,
     "metadata": {},
     "output_type": "execute_result"
    }
   ],
   "source": [
    "auc_score"
   ]
  },
  {
   "cell_type": "code",
   "execution_count": 26,
   "id": "0a4ed199",
   "metadata": {
    "execution": {
     "iopub.execute_input": "2023-07-29T10:00:21.966584Z",
     "iopub.status.busy": "2023-07-29T10:00:21.965573Z",
     "iopub.status.idle": "2023-07-29T10:00:21.976074Z",
     "shell.execute_reply": "2023-07-29T10:00:21.974925Z"
    },
    "papermill": {
     "duration": 0.046937,
     "end_time": "2023-07-29T10:00:21.978526",
     "exception": false,
     "start_time": "2023-07-29T10:00:21.931589",
     "status": "completed"
    },
    "tags": []
   },
   "outputs": [
    {
     "name": "stdout",
     "output_type": "stream",
     "text": [
      "False Positive Rate (FPR): 0.02631578947368421\n",
      "False Negative Rate (FNR): 0.17647058823529413\n"
     ]
    }
   ],
   "source": [
    "from sklearn.metrics import confusion_matrix\n",
    "\n",
    "confusion = confusion_matrix(y_test, y_pred_binary)\n",
    "\n",
    "# Extract true negatives (TN), false positives (FP), false negatives (FN), and true positives (TP) from the confusion matrix\n",
    "TN, FP, FN, TP = confusion.ravel()\n",
    "\n",
    "# Calculate the false positive rate (FPR) and false negative rate (FNR)\n",
    "FPR = FP / (FP + TN)\n",
    "FNR = FN / (FN + TP)\n",
    "\n",
    "# Print the false positive rate and false negative rate\n",
    "print(\"False Positive Rate (FPR):\", FPR)\n",
    "print(\"False Negative Rate (FNR):\", FNR)"
   ]
  },
  {
   "cell_type": "code",
   "execution_count": 27,
   "id": "ba6bfaea",
   "metadata": {
    "execution": {
     "iopub.execute_input": "2023-07-29T10:00:22.046038Z",
     "iopub.status.busy": "2023-07-29T10:00:22.045274Z",
     "iopub.status.idle": "2023-07-29T10:00:22.053609Z",
     "shell.execute_reply": "2023-07-29T10:00:22.052497Z"
    },
    "papermill": {
     "duration": 0.045709,
     "end_time": "2023-07-29T10:00:22.056129",
     "exception": false,
     "start_time": "2023-07-29T10:00:22.010420",
     "status": "completed"
    },
    "tags": []
   },
   "outputs": [
    {
     "data": {
      "text/plain": [
       "2.0267005180811153"
      ]
     },
     "execution_count": 27,
     "metadata": {},
     "output_type": "execute_result"
    }
   ],
   "source": [
    "competition_log_loss(y_test,y_pred)"
   ]
  },
  {
   "cell_type": "code",
   "execution_count": 28,
   "id": "700b6d7a",
   "metadata": {
    "execution": {
     "iopub.execute_input": "2023-07-29T10:00:22.125622Z",
     "iopub.status.busy": "2023-07-29T10:00:22.124861Z",
     "iopub.status.idle": "2023-07-29T10:00:22.130025Z",
     "shell.execute_reply": "2023-07-29T10:00:22.128930Z"
    },
    "papermill": {
     "duration": 0.041377,
     "end_time": "2023-07-29T10:00:22.132614",
     "exception": false,
     "start_time": "2023-07-29T10:00:22.091237",
     "status": "completed"
    },
    "tags": []
   },
   "outputs": [],
   "source": [
    "lb=np.zeros(val.shape[0])"
   ]
  },
  {
   "cell_type": "code",
   "execution_count": 29,
   "id": "027322f8",
   "metadata": {
    "execution": {
     "iopub.execute_input": "2023-07-29T10:00:22.201637Z",
     "iopub.status.busy": "2023-07-29T10:00:22.200905Z",
     "iopub.status.idle": "2023-07-29T10:00:22.210729Z",
     "shell.execute_reply": "2023-07-29T10:00:22.209827Z"
    },
    "papermill": {
     "duration": 0.047094,
     "end_time": "2023-07-29T10:00:22.213649",
     "exception": false,
     "start_time": "2023-07-29T10:00:22.166555",
     "status": "completed"
    },
    "tags": []
   },
   "outputs": [],
   "source": [
    "dval = xgb.DMatrix(val, label=lb)\n"
   ]
  },
  {
   "cell_type": "code",
   "execution_count": 30,
   "id": "60ace1fb",
   "metadata": {
    "execution": {
     "iopub.execute_input": "2023-07-29T10:00:22.281482Z",
     "iopub.status.busy": "2023-07-29T10:00:22.281062Z",
     "iopub.status.idle": "2023-07-29T10:00:22.288779Z",
     "shell.execute_reply": "2023-07-29T10:00:22.287669Z"
    },
    "papermill": {
     "duration": 0.043994,
     "end_time": "2023-07-29T10:00:22.291443",
     "exception": false,
     "start_time": "2023-07-29T10:00:22.247449",
     "status": "completed"
    },
    "tags": []
   },
   "outputs": [],
   "source": [
    "pred=model.predict(dval)"
   ]
  },
  {
   "cell_type": "code",
   "execution_count": 31,
   "id": "115b7ad9",
   "metadata": {
    "execution": {
     "iopub.execute_input": "2023-07-29T10:00:22.359831Z",
     "iopub.status.busy": "2023-07-29T10:00:22.359376Z",
     "iopub.status.idle": "2023-07-29T10:00:22.366689Z",
     "shell.execute_reply": "2023-07-29T10:00:22.365767Z"
    },
    "papermill": {
     "duration": 0.043712,
     "end_time": "2023-07-29T10:00:22.368870",
     "exception": false,
     "start_time": "2023-07-29T10:00:22.325158",
     "status": "completed"
    },
    "tags": []
   },
   "outputs": [
    {
     "data": {
      "text/plain": [
       "array([0.19588824, 0.19588824, 0.19588824, 0.19588824, 0.19588824],\n",
       "      dtype=float32)"
      ]
     },
     "execution_count": 31,
     "metadata": {},
     "output_type": "execute_result"
    }
   ],
   "source": [
    "pred"
   ]
  },
  {
   "cell_type": "code",
   "execution_count": null,
   "id": "e469b2a2",
   "metadata": {
    "papermill": {
     "duration": 0.032109,
     "end_time": "2023-07-29T10:00:22.434573",
     "exception": false,
     "start_time": "2023-07-29T10:00:22.402464",
     "status": "completed"
    },
    "tags": []
   },
   "outputs": [],
   "source": []
  },
  {
   "cell_type": "code",
   "execution_count": null,
   "id": "fbb49c72",
   "metadata": {
    "papermill": {
     "duration": 0.032547,
     "end_time": "2023-07-29T10:00:22.500992",
     "exception": false,
     "start_time": "2023-07-29T10:00:22.468445",
     "status": "completed"
    },
    "tags": []
   },
   "outputs": [],
   "source": []
  },
  {
   "cell_type": "code",
   "execution_count": null,
   "id": "59c24291",
   "metadata": {
    "papermill": {
     "duration": 0.033766,
     "end_time": "2023-07-29T10:00:22.569288",
     "exception": false,
     "start_time": "2023-07-29T10:00:22.535522",
     "status": "completed"
    },
    "tags": []
   },
   "outputs": [],
   "source": []
  }
 ],
 "metadata": {
  "kernelspec": {
   "display_name": "Python 3",
   "language": "python",
   "name": "python3"
  },
  "language_info": {
   "codemirror_mode": {
    "name": "ipython",
    "version": 3
   },
   "file_extension": ".py",
   "mimetype": "text/x-python",
   "name": "python",
   "nbconvert_exporter": "python",
   "pygments_lexer": "ipython3",
   "version": "3.10.12"
  },
  "papermill": {
   "default_parameters": {},
   "duration": 697.305336,
   "end_time": "2023-07-29T10:00:23.729849",
   "environment_variables": {},
   "exception": null,
   "input_path": "__notebook__.ipynb",
   "output_path": "__notebook__.ipynb",
   "parameters": {},
   "start_time": "2023-07-29T09:48:46.424513",
   "version": "2.4.0"
  }
 },
 "nbformat": 4,
 "nbformat_minor": 5
}
