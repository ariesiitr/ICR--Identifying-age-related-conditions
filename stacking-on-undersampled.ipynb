{
 "cells": [
  {
   "cell_type": "code",
   "execution_count": 1,
   "id": "1289f965",
   "metadata": {
    "_cell_guid": "b1076dfc-b9ad-4769-8c92-a6c4dae69d19",
    "_uuid": "8f2839f25d086af736a60e9eeb907d3b93b6e0e5",
    "execution": {
     "iopub.execute_input": "2023-07-15T21:34:20.597701Z",
     "iopub.status.busy": "2023-07-15T21:34:20.597305Z",
     "iopub.status.idle": "2023-07-15T21:34:22.193648Z",
     "shell.execute_reply": "2023-07-15T21:34:22.192677Z"
    },
    "papermill": {
     "duration": 1.610322,
     "end_time": "2023-07-15T21:34:22.195902",
     "exception": false,
     "start_time": "2023-07-15T21:34:20.585580",
     "status": "completed"
    },
    "tags": []
   },
   "outputs": [
    {
     "name": "stderr",
     "output_type": "stream",
     "text": [
      "/opt/conda/lib/python3.10/site-packages/scipy/__init__.py:146: UserWarning: A NumPy version >=1.16.5 and <1.23.0 is required for this version of SciPy (detected version 1.23.5\n",
      "  warnings.warn(f\"A NumPy version >={np_minversion} and <{np_maxversion}\"\n"
     ]
    }
   ],
   "source": [
    "import pandas as pd\n",
    "import numpy as np\n",
    "from sklearn.model_selection import train_test_split, cross_val_score\n",
    "from sklearn.metrics import accuracy_score\n",
    "from sklearn.ensemble import StackingClassifier"
   ]
  },
  {
   "cell_type": "code",
   "execution_count": 2,
   "id": "4c4765d0",
   "metadata": {
    "execution": {
     "iopub.execute_input": "2023-07-15T21:34:22.213231Z",
     "iopub.status.busy": "2023-07-15T21:34:22.212644Z",
     "iopub.status.idle": "2023-07-15T21:34:22.259782Z",
     "shell.execute_reply": "2023-07-15T21:34:22.258957Z"
    },
    "papermill": {
     "duration": 0.058168,
     "end_time": "2023-07-15T21:34:22.261966",
     "exception": false,
     "start_time": "2023-07-15T21:34:22.203798",
     "status": "completed"
    },
    "tags": []
   },
   "outputs": [],
   "source": [
    "df=pd.read_csv(\"/kaggle/input/icr-identify-age-related-conditions/train.csv\")\n",
    "val=pd.read_csv(\"/kaggle/input/icr-identify-age-related-conditions/test.csv\")\n",
    "sub=pd.read_csv(\"/kaggle/input/icr-identify-age-related-conditions/sample_submission.csv\")"
   ]
  },
  {
   "cell_type": "code",
   "execution_count": 3,
   "id": "d2826972",
   "metadata": {
    "execution": {
     "iopub.execute_input": "2023-07-15T21:34:22.279330Z",
     "iopub.status.busy": "2023-07-15T21:34:22.278649Z",
     "iopub.status.idle": "2023-07-15T21:34:22.288027Z",
     "shell.execute_reply": "2023-07-15T21:34:22.287101Z"
    },
    "papermill": {
     "duration": 0.020471,
     "end_time": "2023-07-15T21:34:22.290292",
     "exception": false,
     "start_time": "2023-07-15T21:34:22.269821",
     "status": "completed"
    },
    "tags": []
   },
   "outputs": [],
   "source": [
    "zero, one =np.bincount(df['Class'])"
   ]
  },
  {
   "cell_type": "code",
   "execution_count": 4,
   "id": "b468967a",
   "metadata": {
    "execution": {
     "iopub.execute_input": "2023-07-15T21:34:22.308446Z",
     "iopub.status.busy": "2023-07-15T21:34:22.308070Z",
     "iopub.status.idle": "2023-07-15T21:34:22.319063Z",
     "shell.execute_reply": "2023-07-15T21:34:22.317581Z"
    },
    "papermill": {
     "duration": 0.022974,
     "end_time": "2023-07-15T21:34:22.321230",
     "exception": false,
     "start_time": "2023-07-15T21:34:22.298256",
     "status": "completed"
    },
    "tags": []
   },
   "outputs": [],
   "source": [
    "zero_df=df.loc[df['Class']==0]\n",
    "one_df=df.loc[df['Class']==1]"
   ]
  },
  {
   "cell_type": "code",
   "execution_count": 5,
   "id": "701d0ac9",
   "metadata": {
    "execution": {
     "iopub.execute_input": "2023-07-15T21:34:22.337428Z",
     "iopub.status.busy": "2023-07-15T21:34:22.337093Z",
     "iopub.status.idle": "2023-07-15T21:34:22.344974Z",
     "shell.execute_reply": "2023-07-15T21:34:22.344025Z"
    },
    "papermill": {
     "duration": 0.01781,
     "end_time": "2023-07-15T21:34:22.346576",
     "exception": false,
     "start_time": "2023-07-15T21:34:22.328766",
     "status": "completed"
    },
    "tags": []
   },
   "outputs": [
    {
     "data": {
      "text/plain": [
       "(446, 58)"
      ]
     },
     "execution_count": 5,
     "metadata": {},
     "output_type": "execute_result"
    }
   ],
   "source": [
    "zero_df=zero_df.dropna()\n",
    "zero_df.shape"
   ]
  },
  {
   "cell_type": "code",
   "execution_count": 6,
   "id": "fea06d31",
   "metadata": {
    "execution": {
     "iopub.execute_input": "2023-07-15T21:34:22.363029Z",
     "iopub.status.busy": "2023-07-15T21:34:22.362452Z",
     "iopub.status.idle": "2023-07-15T21:34:22.401771Z",
     "shell.execute_reply": "2023-07-15T21:34:22.400618Z"
    },
    "papermill": {
     "duration": 0.050518,
     "end_time": "2023-07-15T21:34:22.404467",
     "exception": false,
     "start_time": "2023-07-15T21:34:22.353949",
     "status": "completed"
    },
    "tags": []
   },
   "outputs": [],
   "source": [
    "one_df=one_df.fillna(df.median(numeric_only=True))\n",
    "zero_df=zero_df.fillna(df.median(numeric_only=True))"
   ]
  },
  {
   "cell_type": "code",
   "execution_count": 7,
   "id": "880a9fae",
   "metadata": {
    "execution": {
     "iopub.execute_input": "2023-07-15T21:34:22.421379Z",
     "iopub.status.busy": "2023-07-15T21:34:22.421013Z",
     "iopub.status.idle": "2023-07-15T21:34:22.433010Z",
     "shell.execute_reply": "2023-07-15T21:34:22.431862Z"
    },
    "papermill": {
     "duration": 0.022787,
     "end_time": "2023-07-15T21:34:22.435126",
     "exception": false,
     "start_time": "2023-07-15T21:34:22.412339",
     "status": "completed"
    },
    "tags": []
   },
   "outputs": [],
   "source": [
    "zero_df=zero_df.drop(zero_df.sample(106).index)"
   ]
  },
  {
   "cell_type": "code",
   "execution_count": 8,
   "id": "b7bcc569",
   "metadata": {
    "execution": {
     "iopub.execute_input": "2023-07-15T21:34:22.451996Z",
     "iopub.status.busy": "2023-07-15T21:34:22.451637Z",
     "iopub.status.idle": "2023-07-15T21:34:22.465743Z",
     "shell.execute_reply": "2023-07-15T21:34:22.464321Z"
    },
    "papermill": {
     "duration": 0.025052,
     "end_time": "2023-07-15T21:34:22.468070",
     "exception": false,
     "start_time": "2023-07-15T21:34:22.443018",
     "status": "completed"
    },
    "tags": []
   },
   "outputs": [],
   "source": [
    "data=pd.concat([one_df,zero_df])"
   ]
  },
  {
   "cell_type": "code",
   "execution_count": 9,
   "id": "36a6aa97",
   "metadata": {
    "execution": {
     "iopub.execute_input": "2023-07-15T21:34:22.485554Z",
     "iopub.status.busy": "2023-07-15T21:34:22.484656Z",
     "iopub.status.idle": "2023-07-15T21:34:22.516585Z",
     "shell.execute_reply": "2023-07-15T21:34:22.515568Z"
    },
    "papermill": {
     "duration": 0.04251,
     "end_time": "2023-07-15T21:34:22.518437",
     "exception": false,
     "start_time": "2023-07-15T21:34:22.475927",
     "status": "completed"
    },
    "tags": []
   },
   "outputs": [
    {
     "data": {
      "text/html": [
       "<div>\n",
       "<style scoped>\n",
       "    .dataframe tbody tr th:only-of-type {\n",
       "        vertical-align: middle;\n",
       "    }\n",
       "\n",
       "    .dataframe tbody tr th {\n",
       "        vertical-align: top;\n",
       "    }\n",
       "\n",
       "    .dataframe thead th {\n",
       "        text-align: right;\n",
       "    }\n",
       "</style>\n",
       "<table border=\"1\" class=\"dataframe\">\n",
       "  <thead>\n",
       "    <tr style=\"text-align: right;\">\n",
       "      <th></th>\n",
       "      <th>Id</th>\n",
       "      <th>AB</th>\n",
       "      <th>AF</th>\n",
       "      <th>AH</th>\n",
       "      <th>AM</th>\n",
       "      <th>AR</th>\n",
       "      <th>AX</th>\n",
       "      <th>AY</th>\n",
       "      <th>AZ</th>\n",
       "      <th>BC</th>\n",
       "      <th>...</th>\n",
       "      <th>FL</th>\n",
       "      <th>FR</th>\n",
       "      <th>FS</th>\n",
       "      <th>GB</th>\n",
       "      <th>GE</th>\n",
       "      <th>GF</th>\n",
       "      <th>GH</th>\n",
       "      <th>GI</th>\n",
       "      <th>GL</th>\n",
       "      <th>Class</th>\n",
       "    </tr>\n",
       "  </thead>\n",
       "  <tbody>\n",
       "    <tr>\n",
       "      <th>0</th>\n",
       "      <td>8856a9d8e2b4</td>\n",
       "      <td>0.130327</td>\n",
       "      <td>4748.74422</td>\n",
       "      <td>85.200147</td>\n",
       "      <td>6.460342</td>\n",
       "      <td>8.138688</td>\n",
       "      <td>3.255682</td>\n",
       "      <td>0.025578</td>\n",
       "      <td>7.968879</td>\n",
       "      <td>1.229900</td>\n",
       "      <td>...</td>\n",
       "      <td>4.215218</td>\n",
       "      <td>1.27426</td>\n",
       "      <td>0.067730</td>\n",
       "      <td>28.533885</td>\n",
       "      <td>72.611063</td>\n",
       "      <td>313.869492</td>\n",
       "      <td>24.971631</td>\n",
       "      <td>27.576984</td>\n",
       "      <td>0.271174</td>\n",
       "      <td>0</td>\n",
       "    </tr>\n",
       "    <tr>\n",
       "      <th>1</th>\n",
       "      <td>8d0d4a6510bf</td>\n",
       "      <td>0.337567</td>\n",
       "      <td>1250.66568</td>\n",
       "      <td>85.200147</td>\n",
       "      <td>14.097544</td>\n",
       "      <td>17.016780</td>\n",
       "      <td>4.624398</td>\n",
       "      <td>0.025578</td>\n",
       "      <td>17.922888</td>\n",
       "      <td>1.229900</td>\n",
       "      <td>...</td>\n",
       "      <td>0.173229</td>\n",
       "      <td>0.49706</td>\n",
       "      <td>0.067730</td>\n",
       "      <td>17.887746</td>\n",
       "      <td>72.611063</td>\n",
       "      <td>59497.505590</td>\n",
       "      <td>23.059037</td>\n",
       "      <td>101.825480</td>\n",
       "      <td>21.978000</td>\n",
       "      <td>0</td>\n",
       "    </tr>\n",
       "    <tr>\n",
       "      <th>2</th>\n",
       "      <td>0c3a256bcec7</td>\n",
       "      <td>0.132463</td>\n",
       "      <td>2160.54454</td>\n",
       "      <td>85.200147</td>\n",
       "      <td>20.300835</td>\n",
       "      <td>8.138688</td>\n",
       "      <td>4.810437</td>\n",
       "      <td>0.025578</td>\n",
       "      <td>9.371074</td>\n",
       "      <td>5.158552</td>\n",
       "      <td>...</td>\n",
       "      <td>0.173229</td>\n",
       "      <td>1.00514</td>\n",
       "      <td>0.419926</td>\n",
       "      <td>11.618198</td>\n",
       "      <td>72.611063</td>\n",
       "      <td>21451.810610</td>\n",
       "      <td>37.265815</td>\n",
       "      <td>51.308828</td>\n",
       "      <td>21.978000</td>\n",
       "      <td>0</td>\n",
       "    </tr>\n",
       "    <tr>\n",
       "      <th>3</th>\n",
       "      <td>add78517b003</td>\n",
       "      <td>0.329021</td>\n",
       "      <td>3828.91916</td>\n",
       "      <td>85.200147</td>\n",
       "      <td>28.566728</td>\n",
       "      <td>8.138688</td>\n",
       "      <td>6.422775</td>\n",
       "      <td>0.025578</td>\n",
       "      <td>13.007328</td>\n",
       "      <td>1.229900</td>\n",
       "      <td>...</td>\n",
       "      <td>6.973634</td>\n",
       "      <td>1.18378</td>\n",
       "      <td>0.345423</td>\n",
       "      <td>33.031402</td>\n",
       "      <td>72.611063</td>\n",
       "      <td>5892.167286</td>\n",
       "      <td>37.306746</td>\n",
       "      <td>117.352644</td>\n",
       "      <td>0.166770</td>\n",
       "      <td>0</td>\n",
       "    </tr>\n",
       "    <tr>\n",
       "      <th>4</th>\n",
       "      <td>a082f422799b</td>\n",
       "      <td>0.311929</td>\n",
       "      <td>2831.90336</td>\n",
       "      <td>85.200147</td>\n",
       "      <td>16.829098</td>\n",
       "      <td>8.138688</td>\n",
       "      <td>3.605613</td>\n",
       "      <td>0.025578</td>\n",
       "      <td>12.919100</td>\n",
       "      <td>6.803104</td>\n",
       "      <td>...</td>\n",
       "      <td>9.592530</td>\n",
       "      <td>2.01956</td>\n",
       "      <td>1.097226</td>\n",
       "      <td>23.720100</td>\n",
       "      <td>72.611063</td>\n",
       "      <td>16285.250560</td>\n",
       "      <td>34.629486</td>\n",
       "      <td>37.121676</td>\n",
       "      <td>0.075126</td>\n",
       "      <td>1</td>\n",
       "    </tr>\n",
       "    <tr>\n",
       "      <th>...</th>\n",
       "      <td>...</td>\n",
       "      <td>...</td>\n",
       "      <td>...</td>\n",
       "      <td>...</td>\n",
       "      <td>...</td>\n",
       "      <td>...</td>\n",
       "      <td>...</td>\n",
       "      <td>...</td>\n",
       "      <td>...</td>\n",
       "      <td>...</td>\n",
       "      <td>...</td>\n",
       "      <td>...</td>\n",
       "      <td>...</td>\n",
       "      <td>...</td>\n",
       "      <td>...</td>\n",
       "      <td>...</td>\n",
       "      <td>...</td>\n",
       "      <td>...</td>\n",
       "      <td>...</td>\n",
       "      <td>...</td>\n",
       "      <td>...</td>\n",
       "    </tr>\n",
       "    <tr>\n",
       "      <th>443</th>\n",
       "      <td>f405c0b5836f</td>\n",
       "      <td>0.508487</td>\n",
       "      <td>3692.13592</td>\n",
       "      <td>110.621718</td>\n",
       "      <td>13.859075</td>\n",
       "      <td>8.138688</td>\n",
       "      <td>5.377413</td>\n",
       "      <td>0.025578</td>\n",
       "      <td>11.608284</td>\n",
       "      <td>3.756466</td>\n",
       "      <td>...</td>\n",
       "      <td>14.201978</td>\n",
       "      <td>1.85339</td>\n",
       "      <td>0.284466</td>\n",
       "      <td>18.650510</td>\n",
       "      <td>75.393773</td>\n",
       "      <td>946.472364</td>\n",
       "      <td>45.835278</td>\n",
       "      <td>18.729304</td>\n",
       "      <td>0.043662</td>\n",
       "      <td>1</td>\n",
       "    </tr>\n",
       "    <tr>\n",
       "      <th>444</th>\n",
       "      <td>80841417ca53</td>\n",
       "      <td>0.542671</td>\n",
       "      <td>4857.60308</td>\n",
       "      <td>129.433158</td>\n",
       "      <td>21.849335</td>\n",
       "      <td>14.727774</td>\n",
       "      <td>6.644250</td>\n",
       "      <td>0.147378</td>\n",
       "      <td>8.671552</td>\n",
       "      <td>1.229900</td>\n",
       "      <td>...</td>\n",
       "      <td>10.805200</td>\n",
       "      <td>1.08286</td>\n",
       "      <td>0.663754</td>\n",
       "      <td>27.617638</td>\n",
       "      <td>72.611063</td>\n",
       "      <td>1896.371757</td>\n",
       "      <td>37.433260</td>\n",
       "      <td>59.163716</td>\n",
       "      <td>0.095221</td>\n",
       "      <td>0</td>\n",
       "    </tr>\n",
       "    <tr>\n",
       "      <th>445</th>\n",
       "      <td>af0802c15f01</td>\n",
       "      <td>0.273472</td>\n",
       "      <td>2341.58474</td>\n",
       "      <td>85.200147</td>\n",
       "      <td>17.392752</td>\n",
       "      <td>8.138688</td>\n",
       "      <td>2.852598</td>\n",
       "      <td>0.051156</td>\n",
       "      <td>7.322924</td>\n",
       "      <td>1.229900</td>\n",
       "      <td>...</td>\n",
       "      <td>0.173229</td>\n",
       "      <td>0.49706</td>\n",
       "      <td>0.115141</td>\n",
       "      <td>10.492656</td>\n",
       "      <td>72.611063</td>\n",
       "      <td>24323.704650</td>\n",
       "      <td>39.282597</td>\n",
       "      <td>30.275012</td>\n",
       "      <td>21.978000</td>\n",
       "      <td>0</td>\n",
       "    </tr>\n",
       "    <tr>\n",
       "      <th>446</th>\n",
       "      <td>f62ef7cc0a22</td>\n",
       "      <td>0.521306</td>\n",
       "      <td>4998.31277</td>\n",
       "      <td>85.200147</td>\n",
       "      <td>28.257028</td>\n",
       "      <td>8.138688</td>\n",
       "      <td>4.252320</td>\n",
       "      <td>0.025578</td>\n",
       "      <td>6.711630</td>\n",
       "      <td>1.229900</td>\n",
       "      <td>...</td>\n",
       "      <td>7.230382</td>\n",
       "      <td>1.55179</td>\n",
       "      <td>0.507975</td>\n",
       "      <td>20.603930</td>\n",
       "      <td>216.055347</td>\n",
       "      <td>2790.445788</td>\n",
       "      <td>39.178409</td>\n",
       "      <td>101.053880</td>\n",
       "      <td>0.198861</td>\n",
       "      <td>0</td>\n",
       "    </tr>\n",
       "    <tr>\n",
       "      <th>447</th>\n",
       "      <td>e7a607afea3d</td>\n",
       "      <td>0.585401</td>\n",
       "      <td>5553.21756</td>\n",
       "      <td>85.200147</td>\n",
       "      <td>22.738174</td>\n",
       "      <td>8.138688</td>\n",
       "      <td>7.042905</td>\n",
       "      <td>0.025578</td>\n",
       "      <td>9.490812</td>\n",
       "      <td>4.786068</td>\n",
       "      <td>...</td>\n",
       "      <td>0.173229</td>\n",
       "      <td>0.49706</td>\n",
       "      <td>0.311558</td>\n",
       "      <td>9.311302</td>\n",
       "      <td>72.611063</td>\n",
       "      <td>14412.894250</td>\n",
       "      <td>25.299079</td>\n",
       "      <td>83.934648</td>\n",
       "      <td>21.978000</td>\n",
       "      <td>1</td>\n",
       "    </tr>\n",
       "  </tbody>\n",
       "</table>\n",
       "<p>448 rows × 58 columns</p>\n",
       "</div>"
      ],
      "text/plain": [
       "               Id        AB          AF          AH         AM         AR  \\\n",
       "0    8856a9d8e2b4  0.130327  4748.74422   85.200147   6.460342   8.138688   \n",
       "1    8d0d4a6510bf  0.337567  1250.66568   85.200147  14.097544  17.016780   \n",
       "2    0c3a256bcec7  0.132463  2160.54454   85.200147  20.300835   8.138688   \n",
       "3    add78517b003  0.329021  3828.91916   85.200147  28.566728   8.138688   \n",
       "4    a082f422799b  0.311929  2831.90336   85.200147  16.829098   8.138688   \n",
       "..            ...       ...         ...         ...        ...        ...   \n",
       "443  f405c0b5836f  0.508487  3692.13592  110.621718  13.859075   8.138688   \n",
       "444  80841417ca53  0.542671  4857.60308  129.433158  21.849335  14.727774   \n",
       "445  af0802c15f01  0.273472  2341.58474   85.200147  17.392752   8.138688   \n",
       "446  f62ef7cc0a22  0.521306  4998.31277   85.200147  28.257028   8.138688   \n",
       "447  e7a607afea3d  0.585401  5553.21756   85.200147  22.738174   8.138688   \n",
       "\n",
       "           AX        AY         AZ        BC  ...         FL       FR  \\\n",
       "0    3.255682  0.025578   7.968879  1.229900  ...   4.215218  1.27426   \n",
       "1    4.624398  0.025578  17.922888  1.229900  ...   0.173229  0.49706   \n",
       "2    4.810437  0.025578   9.371074  5.158552  ...   0.173229  1.00514   \n",
       "3    6.422775  0.025578  13.007328  1.229900  ...   6.973634  1.18378   \n",
       "4    3.605613  0.025578  12.919100  6.803104  ...   9.592530  2.01956   \n",
       "..        ...       ...        ...       ...  ...        ...      ...   \n",
       "443  5.377413  0.025578  11.608284  3.756466  ...  14.201978  1.85339   \n",
       "444  6.644250  0.147378   8.671552  1.229900  ...  10.805200  1.08286   \n",
       "445  2.852598  0.051156   7.322924  1.229900  ...   0.173229  0.49706   \n",
       "446  4.252320  0.025578   6.711630  1.229900  ...   7.230382  1.55179   \n",
       "447  7.042905  0.025578   9.490812  4.786068  ...   0.173229  0.49706   \n",
       "\n",
       "           FS         GB          GE            GF         GH          GI  \\\n",
       "0    0.067730  28.533885   72.611063    313.869492  24.971631   27.576984   \n",
       "1    0.067730  17.887746   72.611063  59497.505590  23.059037  101.825480   \n",
       "2    0.419926  11.618198   72.611063  21451.810610  37.265815   51.308828   \n",
       "3    0.345423  33.031402   72.611063   5892.167286  37.306746  117.352644   \n",
       "4    1.097226  23.720100   72.611063  16285.250560  34.629486   37.121676   \n",
       "..        ...        ...         ...           ...        ...         ...   \n",
       "443  0.284466  18.650510   75.393773    946.472364  45.835278   18.729304   \n",
       "444  0.663754  27.617638   72.611063   1896.371757  37.433260   59.163716   \n",
       "445  0.115141  10.492656   72.611063  24323.704650  39.282597   30.275012   \n",
       "446  0.507975  20.603930  216.055347   2790.445788  39.178409  101.053880   \n",
       "447  0.311558   9.311302   72.611063  14412.894250  25.299079   83.934648   \n",
       "\n",
       "            GL  Class  \n",
       "0     0.271174      0  \n",
       "1    21.978000      0  \n",
       "2    21.978000      0  \n",
       "3     0.166770      0  \n",
       "4     0.075126      1  \n",
       "..         ...    ...  \n",
       "443   0.043662      1  \n",
       "444   0.095221      0  \n",
       "445  21.978000      0  \n",
       "446   0.198861      0  \n",
       "447  21.978000      1  \n",
       "\n",
       "[448 rows x 58 columns]"
      ]
     },
     "execution_count": 9,
     "metadata": {},
     "output_type": "execute_result"
    }
   ],
   "source": [
    "data=data.sample(frac=1,random_state=42)\n",
    "data = data.reset_index(drop=True)\n",
    "\n",
    "data"
   ]
  },
  {
   "cell_type": "code",
   "execution_count": 10,
   "id": "be6c3c77",
   "metadata": {
    "execution": {
     "iopub.execute_input": "2023-07-15T21:34:22.536103Z",
     "iopub.status.busy": "2023-07-15T21:34:22.535760Z",
     "iopub.status.idle": "2023-07-15T21:34:22.543291Z",
     "shell.execute_reply": "2023-07-15T21:34:22.542235Z"
    },
    "papermill": {
     "duration": 0.019035,
     "end_time": "2023-07-15T21:34:22.545741",
     "exception": false,
     "start_time": "2023-07-15T21:34:22.526706",
     "status": "completed"
    },
    "tags": []
   },
   "outputs": [],
   "source": [
    "from sklearn.preprocessing import LabelEncoder\n",
    "\n",
    "data['EJ'] = LabelEncoder().fit_transform(data['EJ'])\n",
    "data=data.drop(['Id'], axis=1)"
   ]
  },
  {
   "cell_type": "code",
   "execution_count": 11,
   "id": "60dd59fe",
   "metadata": {
    "execution": {
     "iopub.execute_input": "2023-07-15T21:34:22.563462Z",
     "iopub.status.busy": "2023-07-15T21:34:22.563111Z",
     "iopub.status.idle": "2023-07-15T21:34:22.570549Z",
     "shell.execute_reply": "2023-07-15T21:34:22.569203Z"
    },
    "papermill": {
     "duration": 0.01873,
     "end_time": "2023-07-15T21:34:22.572772",
     "exception": false,
     "start_time": "2023-07-15T21:34:22.554042",
     "status": "completed"
    },
    "tags": []
   },
   "outputs": [],
   "source": [
    "val['EJ'] = LabelEncoder().fit_transform(val['EJ'])\n",
    "val=val.drop(['Id'], axis=1)"
   ]
  },
  {
   "cell_type": "code",
   "execution_count": 12,
   "id": "8bc208ae",
   "metadata": {
    "execution": {
     "iopub.execute_input": "2023-07-15T21:34:22.590178Z",
     "iopub.status.busy": "2023-07-15T21:34:22.589824Z",
     "iopub.status.idle": "2023-07-15T21:34:22.597270Z",
     "shell.execute_reply": "2023-07-15T21:34:22.596043Z"
    },
    "papermill": {
     "duration": 0.019065,
     "end_time": "2023-07-15T21:34:22.599950",
     "exception": false,
     "start_time": "2023-07-15T21:34:22.580885",
     "status": "completed"
    },
    "tags": []
   },
   "outputs": [],
   "source": [
    "def competition_log_loss(y_pred, y_true):\n",
    "    # y_true: correct labels 0, 1\n",
    "    # y_pred: predicted probabilities of class=1\n",
    "    y_pred = y_pred.T[1]\n",
    "    N_0 = np.sum(1 - y_true)\n",
    "    N_1 = np.sum(y_true)\n",
    "    w_0 = (N_0 + N_1) / N_0\n",
    "    w_1 = (N_0 + N_1) / N_1\n",
    "    # Calculate the predicted probabilities for each class\n",
    "    p_1 = np.clip(y_pred, 1e-15, 1 - 1e-15)\n",
    "    p_0 = 1 - p_1\n",
    "    # Calculate the average log loss for each class\n",
    "    sum_0 = -np.sum((1 - y_true) * np.log(p_0))\n",
    "    sum_1 = -np.sum(y_true * np.log(p_1))\n",
    "    to_output = ((w_0 / N_0) * sum_0 + (w_1 / N_1) * sum_1) / (w_0 + w_1)\n",
    "\n",
    "    return to_output"
   ]
  },
  {
   "cell_type": "code",
   "execution_count": 13,
   "id": "293b2f70",
   "metadata": {
    "execution": {
     "iopub.execute_input": "2023-07-15T21:34:22.617841Z",
     "iopub.status.busy": "2023-07-15T21:34:22.617486Z",
     "iopub.status.idle": "2023-07-15T21:34:22.623441Z",
     "shell.execute_reply": "2023-07-15T21:34:22.622616Z"
    },
    "papermill": {
     "duration": 0.016895,
     "end_time": "2023-07-15T21:34:22.625122",
     "exception": false,
     "start_time": "2023-07-15T21:34:22.608227",
     "status": "completed"
    },
    "tags": []
   },
   "outputs": [],
   "source": [
    "x=data.drop([\"Class\"], axis=1)\n",
    "y=data[\"Class\"]"
   ]
  },
  {
   "cell_type": "code",
   "execution_count": 14,
   "id": "877eff0b",
   "metadata": {
    "execution": {
     "iopub.execute_input": "2023-07-15T21:34:22.643445Z",
     "iopub.status.busy": "2023-07-15T21:34:22.643095Z",
     "iopub.status.idle": "2023-07-15T21:34:23.816076Z",
     "shell.execute_reply": "2023-07-15T21:34:23.815045Z"
    },
    "papermill": {
     "duration": 1.184986,
     "end_time": "2023-07-15T21:34:23.818503",
     "exception": false,
     "start_time": "2023-07-15T21:34:22.633517",
     "status": "completed"
    },
    "tags": []
   },
   "outputs": [],
   "source": [
    "import lightgbm as lgbm\n",
    "from xgboost import XGBClassifier\n"
   ]
  },
  {
   "cell_type": "code",
   "execution_count": 15,
   "id": "9afb05a1",
   "metadata": {
    "execution": {
     "iopub.execute_input": "2023-07-15T21:34:23.836154Z",
     "iopub.status.busy": "2023-07-15T21:34:23.835793Z",
     "iopub.status.idle": "2023-07-15T21:34:23.842320Z",
     "shell.execute_reply": "2023-07-15T21:34:23.841387Z"
    },
    "papermill": {
     "duration": 0.01737,
     "end_time": "2023-07-15T21:34:23.844064",
     "exception": false,
     "start_time": "2023-07-15T21:34:23.826694",
     "status": "completed"
    },
    "tags": []
   },
   "outputs": [],
   "source": [
    "x_train, x_test, y_train, y_test = train_test_split(x, y, test_size=0.15)"
   ]
  },
  {
   "cell_type": "code",
   "execution_count": 16,
   "id": "e82e1590",
   "metadata": {
    "execution": {
     "iopub.execute_input": "2023-07-15T21:34:23.861467Z",
     "iopub.status.busy": "2023-07-15T21:34:23.861116Z",
     "iopub.status.idle": "2023-07-15T21:34:46.334830Z",
     "shell.execute_reply": "2023-07-15T21:34:46.333510Z"
    },
    "papermill": {
     "duration": 22.484702,
     "end_time": "2023-07-15T21:34:46.337077",
     "exception": false,
     "start_time": "2023-07-15T21:34:23.852375",
     "status": "completed"
    },
    "scrolled": true,
    "tags": []
   },
   "outputs": [
    {
     "name": "stdout",
     "output_type": "stream",
     "text": [
      "[LightGBM] [Warning] lambda_l1 is set=0, reg_alpha=0.0 will be ignored. Current value: lambda_l1=0\n",
      "[LightGBM] [Warning] feature_fraction is set=0.7, colsample_bytree=1.0 will be ignored. Current value: feature_fraction=0.7\n",
      "[LightGBM] [Warning] bagging_freq is set=1, subsample_freq=0 will be ignored. Current value: bagging_freq=1\n",
      "[LightGBM] [Warning] lambda_l2 is set=5, reg_lambda=0.0 will be ignored. Current value: lambda_l2=5\n",
      "[LightGBM] [Warning] bagging_fraction is set=0.8, subsample=1.0 will be ignored. Current value: bagging_fraction=0.8\n"
     ]
    },
    {
     "data": {
      "text/html": [
       "<style>#sk-container-id-1 {color: black;background-color: white;}#sk-container-id-1 pre{padding: 0;}#sk-container-id-1 div.sk-toggleable {background-color: white;}#sk-container-id-1 label.sk-toggleable__label {cursor: pointer;display: block;width: 100%;margin-bottom: 0;padding: 0.3em;box-sizing: border-box;text-align: center;}#sk-container-id-1 label.sk-toggleable__label-arrow:before {content: \"▸\";float: left;margin-right: 0.25em;color: #696969;}#sk-container-id-1 label.sk-toggleable__label-arrow:hover:before {color: black;}#sk-container-id-1 div.sk-estimator:hover label.sk-toggleable__label-arrow:before {color: black;}#sk-container-id-1 div.sk-toggleable__content {max-height: 0;max-width: 0;overflow: hidden;text-align: left;background-color: #f0f8ff;}#sk-container-id-1 div.sk-toggleable__content pre {margin: 0.2em;color: black;border-radius: 0.25em;background-color: #f0f8ff;}#sk-container-id-1 input.sk-toggleable__control:checked~div.sk-toggleable__content {max-height: 200px;max-width: 100%;overflow: auto;}#sk-container-id-1 input.sk-toggleable__control:checked~label.sk-toggleable__label-arrow:before {content: \"▾\";}#sk-container-id-1 div.sk-estimator input.sk-toggleable__control:checked~label.sk-toggleable__label {background-color: #d4ebff;}#sk-container-id-1 div.sk-label input.sk-toggleable__control:checked~label.sk-toggleable__label {background-color: #d4ebff;}#sk-container-id-1 input.sk-hidden--visually {border: 0;clip: rect(1px 1px 1px 1px);clip: rect(1px, 1px, 1px, 1px);height: 1px;margin: -1px;overflow: hidden;padding: 0;position: absolute;width: 1px;}#sk-container-id-1 div.sk-estimator {font-family: monospace;background-color: #f0f8ff;border: 1px dotted black;border-radius: 0.25em;box-sizing: border-box;margin-bottom: 0.5em;}#sk-container-id-1 div.sk-estimator:hover {background-color: #d4ebff;}#sk-container-id-1 div.sk-parallel-item::after {content: \"\";width: 100%;border-bottom: 1px solid gray;flex-grow: 1;}#sk-container-id-1 div.sk-label:hover label.sk-toggleable__label {background-color: #d4ebff;}#sk-container-id-1 div.sk-serial::before {content: \"\";position: absolute;border-left: 1px solid gray;box-sizing: border-box;top: 0;bottom: 0;left: 50%;z-index: 0;}#sk-container-id-1 div.sk-serial {display: flex;flex-direction: column;align-items: center;background-color: white;padding-right: 0.2em;padding-left: 0.2em;position: relative;}#sk-container-id-1 div.sk-item {position: relative;z-index: 1;}#sk-container-id-1 div.sk-parallel {display: flex;align-items: stretch;justify-content: center;background-color: white;position: relative;}#sk-container-id-1 div.sk-item::before, #sk-container-id-1 div.sk-parallel-item::before {content: \"\";position: absolute;border-left: 1px solid gray;box-sizing: border-box;top: 0;bottom: 0;left: 50%;z-index: -1;}#sk-container-id-1 div.sk-parallel-item {display: flex;flex-direction: column;z-index: 1;position: relative;background-color: white;}#sk-container-id-1 div.sk-parallel-item:first-child::after {align-self: flex-end;width: 50%;}#sk-container-id-1 div.sk-parallel-item:last-child::after {align-self: flex-start;width: 50%;}#sk-container-id-1 div.sk-parallel-item:only-child::after {width: 0;}#sk-container-id-1 div.sk-dashed-wrapped {border: 1px dashed gray;margin: 0 0.4em 0.5em 0.4em;box-sizing: border-box;padding-bottom: 0.4em;background-color: white;}#sk-container-id-1 div.sk-label label {font-family: monospace;font-weight: bold;display: inline-block;line-height: 1.2em;}#sk-container-id-1 div.sk-label-container {text-align: center;}#sk-container-id-1 div.sk-container {/* jupyter's `normalize.less` sets `[hidden] { display: none; }` but bootstrap.min.css set `[hidden] { display: none !important; }` so we also need the `!important` here to be able to override the default hidden behavior on the sphinx rendered scikit-learn.org. See: https://github.com/scikit-learn/scikit-learn/issues/21755 */display: inline-block !important;position: relative;}#sk-container-id-1 div.sk-text-repr-fallback {display: none;}</style><div id=\"sk-container-id-1\" class=\"sk-top-container\"><div class=\"sk-text-repr-fallback\"><pre>LGBMClassifier(bagging_fraction=0.8, bagging_freq=1, feature_fraction=0.7,\n",
       "               lambda_l1=0, lambda_l2=5, learning_rate=0.19852198534809998,\n",
       "               max_depth=4, n_estimators=10000, num_leaves=900,\n",
       "               objective=&#x27;binary&#x27;)</pre><b>In a Jupyter environment, please rerun this cell to show the HTML representation or trust the notebook. <br />On GitHub, the HTML representation is unable to render, please try loading this page with nbviewer.org.</b></div><div class=\"sk-container\" hidden><div class=\"sk-item\"><div class=\"sk-estimator sk-toggleable\"><input class=\"sk-toggleable__control sk-hidden--visually\" id=\"sk-estimator-id-1\" type=\"checkbox\" checked><label for=\"sk-estimator-id-1\" class=\"sk-toggleable__label sk-toggleable__label-arrow\">LGBMClassifier</label><div class=\"sk-toggleable__content\"><pre>LGBMClassifier(bagging_fraction=0.8, bagging_freq=1, feature_fraction=0.7,\n",
       "               lambda_l1=0, lambda_l2=5, learning_rate=0.19852198534809998,\n",
       "               max_depth=4, n_estimators=10000, num_leaves=900,\n",
       "               objective=&#x27;binary&#x27;)</pre></div></div></div></div></div>"
      ],
      "text/plain": [
       "LGBMClassifier(bagging_fraction=0.8, bagging_freq=1, feature_fraction=0.7,\n",
       "               lambda_l1=0, lambda_l2=5, learning_rate=0.19852198534809998,\n",
       "               max_depth=4, n_estimators=10000, num_leaves=900,\n",
       "               objective='binary')"
      ]
     },
     "execution_count": 16,
     "metadata": {},
     "output_type": "execute_result"
    }
   ],
   "source": [
    "lgb_train = lgbm.Dataset(x_train, y_train)\n",
    "params={   \n",
    "                                  'objective':'binary',\n",
    "        \n",
    "    'learning_rate': 0.19852198534809998,\n",
    "'num_leaves': 900,\n",
    "'max_depth': 4,\n",
    "'lambda_l1': 0,\n",
    "'lambda_l2': 5,\n",
    "'bagging_fraction': 0.8,\n",
    "'bagging_freq': 1,\n",
    "'feature_fraction': 0.7}\n",
    "lgbm_model=lgbm.LGBMClassifier(**params)\n",
    "lgbm_model.n_estimators=10000\n",
    "#lgbm_model\n",
    "lgbm_model.fit(x_train,y_train)"
   ]
  },
  {
   "cell_type": "code",
   "execution_count": 17,
   "id": "06ef9bef",
   "metadata": {
    "execution": {
     "iopub.execute_input": "2023-07-15T21:34:46.355386Z",
     "iopub.status.busy": "2023-07-15T21:34:46.354997Z",
     "iopub.status.idle": "2023-07-15T21:34:46.854672Z",
     "shell.execute_reply": "2023-07-15T21:34:46.853291Z"
    },
    "papermill": {
     "duration": 0.511461,
     "end_time": "2023-07-15T21:34:46.857067",
     "exception": false,
     "start_time": "2023-07-15T21:34:46.345606",
     "status": "completed"
    },
    "tags": []
   },
   "outputs": [
    {
     "data": {
      "text/html": [
       "<style>#sk-container-id-2 {color: black;background-color: white;}#sk-container-id-2 pre{padding: 0;}#sk-container-id-2 div.sk-toggleable {background-color: white;}#sk-container-id-2 label.sk-toggleable__label {cursor: pointer;display: block;width: 100%;margin-bottom: 0;padding: 0.3em;box-sizing: border-box;text-align: center;}#sk-container-id-2 label.sk-toggleable__label-arrow:before {content: \"▸\";float: left;margin-right: 0.25em;color: #696969;}#sk-container-id-2 label.sk-toggleable__label-arrow:hover:before {color: black;}#sk-container-id-2 div.sk-estimator:hover label.sk-toggleable__label-arrow:before {color: black;}#sk-container-id-2 div.sk-toggleable__content {max-height: 0;max-width: 0;overflow: hidden;text-align: left;background-color: #f0f8ff;}#sk-container-id-2 div.sk-toggleable__content pre {margin: 0.2em;color: black;border-radius: 0.25em;background-color: #f0f8ff;}#sk-container-id-2 input.sk-toggleable__control:checked~div.sk-toggleable__content {max-height: 200px;max-width: 100%;overflow: auto;}#sk-container-id-2 input.sk-toggleable__control:checked~label.sk-toggleable__label-arrow:before {content: \"▾\";}#sk-container-id-2 div.sk-estimator input.sk-toggleable__control:checked~label.sk-toggleable__label {background-color: #d4ebff;}#sk-container-id-2 div.sk-label input.sk-toggleable__control:checked~label.sk-toggleable__label {background-color: #d4ebff;}#sk-container-id-2 input.sk-hidden--visually {border: 0;clip: rect(1px 1px 1px 1px);clip: rect(1px, 1px, 1px, 1px);height: 1px;margin: -1px;overflow: hidden;padding: 0;position: absolute;width: 1px;}#sk-container-id-2 div.sk-estimator {font-family: monospace;background-color: #f0f8ff;border: 1px dotted black;border-radius: 0.25em;box-sizing: border-box;margin-bottom: 0.5em;}#sk-container-id-2 div.sk-estimator:hover {background-color: #d4ebff;}#sk-container-id-2 div.sk-parallel-item::after {content: \"\";width: 100%;border-bottom: 1px solid gray;flex-grow: 1;}#sk-container-id-2 div.sk-label:hover label.sk-toggleable__label {background-color: #d4ebff;}#sk-container-id-2 div.sk-serial::before {content: \"\";position: absolute;border-left: 1px solid gray;box-sizing: border-box;top: 0;bottom: 0;left: 50%;z-index: 0;}#sk-container-id-2 div.sk-serial {display: flex;flex-direction: column;align-items: center;background-color: white;padding-right: 0.2em;padding-left: 0.2em;position: relative;}#sk-container-id-2 div.sk-item {position: relative;z-index: 1;}#sk-container-id-2 div.sk-parallel {display: flex;align-items: stretch;justify-content: center;background-color: white;position: relative;}#sk-container-id-2 div.sk-item::before, #sk-container-id-2 div.sk-parallel-item::before {content: \"\";position: absolute;border-left: 1px solid gray;box-sizing: border-box;top: 0;bottom: 0;left: 50%;z-index: -1;}#sk-container-id-2 div.sk-parallel-item {display: flex;flex-direction: column;z-index: 1;position: relative;background-color: white;}#sk-container-id-2 div.sk-parallel-item:first-child::after {align-self: flex-end;width: 50%;}#sk-container-id-2 div.sk-parallel-item:last-child::after {align-self: flex-start;width: 50%;}#sk-container-id-2 div.sk-parallel-item:only-child::after {width: 0;}#sk-container-id-2 div.sk-dashed-wrapped {border: 1px dashed gray;margin: 0 0.4em 0.5em 0.4em;box-sizing: border-box;padding-bottom: 0.4em;background-color: white;}#sk-container-id-2 div.sk-label label {font-family: monospace;font-weight: bold;display: inline-block;line-height: 1.2em;}#sk-container-id-2 div.sk-label-container {text-align: center;}#sk-container-id-2 div.sk-container {/* jupyter's `normalize.less` sets `[hidden] { display: none; }` but bootstrap.min.css set `[hidden] { display: none !important; }` so we also need the `!important` here to be able to override the default hidden behavior on the sphinx rendered scikit-learn.org. See: https://github.com/scikit-learn/scikit-learn/issues/21755 */display: inline-block !important;position: relative;}#sk-container-id-2 div.sk-text-repr-fallback {display: none;}</style><div id=\"sk-container-id-2\" class=\"sk-top-container\"><div class=\"sk-text-repr-fallback\"><pre>XGBClassifier(base_score=None, booster=None, callbacks=None,\n",
       "              colsample_bylevel=None, colsample_bynode=None,\n",
       "              colsample_bytree=0.978275320520211, early_stopping_rounds=None,\n",
       "              enable_categorical=False, eval_metric=None, feature_types=None,\n",
       "              gamma=0.9914944413877345, gpu_id=None, grow_policy=None,\n",
       "              importance_type=None, interaction_constraints=None,\n",
       "              learning_rate=0.040214432727764, max_bin=None,\n",
       "              max_cat_threshold=None, max_cat_to_onehot=None,\n",
       "              max_delta_step=None, max_depth=7, max_leaves=None,\n",
       "              min_child_weight=None, missing=nan, monotone_constraints=None,\n",
       "              n_estimators=250, n_jobs=None, num_parallel_tree=None,\n",
       "              predictor=None, random_state=None, ...)</pre><b>In a Jupyter environment, please rerun this cell to show the HTML representation or trust the notebook. <br />On GitHub, the HTML representation is unable to render, please try loading this page with nbviewer.org.</b></div><div class=\"sk-container\" hidden><div class=\"sk-item\"><div class=\"sk-estimator sk-toggleable\"><input class=\"sk-toggleable__control sk-hidden--visually\" id=\"sk-estimator-id-2\" type=\"checkbox\" checked><label for=\"sk-estimator-id-2\" class=\"sk-toggleable__label sk-toggleable__label-arrow\">XGBClassifier</label><div class=\"sk-toggleable__content\"><pre>XGBClassifier(base_score=None, booster=None, callbacks=None,\n",
       "              colsample_bylevel=None, colsample_bynode=None,\n",
       "              colsample_bytree=0.978275320520211, early_stopping_rounds=None,\n",
       "              enable_categorical=False, eval_metric=None, feature_types=None,\n",
       "              gamma=0.9914944413877345, gpu_id=None, grow_policy=None,\n",
       "              importance_type=None, interaction_constraints=None,\n",
       "              learning_rate=0.040214432727764, max_bin=None,\n",
       "              max_cat_threshold=None, max_cat_to_onehot=None,\n",
       "              max_delta_step=None, max_depth=7, max_leaves=None,\n",
       "              min_child_weight=None, missing=nan, monotone_constraints=None,\n",
       "              n_estimators=250, n_jobs=None, num_parallel_tree=None,\n",
       "              predictor=None, random_state=None, ...)</pre></div></div></div></div></div>"
      ],
      "text/plain": [
       "XGBClassifier(base_score=None, booster=None, callbacks=None,\n",
       "              colsample_bylevel=None, colsample_bynode=None,\n",
       "              colsample_bytree=0.978275320520211, early_stopping_rounds=None,\n",
       "              enable_categorical=False, eval_metric=None, feature_types=None,\n",
       "              gamma=0.9914944413877345, gpu_id=None, grow_policy=None,\n",
       "              importance_type=None, interaction_constraints=None,\n",
       "              learning_rate=0.040214432727764, max_bin=None,\n",
       "              max_cat_threshold=None, max_cat_to_onehot=None,\n",
       "              max_delta_step=None, max_depth=7, max_leaves=None,\n",
       "              min_child_weight=None, missing=nan, monotone_constraints=None,\n",
       "              n_estimators=250, n_jobs=None, num_parallel_tree=None,\n",
       "              predictor=None, random_state=None, ...)"
      ]
     },
     "execution_count": 17,
     "metadata": {},
     "output_type": "execute_result"
    }
   ],
   "source": [
    "params_2={\n",
    "    'objective':'binary:logistic',\n",
    "\n",
    "    'max_depth': 7,\n",
    "    'learning_rate': 0.040214432727764,\n",
    "    'subsample': 0.5983103516248403,\n",
    "    'colsample_bytree': 0.978275320520211,\n",
    "    'gamma': 0.9914944413877345\n",
    "}\n",
    "xgb_model_1 = XGBClassifier(**params_2)\n",
    "xgb_model_1.n_estimators = 250\n",
    "xgb_model_1.fit(x_train, y_train)"
   ]
  },
  {
   "cell_type": "code",
   "execution_count": 18,
   "id": "7ec283ba",
   "metadata": {
    "execution": {
     "iopub.execute_input": "2023-07-15T21:34:46.876445Z",
     "iopub.status.busy": "2023-07-15T21:34:46.876082Z",
     "iopub.status.idle": "2023-07-15T21:34:48.104834Z",
     "shell.execute_reply": "2023-07-15T21:34:48.103747Z"
    },
    "papermill": {
     "duration": 1.241451,
     "end_time": "2023-07-15T21:34:48.107509",
     "exception": false,
     "start_time": "2023-07-15T21:34:46.866058",
     "status": "completed"
    },
    "tags": []
   },
   "outputs": [
    {
     "data": {
      "text/html": [
       "<style>#sk-container-id-3 {color: black;background-color: white;}#sk-container-id-3 pre{padding: 0;}#sk-container-id-3 div.sk-toggleable {background-color: white;}#sk-container-id-3 label.sk-toggleable__label {cursor: pointer;display: block;width: 100%;margin-bottom: 0;padding: 0.3em;box-sizing: border-box;text-align: center;}#sk-container-id-3 label.sk-toggleable__label-arrow:before {content: \"▸\";float: left;margin-right: 0.25em;color: #696969;}#sk-container-id-3 label.sk-toggleable__label-arrow:hover:before {color: black;}#sk-container-id-3 div.sk-estimator:hover label.sk-toggleable__label-arrow:before {color: black;}#sk-container-id-3 div.sk-toggleable__content {max-height: 0;max-width: 0;overflow: hidden;text-align: left;background-color: #f0f8ff;}#sk-container-id-3 div.sk-toggleable__content pre {margin: 0.2em;color: black;border-radius: 0.25em;background-color: #f0f8ff;}#sk-container-id-3 input.sk-toggleable__control:checked~div.sk-toggleable__content {max-height: 200px;max-width: 100%;overflow: auto;}#sk-container-id-3 input.sk-toggleable__control:checked~label.sk-toggleable__label-arrow:before {content: \"▾\";}#sk-container-id-3 div.sk-estimator input.sk-toggleable__control:checked~label.sk-toggleable__label {background-color: #d4ebff;}#sk-container-id-3 div.sk-label input.sk-toggleable__control:checked~label.sk-toggleable__label {background-color: #d4ebff;}#sk-container-id-3 input.sk-hidden--visually {border: 0;clip: rect(1px 1px 1px 1px);clip: rect(1px, 1px, 1px, 1px);height: 1px;margin: -1px;overflow: hidden;padding: 0;position: absolute;width: 1px;}#sk-container-id-3 div.sk-estimator {font-family: monospace;background-color: #f0f8ff;border: 1px dotted black;border-radius: 0.25em;box-sizing: border-box;margin-bottom: 0.5em;}#sk-container-id-3 div.sk-estimator:hover {background-color: #d4ebff;}#sk-container-id-3 div.sk-parallel-item::after {content: \"\";width: 100%;border-bottom: 1px solid gray;flex-grow: 1;}#sk-container-id-3 div.sk-label:hover label.sk-toggleable__label {background-color: #d4ebff;}#sk-container-id-3 div.sk-serial::before {content: \"\";position: absolute;border-left: 1px solid gray;box-sizing: border-box;top: 0;bottom: 0;left: 50%;z-index: 0;}#sk-container-id-3 div.sk-serial {display: flex;flex-direction: column;align-items: center;background-color: white;padding-right: 0.2em;padding-left: 0.2em;position: relative;}#sk-container-id-3 div.sk-item {position: relative;z-index: 1;}#sk-container-id-3 div.sk-parallel {display: flex;align-items: stretch;justify-content: center;background-color: white;position: relative;}#sk-container-id-3 div.sk-item::before, #sk-container-id-3 div.sk-parallel-item::before {content: \"\";position: absolute;border-left: 1px solid gray;box-sizing: border-box;top: 0;bottom: 0;left: 50%;z-index: -1;}#sk-container-id-3 div.sk-parallel-item {display: flex;flex-direction: column;z-index: 1;position: relative;background-color: white;}#sk-container-id-3 div.sk-parallel-item:first-child::after {align-self: flex-end;width: 50%;}#sk-container-id-3 div.sk-parallel-item:last-child::after {align-self: flex-start;width: 50%;}#sk-container-id-3 div.sk-parallel-item:only-child::after {width: 0;}#sk-container-id-3 div.sk-dashed-wrapped {border: 1px dashed gray;margin: 0 0.4em 0.5em 0.4em;box-sizing: border-box;padding-bottom: 0.4em;background-color: white;}#sk-container-id-3 div.sk-label label {font-family: monospace;font-weight: bold;display: inline-block;line-height: 1.2em;}#sk-container-id-3 div.sk-label-container {text-align: center;}#sk-container-id-3 div.sk-container {/* jupyter's `normalize.less` sets `[hidden] { display: none; }` but bootstrap.min.css set `[hidden] { display: none !important; }` so we also need the `!important` here to be able to override the default hidden behavior on the sphinx rendered scikit-learn.org. See: https://github.com/scikit-learn/scikit-learn/issues/21755 */display: inline-block !important;position: relative;}#sk-container-id-3 div.sk-text-repr-fallback {display: none;}</style><div id=\"sk-container-id-3\" class=\"sk-top-container\"><div class=\"sk-text-repr-fallback\"><pre>XGBClassifier(base_score=None, booster=None, callbacks=None,\n",
       "              colsample_bylevel=None, colsample_bynode=None,\n",
       "              colsample_bytree=0.9025807208270448, early_stopping_rounds=None,\n",
       "              enable_categorical=False, eval_metric=None, feature_types=None,\n",
       "              gamma=0.023647124186862576, gpu_id=None, grow_policy=None,\n",
       "              importance_type=None, interaction_constraints=None,\n",
       "              learning_rate=0.018221830558939608, max_bin=None,\n",
       "              max_cat_threshold=None, max_cat_to_onehot=None,\n",
       "              max_delta_step=None, max_depth=3, max_leaves=None,\n",
       "              min_child_weight=None, missing=nan, monotone_constraints=None,\n",
       "              n_estimators=900, n_jobs=None, num_parallel_tree=None,\n",
       "              predictor=None, random_state=None, ...)</pre><b>In a Jupyter environment, please rerun this cell to show the HTML representation or trust the notebook. <br />On GitHub, the HTML representation is unable to render, please try loading this page with nbviewer.org.</b></div><div class=\"sk-container\" hidden><div class=\"sk-item\"><div class=\"sk-estimator sk-toggleable\"><input class=\"sk-toggleable__control sk-hidden--visually\" id=\"sk-estimator-id-3\" type=\"checkbox\" checked><label for=\"sk-estimator-id-3\" class=\"sk-toggleable__label sk-toggleable__label-arrow\">XGBClassifier</label><div class=\"sk-toggleable__content\"><pre>XGBClassifier(base_score=None, booster=None, callbacks=None,\n",
       "              colsample_bylevel=None, colsample_bynode=None,\n",
       "              colsample_bytree=0.9025807208270448, early_stopping_rounds=None,\n",
       "              enable_categorical=False, eval_metric=None, feature_types=None,\n",
       "              gamma=0.023647124186862576, gpu_id=None, grow_policy=None,\n",
       "              importance_type=None, interaction_constraints=None,\n",
       "              learning_rate=0.018221830558939608, max_bin=None,\n",
       "              max_cat_threshold=None, max_cat_to_onehot=None,\n",
       "              max_delta_step=None, max_depth=3, max_leaves=None,\n",
       "              min_child_weight=None, missing=nan, monotone_constraints=None,\n",
       "              n_estimators=900, n_jobs=None, num_parallel_tree=None,\n",
       "              predictor=None, random_state=None, ...)</pre></div></div></div></div></div>"
      ],
      "text/plain": [
       "XGBClassifier(base_score=None, booster=None, callbacks=None,\n",
       "              colsample_bylevel=None, colsample_bynode=None,\n",
       "              colsample_bytree=0.9025807208270448, early_stopping_rounds=None,\n",
       "              enable_categorical=False, eval_metric=None, feature_types=None,\n",
       "              gamma=0.023647124186862576, gpu_id=None, grow_policy=None,\n",
       "              importance_type=None, interaction_constraints=None,\n",
       "              learning_rate=0.018221830558939608, max_bin=None,\n",
       "              max_cat_threshold=None, max_cat_to_onehot=None,\n",
       "              max_delta_step=None, max_depth=3, max_leaves=None,\n",
       "              min_child_weight=None, missing=nan, monotone_constraints=None,\n",
       "              n_estimators=900, n_jobs=None, num_parallel_tree=None,\n",
       "              predictor=None, random_state=None, ...)"
      ]
     },
     "execution_count": 18,
     "metadata": {},
     "output_type": "execute_result"
    }
   ],
   "source": [
    "params_3={'n_estimators': 900, 'max_depth': 3, 'learning_rate': 0.018221830558939608, 'subsample': 0.8626278030304476, 'colsample_bytree': 0.9025807208270448, 'gamma': 0.023647124186862576}\n",
    "xgb_model_2 = XGBClassifier(**params_3)\n",
    "xgb_model_2.n_estimators = 900\n",
    "xgb_model_2.fit(x_train, y_train)"
   ]
  },
  {
   "cell_type": "code",
   "execution_count": 19,
   "id": "2de9d22e",
   "metadata": {
    "execution": {
     "iopub.execute_input": "2023-07-15T21:34:48.127139Z",
     "iopub.status.busy": "2023-07-15T21:34:48.126762Z",
     "iopub.status.idle": "2023-07-15T21:34:48.767075Z",
     "shell.execute_reply": "2023-07-15T21:34:48.765979Z"
    },
    "papermill": {
     "duration": 0.653135,
     "end_time": "2023-07-15T21:34:48.769788",
     "exception": false,
     "start_time": "2023-07-15T21:34:48.116653",
     "status": "completed"
    },
    "tags": []
   },
   "outputs": [
    {
     "data": {
      "text/html": [
       "<style>#sk-container-id-4 {color: black;background-color: white;}#sk-container-id-4 pre{padding: 0;}#sk-container-id-4 div.sk-toggleable {background-color: white;}#sk-container-id-4 label.sk-toggleable__label {cursor: pointer;display: block;width: 100%;margin-bottom: 0;padding: 0.3em;box-sizing: border-box;text-align: center;}#sk-container-id-4 label.sk-toggleable__label-arrow:before {content: \"▸\";float: left;margin-right: 0.25em;color: #696969;}#sk-container-id-4 label.sk-toggleable__label-arrow:hover:before {color: black;}#sk-container-id-4 div.sk-estimator:hover label.sk-toggleable__label-arrow:before {color: black;}#sk-container-id-4 div.sk-toggleable__content {max-height: 0;max-width: 0;overflow: hidden;text-align: left;background-color: #f0f8ff;}#sk-container-id-4 div.sk-toggleable__content pre {margin: 0.2em;color: black;border-radius: 0.25em;background-color: #f0f8ff;}#sk-container-id-4 input.sk-toggleable__control:checked~div.sk-toggleable__content {max-height: 200px;max-width: 100%;overflow: auto;}#sk-container-id-4 input.sk-toggleable__control:checked~label.sk-toggleable__label-arrow:before {content: \"▾\";}#sk-container-id-4 div.sk-estimator input.sk-toggleable__control:checked~label.sk-toggleable__label {background-color: #d4ebff;}#sk-container-id-4 div.sk-label input.sk-toggleable__control:checked~label.sk-toggleable__label {background-color: #d4ebff;}#sk-container-id-4 input.sk-hidden--visually {border: 0;clip: rect(1px 1px 1px 1px);clip: rect(1px, 1px, 1px, 1px);height: 1px;margin: -1px;overflow: hidden;padding: 0;position: absolute;width: 1px;}#sk-container-id-4 div.sk-estimator {font-family: monospace;background-color: #f0f8ff;border: 1px dotted black;border-radius: 0.25em;box-sizing: border-box;margin-bottom: 0.5em;}#sk-container-id-4 div.sk-estimator:hover {background-color: #d4ebff;}#sk-container-id-4 div.sk-parallel-item::after {content: \"\";width: 100%;border-bottom: 1px solid gray;flex-grow: 1;}#sk-container-id-4 div.sk-label:hover label.sk-toggleable__label {background-color: #d4ebff;}#sk-container-id-4 div.sk-serial::before {content: \"\";position: absolute;border-left: 1px solid gray;box-sizing: border-box;top: 0;bottom: 0;left: 50%;z-index: 0;}#sk-container-id-4 div.sk-serial {display: flex;flex-direction: column;align-items: center;background-color: white;padding-right: 0.2em;padding-left: 0.2em;position: relative;}#sk-container-id-4 div.sk-item {position: relative;z-index: 1;}#sk-container-id-4 div.sk-parallel {display: flex;align-items: stretch;justify-content: center;background-color: white;position: relative;}#sk-container-id-4 div.sk-item::before, #sk-container-id-4 div.sk-parallel-item::before {content: \"\";position: absolute;border-left: 1px solid gray;box-sizing: border-box;top: 0;bottom: 0;left: 50%;z-index: -1;}#sk-container-id-4 div.sk-parallel-item {display: flex;flex-direction: column;z-index: 1;position: relative;background-color: white;}#sk-container-id-4 div.sk-parallel-item:first-child::after {align-self: flex-end;width: 50%;}#sk-container-id-4 div.sk-parallel-item:last-child::after {align-self: flex-start;width: 50%;}#sk-container-id-4 div.sk-parallel-item:only-child::after {width: 0;}#sk-container-id-4 div.sk-dashed-wrapped {border: 1px dashed gray;margin: 0 0.4em 0.5em 0.4em;box-sizing: border-box;padding-bottom: 0.4em;background-color: white;}#sk-container-id-4 div.sk-label label {font-family: monospace;font-weight: bold;display: inline-block;line-height: 1.2em;}#sk-container-id-4 div.sk-label-container {text-align: center;}#sk-container-id-4 div.sk-container {/* jupyter's `normalize.less` sets `[hidden] { display: none; }` but bootstrap.min.css set `[hidden] { display: none !important; }` so we also need the `!important` here to be able to override the default hidden behavior on the sphinx rendered scikit-learn.org. See: https://github.com/scikit-learn/scikit-learn/issues/21755 */display: inline-block !important;position: relative;}#sk-container-id-4 div.sk-text-repr-fallback {display: none;}</style><div id=\"sk-container-id-4\" class=\"sk-top-container\"><div class=\"sk-text-repr-fallback\"><pre>XGBClassifier(base_score=None, booster=None, callbacks=None,\n",
       "              colsample_bylevel=None, colsample_bynode=None,\n",
       "              colsample_bytree=0.7038174545826303, early_stopping_rounds=None,\n",
       "              enable_categorical=False, eval_metric=None, feature_types=None,\n",
       "              gamma=0.15046415857565873, gpu_id=None, grow_policy=None,\n",
       "              importance_type=None, interaction_constraints=None,\n",
       "              learning_rate=0.03819123009105624, max_bin=None,\n",
       "              max_cat_threshold=None, max_cat_to_onehot=None,\n",
       "              max_delta_step=None, max_depth=7, max_leaves=None,\n",
       "              min_child_weight=None, missing=nan, monotone_constraints=None,\n",
       "              n_estimators=500, n_jobs=None, num_parallel_tree=None,\n",
       "              predictor=None, random_state=None, ...)</pre><b>In a Jupyter environment, please rerun this cell to show the HTML representation or trust the notebook. <br />On GitHub, the HTML representation is unable to render, please try loading this page with nbviewer.org.</b></div><div class=\"sk-container\" hidden><div class=\"sk-item\"><div class=\"sk-estimator sk-toggleable\"><input class=\"sk-toggleable__control sk-hidden--visually\" id=\"sk-estimator-id-4\" type=\"checkbox\" checked><label for=\"sk-estimator-id-4\" class=\"sk-toggleable__label sk-toggleable__label-arrow\">XGBClassifier</label><div class=\"sk-toggleable__content\"><pre>XGBClassifier(base_score=None, booster=None, callbacks=None,\n",
       "              colsample_bylevel=None, colsample_bynode=None,\n",
       "              colsample_bytree=0.7038174545826303, early_stopping_rounds=None,\n",
       "              enable_categorical=False, eval_metric=None, feature_types=None,\n",
       "              gamma=0.15046415857565873, gpu_id=None, grow_policy=None,\n",
       "              importance_type=None, interaction_constraints=None,\n",
       "              learning_rate=0.03819123009105624, max_bin=None,\n",
       "              max_cat_threshold=None, max_cat_to_onehot=None,\n",
       "              max_delta_step=None, max_depth=7, max_leaves=None,\n",
       "              min_child_weight=None, missing=nan, monotone_constraints=None,\n",
       "              n_estimators=500, n_jobs=None, num_parallel_tree=None,\n",
       "              predictor=None, random_state=None, ...)</pre></div></div></div></div></div>"
      ],
      "text/plain": [
       "XGBClassifier(base_score=None, booster=None, callbacks=None,\n",
       "              colsample_bylevel=None, colsample_bynode=None,\n",
       "              colsample_bytree=0.7038174545826303, early_stopping_rounds=None,\n",
       "              enable_categorical=False, eval_metric=None, feature_types=None,\n",
       "              gamma=0.15046415857565873, gpu_id=None, grow_policy=None,\n",
       "              importance_type=None, interaction_constraints=None,\n",
       "              learning_rate=0.03819123009105624, max_bin=None,\n",
       "              max_cat_threshold=None, max_cat_to_onehot=None,\n",
       "              max_delta_step=None, max_depth=7, max_leaves=None,\n",
       "              min_child_weight=None, missing=nan, monotone_constraints=None,\n",
       "              n_estimators=500, n_jobs=None, num_parallel_tree=None,\n",
       "              predictor=None, random_state=None, ...)"
      ]
     },
     "execution_count": 19,
     "metadata": {},
     "output_type": "execute_result"
    }
   ],
   "source": [
    "params_4={'n_estimators': 500, 'max_depth': 7, 'learning_rate': 0.03819123009105624, 'subsample': 0.6799023747645844, 'colsample_bytree': 0.7038174545826303, 'gamma': 0.15046415857565873}\n",
    "xgb_model_3 = XGBClassifier(**params_4)\n",
    "xgb_model_3.n_estimators = 500\n",
    "xgb_model_3.fit(x_train, y_train)"
   ]
  },
  {
   "cell_type": "code",
   "execution_count": 20,
   "id": "70a11495",
   "metadata": {
    "execution": {
     "iopub.execute_input": "2023-07-15T21:34:48.790067Z",
     "iopub.status.busy": "2023-07-15T21:34:48.789720Z",
     "iopub.status.idle": "2023-07-15T21:34:50.235540Z",
     "shell.execute_reply": "2023-07-15T21:34:50.234438Z"
    },
    "papermill": {
     "duration": 1.457824,
     "end_time": "2023-07-15T21:34:50.237351",
     "exception": false,
     "start_time": "2023-07-15T21:34:48.779527",
     "status": "completed"
    },
    "tags": []
   },
   "outputs": [
    {
     "data": {
      "text/html": [
       "<style>#sk-container-id-5 {color: black;background-color: white;}#sk-container-id-5 pre{padding: 0;}#sk-container-id-5 div.sk-toggleable {background-color: white;}#sk-container-id-5 label.sk-toggleable__label {cursor: pointer;display: block;width: 100%;margin-bottom: 0;padding: 0.3em;box-sizing: border-box;text-align: center;}#sk-container-id-5 label.sk-toggleable__label-arrow:before {content: \"▸\";float: left;margin-right: 0.25em;color: #696969;}#sk-container-id-5 label.sk-toggleable__label-arrow:hover:before {color: black;}#sk-container-id-5 div.sk-estimator:hover label.sk-toggleable__label-arrow:before {color: black;}#sk-container-id-5 div.sk-toggleable__content {max-height: 0;max-width: 0;overflow: hidden;text-align: left;background-color: #f0f8ff;}#sk-container-id-5 div.sk-toggleable__content pre {margin: 0.2em;color: black;border-radius: 0.25em;background-color: #f0f8ff;}#sk-container-id-5 input.sk-toggleable__control:checked~div.sk-toggleable__content {max-height: 200px;max-width: 100%;overflow: auto;}#sk-container-id-5 input.sk-toggleable__control:checked~label.sk-toggleable__label-arrow:before {content: \"▾\";}#sk-container-id-5 div.sk-estimator input.sk-toggleable__control:checked~label.sk-toggleable__label {background-color: #d4ebff;}#sk-container-id-5 div.sk-label input.sk-toggleable__control:checked~label.sk-toggleable__label {background-color: #d4ebff;}#sk-container-id-5 input.sk-hidden--visually {border: 0;clip: rect(1px 1px 1px 1px);clip: rect(1px, 1px, 1px, 1px);height: 1px;margin: -1px;overflow: hidden;padding: 0;position: absolute;width: 1px;}#sk-container-id-5 div.sk-estimator {font-family: monospace;background-color: #f0f8ff;border: 1px dotted black;border-radius: 0.25em;box-sizing: border-box;margin-bottom: 0.5em;}#sk-container-id-5 div.sk-estimator:hover {background-color: #d4ebff;}#sk-container-id-5 div.sk-parallel-item::after {content: \"\";width: 100%;border-bottom: 1px solid gray;flex-grow: 1;}#sk-container-id-5 div.sk-label:hover label.sk-toggleable__label {background-color: #d4ebff;}#sk-container-id-5 div.sk-serial::before {content: \"\";position: absolute;border-left: 1px solid gray;box-sizing: border-box;top: 0;bottom: 0;left: 50%;z-index: 0;}#sk-container-id-5 div.sk-serial {display: flex;flex-direction: column;align-items: center;background-color: white;padding-right: 0.2em;padding-left: 0.2em;position: relative;}#sk-container-id-5 div.sk-item {position: relative;z-index: 1;}#sk-container-id-5 div.sk-parallel {display: flex;align-items: stretch;justify-content: center;background-color: white;position: relative;}#sk-container-id-5 div.sk-item::before, #sk-container-id-5 div.sk-parallel-item::before {content: \"\";position: absolute;border-left: 1px solid gray;box-sizing: border-box;top: 0;bottom: 0;left: 50%;z-index: -1;}#sk-container-id-5 div.sk-parallel-item {display: flex;flex-direction: column;z-index: 1;position: relative;background-color: white;}#sk-container-id-5 div.sk-parallel-item:first-child::after {align-self: flex-end;width: 50%;}#sk-container-id-5 div.sk-parallel-item:last-child::after {align-self: flex-start;width: 50%;}#sk-container-id-5 div.sk-parallel-item:only-child::after {width: 0;}#sk-container-id-5 div.sk-dashed-wrapped {border: 1px dashed gray;margin: 0 0.4em 0.5em 0.4em;box-sizing: border-box;padding-bottom: 0.4em;background-color: white;}#sk-container-id-5 div.sk-label label {font-family: monospace;font-weight: bold;display: inline-block;line-height: 1.2em;}#sk-container-id-5 div.sk-label-container {text-align: center;}#sk-container-id-5 div.sk-container {/* jupyter's `normalize.less` sets `[hidden] { display: none; }` but bootstrap.min.css set `[hidden] { display: none !important; }` so we also need the `!important` here to be able to override the default hidden behavior on the sphinx rendered scikit-learn.org. See: https://github.com/scikit-learn/scikit-learn/issues/21755 */display: inline-block !important;position: relative;}#sk-container-id-5 div.sk-text-repr-fallback {display: none;}</style><div id=\"sk-container-id-5\" class=\"sk-top-container\"><div class=\"sk-text-repr-fallback\"><pre>XGBClassifier(base_score=None, booster=None, callbacks=None,\n",
       "              colsample_bylevel=None, colsample_bynode=None,\n",
       "              colsample_bytree=0.9288775819158103, early_stopping_rounds=None,\n",
       "              enable_categorical=False, eval_metric=None, feature_types=None,\n",
       "              gamma=0.00272925544160879, gpu_id=None, grow_policy=None,\n",
       "              importance_type=None, interaction_constraints=None,\n",
       "              learning_rate=0.012156785140011915, max_bin=None,\n",
       "              max_cat_threshold=None, max_cat_to_onehot=None,\n",
       "              max_delta_step=None, max_depth=4, max_leaves=None,\n",
       "              min_child_weight=None, missing=nan, monotone_constraints=None,\n",
       "              n_estimators=950, n_jobs=None, num_parallel_tree=None,\n",
       "              predictor=None, random_state=None, ...)</pre><b>In a Jupyter environment, please rerun this cell to show the HTML representation or trust the notebook. <br />On GitHub, the HTML representation is unable to render, please try loading this page with nbviewer.org.</b></div><div class=\"sk-container\" hidden><div class=\"sk-item\"><div class=\"sk-estimator sk-toggleable\"><input class=\"sk-toggleable__control sk-hidden--visually\" id=\"sk-estimator-id-5\" type=\"checkbox\" checked><label for=\"sk-estimator-id-5\" class=\"sk-toggleable__label sk-toggleable__label-arrow\">XGBClassifier</label><div class=\"sk-toggleable__content\"><pre>XGBClassifier(base_score=None, booster=None, callbacks=None,\n",
       "              colsample_bylevel=None, colsample_bynode=None,\n",
       "              colsample_bytree=0.9288775819158103, early_stopping_rounds=None,\n",
       "              enable_categorical=False, eval_metric=None, feature_types=None,\n",
       "              gamma=0.00272925544160879, gpu_id=None, grow_policy=None,\n",
       "              importance_type=None, interaction_constraints=None,\n",
       "              learning_rate=0.012156785140011915, max_bin=None,\n",
       "              max_cat_threshold=None, max_cat_to_onehot=None,\n",
       "              max_delta_step=None, max_depth=4, max_leaves=None,\n",
       "              min_child_weight=None, missing=nan, monotone_constraints=None,\n",
       "              n_estimators=950, n_jobs=None, num_parallel_tree=None,\n",
       "              predictor=None, random_state=None, ...)</pre></div></div></div></div></div>"
      ],
      "text/plain": [
       "XGBClassifier(base_score=None, booster=None, callbacks=None,\n",
       "              colsample_bylevel=None, colsample_bynode=None,\n",
       "              colsample_bytree=0.9288775819158103, early_stopping_rounds=None,\n",
       "              enable_categorical=False, eval_metric=None, feature_types=None,\n",
       "              gamma=0.00272925544160879, gpu_id=None, grow_policy=None,\n",
       "              importance_type=None, interaction_constraints=None,\n",
       "              learning_rate=0.012156785140011915, max_bin=None,\n",
       "              max_cat_threshold=None, max_cat_to_onehot=None,\n",
       "              max_delta_step=None, max_depth=4, max_leaves=None,\n",
       "              min_child_weight=None, missing=nan, monotone_constraints=None,\n",
       "              n_estimators=950, n_jobs=None, num_parallel_tree=None,\n",
       "              predictor=None, random_state=None, ...)"
      ]
     },
     "execution_count": 20,
     "metadata": {},
     "output_type": "execute_result"
    }
   ],
   "source": [
    "params_5={'n_estimators': 950, 'max_depth': 4, 'learning_rate': 0.012156785140011915, 'subsample': 0.6030860268434596, 'colsample_bytree': 0.9288775819158103, 'gamma': 0.00272925544160879}\n",
    "xgb_model_4 = XGBClassifier(**params_5)\n",
    "xgb_model_4.n_estimators = 950\n",
    "xgb_model_4.fit(x_train, y_train)"
   ]
  },
  {
   "cell_type": "code",
   "execution_count": 21,
   "id": "d40927ba",
   "metadata": {
    "execution": {
     "iopub.execute_input": "2023-07-15T21:34:50.256849Z",
     "iopub.status.busy": "2023-07-15T21:34:50.256073Z",
     "iopub.status.idle": "2023-07-15T21:34:50.293362Z",
     "shell.execute_reply": "2023-07-15T21:34:50.292408Z"
    },
    "papermill": {
     "duration": 0.049377,
     "end_time": "2023-07-15T21:34:50.295735",
     "exception": false,
     "start_time": "2023-07-15T21:34:50.246358",
     "status": "completed"
    },
    "tags": []
   },
   "outputs": [],
   "source": [
    "lgbm_pred = lgbm_model.predict_proba(x_test)\n",
    "xgb_pred_1 = xgb_model_1.predict_proba(x_test)\n",
    "xgb_pred_2 = xgb_model_2.predict_proba(x_test)\n",
    "xgb_pred_3=xgb_model_3.predict_proba(x_test)\n",
    "xgb_pred_4=xgb_model_4.predict_proba(x_test)"
   ]
  },
  {
   "cell_type": "code",
   "execution_count": 22,
   "id": "411cec26",
   "metadata": {
    "execution": {
     "iopub.execute_input": "2023-07-15T21:34:50.315501Z",
     "iopub.status.busy": "2023-07-15T21:34:50.315072Z",
     "iopub.status.idle": "2023-07-15T21:34:50.323210Z",
     "shell.execute_reply": "2023-07-15T21:34:50.322083Z"
    },
    "papermill": {
     "duration": 0.020477,
     "end_time": "2023-07-15T21:34:50.325544",
     "exception": false,
     "start_time": "2023-07-15T21:34:50.305067",
     "status": "completed"
    },
    "tags": []
   },
   "outputs": [
    {
     "data": {
      "text/plain": [
       "0.4597618914623481"
      ]
     },
     "execution_count": 22,
     "metadata": {},
     "output_type": "execute_result"
    }
   ],
   "source": [
    "competition_log_loss(lgbm_pred,y_test)"
   ]
  },
  {
   "cell_type": "code",
   "execution_count": 23,
   "id": "1c46dc4d",
   "metadata": {
    "execution": {
     "iopub.execute_input": "2023-07-15T21:34:50.346812Z",
     "iopub.status.busy": "2023-07-15T21:34:50.346455Z",
     "iopub.status.idle": "2023-07-15T21:34:50.354323Z",
     "shell.execute_reply": "2023-07-15T21:34:50.353557Z"
    },
    "papermill": {
     "duration": 0.020507,
     "end_time": "2023-07-15T21:34:50.355991",
     "exception": false,
     "start_time": "2023-07-15T21:34:50.335484",
     "status": "completed"
    },
    "tags": []
   },
   "outputs": [
    {
     "data": {
      "text/plain": [
       "0.42208121121625053"
      ]
     },
     "execution_count": 23,
     "metadata": {},
     "output_type": "execute_result"
    }
   ],
   "source": [
    "competition_log_loss(xgb_pred_1,y_test)"
   ]
  },
  {
   "cell_type": "code",
   "execution_count": 24,
   "id": "8e976934",
   "metadata": {
    "execution": {
     "iopub.execute_input": "2023-07-15T21:34:50.376235Z",
     "iopub.status.busy": "2023-07-15T21:34:50.375834Z",
     "iopub.status.idle": "2023-07-15T21:34:50.383746Z",
     "shell.execute_reply": "2023-07-15T21:34:50.382633Z"
    },
    "papermill": {
     "duration": 0.020252,
     "end_time": "2023-07-15T21:34:50.385703",
     "exception": false,
     "start_time": "2023-07-15T21:34:50.365451",
     "status": "completed"
    },
    "tags": []
   },
   "outputs": [
    {
     "data": {
      "text/plain": [
       "0.3629922834563446"
      ]
     },
     "execution_count": 24,
     "metadata": {},
     "output_type": "execute_result"
    }
   ],
   "source": [
    "competition_log_loss(xgb_pred_2,y_test)"
   ]
  },
  {
   "cell_type": "code",
   "execution_count": 25,
   "id": "e740ab5b",
   "metadata": {
    "execution": {
     "iopub.execute_input": "2023-07-15T21:34:50.405906Z",
     "iopub.status.busy": "2023-07-15T21:34:50.405583Z",
     "iopub.status.idle": "2023-07-15T21:34:50.414077Z",
     "shell.execute_reply": "2023-07-15T21:34:50.413021Z"
    },
    "papermill": {
     "duration": 0.021426,
     "end_time": "2023-07-15T21:34:50.416680",
     "exception": false,
     "start_time": "2023-07-15T21:34:50.395254",
     "status": "completed"
    },
    "tags": []
   },
   "outputs": [
    {
     "data": {
      "text/plain": [
       "0.39661444960914266"
      ]
     },
     "execution_count": 25,
     "metadata": {},
     "output_type": "execute_result"
    }
   ],
   "source": [
    "competition_log_loss(xgb_pred_3,y_test)"
   ]
  },
  {
   "cell_type": "code",
   "execution_count": 26,
   "id": "00346cc2",
   "metadata": {
    "execution": {
     "iopub.execute_input": "2023-07-15T21:34:50.438568Z",
     "iopub.status.busy": "2023-07-15T21:34:50.438166Z",
     "iopub.status.idle": "2023-07-15T21:34:50.447349Z",
     "shell.execute_reply": "2023-07-15T21:34:50.445782Z"
    },
    "papermill": {
     "duration": 0.023251,
     "end_time": "2023-07-15T21:34:50.449808",
     "exception": false,
     "start_time": "2023-07-15T21:34:50.426557",
     "status": "completed"
    },
    "tags": []
   },
   "outputs": [
    {
     "data": {
      "text/plain": [
       "0.40390593543379016"
      ]
     },
     "execution_count": 26,
     "metadata": {},
     "output_type": "execute_result"
    }
   ],
   "source": [
    "competition_log_loss(xgb_pred_4,y_test)"
   ]
  },
  {
   "cell_type": "code",
   "execution_count": 27,
   "id": "6cc9154f",
   "metadata": {
    "execution": {
     "iopub.execute_input": "2023-07-15T21:34:50.470410Z",
     "iopub.status.busy": "2023-07-15T21:34:50.470024Z",
     "iopub.status.idle": "2023-07-15T21:34:50.475966Z",
     "shell.execute_reply": "2023-07-15T21:34:50.474764Z"
    },
    "papermill": {
     "duration": 0.018819,
     "end_time": "2023-07-15T21:34:50.478403",
     "exception": false,
     "start_time": "2023-07-15T21:34:50.459584",
     "status": "completed"
    },
    "tags": []
   },
   "outputs": [],
   "source": [
    "stack_pred = np.column_stack((lgbm_pred, xgb_pred_1,xgb_pred_2, xgb_pred_3,xgb_pred_4))\n"
   ]
  },
  {
   "cell_type": "code",
   "execution_count": 28,
   "id": "ea074ba7",
   "metadata": {
    "execution": {
     "iopub.execute_input": "2023-07-15T21:34:50.501227Z",
     "iopub.status.busy": "2023-07-15T21:34:50.500053Z",
     "iopub.status.idle": "2023-07-15T21:34:50.524332Z",
     "shell.execute_reply": "2023-07-15T21:34:50.523247Z"
    },
    "papermill": {
     "duration": 0.037121,
     "end_time": "2023-07-15T21:34:50.526148",
     "exception": false,
     "start_time": "2023-07-15T21:34:50.489027",
     "status": "completed"
    },
    "tags": []
   },
   "outputs": [
    {
     "data": {
      "text/html": [
       "<style>#sk-container-id-6 {color: black;background-color: white;}#sk-container-id-6 pre{padding: 0;}#sk-container-id-6 div.sk-toggleable {background-color: white;}#sk-container-id-6 label.sk-toggleable__label {cursor: pointer;display: block;width: 100%;margin-bottom: 0;padding: 0.3em;box-sizing: border-box;text-align: center;}#sk-container-id-6 label.sk-toggleable__label-arrow:before {content: \"▸\";float: left;margin-right: 0.25em;color: #696969;}#sk-container-id-6 label.sk-toggleable__label-arrow:hover:before {color: black;}#sk-container-id-6 div.sk-estimator:hover label.sk-toggleable__label-arrow:before {color: black;}#sk-container-id-6 div.sk-toggleable__content {max-height: 0;max-width: 0;overflow: hidden;text-align: left;background-color: #f0f8ff;}#sk-container-id-6 div.sk-toggleable__content pre {margin: 0.2em;color: black;border-radius: 0.25em;background-color: #f0f8ff;}#sk-container-id-6 input.sk-toggleable__control:checked~div.sk-toggleable__content {max-height: 200px;max-width: 100%;overflow: auto;}#sk-container-id-6 input.sk-toggleable__control:checked~label.sk-toggleable__label-arrow:before {content: \"▾\";}#sk-container-id-6 div.sk-estimator input.sk-toggleable__control:checked~label.sk-toggleable__label {background-color: #d4ebff;}#sk-container-id-6 div.sk-label input.sk-toggleable__control:checked~label.sk-toggleable__label {background-color: #d4ebff;}#sk-container-id-6 input.sk-hidden--visually {border: 0;clip: rect(1px 1px 1px 1px);clip: rect(1px, 1px, 1px, 1px);height: 1px;margin: -1px;overflow: hidden;padding: 0;position: absolute;width: 1px;}#sk-container-id-6 div.sk-estimator {font-family: monospace;background-color: #f0f8ff;border: 1px dotted black;border-radius: 0.25em;box-sizing: border-box;margin-bottom: 0.5em;}#sk-container-id-6 div.sk-estimator:hover {background-color: #d4ebff;}#sk-container-id-6 div.sk-parallel-item::after {content: \"\";width: 100%;border-bottom: 1px solid gray;flex-grow: 1;}#sk-container-id-6 div.sk-label:hover label.sk-toggleable__label {background-color: #d4ebff;}#sk-container-id-6 div.sk-serial::before {content: \"\";position: absolute;border-left: 1px solid gray;box-sizing: border-box;top: 0;bottom: 0;left: 50%;z-index: 0;}#sk-container-id-6 div.sk-serial {display: flex;flex-direction: column;align-items: center;background-color: white;padding-right: 0.2em;padding-left: 0.2em;position: relative;}#sk-container-id-6 div.sk-item {position: relative;z-index: 1;}#sk-container-id-6 div.sk-parallel {display: flex;align-items: stretch;justify-content: center;background-color: white;position: relative;}#sk-container-id-6 div.sk-item::before, #sk-container-id-6 div.sk-parallel-item::before {content: \"\";position: absolute;border-left: 1px solid gray;box-sizing: border-box;top: 0;bottom: 0;left: 50%;z-index: -1;}#sk-container-id-6 div.sk-parallel-item {display: flex;flex-direction: column;z-index: 1;position: relative;background-color: white;}#sk-container-id-6 div.sk-parallel-item:first-child::after {align-self: flex-end;width: 50%;}#sk-container-id-6 div.sk-parallel-item:last-child::after {align-self: flex-start;width: 50%;}#sk-container-id-6 div.sk-parallel-item:only-child::after {width: 0;}#sk-container-id-6 div.sk-dashed-wrapped {border: 1px dashed gray;margin: 0 0.4em 0.5em 0.4em;box-sizing: border-box;padding-bottom: 0.4em;background-color: white;}#sk-container-id-6 div.sk-label label {font-family: monospace;font-weight: bold;display: inline-block;line-height: 1.2em;}#sk-container-id-6 div.sk-label-container {text-align: center;}#sk-container-id-6 div.sk-container {/* jupyter's `normalize.less` sets `[hidden] { display: none; }` but bootstrap.min.css set `[hidden] { display: none !important; }` so we also need the `!important` here to be able to override the default hidden behavior on the sphinx rendered scikit-learn.org. See: https://github.com/scikit-learn/scikit-learn/issues/21755 */display: inline-block !important;position: relative;}#sk-container-id-6 div.sk-text-repr-fallback {display: none;}</style><div id=\"sk-container-id-6\" class=\"sk-top-container\"><div class=\"sk-text-repr-fallback\"><pre>XGBClassifier(base_score=None, booster=None, callbacks=None,\n",
       "              colsample_bylevel=None, colsample_bynode=None,\n",
       "              colsample_bytree=None, early_stopping_rounds=None,\n",
       "              enable_categorical=False, eval_metric=None, feature_types=None,\n",
       "              gamma=None, gpu_id=None, grow_policy=None, importance_type=None,\n",
       "              interaction_constraints=None, learning_rate=None, max_bin=None,\n",
       "              max_cat_threshold=None, max_cat_to_onehot=None,\n",
       "              max_delta_step=None, max_depth=None, max_leaves=None,\n",
       "              min_child_weight=None, missing=nan, monotone_constraints=None,\n",
       "              n_estimators=100, n_jobs=None, num_parallel_tree=None,\n",
       "              predictor=None, random_state=None, ...)</pre><b>In a Jupyter environment, please rerun this cell to show the HTML representation or trust the notebook. <br />On GitHub, the HTML representation is unable to render, please try loading this page with nbviewer.org.</b></div><div class=\"sk-container\" hidden><div class=\"sk-item\"><div class=\"sk-estimator sk-toggleable\"><input class=\"sk-toggleable__control sk-hidden--visually\" id=\"sk-estimator-id-6\" type=\"checkbox\" checked><label for=\"sk-estimator-id-6\" class=\"sk-toggleable__label sk-toggleable__label-arrow\">XGBClassifier</label><div class=\"sk-toggleable__content\"><pre>XGBClassifier(base_score=None, booster=None, callbacks=None,\n",
       "              colsample_bylevel=None, colsample_bynode=None,\n",
       "              colsample_bytree=None, early_stopping_rounds=None,\n",
       "              enable_categorical=False, eval_metric=None, feature_types=None,\n",
       "              gamma=None, gpu_id=None, grow_policy=None, importance_type=None,\n",
       "              interaction_constraints=None, learning_rate=None, max_bin=None,\n",
       "              max_cat_threshold=None, max_cat_to_onehot=None,\n",
       "              max_delta_step=None, max_depth=None, max_leaves=None,\n",
       "              min_child_weight=None, missing=nan, monotone_constraints=None,\n",
       "              n_estimators=100, n_jobs=None, num_parallel_tree=None,\n",
       "              predictor=None, random_state=None, ...)</pre></div></div></div></div></div>"
      ],
      "text/plain": [
       "XGBClassifier(base_score=None, booster=None, callbacks=None,\n",
       "              colsample_bylevel=None, colsample_bynode=None,\n",
       "              colsample_bytree=None, early_stopping_rounds=None,\n",
       "              enable_categorical=False, eval_metric=None, feature_types=None,\n",
       "              gamma=None, gpu_id=None, grow_policy=None, importance_type=None,\n",
       "              interaction_constraints=None, learning_rate=None, max_bin=None,\n",
       "              max_cat_threshold=None, max_cat_to_onehot=None,\n",
       "              max_delta_step=None, max_depth=None, max_leaves=None,\n",
       "              min_child_weight=None, missing=nan, monotone_constraints=None,\n",
       "              n_estimators=100, n_jobs=None, num_parallel_tree=None,\n",
       "              predictor=None, random_state=None, ...)"
      ]
     },
     "execution_count": 28,
     "metadata": {},
     "output_type": "execute_result"
    }
   ],
   "source": [
    "final_model = XGBClassifier()\n",
    "final_model.fit(stack_pred, y_test)\n"
   ]
  },
  {
   "cell_type": "code",
   "execution_count": 29,
   "id": "cef920c8",
   "metadata": {
    "execution": {
     "iopub.execute_input": "2023-07-15T21:34:50.546245Z",
     "iopub.status.busy": "2023-07-15T21:34:50.545914Z",
     "iopub.status.idle": "2023-07-15T21:34:50.554241Z",
     "shell.execute_reply": "2023-07-15T21:34:50.553206Z"
    },
    "papermill": {
     "duration": 0.020642,
     "end_time": "2023-07-15T21:34:50.556387",
     "exception": false,
     "start_time": "2023-07-15T21:34:50.535745",
     "status": "completed"
    },
    "tags": []
   },
   "outputs": [
    {
     "name": "stdout",
     "output_type": "stream",
     "text": [
      "Log loss: 0.12321882279867906\n"
     ]
    }
   ],
   "source": [
    "final_pred = final_model.predict_proba(stack_pred)\n",
    "print(\"Log loss:\", competition_log_loss( final_pred,y_test))"
   ]
  },
  {
   "cell_type": "code",
   "execution_count": 30,
   "id": "70c98f62",
   "metadata": {
    "execution": {
     "iopub.execute_input": "2023-07-15T21:34:50.578005Z",
     "iopub.status.busy": "2023-07-15T21:34:50.577622Z",
     "iopub.status.idle": "2023-07-15T21:34:50.599090Z",
     "shell.execute_reply": "2023-07-15T21:34:50.598020Z"
    },
    "papermill": {
     "duration": 0.034918,
     "end_time": "2023-07-15T21:34:50.601563",
     "exception": false,
     "start_time": "2023-07-15T21:34:50.566645",
     "status": "completed"
    },
    "tags": []
   },
   "outputs": [],
   "source": [
    "lgbm_pred_val = lgbm_model.predict_proba(val)\n",
    "xgb_pred_1_val = xgb_model_1.predict_proba(val)\n",
    "xgb_pred_2_val = xgb_model_2.predict_proba(val)\n",
    "xgb_pred_3_val= xgb_model_3.predict_proba(val)\n",
    "xgb_pred_4_val= xgb_model_4.predict_proba(val)\n",
    "\n",
    "# Stack predictions\n",
    "stack_pred = np.column_stack((lgbm_pred_val, xgb_pred_1_val, xgb_pred_2_val, xgb_pred_3_val,xgb_pred_4_val))\n",
    "\n",
    "# Make predictions on stacked predictions\n",
    "new_pred = final_model.predict_proba(stack_pred)"
   ]
  },
  {
   "cell_type": "code",
   "execution_count": 31,
   "id": "8b67ca44",
   "metadata": {
    "execution": {
     "iopub.execute_input": "2023-07-15T21:34:50.623669Z",
     "iopub.status.busy": "2023-07-15T21:34:50.623318Z",
     "iopub.status.idle": "2023-07-15T21:34:50.629607Z",
     "shell.execute_reply": "2023-07-15T21:34:50.628372Z"
    },
    "papermill": {
     "duration": 0.020654,
     "end_time": "2023-07-15T21:34:50.632321",
     "exception": false,
     "start_time": "2023-07-15T21:34:50.611667",
     "status": "completed"
    },
    "tags": []
   },
   "outputs": [],
   "source": [
    "new_pred=pd.DataFrame(new_pred)"
   ]
  },
  {
   "cell_type": "code",
   "execution_count": 32,
   "id": "f28e9a4b",
   "metadata": {
    "execution": {
     "iopub.execute_input": "2023-07-15T21:34:50.654730Z",
     "iopub.status.busy": "2023-07-15T21:34:50.654358Z",
     "iopub.status.idle": "2023-07-15T21:34:50.664549Z",
     "shell.execute_reply": "2023-07-15T21:34:50.663249Z"
    },
    "papermill": {
     "duration": 0.024467,
     "end_time": "2023-07-15T21:34:50.667273",
     "exception": false,
     "start_time": "2023-07-15T21:34:50.642806",
     "status": "completed"
    },
    "tags": []
   },
   "outputs": [
    {
     "data": {
      "text/html": [
       "<div>\n",
       "<style scoped>\n",
       "    .dataframe tbody tr th:only-of-type {\n",
       "        vertical-align: middle;\n",
       "    }\n",
       "\n",
       "    .dataframe tbody tr th {\n",
       "        vertical-align: top;\n",
       "    }\n",
       "\n",
       "    .dataframe thead th {\n",
       "        text-align: right;\n",
       "    }\n",
       "</style>\n",
       "<table border=\"1\" class=\"dataframe\">\n",
       "  <thead>\n",
       "    <tr style=\"text-align: right;\">\n",
       "      <th></th>\n",
       "      <th>0</th>\n",
       "      <th>1</th>\n",
       "    </tr>\n",
       "  </thead>\n",
       "  <tbody>\n",
       "    <tr>\n",
       "      <th>0</th>\n",
       "      <td>0.526222</td>\n",
       "      <td>0.473778</td>\n",
       "    </tr>\n",
       "    <tr>\n",
       "      <th>1</th>\n",
       "      <td>0.526222</td>\n",
       "      <td>0.473778</td>\n",
       "    </tr>\n",
       "    <tr>\n",
       "      <th>2</th>\n",
       "      <td>0.526222</td>\n",
       "      <td>0.473778</td>\n",
       "    </tr>\n",
       "    <tr>\n",
       "      <th>3</th>\n",
       "      <td>0.526222</td>\n",
       "      <td>0.473778</td>\n",
       "    </tr>\n",
       "    <tr>\n",
       "      <th>4</th>\n",
       "      <td>0.526222</td>\n",
       "      <td>0.473778</td>\n",
       "    </tr>\n",
       "  </tbody>\n",
       "</table>\n",
       "</div>"
      ],
      "text/plain": [
       "          0         1\n",
       "0  0.526222  0.473778\n",
       "1  0.526222  0.473778\n",
       "2  0.526222  0.473778\n",
       "3  0.526222  0.473778\n",
       "4  0.526222  0.473778"
      ]
     },
     "execution_count": 32,
     "metadata": {},
     "output_type": "execute_result"
    }
   ],
   "source": [
    "new_pred"
   ]
  },
  {
   "cell_type": "code",
   "execution_count": 33,
   "id": "0b25557c",
   "metadata": {
    "execution": {
     "iopub.execute_input": "2023-07-15T21:34:50.688507Z",
     "iopub.status.busy": "2023-07-15T21:34:50.688158Z",
     "iopub.status.idle": "2023-07-15T21:34:50.699224Z",
     "shell.execute_reply": "2023-07-15T21:34:50.698252Z"
    },
    "papermill": {
     "duration": 0.023961,
     "end_time": "2023-07-15T21:34:50.701288",
     "exception": false,
     "start_time": "2023-07-15T21:34:50.677327",
     "status": "completed"
    },
    "tags": []
   },
   "outputs": [
    {
     "data": {
      "text/html": [
       "<div>\n",
       "<style scoped>\n",
       "    .dataframe tbody tr th:only-of-type {\n",
       "        vertical-align: middle;\n",
       "    }\n",
       "\n",
       "    .dataframe tbody tr th {\n",
       "        vertical-align: top;\n",
       "    }\n",
       "\n",
       "    .dataframe thead th {\n",
       "        text-align: right;\n",
       "    }\n",
       "</style>\n",
       "<table border=\"1\" class=\"dataframe\">\n",
       "  <thead>\n",
       "    <tr style=\"text-align: right;\">\n",
       "      <th></th>\n",
       "      <th>Id</th>\n",
       "      <th>class_0</th>\n",
       "      <th>class_1</th>\n",
       "    </tr>\n",
       "  </thead>\n",
       "  <tbody>\n",
       "    <tr>\n",
       "      <th>0</th>\n",
       "      <td>00eed32682bb</td>\n",
       "      <td>0.5</td>\n",
       "      <td>0.5</td>\n",
       "    </tr>\n",
       "    <tr>\n",
       "      <th>1</th>\n",
       "      <td>010ebe33f668</td>\n",
       "      <td>0.5</td>\n",
       "      <td>0.5</td>\n",
       "    </tr>\n",
       "    <tr>\n",
       "      <th>2</th>\n",
       "      <td>02fa521e1838</td>\n",
       "      <td>0.5</td>\n",
       "      <td>0.5</td>\n",
       "    </tr>\n",
       "    <tr>\n",
       "      <th>3</th>\n",
       "      <td>040e15f562a2</td>\n",
       "      <td>0.5</td>\n",
       "      <td>0.5</td>\n",
       "    </tr>\n",
       "    <tr>\n",
       "      <th>4</th>\n",
       "      <td>046e85c7cc7f</td>\n",
       "      <td>0.5</td>\n",
       "      <td>0.5</td>\n",
       "    </tr>\n",
       "  </tbody>\n",
       "</table>\n",
       "</div>"
      ],
      "text/plain": [
       "             Id  class_0  class_1\n",
       "0  00eed32682bb      0.5      0.5\n",
       "1  010ebe33f668      0.5      0.5\n",
       "2  02fa521e1838      0.5      0.5\n",
       "3  040e15f562a2      0.5      0.5\n",
       "4  046e85c7cc7f      0.5      0.5"
      ]
     },
     "execution_count": 33,
     "metadata": {},
     "output_type": "execute_result"
    }
   ],
   "source": [
    "sub"
   ]
  },
  {
   "cell_type": "code",
   "execution_count": 34,
   "id": "bbe21a2c",
   "metadata": {
    "execution": {
     "iopub.execute_input": "2023-07-15T21:34:50.722566Z",
     "iopub.status.busy": "2023-07-15T21:34:50.722227Z",
     "iopub.status.idle": "2023-07-15T21:34:50.727001Z",
     "shell.execute_reply": "2023-07-15T21:34:50.726037Z"
    },
    "papermill": {
     "duration": 0.018028,
     "end_time": "2023-07-15T21:34:50.729386",
     "exception": false,
     "start_time": "2023-07-15T21:34:50.711358",
     "status": "completed"
    },
    "tags": []
   },
   "outputs": [],
   "source": [
    "sub['class_0']=new_pred[0]"
   ]
  },
  {
   "cell_type": "code",
   "execution_count": 35,
   "id": "c8e5b5af",
   "metadata": {
    "execution": {
     "iopub.execute_input": "2023-07-15T21:34:50.752674Z",
     "iopub.status.busy": "2023-07-15T21:34:50.752284Z",
     "iopub.status.idle": "2023-07-15T21:34:50.757790Z",
     "shell.execute_reply": "2023-07-15T21:34:50.756822Z"
    },
    "papermill": {
     "duration": 0.019601,
     "end_time": "2023-07-15T21:34:50.759763",
     "exception": false,
     "start_time": "2023-07-15T21:34:50.740162",
     "status": "completed"
    },
    "tags": []
   },
   "outputs": [],
   "source": [
    "sub['class_1']=new_pred[1]"
   ]
  },
  {
   "cell_type": "code",
   "execution_count": 36,
   "id": "9d552c07",
   "metadata": {
    "execution": {
     "iopub.execute_input": "2023-07-15T21:34:50.783332Z",
     "iopub.status.busy": "2023-07-15T21:34:50.781872Z",
     "iopub.status.idle": "2023-07-15T21:34:50.793522Z",
     "shell.execute_reply": "2023-07-15T21:34:50.792158Z"
    },
    "papermill": {
     "duration": 0.025631,
     "end_time": "2023-07-15T21:34:50.795875",
     "exception": false,
     "start_time": "2023-07-15T21:34:50.770244",
     "status": "completed"
    },
    "tags": []
   },
   "outputs": [
    {
     "data": {
      "text/html": [
       "<div>\n",
       "<style scoped>\n",
       "    .dataframe tbody tr th:only-of-type {\n",
       "        vertical-align: middle;\n",
       "    }\n",
       "\n",
       "    .dataframe tbody tr th {\n",
       "        vertical-align: top;\n",
       "    }\n",
       "\n",
       "    .dataframe thead th {\n",
       "        text-align: right;\n",
       "    }\n",
       "</style>\n",
       "<table border=\"1\" class=\"dataframe\">\n",
       "  <thead>\n",
       "    <tr style=\"text-align: right;\">\n",
       "      <th></th>\n",
       "      <th>Id</th>\n",
       "      <th>class_0</th>\n",
       "      <th>class_1</th>\n",
       "    </tr>\n",
       "  </thead>\n",
       "  <tbody>\n",
       "    <tr>\n",
       "      <th>0</th>\n",
       "      <td>00eed32682bb</td>\n",
       "      <td>0.526222</td>\n",
       "      <td>0.473778</td>\n",
       "    </tr>\n",
       "    <tr>\n",
       "      <th>1</th>\n",
       "      <td>010ebe33f668</td>\n",
       "      <td>0.526222</td>\n",
       "      <td>0.473778</td>\n",
       "    </tr>\n",
       "    <tr>\n",
       "      <th>2</th>\n",
       "      <td>02fa521e1838</td>\n",
       "      <td>0.526222</td>\n",
       "      <td>0.473778</td>\n",
       "    </tr>\n",
       "    <tr>\n",
       "      <th>3</th>\n",
       "      <td>040e15f562a2</td>\n",
       "      <td>0.526222</td>\n",
       "      <td>0.473778</td>\n",
       "    </tr>\n",
       "    <tr>\n",
       "      <th>4</th>\n",
       "      <td>046e85c7cc7f</td>\n",
       "      <td>0.526222</td>\n",
       "      <td>0.473778</td>\n",
       "    </tr>\n",
       "  </tbody>\n",
       "</table>\n",
       "</div>"
      ],
      "text/plain": [
       "             Id   class_0   class_1\n",
       "0  00eed32682bb  0.526222  0.473778\n",
       "1  010ebe33f668  0.526222  0.473778\n",
       "2  02fa521e1838  0.526222  0.473778\n",
       "3  040e15f562a2  0.526222  0.473778\n",
       "4  046e85c7cc7f  0.526222  0.473778"
      ]
     },
     "execution_count": 36,
     "metadata": {},
     "output_type": "execute_result"
    }
   ],
   "source": [
    "sub"
   ]
  },
  {
   "cell_type": "code",
   "execution_count": 37,
   "id": "44e9a684",
   "metadata": {
    "execution": {
     "iopub.execute_input": "2023-07-15T21:34:50.817923Z",
     "iopub.status.busy": "2023-07-15T21:34:50.817582Z",
     "iopub.status.idle": "2023-07-15T21:34:50.825646Z",
     "shell.execute_reply": "2023-07-15T21:34:50.824536Z"
    },
    "papermill": {
     "duration": 0.021917,
     "end_time": "2023-07-15T21:34:50.828510",
     "exception": false,
     "start_time": "2023-07-15T21:34:50.806593",
     "status": "completed"
    },
    "tags": []
   },
   "outputs": [],
   "source": [
    "sub.to_csv(\"submission.csv\", index=False)"
   ]
  },
  {
   "cell_type": "code",
   "execution_count": null,
   "id": "a82476a4",
   "metadata": {
    "papermill": {
     "duration": 0.010259,
     "end_time": "2023-07-15T21:34:50.850004",
     "exception": false,
     "start_time": "2023-07-15T21:34:50.839745",
     "status": "completed"
    },
    "tags": []
   },
   "outputs": [],
   "source": []
  }
 ],
 "metadata": {
  "kernelspec": {
   "display_name": "Python 3",
   "language": "python",
   "name": "python3"
  },
  "language_info": {
   "codemirror_mode": {
    "name": "ipython",
    "version": 3
   },
   "file_extension": ".py",
   "mimetype": "text/x-python",
   "name": "python",
   "nbconvert_exporter": "python",
   "pygments_lexer": "ipython3",
   "version": "3.10.12"
  },
  "papermill": {
   "default_parameters": {},
   "duration": 39.93395,
   "end_time": "2023-07-15T21:34:51.883422",
   "environment_variables": {},
   "exception": null,
   "input_path": "__notebook__.ipynb",
   "output_path": "__notebook__.ipynb",
   "parameters": {},
   "start_time": "2023-07-15T21:34:11.949472",
   "version": "2.4.0"
  }
 },
 "nbformat": 4,
 "nbformat_minor": 5
}
