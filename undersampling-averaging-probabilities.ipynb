{
 "cells": [
  {
   "cell_type": "code",
   "execution_count": 1,
   "id": "f8e83404",
   "metadata": {
    "_cell_guid": "b1076dfc-b9ad-4769-8c92-a6c4dae69d19",
    "_uuid": "8f2839f25d086af736a60e9eeb907d3b93b6e0e5",
    "execution": {
     "iopub.execute_input": "2023-08-07T19:04:58.531094Z",
     "iopub.status.busy": "2023-08-07T19:04:58.530703Z",
     "iopub.status.idle": "2023-08-07T19:04:58.539935Z",
     "shell.execute_reply": "2023-08-07T19:04:58.539019Z"
    },
    "papermill": {
     "duration": 0.025662,
     "end_time": "2023-08-07T19:04:58.542214",
     "exception": false,
     "start_time": "2023-08-07T19:04:58.516552",
     "status": "completed"
    },
    "tags": []
   },
   "outputs": [],
   "source": [
    "import pandas as pd\n",
    "import numpy as np"
   ]
  },
  {
   "cell_type": "code",
   "execution_count": 2,
   "id": "219d9627",
   "metadata": {
    "execution": {
     "iopub.execute_input": "2023-08-07T19:04:58.568716Z",
     "iopub.status.busy": "2023-08-07T19:04:58.568339Z",
     "iopub.status.idle": "2023-08-07T19:04:58.615585Z",
     "shell.execute_reply": "2023-08-07T19:04:58.614448Z"
    },
    "papermill": {
     "duration": 0.063661,
     "end_time": "2023-08-07T19:04:58.618476",
     "exception": false,
     "start_time": "2023-08-07T19:04:58.554815",
     "status": "completed"
    },
    "tags": []
   },
   "outputs": [],
   "source": [
    "df=pd.read_csv(\"/kaggle/input/icr-identify-age-related-conditions/train.csv\")\n",
    "val=pd.read_csv(\"/kaggle/input/icr-identify-age-related-conditions/test.csv\")\n",
    "sub=pd.read_csv(\"/kaggle/input/icr-identify-age-related-conditions/sample_submission.csv\")"
   ]
  },
  {
   "cell_type": "code",
   "execution_count": 3,
   "id": "1bc21d77",
   "metadata": {
    "execution": {
     "iopub.execute_input": "2023-08-07T19:04:58.645300Z",
     "iopub.status.busy": "2023-08-07T19:04:58.644857Z",
     "iopub.status.idle": "2023-08-07T19:04:58.654266Z",
     "shell.execute_reply": "2023-08-07T19:04:58.653043Z"
    },
    "papermill": {
     "duration": 0.025745,
     "end_time": "2023-08-07T19:04:58.656639",
     "exception": false,
     "start_time": "2023-08-07T19:04:58.630894",
     "status": "completed"
    },
    "tags": []
   },
   "outputs": [],
   "source": [
    "zero, one =np.bincount(df['Class'])"
   ]
  },
  {
   "cell_type": "code",
   "execution_count": 4,
   "id": "4c5e6da2",
   "metadata": {
    "execution": {
     "iopub.execute_input": "2023-08-07T19:04:58.683372Z",
     "iopub.status.busy": "2023-08-07T19:04:58.682969Z",
     "iopub.status.idle": "2023-08-07T19:04:58.692966Z",
     "shell.execute_reply": "2023-08-07T19:04:58.692136Z"
    },
    "papermill": {
     "duration": 0.026143,
     "end_time": "2023-08-07T19:04:58.695227",
     "exception": false,
     "start_time": "2023-08-07T19:04:58.669084",
     "status": "completed"
    },
    "tags": []
   },
   "outputs": [],
   "source": [
    "zero_df=df.loc[df['Class']==0]\n",
    "one_df=df.loc[df['Class']==1]"
   ]
  },
  {
   "cell_type": "code",
   "execution_count": 5,
   "id": "573986bf",
   "metadata": {
    "execution": {
     "iopub.execute_input": "2023-08-07T19:04:58.722227Z",
     "iopub.status.busy": "2023-08-07T19:04:58.721803Z",
     "iopub.status.idle": "2023-08-07T19:04:58.731925Z",
     "shell.execute_reply": "2023-08-07T19:04:58.730697Z"
    },
    "papermill": {
     "duration": 0.026463,
     "end_time": "2023-08-07T19:04:58.734054",
     "exception": false,
     "start_time": "2023-08-07T19:04:58.707591",
     "status": "completed"
    },
    "tags": []
   },
   "outputs": [
    {
     "data": {
      "text/plain": [
       "(446, 58)"
      ]
     },
     "execution_count": 5,
     "metadata": {},
     "output_type": "execute_result"
    }
   ],
   "source": [
    "zero_df=zero_df.dropna()\n",
    "zero_df.shape"
   ]
  },
  {
   "cell_type": "code",
   "execution_count": 6,
   "id": "2621e4d0",
   "metadata": {
    "execution": {
     "iopub.execute_input": "2023-08-07T19:04:58.761500Z",
     "iopub.status.busy": "2023-08-07T19:04:58.760723Z",
     "iopub.status.idle": "2023-08-07T19:04:58.812777Z",
     "shell.execute_reply": "2023-08-07T19:04:58.811647Z"
    },
    "papermill": {
     "duration": 0.06829,
     "end_time": "2023-08-07T19:04:58.815271",
     "exception": false,
     "start_time": "2023-08-07T19:04:58.746981",
     "status": "completed"
    },
    "tags": []
   },
   "outputs": [
    {
     "name": "stderr",
     "output_type": "stream",
     "text": [
      "/tmp/ipykernel_20/3900790800.py:1: FutureWarning: The default value of numeric_only in DataFrame.median is deprecated. In a future version, it will default to False. In addition, specifying 'numeric_only=None' is deprecated. Select only valid columns or specify the value of numeric_only to silence this warning.\n",
      "  one_df=one_df.fillna(df.median())\n",
      "/tmp/ipykernel_20/3900790800.py:2: FutureWarning: The default value of numeric_only in DataFrame.median is deprecated. In a future version, it will default to False. In addition, specifying 'numeric_only=None' is deprecated. Select only valid columns or specify the value of numeric_only to silence this warning.\n",
      "  zero_df=zero_df.fillna(df.median())\n"
     ]
    }
   ],
   "source": [
    "one_df=one_df.fillna(df.median())\n",
    "zero_df=zero_df.fillna(df.median())"
   ]
  },
  {
   "cell_type": "code",
   "execution_count": 7,
   "id": "ec427d5b",
   "metadata": {
    "execution": {
     "iopub.execute_input": "2023-08-07T19:04:58.843146Z",
     "iopub.status.busy": "2023-08-07T19:04:58.842712Z",
     "iopub.status.idle": "2023-08-07T19:04:58.847572Z",
     "shell.execute_reply": "2023-08-07T19:04:58.846488Z"
    },
    "papermill": {
     "duration": 0.021773,
     "end_time": "2023-08-07T19:04:58.850024",
     "exception": false,
     "start_time": "2023-08-07T19:04:58.828251",
     "status": "completed"
    },
    "tags": []
   },
   "outputs": [],
   "source": [
    "#zero_df=zero_df.drop(zero_df.sample(106).index)#"
   ]
  },
  {
   "cell_type": "code",
   "execution_count": 8,
   "id": "2309c206",
   "metadata": {
    "execution": {
     "iopub.execute_input": "2023-08-07T19:04:58.878466Z",
     "iopub.status.busy": "2023-08-07T19:04:58.877679Z",
     "iopub.status.idle": "2023-08-07T19:04:58.884487Z",
     "shell.execute_reply": "2023-08-07T19:04:58.883474Z"
    },
    "papermill": {
     "duration": 0.023776,
     "end_time": "2023-08-07T19:04:58.886919",
     "exception": false,
     "start_time": "2023-08-07T19:04:58.863143",
     "status": "completed"
    },
    "tags": []
   },
   "outputs": [
    {
     "data": {
      "text/plain": [
       "(446, 58)"
      ]
     },
     "execution_count": 8,
     "metadata": {},
     "output_type": "execute_result"
    }
   ],
   "source": [
    "zero_df.shape"
   ]
  },
  {
   "cell_type": "code",
   "execution_count": 9,
   "id": "60beca6b",
   "metadata": {
    "execution": {
     "iopub.execute_input": "2023-08-07T19:04:58.917525Z",
     "iopub.status.busy": "2023-08-07T19:04:58.916716Z",
     "iopub.status.idle": "2023-08-07T19:04:58.926083Z",
     "shell.execute_reply": "2023-08-07T19:04:58.924897Z"
    },
    "papermill": {
     "duration": 0.027582,
     "end_time": "2023-08-07T19:04:58.928673",
     "exception": false,
     "start_time": "2023-08-07T19:04:58.901091",
     "status": "completed"
    },
    "tags": []
   },
   "outputs": [],
   "source": [
    "data=pd.concat([one_df,zero_df])"
   ]
  },
  {
   "cell_type": "code",
   "execution_count": 10,
   "id": "f693af5e",
   "metadata": {
    "execution": {
     "iopub.execute_input": "2023-08-07T19:04:58.957240Z",
     "iopub.status.busy": "2023-08-07T19:04:58.956821Z",
     "iopub.status.idle": "2023-08-07T19:04:58.964285Z",
     "shell.execute_reply": "2023-08-07T19:04:58.963384Z"
    },
    "papermill": {
     "duration": 0.025764,
     "end_time": "2023-08-07T19:04:58.967503",
     "exception": false,
     "start_time": "2023-08-07T19:04:58.941739",
     "status": "completed"
    },
    "tags": []
   },
   "outputs": [],
   "source": [
    "data=data.sample(frac=1,random_state=42)\n",
    "data = data.reset_index(drop=True)\n",
    "#data=df\n",
    "#data=data.fillna(data.median())"
   ]
  },
  {
   "cell_type": "code",
   "execution_count": 11,
   "id": "9bdc1ee5",
   "metadata": {
    "execution": {
     "iopub.execute_input": "2023-08-07T19:04:58.998619Z",
     "iopub.status.busy": "2023-08-07T19:04:58.997367Z",
     "iopub.status.idle": "2023-08-07T19:05:00.067273Z",
     "shell.execute_reply": "2023-08-07T19:05:00.066116Z"
    },
    "papermill": {
     "duration": 1.08884,
     "end_time": "2023-08-07T19:05:00.070230",
     "exception": false,
     "start_time": "2023-08-07T19:04:58.981390",
     "status": "completed"
    },
    "tags": []
   },
   "outputs": [
    {
     "name": "stderr",
     "output_type": "stream",
     "text": [
      "/opt/conda/lib/python3.10/site-packages/scipy/__init__.py:146: UserWarning: A NumPy version >=1.16.5 and <1.23.0 is required for this version of SciPy (detected version 1.23.5\n",
      "  warnings.warn(f\"A NumPy version >={np_minversion} and <{np_maxversion}\"\n"
     ]
    }
   ],
   "source": [
    "from sklearn.preprocessing import LabelEncoder\n",
    "\n",
    "data['EJ'] = LabelEncoder().fit_transform(data['EJ'])\n",
    "data=data.drop(['Id'], axis=1)"
   ]
  },
  {
   "cell_type": "code",
   "execution_count": 12,
   "id": "dd658210",
   "metadata": {
    "execution": {
     "iopub.execute_input": "2023-08-07T19:05:00.097477Z",
     "iopub.status.busy": "2023-08-07T19:05:00.097084Z",
     "iopub.status.idle": "2023-08-07T19:05:00.104939Z",
     "shell.execute_reply": "2023-08-07T19:05:00.103827Z"
    },
    "papermill": {
     "duration": 0.024572,
     "end_time": "2023-08-07T19:05:00.107556",
     "exception": false,
     "start_time": "2023-08-07T19:05:00.082984",
     "status": "completed"
    },
    "tags": []
   },
   "outputs": [],
   "source": [
    "val['EJ'] = LabelEncoder().fit_transform(val['EJ'])\n",
    "val=val.drop(['Id'], axis=1)"
   ]
  },
  {
   "cell_type": "code",
   "execution_count": 13,
   "id": "071c69ae",
   "metadata": {
    "execution": {
     "iopub.execute_input": "2023-08-07T19:05:00.135400Z",
     "iopub.status.busy": "2023-08-07T19:05:00.134653Z",
     "iopub.status.idle": "2023-08-07T19:05:00.140149Z",
     "shell.execute_reply": "2023-08-07T19:05:00.139268Z"
    },
    "papermill": {
     "duration": 0.02165,
     "end_time": "2023-08-07T19:05:00.142379",
     "exception": false,
     "start_time": "2023-08-07T19:05:00.120729",
     "status": "completed"
    },
    "tags": []
   },
   "outputs": [],
   "source": [
    "X=data.drop([\"Class\"], axis=1)\n",
    "y=data[\"Class\"]"
   ]
  },
  {
   "cell_type": "code",
   "execution_count": 14,
   "id": "8cc114ff",
   "metadata": {
    "execution": {
     "iopub.execute_input": "2023-08-07T19:05:00.169607Z",
     "iopub.status.busy": "2023-08-07T19:05:00.168864Z",
     "iopub.status.idle": "2023-08-07T19:05:00.175533Z",
     "shell.execute_reply": "2023-08-07T19:05:00.174739Z"
    },
    "papermill": {
     "duration": 0.02272,
     "end_time": "2023-08-07T19:05:00.177665",
     "exception": false,
     "start_time": "2023-08-07T19:05:00.154945",
     "status": "completed"
    },
    "tags": []
   },
   "outputs": [],
   "source": [
    "def d_competition_log_loss(y_true, y_pred):\n",
    "    # y_true: correct labels 0, 1\n",
    "    # y_pred: predicted probabilities of class=1\n",
    "    #y_pred = y_pred.T[1]\n",
    "    extracted_labels = y_pred.get_label()\n",
    "\n",
    "    y_pred = extracted_labels.flatten()\n",
    "    N_0 = np.sum(1 - y_true)\n",
    "    N_1 = np.sum(y_true)\n",
    "    w_0 = (N_0 + N_1) / N_0\n",
    "    w_1 = (N_0 + N_1) / N_1\n",
    "    # Calculate the predicted probabilities for each class\n",
    "    p_1 = np.clip(y_pred, 1e-5, 1 - 1e-5)\n",
    "    p_0 = 1 - p_1\n",
    "    # Calculate the average log loss for each class\n",
    "    sum_0 = -np.sum((1 - y_true) * np.log(p_0))\n",
    "    sum_1 = -np.sum(y_true * np.log(p_1))\n",
    "    to_output = ((w_0 / N_0) * sum_0 + (w_1 / N_1) * sum_1) / (w_0 + w_1)\n",
    "\n",
    "    return to_output"
   ]
  },
  {
   "cell_type": "code",
   "execution_count": 15,
   "id": "5ffc88ce",
   "metadata": {
    "execution": {
     "iopub.execute_input": "2023-08-07T19:05:00.205582Z",
     "iopub.status.busy": "2023-08-07T19:05:00.204866Z",
     "iopub.status.idle": "2023-08-07T19:05:00.211522Z",
     "shell.execute_reply": "2023-08-07T19:05:00.210372Z"
    },
    "papermill": {
     "duration": 0.023844,
     "end_time": "2023-08-07T19:05:00.214143",
     "exception": false,
     "start_time": "2023-08-07T19:05:00.190299",
     "status": "completed"
    },
    "tags": []
   },
   "outputs": [],
   "source": [
    "def competition_log_loss(y_true, y_pred):\n",
    "    N_0 = np.sum(1 - y_true)\n",
    "    N_1 = np.sum(y_true)\n",
    "    # calculate the weights for each class to balance classes\n",
    "    w_0 = 1 / N_0\n",
    "    w_1 = 1 / N_1\n",
    "    # calculate the predicted probabilities for each class\n",
    "    p_1 = np.clip(y_pred, 1e-15, 1 - 1e-15)\n",
    "    p_0 = 1 - p_1\n",
    "    # calculate the summed log loss for each class\n",
    "    log_loss_0 = -np.sum((1 - y_true) * np.log(p_0))\n",
    "    log_loss_1 = -np.sum(y_true * np.log(p_1))\n",
    "    # calculate the weighted summed logarithmic loss\n",
    "    balanced_log_loss = (w_0 * log_loss_0 + w_1 * log_loss_1) / 2\n",
    "    # return the average log loss\n",
    "    return balanced_log_loss"
   ]
  },
  {
   "cell_type": "code",
   "execution_count": 16,
   "id": "0389330f",
   "metadata": {
    "execution": {
     "iopub.execute_input": "2023-08-07T19:05:00.242100Z",
     "iopub.status.busy": "2023-08-07T19:05:00.241643Z",
     "iopub.status.idle": "2023-08-07T19:05:01.561584Z",
     "shell.execute_reply": "2023-08-07T19:05:01.560249Z"
    },
    "papermill": {
     "duration": 1.337438,
     "end_time": "2023-08-07T19:05:01.564256",
     "exception": false,
     "start_time": "2023-08-07T19:05:00.226818",
     "status": "completed"
    },
    "tags": []
   },
   "outputs": [],
   "source": [
    "import xgboost as xgb\n",
    "import lightgbm as lgbm"
   ]
  },
  {
   "cell_type": "code",
   "execution_count": 17,
   "id": "76b597b2",
   "metadata": {
    "execution": {
     "iopub.execute_input": "2023-08-07T19:05:01.592866Z",
     "iopub.status.busy": "2023-08-07T19:05:01.592481Z",
     "iopub.status.idle": "2023-08-07T19:05:01.601795Z",
     "shell.execute_reply": "2023-08-07T19:05:01.600587Z"
    },
    "papermill": {
     "duration": 0.025901,
     "end_time": "2023-08-07T19:05:01.604183",
     "exception": false,
     "start_time": "2023-08-07T19:05:01.578282",
     "status": "completed"
    },
    "tags": []
   },
   "outputs": [],
   "source": [
    "from sklearn.model_selection import train_test_split\n",
    "\n",
    "x_train, x_test, y_train, y_test = train_test_split(X,y,test_size=0.15, random_state=1021)"
   ]
  },
  {
   "cell_type": "code",
   "execution_count": 18,
   "id": "1106c7e9",
   "metadata": {
    "execution": {
     "iopub.execute_input": "2023-08-07T19:05:01.631433Z",
     "iopub.status.busy": "2023-08-07T19:05:01.631040Z",
     "iopub.status.idle": "2023-08-07T19:05:01.656347Z",
     "shell.execute_reply": "2023-08-07T19:05:01.655428Z"
    },
    "papermill": {
     "duration": 0.041827,
     "end_time": "2023-08-07T19:05:01.658811",
     "exception": false,
     "start_time": "2023-08-07T19:05:01.616984",
     "status": "completed"
    },
    "tags": []
   },
   "outputs": [],
   "source": [
    "dtrain = xgb.DMatrix(x_train, label=y_train)\n",
    "dtest = xgb.DMatrix(x_test, label=y_test)\n",
    "dmat=xgb.DMatrix(X,label=y)"
   ]
  },
  {
   "cell_type": "code",
   "execution_count": 19,
   "id": "80845b2d",
   "metadata": {
    "execution": {
     "iopub.execute_input": "2023-08-07T19:05:01.687863Z",
     "iopub.status.busy": "2023-08-07T19:05:01.686652Z",
     "iopub.status.idle": "2023-08-07T19:05:01.691969Z",
     "shell.execute_reply": "2023-08-07T19:05:01.691145Z"
    },
    "papermill": {
     "duration": 0.021957,
     "end_time": "2023-08-07T19:05:01.694093",
     "exception": false,
     "start_time": "2023-08-07T19:05:01.672136",
     "status": "completed"
    },
    "tags": []
   },
   "outputs": [],
   "source": [
    "params_1={'objective':'binary:logistic','n_estimators': 350, 'max_depth': 4, 'learning_rate': 0.0906233089433723, 'subsample': 0.6030705840768126, 'colsample_bytree': 0.5195287910467131, 'gamma': 0.0684625394566348,'disable_default_eval_metric':True}"
   ]
  },
  {
   "cell_type": "code",
   "execution_count": 20,
   "id": "6c535584",
   "metadata": {
    "execution": {
     "iopub.execute_input": "2023-08-07T19:05:01.721891Z",
     "iopub.status.busy": "2023-08-07T19:05:01.720684Z",
     "iopub.status.idle": "2023-08-07T19:05:01.725845Z",
     "shell.execute_reply": "2023-08-07T19:05:01.724714Z"
    },
    "papermill": {
     "duration": 0.021573,
     "end_time": "2023-08-07T19:05:01.728338",
     "exception": false,
     "start_time": "2023-08-07T19:05:01.706765",
     "status": "completed"
    },
    "tags": []
   },
   "outputs": [],
   "source": [
    "#ec1_eval_set = [(x_train, y_train), (x_test, y_test)]\n"
   ]
  },
  {
   "cell_type": "code",
   "execution_count": 21,
   "id": "5efa3ae0",
   "metadata": {
    "execution": {
     "iopub.execute_input": "2023-08-07T19:05:01.758168Z",
     "iopub.status.busy": "2023-08-07T19:05:01.757736Z",
     "iopub.status.idle": "2023-08-07T19:05:01.762178Z",
     "shell.execute_reply": "2023-08-07T19:05:01.761032Z"
    },
    "papermill": {
     "duration": 0.022544,
     "end_time": "2023-08-07T19:05:01.764478",
     "exception": false,
     "start_time": "2023-08-07T19:05:01.741934",
     "status": "completed"
    },
    "tags": []
   },
   "outputs": [],
   "source": [
    "#model_1=xgb.XGBClassifier(**params_1)"
   ]
  },
  {
   "cell_type": "code",
   "execution_count": 22,
   "id": "4403a85a",
   "metadata": {
    "execution": {
     "iopub.execute_input": "2023-08-07T19:05:01.793530Z",
     "iopub.status.busy": "2023-08-07T19:05:01.792812Z",
     "iopub.status.idle": "2023-08-07T19:05:01.797494Z",
     "shell.execute_reply": "2023-08-07T19:05:01.796353Z"
    },
    "papermill": {
     "duration": 0.022667,
     "end_time": "2023-08-07T19:05:01.800041",
     "exception": false,
     "start_time": "2023-08-07T19:05:01.777374",
     "status": "completed"
    },
    "scrolled": true,
    "tags": []
   },
   "outputs": [],
   "source": [
    "#model_1.fit(x_train, y_train, early_stopping_rounds = 10,eval_metric=['error','logloss'],          eval_set = ec1_eval_set, verbose = True)"
   ]
  },
  {
   "cell_type": "code",
   "execution_count": 23,
   "id": "7ce3444c",
   "metadata": {
    "execution": {
     "iopub.execute_input": "2023-08-07T19:05:01.827514Z",
     "iopub.status.busy": "2023-08-07T19:05:01.827104Z",
     "iopub.status.idle": "2023-08-07T19:05:02.193249Z",
     "shell.execute_reply": "2023-08-07T19:05:02.192339Z"
    },
    "papermill": {
     "duration": 0.382784,
     "end_time": "2023-08-07T19:05:02.195709",
     "exception": false,
     "start_time": "2023-08-07T19:05:01.812925",
     "status": "completed"
    },
    "tags": []
   },
   "outputs": [
    {
     "name": "stdout",
     "output_type": "stream",
     "text": [
      "[19:05:01] WARNING: ../src/learner.cc:767: \n",
      "Parameters: { \"n_estimators\" } are not used.\n",
      "\n"
     ]
    }
   ],
   "source": [
    "model_1 = xgb.train(params_1, dmat,350,custom_metric=competition_log_loss)"
   ]
  },
  {
   "cell_type": "code",
   "execution_count": 24,
   "id": "c9fb2841",
   "metadata": {
    "execution": {
     "iopub.execute_input": "2023-08-07T19:05:02.223148Z",
     "iopub.status.busy": "2023-08-07T19:05:02.222130Z",
     "iopub.status.idle": "2023-08-07T19:05:02.233009Z",
     "shell.execute_reply": "2023-08-07T19:05:02.232141Z"
    },
    "papermill": {
     "duration": 0.027106,
     "end_time": "2023-08-07T19:05:02.235413",
     "exception": false,
     "start_time": "2023-08-07T19:05:02.208307",
     "status": "completed"
    },
    "tags": []
   },
   "outputs": [],
   "source": [
    "y_pred1 = model_1.predict(dtest)"
   ]
  },
  {
   "cell_type": "code",
   "execution_count": 25,
   "id": "df4c4c21",
   "metadata": {
    "execution": {
     "iopub.execute_input": "2023-08-07T19:05:02.263741Z",
     "iopub.status.busy": "2023-08-07T19:05:02.262595Z",
     "iopub.status.idle": "2023-08-07T19:05:02.270752Z",
     "shell.execute_reply": "2023-08-07T19:05:02.269566Z"
    },
    "papermill": {
     "duration": 0.024742,
     "end_time": "2023-08-07T19:05:02.273135",
     "exception": false,
     "start_time": "2023-08-07T19:05:02.248393",
     "status": "completed"
    },
    "tags": []
   },
   "outputs": [
    {
     "data": {
      "text/plain": [
       "array([9.88192856e-01, 4.92153980e-04, 3.12964723e-04, 3.64664174e-03,\n",
       "       4.95837582e-03, 9.80559364e-03, 1.45348182e-04, 1.71396509e-03,\n",
       "       1.48030054e-02, 3.14468294e-02, 5.78935957e-03, 1.13319504e-04,\n",
       "       1.70563173e-04, 3.59258178e-04, 3.64355539e-04, 1.62776969e-02,\n",
       "       1.87279843e-02, 1.97220929e-02, 3.33720213e-03, 2.50624144e-03,\n",
       "       1.73107057e-03, 4.07836633e-04, 5.47934975e-03, 1.98043860e-03,\n",
       "       9.89935219e-01, 9.75467861e-01, 9.78335202e-01, 5.43985632e-04,\n",
       "       3.35782692e-02, 5.50287776e-02, 1.91795416e-02, 5.66376885e-03,\n",
       "       2.15736814e-04, 2.49240771e-02, 3.24604986e-03, 5.52793546e-03,\n",
       "       1.33574670e-02, 1.73661334e-04, 4.58716489e-02, 9.63785529e-01,\n",
       "       3.71387191e-02, 6.95432886e-04, 9.99022603e-01, 9.88896645e-05,\n",
       "       9.24486842e-04, 7.69600214e-04, 7.20753521e-03, 1.43031869e-03,\n",
       "       1.77060987e-03, 4.06291219e-05, 1.29959325e-03, 4.14195191e-03,\n",
       "       8.44444148e-03, 2.65568146e-03, 9.99465883e-01, 1.38300087e-03,\n",
       "       9.98436630e-01, 9.70924735e-01, 1.70672475e-03, 7.51852873e-04,\n",
       "       4.05946840e-03, 1.66807603e-03, 2.31656595e-04, 1.50585761e-02,\n",
       "       2.42742314e-03, 9.78559017e-01, 5.19343140e-03, 3.33288452e-03,\n",
       "       1.63444057e-02, 1.25096459e-03, 9.31571841e-01, 4.90902050e-04,\n",
       "       3.66624212e-03, 1.62687851e-04, 9.77586150e-01, 3.40901036e-03,\n",
       "       8.61070212e-03, 1.51000175e-04, 4.27978055e-04, 1.12823641e-03,\n",
       "       2.83884176e-04, 2.71317782e-04, 5.10464655e-04, 1.49304268e-03],\n",
       "      dtype=float32)"
      ]
     },
     "execution_count": 25,
     "metadata": {},
     "output_type": "execute_result"
    }
   ],
   "source": [
    "y_pred1"
   ]
  },
  {
   "cell_type": "code",
   "execution_count": 26,
   "id": "d7ef0130",
   "metadata": {
    "execution": {
     "iopub.execute_input": "2023-08-07T19:05:02.301148Z",
     "iopub.status.busy": "2023-08-07T19:05:02.300216Z",
     "iopub.status.idle": "2023-08-07T19:05:02.305598Z",
     "shell.execute_reply": "2023-08-07T19:05:02.304757Z"
    },
    "papermill": {
     "duration": 0.021663,
     "end_time": "2023-08-07T19:05:02.307732",
     "exception": false,
     "start_time": "2023-08-07T19:05:02.286069",
     "status": "completed"
    },
    "tags": []
   },
   "outputs": [],
   "source": [
    "params_2={'objective':'binary:logistic','n_estimators': 450, 'max_depth': 6, 'learning_rate': 0.039932167981249315, 'subsample': 0.555650642024057, 'colsample_bytree': 0.5154209971115191, 'gamma': 0.14496323622911708}"
   ]
  },
  {
   "cell_type": "code",
   "execution_count": 27,
   "id": "3b49adca",
   "metadata": {
    "execution": {
     "iopub.execute_input": "2023-08-07T19:05:02.337383Z",
     "iopub.status.busy": "2023-08-07T19:05:02.336732Z",
     "iopub.status.idle": "2023-08-07T19:05:02.867041Z",
     "shell.execute_reply": "2023-08-07T19:05:02.865807Z"
    },
    "papermill": {
     "duration": 0.547424,
     "end_time": "2023-08-07T19:05:02.869566",
     "exception": false,
     "start_time": "2023-08-07T19:05:02.322142",
     "status": "completed"
    },
    "tags": []
   },
   "outputs": [
    {
     "name": "stdout",
     "output_type": "stream",
     "text": [
      "[19:05:02] WARNING: ../src/learner.cc:767: \n",
      "Parameters: { \"n_estimators\" } are not used.\n",
      "\n"
     ]
    }
   ],
   "source": [
    "model_2 = xgb.train(params_2, dmat,450,custom_metric=competition_log_loss)"
   ]
  },
  {
   "cell_type": "code",
   "execution_count": 28,
   "id": "8af83d5d",
   "metadata": {
    "execution": {
     "iopub.execute_input": "2023-08-07T19:05:02.898180Z",
     "iopub.status.busy": "2023-08-07T19:05:02.897767Z",
     "iopub.status.idle": "2023-08-07T19:05:02.906222Z",
     "shell.execute_reply": "2023-08-07T19:05:02.905331Z"
    },
    "papermill": {
     "duration": 0.025582,
     "end_time": "2023-08-07T19:05:02.908922",
     "exception": false,
     "start_time": "2023-08-07T19:05:02.883340",
     "status": "completed"
    },
    "tags": []
   },
   "outputs": [],
   "source": [
    "y_pred2=model_2.predict(dtest)"
   ]
  },
  {
   "cell_type": "code",
   "execution_count": 29,
   "id": "b6309a37",
   "metadata": {
    "execution": {
     "iopub.execute_input": "2023-08-07T19:05:02.936477Z",
     "iopub.status.busy": "2023-08-07T19:05:02.936102Z",
     "iopub.status.idle": "2023-08-07T19:05:02.941770Z",
     "shell.execute_reply": "2023-08-07T19:05:02.940743Z"
    },
    "papermill": {
     "duration": 0.02202,
     "end_time": "2023-08-07T19:05:02.944056",
     "exception": false,
     "start_time": "2023-08-07T19:05:02.922036",
     "status": "completed"
    },
    "tags": []
   },
   "outputs": [],
   "source": [
    "params_3 = {\n",
    "    \"objective\": \"binary\",\n",
    "    \"n_estimators\": 1000,\n",
    "    \"learning_rate\": 1.870736190736596,\n",
    "    \"num_leaves\": 860,\n",
    "    \"max_depth\": 6,\n",
    "    \"lambda_l1\": 0,\n",
    "    \"lambda_l2\": 15,\n",
    "    \"bagging_fraction\": 0.8,\n",
    "    \"bagging_freq\": 1,\n",
    "}"
   ]
  },
  {
   "cell_type": "code",
   "execution_count": 30,
   "id": "0e9bde98",
   "metadata": {
    "execution": {
     "iopub.execute_input": "2023-08-07T19:05:02.971819Z",
     "iopub.status.busy": "2023-08-07T19:05:02.971428Z",
     "iopub.status.idle": "2023-08-07T19:05:02.975875Z",
     "shell.execute_reply": "2023-08-07T19:05:02.975064Z"
    },
    "papermill": {
     "duration": 0.020893,
     "end_time": "2023-08-07T19:05:02.978063",
     "exception": false,
     "start_time": "2023-08-07T19:05:02.957170",
     "status": "completed"
    },
    "tags": []
   },
   "outputs": [],
   "source": [
    "lgbm_1=lgbm.LGBMClassifier(**params_3)\n",
    "lgbm_1.n_estimators=1000\n"
   ]
  },
  {
   "cell_type": "code",
   "execution_count": 31,
   "id": "73742216",
   "metadata": {
    "execution": {
     "iopub.execute_input": "2023-08-07T19:05:03.006272Z",
     "iopub.status.busy": "2023-08-07T19:05:03.005307Z",
     "iopub.status.idle": "2023-08-07T19:05:06.001231Z",
     "shell.execute_reply": "2023-08-07T19:05:06.000405Z"
    },
    "papermill": {
     "duration": 3.012887,
     "end_time": "2023-08-07T19:05:06.003890",
     "exception": false,
     "start_time": "2023-08-07T19:05:02.991003",
     "status": "completed"
    },
    "tags": []
   },
   "outputs": [
    {
     "name": "stdout",
     "output_type": "stream",
     "text": [
      "[LightGBM] [Warning] lambda_l1 is set=0, reg_alpha=0.0 will be ignored. Current value: lambda_l1=0\n",
      "[LightGBM] [Warning] bagging_freq is set=1, subsample_freq=0 will be ignored. Current value: bagging_freq=1\n",
      "[LightGBM] [Warning] lambda_l2 is set=15, reg_lambda=0.0 will be ignored. Current value: lambda_l2=15\n",
      "[LightGBM] [Warning] bagging_fraction is set=0.8, subsample=1.0 will be ignored. Current value: bagging_fraction=0.8\n"
     ]
    },
    {
     "data": {
      "text/html": [
       "<style>#sk-container-id-1 {color: black;background-color: white;}#sk-container-id-1 pre{padding: 0;}#sk-container-id-1 div.sk-toggleable {background-color: white;}#sk-container-id-1 label.sk-toggleable__label {cursor: pointer;display: block;width: 100%;margin-bottom: 0;padding: 0.3em;box-sizing: border-box;text-align: center;}#sk-container-id-1 label.sk-toggleable__label-arrow:before {content: \"▸\";float: left;margin-right: 0.25em;color: #696969;}#sk-container-id-1 label.sk-toggleable__label-arrow:hover:before {color: black;}#sk-container-id-1 div.sk-estimator:hover label.sk-toggleable__label-arrow:before {color: black;}#sk-container-id-1 div.sk-toggleable__content {max-height: 0;max-width: 0;overflow: hidden;text-align: left;background-color: #f0f8ff;}#sk-container-id-1 div.sk-toggleable__content pre {margin: 0.2em;color: black;border-radius: 0.25em;background-color: #f0f8ff;}#sk-container-id-1 input.sk-toggleable__control:checked~div.sk-toggleable__content {max-height: 200px;max-width: 100%;overflow: auto;}#sk-container-id-1 input.sk-toggleable__control:checked~label.sk-toggleable__label-arrow:before {content: \"▾\";}#sk-container-id-1 div.sk-estimator input.sk-toggleable__control:checked~label.sk-toggleable__label {background-color: #d4ebff;}#sk-container-id-1 div.sk-label input.sk-toggleable__control:checked~label.sk-toggleable__label {background-color: #d4ebff;}#sk-container-id-1 input.sk-hidden--visually {border: 0;clip: rect(1px 1px 1px 1px);clip: rect(1px, 1px, 1px, 1px);height: 1px;margin: -1px;overflow: hidden;padding: 0;position: absolute;width: 1px;}#sk-container-id-1 div.sk-estimator {font-family: monospace;background-color: #f0f8ff;border: 1px dotted black;border-radius: 0.25em;box-sizing: border-box;margin-bottom: 0.5em;}#sk-container-id-1 div.sk-estimator:hover {background-color: #d4ebff;}#sk-container-id-1 div.sk-parallel-item::after {content: \"\";width: 100%;border-bottom: 1px solid gray;flex-grow: 1;}#sk-container-id-1 div.sk-label:hover label.sk-toggleable__label {background-color: #d4ebff;}#sk-container-id-1 div.sk-serial::before {content: \"\";position: absolute;border-left: 1px solid gray;box-sizing: border-box;top: 0;bottom: 0;left: 50%;z-index: 0;}#sk-container-id-1 div.sk-serial {display: flex;flex-direction: column;align-items: center;background-color: white;padding-right: 0.2em;padding-left: 0.2em;position: relative;}#sk-container-id-1 div.sk-item {position: relative;z-index: 1;}#sk-container-id-1 div.sk-parallel {display: flex;align-items: stretch;justify-content: center;background-color: white;position: relative;}#sk-container-id-1 div.sk-item::before, #sk-container-id-1 div.sk-parallel-item::before {content: \"\";position: absolute;border-left: 1px solid gray;box-sizing: border-box;top: 0;bottom: 0;left: 50%;z-index: -1;}#sk-container-id-1 div.sk-parallel-item {display: flex;flex-direction: column;z-index: 1;position: relative;background-color: white;}#sk-container-id-1 div.sk-parallel-item:first-child::after {align-self: flex-end;width: 50%;}#sk-container-id-1 div.sk-parallel-item:last-child::after {align-self: flex-start;width: 50%;}#sk-container-id-1 div.sk-parallel-item:only-child::after {width: 0;}#sk-container-id-1 div.sk-dashed-wrapped {border: 1px dashed gray;margin: 0 0.4em 0.5em 0.4em;box-sizing: border-box;padding-bottom: 0.4em;background-color: white;}#sk-container-id-1 div.sk-label label {font-family: monospace;font-weight: bold;display: inline-block;line-height: 1.2em;}#sk-container-id-1 div.sk-label-container {text-align: center;}#sk-container-id-1 div.sk-container {/* jupyter's `normalize.less` sets `[hidden] { display: none; }` but bootstrap.min.css set `[hidden] { display: none !important; }` so we also need the `!important` here to be able to override the default hidden behavior on the sphinx rendered scikit-learn.org. See: https://github.com/scikit-learn/scikit-learn/issues/21755 */display: inline-block !important;position: relative;}#sk-container-id-1 div.sk-text-repr-fallback {display: none;}</style><div id=\"sk-container-id-1\" class=\"sk-top-container\"><div class=\"sk-text-repr-fallback\"><pre>LGBMClassifier(bagging_fraction=0.8, bagging_freq=1, lambda_l1=0, lambda_l2=15,\n",
       "               learning_rate=1.870736190736596, max_depth=6, n_estimators=1000,\n",
       "               num_leaves=860, objective=&#x27;binary&#x27;)</pre><b>In a Jupyter environment, please rerun this cell to show the HTML representation or trust the notebook. <br />On GitHub, the HTML representation is unable to render, please try loading this page with nbviewer.org.</b></div><div class=\"sk-container\" hidden><div class=\"sk-item\"><div class=\"sk-estimator sk-toggleable\"><input class=\"sk-toggleable__control sk-hidden--visually\" id=\"sk-estimator-id-1\" type=\"checkbox\" checked><label for=\"sk-estimator-id-1\" class=\"sk-toggleable__label sk-toggleable__label-arrow\">LGBMClassifier</label><div class=\"sk-toggleable__content\"><pre>LGBMClassifier(bagging_fraction=0.8, bagging_freq=1, lambda_l1=0, lambda_l2=15,\n",
       "               learning_rate=1.870736190736596, max_depth=6, n_estimators=1000,\n",
       "               num_leaves=860, objective=&#x27;binary&#x27;)</pre></div></div></div></div></div>"
      ],
      "text/plain": [
       "LGBMClassifier(bagging_fraction=0.8, bagging_freq=1, lambda_l1=0, lambda_l2=15,\n",
       "               learning_rate=1.870736190736596, max_depth=6, n_estimators=1000,\n",
       "               num_leaves=860, objective='binary')"
      ]
     },
     "execution_count": 31,
     "metadata": {},
     "output_type": "execute_result"
    }
   ],
   "source": [
    "lgbm_1.fit(X,y,eval_metric=competition_log_loss)"
   ]
  },
  {
   "cell_type": "code",
   "execution_count": 32,
   "id": "78fc33dc",
   "metadata": {
    "execution": {
     "iopub.execute_input": "2023-08-07T19:05:06.036560Z",
     "iopub.status.busy": "2023-08-07T19:05:06.036184Z",
     "iopub.status.idle": "2023-08-07T19:05:06.047112Z",
     "shell.execute_reply": "2023-08-07T19:05:06.046045Z"
    },
    "papermill": {
     "duration": 0.029563,
     "end_time": "2023-08-07T19:05:06.050453",
     "exception": false,
     "start_time": "2023-08-07T19:05:06.020890",
     "status": "completed"
    },
    "tags": []
   },
   "outputs": [],
   "source": [
    "y_pred3=lgbm_1.predict_proba(x_test)[:,1]"
   ]
  },
  {
   "cell_type": "code",
   "execution_count": 33,
   "id": "2440e2aa",
   "metadata": {
    "execution": {
     "iopub.execute_input": "2023-08-07T19:05:06.082712Z",
     "iopub.status.busy": "2023-08-07T19:05:06.082190Z",
     "iopub.status.idle": "2023-08-07T19:05:06.088318Z",
     "shell.execute_reply": "2023-08-07T19:05:06.087222Z"
    },
    "papermill": {
     "duration": 0.023457,
     "end_time": "2023-08-07T19:05:06.090791",
     "exception": false,
     "start_time": "2023-08-07T19:05:06.067334",
     "status": "completed"
    },
    "tags": []
   },
   "outputs": [],
   "source": [
    "params_4={\n",
    "    \"objective\": \"binary\",\n",
    "    \"n_estimators\": 6900,\n",
    "    \"learning_rate\": 1.3992536071417663,\n",
    "    \"num_leaves\": 200,\n",
    "    \"max_depth\": 12,\n",
    "    \"lambda_l1\": 0,\n",
    "    \"lambda_l2\": 15,\n",
    "    \"bagging_fraction\": 0.5,\n",
    "    \"bagging_freq\": 1,\n",
    "}"
   ]
  },
  {
   "cell_type": "code",
   "execution_count": 34,
   "id": "ef3441d2",
   "metadata": {
    "execution": {
     "iopub.execute_input": "2023-08-07T19:05:06.121186Z",
     "iopub.status.busy": "2023-08-07T19:05:06.120277Z",
     "iopub.status.idle": "2023-08-07T19:05:06.125619Z",
     "shell.execute_reply": "2023-08-07T19:05:06.124611Z"
    },
    "papermill": {
     "duration": 0.022743,
     "end_time": "2023-08-07T19:05:06.127860",
     "exception": false,
     "start_time": "2023-08-07T19:05:06.105117",
     "status": "completed"
    },
    "tags": []
   },
   "outputs": [],
   "source": [
    "lgbm_2=lgbm.LGBMClassifier(**params_4)\n",
    "lgbm_2.n_estimators=6900"
   ]
  },
  {
   "cell_type": "code",
   "execution_count": 35,
   "id": "736f5dba",
   "metadata": {
    "execution": {
     "iopub.execute_input": "2023-08-07T19:05:06.157658Z",
     "iopub.status.busy": "2023-08-07T19:05:06.156719Z",
     "iopub.status.idle": "2023-08-07T19:05:18.825715Z",
     "shell.execute_reply": "2023-08-07T19:05:18.824534Z"
    },
    "papermill": {
     "duration": 12.686669,
     "end_time": "2023-08-07T19:05:18.828101",
     "exception": false,
     "start_time": "2023-08-07T19:05:06.141432",
     "status": "completed"
    },
    "tags": []
   },
   "outputs": [
    {
     "name": "stdout",
     "output_type": "stream",
     "text": [
      "[LightGBM] [Warning] lambda_l1 is set=0, reg_alpha=0.0 will be ignored. Current value: lambda_l1=0\n",
      "[LightGBM] [Warning] bagging_freq is set=1, subsample_freq=0 will be ignored. Current value: bagging_freq=1\n",
      "[LightGBM] [Warning] lambda_l2 is set=15, reg_lambda=0.0 will be ignored. Current value: lambda_l2=15\n",
      "[LightGBM] [Warning] bagging_fraction is set=0.5, subsample=1.0 will be ignored. Current value: bagging_fraction=0.5\n"
     ]
    },
    {
     "data": {
      "text/html": [
       "<style>#sk-container-id-2 {color: black;background-color: white;}#sk-container-id-2 pre{padding: 0;}#sk-container-id-2 div.sk-toggleable {background-color: white;}#sk-container-id-2 label.sk-toggleable__label {cursor: pointer;display: block;width: 100%;margin-bottom: 0;padding: 0.3em;box-sizing: border-box;text-align: center;}#sk-container-id-2 label.sk-toggleable__label-arrow:before {content: \"▸\";float: left;margin-right: 0.25em;color: #696969;}#sk-container-id-2 label.sk-toggleable__label-arrow:hover:before {color: black;}#sk-container-id-2 div.sk-estimator:hover label.sk-toggleable__label-arrow:before {color: black;}#sk-container-id-2 div.sk-toggleable__content {max-height: 0;max-width: 0;overflow: hidden;text-align: left;background-color: #f0f8ff;}#sk-container-id-2 div.sk-toggleable__content pre {margin: 0.2em;color: black;border-radius: 0.25em;background-color: #f0f8ff;}#sk-container-id-2 input.sk-toggleable__control:checked~div.sk-toggleable__content {max-height: 200px;max-width: 100%;overflow: auto;}#sk-container-id-2 input.sk-toggleable__control:checked~label.sk-toggleable__label-arrow:before {content: \"▾\";}#sk-container-id-2 div.sk-estimator input.sk-toggleable__control:checked~label.sk-toggleable__label {background-color: #d4ebff;}#sk-container-id-2 div.sk-label input.sk-toggleable__control:checked~label.sk-toggleable__label {background-color: #d4ebff;}#sk-container-id-2 input.sk-hidden--visually {border: 0;clip: rect(1px 1px 1px 1px);clip: rect(1px, 1px, 1px, 1px);height: 1px;margin: -1px;overflow: hidden;padding: 0;position: absolute;width: 1px;}#sk-container-id-2 div.sk-estimator {font-family: monospace;background-color: #f0f8ff;border: 1px dotted black;border-radius: 0.25em;box-sizing: border-box;margin-bottom: 0.5em;}#sk-container-id-2 div.sk-estimator:hover {background-color: #d4ebff;}#sk-container-id-2 div.sk-parallel-item::after {content: \"\";width: 100%;border-bottom: 1px solid gray;flex-grow: 1;}#sk-container-id-2 div.sk-label:hover label.sk-toggleable__label {background-color: #d4ebff;}#sk-container-id-2 div.sk-serial::before {content: \"\";position: absolute;border-left: 1px solid gray;box-sizing: border-box;top: 0;bottom: 0;left: 50%;z-index: 0;}#sk-container-id-2 div.sk-serial {display: flex;flex-direction: column;align-items: center;background-color: white;padding-right: 0.2em;padding-left: 0.2em;position: relative;}#sk-container-id-2 div.sk-item {position: relative;z-index: 1;}#sk-container-id-2 div.sk-parallel {display: flex;align-items: stretch;justify-content: center;background-color: white;position: relative;}#sk-container-id-2 div.sk-item::before, #sk-container-id-2 div.sk-parallel-item::before {content: \"\";position: absolute;border-left: 1px solid gray;box-sizing: border-box;top: 0;bottom: 0;left: 50%;z-index: -1;}#sk-container-id-2 div.sk-parallel-item {display: flex;flex-direction: column;z-index: 1;position: relative;background-color: white;}#sk-container-id-2 div.sk-parallel-item:first-child::after {align-self: flex-end;width: 50%;}#sk-container-id-2 div.sk-parallel-item:last-child::after {align-self: flex-start;width: 50%;}#sk-container-id-2 div.sk-parallel-item:only-child::after {width: 0;}#sk-container-id-2 div.sk-dashed-wrapped {border: 1px dashed gray;margin: 0 0.4em 0.5em 0.4em;box-sizing: border-box;padding-bottom: 0.4em;background-color: white;}#sk-container-id-2 div.sk-label label {font-family: monospace;font-weight: bold;display: inline-block;line-height: 1.2em;}#sk-container-id-2 div.sk-label-container {text-align: center;}#sk-container-id-2 div.sk-container {/* jupyter's `normalize.less` sets `[hidden] { display: none; }` but bootstrap.min.css set `[hidden] { display: none !important; }` so we also need the `!important` here to be able to override the default hidden behavior on the sphinx rendered scikit-learn.org. See: https://github.com/scikit-learn/scikit-learn/issues/21755 */display: inline-block !important;position: relative;}#sk-container-id-2 div.sk-text-repr-fallback {display: none;}</style><div id=\"sk-container-id-2\" class=\"sk-top-container\"><div class=\"sk-text-repr-fallback\"><pre>LGBMClassifier(bagging_fraction=0.5, bagging_freq=1, lambda_l1=0, lambda_l2=15,\n",
       "               learning_rate=1.3992536071417663, max_depth=12,\n",
       "               n_estimators=6900, num_leaves=200, objective=&#x27;binary&#x27;)</pre><b>In a Jupyter environment, please rerun this cell to show the HTML representation or trust the notebook. <br />On GitHub, the HTML representation is unable to render, please try loading this page with nbviewer.org.</b></div><div class=\"sk-container\" hidden><div class=\"sk-item\"><div class=\"sk-estimator sk-toggleable\"><input class=\"sk-toggleable__control sk-hidden--visually\" id=\"sk-estimator-id-2\" type=\"checkbox\" checked><label for=\"sk-estimator-id-2\" class=\"sk-toggleable__label sk-toggleable__label-arrow\">LGBMClassifier</label><div class=\"sk-toggleable__content\"><pre>LGBMClassifier(bagging_fraction=0.5, bagging_freq=1, lambda_l1=0, lambda_l2=15,\n",
       "               learning_rate=1.3992536071417663, max_depth=12,\n",
       "               n_estimators=6900, num_leaves=200, objective=&#x27;binary&#x27;)</pre></div></div></div></div></div>"
      ],
      "text/plain": [
       "LGBMClassifier(bagging_fraction=0.5, bagging_freq=1, lambda_l1=0, lambda_l2=15,\n",
       "               learning_rate=1.3992536071417663, max_depth=12,\n",
       "               n_estimators=6900, num_leaves=200, objective='binary')"
      ]
     },
     "execution_count": 35,
     "metadata": {},
     "output_type": "execute_result"
    }
   ],
   "source": [
    "lgbm_2.fit(X,y,eval_metric=competition_log_loss)"
   ]
  },
  {
   "cell_type": "code",
   "execution_count": 36,
   "id": "56b5e7e2",
   "metadata": {
    "execution": {
     "iopub.execute_input": "2023-08-07T19:05:18.857247Z",
     "iopub.status.busy": "2023-08-07T19:05:18.856864Z",
     "iopub.status.idle": "2023-08-07T19:05:18.879907Z",
     "shell.execute_reply": "2023-08-07T19:05:18.878724Z"
    },
    "papermill": {
     "duration": 0.0406,
     "end_time": "2023-08-07T19:05:18.882456",
     "exception": false,
     "start_time": "2023-08-07T19:05:18.841856",
     "status": "completed"
    },
    "tags": []
   },
   "outputs": [],
   "source": [
    "y_pred4=lgbm_2.predict_proba(x_test)[:,1]"
   ]
  },
  {
   "cell_type": "code",
   "execution_count": 37,
   "id": "bcc61cb8",
   "metadata": {
    "execution": {
     "iopub.execute_input": "2023-08-07T19:05:18.913617Z",
     "iopub.status.busy": "2023-08-07T19:05:18.913212Z",
     "iopub.status.idle": "2023-08-07T19:05:18.918513Z",
     "shell.execute_reply": "2023-08-07T19:05:18.917297Z"
    },
    "papermill": {
     "duration": 0.024538,
     "end_time": "2023-08-07T19:05:18.921084",
     "exception": false,
     "start_time": "2023-08-07T19:05:18.896546",
     "status": "completed"
    },
    "tags": []
   },
   "outputs": [],
   "source": [
    "params_5={'objective':'binary:logistic','n_estimators': 900, 'max_depth': 6, 'learning_rate': 0.025203388152450566, 'subsample': 0.553669304457063, 'colsample_bytree': 0.7294557632232641, 'gamma': 0.0017071844762570072}"
   ]
  },
  {
   "cell_type": "code",
   "execution_count": 38,
   "id": "fdefee8b",
   "metadata": {
    "execution": {
     "iopub.execute_input": "2023-08-07T19:05:18.951305Z",
     "iopub.status.busy": "2023-08-07T19:05:18.950595Z",
     "iopub.status.idle": "2023-08-07T19:05:20.796415Z",
     "shell.execute_reply": "2023-08-07T19:05:20.795487Z"
    },
    "papermill": {
     "duration": 1.863479,
     "end_time": "2023-08-07T19:05:20.798768",
     "exception": false,
     "start_time": "2023-08-07T19:05:18.935289",
     "status": "completed"
    },
    "tags": []
   },
   "outputs": [
    {
     "name": "stdout",
     "output_type": "stream",
     "text": [
      "[19:05:18] WARNING: ../src/learner.cc:767: \n",
      "Parameters: { \"n_estimators\" } are not used.\n",
      "\n"
     ]
    }
   ],
   "source": [
    "model_3 = xgb.train(params_5, dmat,900, custom_metric=competition_log_loss)"
   ]
  },
  {
   "cell_type": "code",
   "execution_count": 39,
   "id": "9e3c5b6e",
   "metadata": {
    "execution": {
     "iopub.execute_input": "2023-08-07T19:05:20.828620Z",
     "iopub.status.busy": "2023-08-07T19:05:20.827997Z",
     "iopub.status.idle": "2023-08-07T19:05:20.839042Z",
     "shell.execute_reply": "2023-08-07T19:05:20.837937Z"
    },
    "papermill": {
     "duration": 0.028856,
     "end_time": "2023-08-07T19:05:20.841434",
     "exception": false,
     "start_time": "2023-08-07T19:05:20.812578",
     "status": "completed"
    },
    "tags": []
   },
   "outputs": [
    {
     "data": {
      "text/plain": [
       "array([9.7880471e-01, 8.6758414e-04, 6.5787585e-04, 3.4426602e-03,\n",
       "       5.8749719e-03, 1.0260904e-02, 2.1506668e-04, 2.3779483e-03,\n",
       "       1.9880621e-02, 3.5556439e-02, 8.5758073e-03, 4.2955452e-04,\n",
       "       2.2704879e-04, 1.2885579e-03, 1.1537189e-03, 2.5382705e-02,\n",
       "       2.3959192e-02, 2.1958286e-02, 3.3386757e-03, 2.7661510e-03,\n",
       "       2.0368397e-03, 6.2710734e-04, 6.2964177e-03, 3.5537498e-03,\n",
       "       9.8618710e-01, 9.7526813e-01, 9.6328110e-01, 1.4415728e-03,\n",
       "       4.3616924e-02, 6.7909658e-02, 1.4628992e-02, 6.0038776e-03,\n",
       "       5.5064860e-04, 3.0951444e-02, 3.9074244e-03, 5.3988774e-03,\n",
       "       1.8881418e-02, 4.9449387e-04, 3.8966935e-02, 9.4967002e-01,\n",
       "       3.3021640e-02, 1.6554175e-03, 9.9802446e-01, 4.2157990e-04,\n",
       "       1.0718191e-03, 1.2497469e-03, 4.8466879e-03, 2.3722539e-03,\n",
       "       2.5920307e-03, 1.6309883e-04, 1.1807312e-03, 8.2682539e-03,\n",
       "       1.0242456e-02, 5.0046560e-03, 9.9898940e-01, 4.0631485e-03,\n",
       "       9.9604321e-01, 9.6740896e-01, 2.3728567e-03, 7.2352728e-04,\n",
       "       8.9978147e-03, 4.2569125e-03, 5.6701136e-04, 1.9262044e-02,\n",
       "       2.4726491e-03, 9.7966021e-01, 5.8511836e-03, 5.7325833e-03,\n",
       "       1.7723188e-02, 1.1703962e-03, 9.0876913e-01, 9.0186734e-04,\n",
       "       3.5421161e-03, 6.0104945e-04, 9.7435218e-01, 5.2930503e-03,\n",
       "       1.3552559e-02, 3.3763307e-04, 5.1114726e-04, 2.0333410e-03,\n",
       "       4.9467158e-04, 7.9871248e-04, 1.3281032e-03, 2.0100446e-03],\n",
       "      dtype=float32)"
      ]
     },
     "execution_count": 39,
     "metadata": {},
     "output_type": "execute_result"
    }
   ],
   "source": [
    "y_pred5 = model_3.predict(dtest)\n",
    "y_pred5"
   ]
  },
  {
   "cell_type": "code",
   "execution_count": 40,
   "id": "afbc7e51",
   "metadata": {
    "execution": {
     "iopub.execute_input": "2023-08-07T19:05:20.873948Z",
     "iopub.status.busy": "2023-08-07T19:05:20.873445Z",
     "iopub.status.idle": "2023-08-07T19:05:20.881259Z",
     "shell.execute_reply": "2023-08-07T19:05:20.880170Z"
    },
    "papermill": {
     "duration": 0.027098,
     "end_time": "2023-08-07T19:05:20.883427",
     "exception": false,
     "start_time": "2023-08-07T19:05:20.856329",
     "status": "completed"
    },
    "tags": []
   },
   "outputs": [
    {
     "data": {
      "text/plain": [
       "array([9.88697009e-01, 4.21423790e-04, 4.84507009e-04, 2.18196272e-03,\n",
       "       3.25746413e-03, 6.70970452e-03, 1.84357904e-04, 1.68583481e-03,\n",
       "       1.60904249e-02, 2.55601966e-02, 4.75586981e-03, 2.28851650e-04,\n",
       "       1.84631543e-04, 6.23633290e-04, 7.14243023e-04, 1.53014137e-02,\n",
       "       1.46070736e-02, 1.37829470e-02, 2.95450090e-03, 2.24137677e-03,\n",
       "       1.17425329e-03, 3.56042456e-04, 3.62075291e-03, 2.65369905e-03,\n",
       "       9.89286203e-01, 9.80398421e-01, 9.81331449e-01, 9.01869408e-04,\n",
       "       2.77675665e-02, 3.90466219e-02, 1.10438566e-02, 3.89043621e-03,\n",
       "       3.42431697e-04, 2.21685126e-02, 2.53402427e-03, 3.90826728e-03,\n",
       "       1.16937759e-02, 2.87208377e-04, 2.66526631e-02, 9.67898477e-01,\n",
       "       2.29731043e-02, 8.31606254e-04, 9.98875354e-01, 2.24929051e-04,\n",
       "       7.93992805e-04, 7.04546448e-04, 4.17777574e-03, 1.81444643e-03,\n",
       "       1.94635096e-03, 1.40972453e-04, 1.17612571e-03, 5.80413673e-03,\n",
       "       5.69533342e-03, 3.09866221e-03, 9.99386139e-01, 2.22707560e-03,\n",
       "       9.97748757e-01, 9.77487448e-01, 1.94836197e-03, 6.45818315e-04,\n",
       "       4.28122524e-03, 2.39210507e-03, 3.94560382e-04, 1.24095508e-02,\n",
       "       1.67417263e-03, 9.85949399e-01, 4.22951243e-03, 3.54386013e-03,\n",
       "       1.20391119e-02, 8.95940399e-04, 9.39415284e-01, 5.66385103e-04,\n",
       "       2.86163563e-03, 3.31802126e-04, 9.83512416e-01, 2.52674923e-03,\n",
       "       7.47358989e-03, 2.57984166e-04, 3.70892553e-04, 1.45961274e-03,\n",
       "       3.13989571e-04, 4.50150717e-04, 7.37410897e-04, 1.13080540e-03])"
      ]
     },
     "execution_count": 40,
     "metadata": {},
     "output_type": "execute_result"
    }
   ],
   "source": [
    "y_pred=(y_pred1+y_pred2+y_pred3+y_pred4+y_pred5)/5\n",
    "y_pred"
   ]
  },
  {
   "cell_type": "code",
   "execution_count": 41,
   "id": "9085f1da",
   "metadata": {
    "execution": {
     "iopub.execute_input": "2023-08-07T19:05:20.914837Z",
     "iopub.status.busy": "2023-08-07T19:05:20.914455Z",
     "iopub.status.idle": "2023-08-07T19:05:20.922017Z",
     "shell.execute_reply": "2023-08-07T19:05:20.920845Z"
    },
    "papermill": {
     "duration": 0.025454,
     "end_time": "2023-08-07T19:05:20.924161",
     "exception": false,
     "start_time": "2023-08-07T19:05:20.898707",
     "status": "completed"
    },
    "tags": []
   },
   "outputs": [
    {
     "name": "stdout",
     "output_type": "stream",
     "text": [
      "Accuracy: 100.00%\n"
     ]
    }
   ],
   "source": [
    "from sklearn.metrics import accuracy_score\n",
    "\n",
    "# Convert probabilities to binary predictions\n",
    "\n",
    "\n",
    "y_pred_binary = [1 if p >= 0.5 else 0 for p in y_pred]\n",
    "\n",
    "accuracy = accuracy_score(y_test, y_pred_binary)\n",
    "print(\"Accuracy: %.2f%%\" % (accuracy * 100.0))"
   ]
  },
  {
   "cell_type": "code",
   "execution_count": 42,
   "id": "4bf8b38f",
   "metadata": {
    "execution": {
     "iopub.execute_input": "2023-08-07T19:05:20.954239Z",
     "iopub.status.busy": "2023-08-07T19:05:20.953848Z",
     "iopub.status.idle": "2023-08-07T19:05:20.966353Z",
     "shell.execute_reply": "2023-08-07T19:05:20.965126Z"
    },
    "papermill": {
     "duration": 0.030706,
     "end_time": "2023-08-07T19:05:20.969075",
     "exception": false,
     "start_time": "2023-08-07T19:05:20.938369",
     "status": "completed"
    },
    "tags": []
   },
   "outputs": [],
   "source": [
    "from sklearn.metrics import roc_auc_score\n",
    "\n",
    "auc_score = roc_auc_score(y_test, y_pred)"
   ]
  },
  {
   "cell_type": "code",
   "execution_count": 43,
   "id": "b210731c",
   "metadata": {
    "execution": {
     "iopub.execute_input": "2023-08-07T19:05:21.000049Z",
     "iopub.status.busy": "2023-08-07T19:05:20.999302Z",
     "iopub.status.idle": "2023-08-07T19:05:21.005032Z",
     "shell.execute_reply": "2023-08-07T19:05:21.004214Z"
    },
    "papermill": {
     "duration": 0.023766,
     "end_time": "2023-08-07T19:05:21.007083",
     "exception": false,
     "start_time": "2023-08-07T19:05:20.983317",
     "status": "completed"
    },
    "tags": []
   },
   "outputs": [
    {
     "data": {
      "text/plain": [
       "1.0"
      ]
     },
     "execution_count": 43,
     "metadata": {},
     "output_type": "execute_result"
    }
   ],
   "source": [
    "auc_score"
   ]
  },
  {
   "cell_type": "code",
   "execution_count": 44,
   "id": "8f9af14a",
   "metadata": {
    "execution": {
     "iopub.execute_input": "2023-08-07T19:05:21.037749Z",
     "iopub.status.busy": "2023-08-07T19:05:21.037109Z",
     "iopub.status.idle": "2023-08-07T19:05:21.045853Z",
     "shell.execute_reply": "2023-08-07T19:05:21.044844Z"
    },
    "papermill": {
     "duration": 0.026597,
     "end_time": "2023-08-07T19:05:21.047970",
     "exception": false,
     "start_time": "2023-08-07T19:05:21.021373",
     "status": "completed"
    },
    "tags": []
   },
   "outputs": [
    {
     "name": "stdout",
     "output_type": "stream",
     "text": [
      "False Positive Rate (FPR): 0.0\n",
      "False Negative Rate (FNR): 0.0\n"
     ]
    }
   ],
   "source": [
    "from sklearn.metrics import confusion_matrix\n",
    "\n",
    "confusion = confusion_matrix(y_test, y_pred_binary)\n",
    "\n",
    "# Extract true negatives (TN), false positives (FP), false negatives (FN), and true positives (TP) from the confusion matrix\n",
    "TN, FP, FN, TP = confusion.ravel()\n",
    "\n",
    "# Calculate the false positive rate (FPR) and false negative rate (FNR)\n",
    "FPR = FP / (FP + TN)\n",
    "FNR = FN / (FN + TP)\n",
    "\n",
    "# Print the false positive rate and false negative rate\n",
    "print(\"False Positive Rate (FPR):\", FPR)\n",
    "print(\"False Negative Rate (FNR):\", FNR)"
   ]
  },
  {
   "cell_type": "code",
   "execution_count": 45,
   "id": "7bbe743a",
   "metadata": {
    "execution": {
     "iopub.execute_input": "2023-08-07T19:05:21.078274Z",
     "iopub.status.busy": "2023-08-07T19:05:21.077655Z",
     "iopub.status.idle": "2023-08-07T19:05:21.084491Z",
     "shell.execute_reply": "2023-08-07T19:05:21.083735Z"
    },
    "papermill": {
     "duration": 0.024213,
     "end_time": "2023-08-07T19:05:21.086373",
     "exception": false,
     "start_time": "2023-08-07T19:05:21.062160",
     "status": "completed"
    },
    "tags": []
   },
   "outputs": [
    {
     "data": {
      "text/plain": [
       "0.011587125946304578"
      ]
     },
     "execution_count": 45,
     "metadata": {},
     "output_type": "execute_result"
    }
   ],
   "source": [
    "competition_log_loss(y_test,y_pred)"
   ]
  },
  {
   "cell_type": "code",
   "execution_count": 46,
   "id": "16426106",
   "metadata": {
    "execution": {
     "iopub.execute_input": "2023-08-07T19:05:21.117186Z",
     "iopub.status.busy": "2023-08-07T19:05:21.116539Z",
     "iopub.status.idle": "2023-08-07T19:05:21.123391Z",
     "shell.execute_reply": "2023-08-07T19:05:21.122562Z"
    },
    "papermill": {
     "duration": 0.024878,
     "end_time": "2023-08-07T19:05:21.125540",
     "exception": false,
     "start_time": "2023-08-07T19:05:21.100662",
     "status": "completed"
    },
    "tags": []
   },
   "outputs": [
    {
     "data": {
      "text/plain": [
       "0.014021043264594683"
      ]
     },
     "execution_count": 46,
     "metadata": {},
     "output_type": "execute_result"
    }
   ],
   "source": [
    "competition_log_loss(y_test,y_pred1)"
   ]
  },
  {
   "cell_type": "code",
   "execution_count": 47,
   "id": "2a56b42f",
   "metadata": {
    "execution": {
     "iopub.execute_input": "2023-08-07T19:05:21.159341Z",
     "iopub.status.busy": "2023-08-07T19:05:21.158652Z",
     "iopub.status.idle": "2023-08-07T19:05:21.166297Z",
     "shell.execute_reply": "2023-08-07T19:05:21.165162Z"
    },
    "papermill": {
     "duration": 0.026955,
     "end_time": "2023-08-07T19:05:21.168704",
     "exception": false,
     "start_time": "2023-08-07T19:05:21.141749",
     "status": "completed"
    },
    "tags": []
   },
   "outputs": [
    {
     "data": {
      "text/plain": [
       "0.025952953605155926"
      ]
     },
     "execution_count": 47,
     "metadata": {},
     "output_type": "execute_result"
    }
   ],
   "source": [
    "competition_log_loss(y_test,y_pred2)"
   ]
  },
  {
   "cell_type": "code",
   "execution_count": 48,
   "id": "e76b6283",
   "metadata": {
    "execution": {
     "iopub.execute_input": "2023-08-07T19:05:21.200748Z",
     "iopub.status.busy": "2023-08-07T19:05:21.200197Z",
     "iopub.status.idle": "2023-08-07T19:05:21.208131Z",
     "shell.execute_reply": "2023-08-07T19:05:21.207054Z"
    },
    "papermill": {
     "duration": 0.026301,
     "end_time": "2023-08-07T19:05:21.210406",
     "exception": false,
     "start_time": "2023-08-07T19:05:21.184105",
     "status": "completed"
    },
    "tags": []
   },
   "outputs": [
    {
     "data": {
      "text/plain": [
       "0.00048775504977089664"
      ]
     },
     "execution_count": 48,
     "metadata": {},
     "output_type": "execute_result"
    }
   ],
   "source": [
    "competition_log_loss(y_test,y_pred3)"
   ]
  },
  {
   "cell_type": "code",
   "execution_count": 49,
   "id": "33856ba1",
   "metadata": {
    "execution": {
     "iopub.execute_input": "2023-08-07T19:05:21.242373Z",
     "iopub.status.busy": "2023-08-07T19:05:21.241927Z",
     "iopub.status.idle": "2023-08-07T19:05:21.255106Z",
     "shell.execute_reply": "2023-08-07T19:05:21.253820Z"
    },
    "papermill": {
     "duration": 0.032495,
     "end_time": "2023-08-07T19:05:21.257680",
     "exception": false,
     "start_time": "2023-08-07T19:05:21.225185",
     "status": "completed"
    },
    "tags": []
   },
   "outputs": [
    {
     "data": {
      "text/plain": [
       "0.00016889485473946613"
      ]
     },
     "execution_count": 49,
     "metadata": {},
     "output_type": "execute_result"
    }
   ],
   "source": [
    "competition_log_loss(y_test,y_pred4)"
   ]
  },
  {
   "cell_type": "code",
   "execution_count": 50,
   "id": "15eda63f",
   "metadata": {
    "execution": {
     "iopub.execute_input": "2023-08-07T19:05:21.289651Z",
     "iopub.status.busy": "2023-08-07T19:05:21.289264Z",
     "iopub.status.idle": "2023-08-07T19:05:21.299873Z",
     "shell.execute_reply": "2023-08-07T19:05:21.298918Z"
    },
    "papermill": {
     "duration": 0.029165,
     "end_time": "2023-08-07T19:05:21.302226",
     "exception": false,
     "start_time": "2023-08-07T19:05:21.273061",
     "status": "completed"
    },
    "tags": []
   },
   "outputs": [
    {
     "data": {
      "text/plain": [
       "0.017975901105273806"
      ]
     },
     "execution_count": 50,
     "metadata": {},
     "output_type": "execute_result"
    }
   ],
   "source": [
    "competition_log_loss(y_test,y_pred5)"
   ]
  },
  {
   "cell_type": "code",
   "execution_count": 51,
   "id": "1cf26b24",
   "metadata": {
    "execution": {
     "iopub.execute_input": "2023-08-07T19:05:21.333698Z",
     "iopub.status.busy": "2023-08-07T19:05:21.333018Z",
     "iopub.status.idle": "2023-08-07T19:05:21.337653Z",
     "shell.execute_reply": "2023-08-07T19:05:21.336792Z"
    },
    "papermill": {
     "duration": 0.023311,
     "end_time": "2023-08-07T19:05:21.340360",
     "exception": false,
     "start_time": "2023-08-07T19:05:21.317049",
     "status": "completed"
    },
    "tags": []
   },
   "outputs": [],
   "source": [
    "lb=np.zeros(val.shape[0])\n",
    "label=val.shape[0]"
   ]
  },
  {
   "cell_type": "code",
   "execution_count": 52,
   "id": "383a1d3b",
   "metadata": {
    "execution": {
     "iopub.execute_input": "2023-08-07T19:05:21.372882Z",
     "iopub.status.busy": "2023-08-07T19:05:21.372208Z",
     "iopub.status.idle": "2023-08-07T19:05:21.381302Z",
     "shell.execute_reply": "2023-08-07T19:05:21.379884Z"
    },
    "papermill": {
     "duration": 0.028356,
     "end_time": "2023-08-07T19:05:21.383883",
     "exception": false,
     "start_time": "2023-08-07T19:05:21.355527",
     "status": "completed"
    },
    "tags": []
   },
   "outputs": [],
   "source": [
    "dval = xgb.DMatrix(val, label=lb)"
   ]
  },
  {
   "cell_type": "code",
   "execution_count": 53,
   "id": "7741562d",
   "metadata": {
    "execution": {
     "iopub.execute_input": "2023-08-07T19:05:21.417944Z",
     "iopub.status.busy": "2023-08-07T19:05:21.417549Z",
     "iopub.status.idle": "2023-08-07T19:05:21.431228Z",
     "shell.execute_reply": "2023-08-07T19:05:21.430055Z"
    },
    "papermill": {
     "duration": 0.03374,
     "end_time": "2023-08-07T19:05:21.433814",
     "exception": false,
     "start_time": "2023-08-07T19:05:21.400074",
     "status": "completed"
    },
    "tags": []
   },
   "outputs": [],
   "source": [
    "pred1=model_1.predict(dval)\n",
    "pred2=model_2.predict(dval)\n",
    "pred5=model_3.predict(dval)\n",
    "pred3=lgbm_1.predict_proba(val)[:,1]\n",
    "pred4=lgbm_2.predict_proba(val)[:,1]\n",
    "pred=(pred1+pred2+pred3+pred4+pred5)/5"
   ]
  },
  {
   "cell_type": "code",
   "execution_count": 54,
   "id": "33146f91",
   "metadata": {
    "execution": {
     "iopub.execute_input": "2023-08-07T19:05:21.467880Z",
     "iopub.status.busy": "2023-08-07T19:05:21.466837Z",
     "iopub.status.idle": "2023-08-07T19:05:21.473046Z",
     "shell.execute_reply": "2023-08-07T19:05:21.472226Z"
    },
    "papermill": {
     "duration": 0.025496,
     "end_time": "2023-08-07T19:05:21.475394",
     "exception": false,
     "start_time": "2023-08-07T19:05:21.449898",
     "status": "completed"
    },
    "tags": []
   },
   "outputs": [
    {
     "data": {
      "text/plain": [
       "array([0.59107808, 0.59107808, 0.59107808, 0.59107808, 0.59107808])"
      ]
     },
     "execution_count": 54,
     "metadata": {},
     "output_type": "execute_result"
    }
   ],
   "source": [
    "pred"
   ]
  },
  {
   "cell_type": "code",
   "execution_count": 55,
   "id": "bf2caa37",
   "metadata": {
    "execution": {
     "iopub.execute_input": "2023-08-07T19:05:21.508189Z",
     "iopub.status.busy": "2023-08-07T19:05:21.507391Z",
     "iopub.status.idle": "2023-08-07T19:05:21.513005Z",
     "shell.execute_reply": "2023-08-07T19:05:21.511915Z"
    },
    "papermill": {
     "duration": 0.024175,
     "end_time": "2023-08-07T19:05:21.515245",
     "exception": false,
     "start_time": "2023-08-07T19:05:21.491070",
     "status": "completed"
    },
    "tags": []
   },
   "outputs": [],
   "source": [
    "# Assuming pred is the input array\n",
    "for i in range(len(pred)):\n",
    "    if pred[i] > 0.8:\n",
    "        pred[i] = 0.99999\n",
    "    if pred[i]<0.2:\n",
    "        pred[i]=0.00001\n"
   ]
  },
  {
   "cell_type": "code",
   "execution_count": 56,
   "id": "e3eb404c",
   "metadata": {
    "execution": {
     "iopub.execute_input": "2023-08-07T19:05:21.546690Z",
     "iopub.status.busy": "2023-08-07T19:05:21.546301Z",
     "iopub.status.idle": "2023-08-07T19:05:21.553696Z",
     "shell.execute_reply": "2023-08-07T19:05:21.552633Z"
    },
    "papermill": {
     "duration": 0.026055,
     "end_time": "2023-08-07T19:05:21.556334",
     "exception": false,
     "start_time": "2023-08-07T19:05:21.530279",
     "status": "completed"
    },
    "tags": []
   },
   "outputs": [
    {
     "data": {
      "text/plain": [
       "array([[0.59107808],\n",
       "       [0.59107808],\n",
       "       [0.59107808],\n",
       "       [0.59107808],\n",
       "       [0.59107808]])"
      ]
     },
     "execution_count": 56,
     "metadata": {},
     "output_type": "execute_result"
    }
   ],
   "source": [
    "pred=pred.astype(float)\n",
    "pred.resize(label,1)\n",
    "pred.shape\n",
    "pred"
   ]
  },
  {
   "cell_type": "code",
   "execution_count": 57,
   "id": "ba03d7ec",
   "metadata": {
    "execution": {
     "iopub.execute_input": "2023-08-07T19:05:21.590994Z",
     "iopub.status.busy": "2023-08-07T19:05:21.590456Z",
     "iopub.status.idle": "2023-08-07T19:05:21.596608Z",
     "shell.execute_reply": "2023-08-07T19:05:21.595210Z"
    },
    "papermill": {
     "duration": 0.025715,
     "end_time": "2023-08-07T19:05:21.599348",
     "exception": false,
     "start_time": "2023-08-07T19:05:21.573633",
     "status": "completed"
    },
    "tags": []
   },
   "outputs": [],
   "source": [
    "sub[['class_1']]=pred\n",
    "sub[['class_0']]= 1-pred"
   ]
  },
  {
   "cell_type": "code",
   "execution_count": 58,
   "id": "9300cd9d",
   "metadata": {
    "execution": {
     "iopub.execute_input": "2023-08-07T19:05:21.632351Z",
     "iopub.status.busy": "2023-08-07T19:05:21.631896Z",
     "iopub.status.idle": "2023-08-07T19:05:21.641722Z",
     "shell.execute_reply": "2023-08-07T19:05:21.640303Z"
    },
    "papermill": {
     "duration": 0.029846,
     "end_time": "2023-08-07T19:05:21.644950",
     "exception": false,
     "start_time": "2023-08-07T19:05:21.615104",
     "status": "completed"
    },
    "tags": []
   },
   "outputs": [],
   "source": [
    "sub.to_csv(\"submission.csv\", index=False)"
   ]
  },
  {
   "cell_type": "code",
   "execution_count": 59,
   "id": "415e1bda",
   "metadata": {
    "execution": {
     "iopub.execute_input": "2023-08-07T19:05:21.682443Z",
     "iopub.status.busy": "2023-08-07T19:05:21.681994Z",
     "iopub.status.idle": "2023-08-07T19:05:21.697482Z",
     "shell.execute_reply": "2023-08-07T19:05:21.696340Z"
    },
    "papermill": {
     "duration": 0.036291,
     "end_time": "2023-08-07T19:05:21.699704",
     "exception": false,
     "start_time": "2023-08-07T19:05:21.663413",
     "status": "completed"
    },
    "tags": []
   },
   "outputs": [
    {
     "data": {
      "text/html": [
       "<div>\n",
       "<style scoped>\n",
       "    .dataframe tbody tr th:only-of-type {\n",
       "        vertical-align: middle;\n",
       "    }\n",
       "\n",
       "    .dataframe tbody tr th {\n",
       "        vertical-align: top;\n",
       "    }\n",
       "\n",
       "    .dataframe thead th {\n",
       "        text-align: right;\n",
       "    }\n",
       "</style>\n",
       "<table border=\"1\" class=\"dataframe\">\n",
       "  <thead>\n",
       "    <tr style=\"text-align: right;\">\n",
       "      <th></th>\n",
       "      <th>Id</th>\n",
       "      <th>class_0</th>\n",
       "      <th>class_1</th>\n",
       "    </tr>\n",
       "  </thead>\n",
       "  <tbody>\n",
       "    <tr>\n",
       "      <th>0</th>\n",
       "      <td>00eed32682bb</td>\n",
       "      <td>0.408922</td>\n",
       "      <td>0.591078</td>\n",
       "    </tr>\n",
       "    <tr>\n",
       "      <th>1</th>\n",
       "      <td>010ebe33f668</td>\n",
       "      <td>0.408922</td>\n",
       "      <td>0.591078</td>\n",
       "    </tr>\n",
       "    <tr>\n",
       "      <th>2</th>\n",
       "      <td>02fa521e1838</td>\n",
       "      <td>0.408922</td>\n",
       "      <td>0.591078</td>\n",
       "    </tr>\n",
       "    <tr>\n",
       "      <th>3</th>\n",
       "      <td>040e15f562a2</td>\n",
       "      <td>0.408922</td>\n",
       "      <td>0.591078</td>\n",
       "    </tr>\n",
       "    <tr>\n",
       "      <th>4</th>\n",
       "      <td>046e85c7cc7f</td>\n",
       "      <td>0.408922</td>\n",
       "      <td>0.591078</td>\n",
       "    </tr>\n",
       "  </tbody>\n",
       "</table>\n",
       "</div>"
      ],
      "text/plain": [
       "             Id   class_0   class_1\n",
       "0  00eed32682bb  0.408922  0.591078\n",
       "1  010ebe33f668  0.408922  0.591078\n",
       "2  02fa521e1838  0.408922  0.591078\n",
       "3  040e15f562a2  0.408922  0.591078\n",
       "4  046e85c7cc7f  0.408922  0.591078"
      ]
     },
     "execution_count": 59,
     "metadata": {},
     "output_type": "execute_result"
    }
   ],
   "source": [
    "sub"
   ]
  },
  {
   "cell_type": "code",
   "execution_count": null,
   "id": "33474c1f",
   "metadata": {
    "papermill": {
     "duration": 0.017529,
     "end_time": "2023-08-07T19:05:21.733702",
     "exception": false,
     "start_time": "2023-08-07T19:05:21.716173",
     "status": "completed"
    },
    "tags": []
   },
   "outputs": [],
   "source": []
  }
 ],
 "metadata": {
  "kernelspec": {
   "display_name": "Python 3",
   "language": "python",
   "name": "python3"
  },
  "language_info": {
   "codemirror_mode": {
    "name": "ipython",
    "version": 3
   },
   "file_extension": ".py",
   "mimetype": "text/x-python",
   "name": "python",
   "nbconvert_exporter": "python",
   "pygments_lexer": "ipython3",
   "version": "3.10.12"
  },
  "papermill": {
   "default_parameters": {},
   "duration": 34.358293,
   "end_time": "2023-08-07T19:05:22.874331",
   "environment_variables": {},
   "exception": null,
   "input_path": "__notebook__.ipynb",
   "output_path": "__notebook__.ipynb",
   "parameters": {},
   "start_time": "2023-08-07T19:04:48.516038",
   "version": "2.4.0"
  }
 },
 "nbformat": 4,
 "nbformat_minor": 5
}
